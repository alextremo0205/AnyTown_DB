{
 "cells": [
  {
   "cell_type": "markdown",
   "metadata": {},
   "source": [
    "# Implementing a GNN \n",
    "*without PyTorch Geometric"
   ]
  },
  {
   "cell_type": "code",
   "execution_count": 1,
   "metadata": {},
   "outputs": [],
   "source": [
    "import wntr\n",
    "import pandas as pd\n",
    "import numpy as np\n",
    "import pickle\n",
    "import networkx as nx\n",
    "\n",
    "import torch\n",
    "import torch.nn as nn\n",
    "import torch.optim as optim\n",
    "import torch.nn.functional as F"
   ]
  },
  {
   "cell_type": "code",
   "execution_count": 2,
   "metadata": {},
   "outputs": [
    {
     "data": {
      "text/plain": [
       "(<matplotlib.collections.PathCollection at 0x20c0d10bf40>,\n",
       " <matplotlib.collections.LineCollection at 0x20c0d10b3d0>)"
      ]
     },
     "execution_count": 2,
     "metadata": {},
     "output_type": "execute_result"
    },
    {
     "data": {
      "image/png": "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\n",
      "text/plain": [
       "<Figure size 432x288 with 1 Axes>"
      ]
     },
     "metadata": {},
     "output_type": "display_data"
    }
   ],
   "source": [
    "# Create a water network model\n",
    "inp_file = 'Working files/Mod_AnyT_0.inp'\n",
    "wn_current_WDS = wntr.network.WaterNetworkModel(inp_file)\n",
    "\n",
    "# Graph the network\n",
    "wntr.graphics.plot_network(wn_current_WDS, title=wn_current_WDS.name)\n"
   ]
  },
  {
   "cell_type": "code",
   "execution_count": 3,
   "metadata": {},
   "outputs": [],
   "source": [
    "S_matrices = []\n",
    "res_index = []"
   ]
  },
  {
   "cell_type": "code",
   "execution_count": 4,
   "metadata": {},
   "outputs": [],
   "source": [
    "database = pickle.load( open( \"Mod_AnyT_DB.p\", \"rb\" ) )"
   ]
  },
  {
   "cell_type": "code",
   "execution_count": 5,
   "metadata": {},
   "outputs": [],
   "source": [
    "for i in range(len(database)):\n",
    "    diams = dict(zip(wn_current_WDS.link_name_list, list(database.loc[i]['Diams']))) #diam\n",
    "    G_WDS = wn_current_WDS.get_graph(link_weight=diams) # directed multigraph\n",
    "    #A_WDS = nx.adjacency_matrix(G_WDS)\n",
    "    uG_WDS = G_WDS.to_undirected()\n",
    "    A_WDS = nx.normalized_laplacian_matrix(uG_WDS)\n",
    "    S_matrices.append(A_WDS.todense())\n",
    "    \n",
    "    res_index.append(database.loc[i]['avgPrPa'])\n",
    "    "
   ]
  },
  {
   "cell_type": "code",
<<<<<<< Updated upstream
   "execution_count": 13,
   "metadata": {},
   "outputs": [
    {
     "data": {
      "text/plain": [
       "<21x21 sparse matrix of type '<class 'numpy.float64'>'\n",
       "\twith 101 stored elements in Compressed Sparse Row format>"
      ]
     },
     "execution_count": 13,
     "metadata": {},
     "output_type": "execute_result"
    }
   ],
   "source": [
    "A_WDS.todense()"
   ]
  },
  {
   "cell_type": "code",
   "execution_count": 14,
=======
   "execution_count": 6,
>>>>>>> Stashed changes
   "metadata": {},
   "outputs": [
    {
     "data": {
      "text/plain": [
       "matrix([[ 1.   , -0.331,  0.   ,  0.   ,  0.   ,  0.   , -0.294,  0.   ,  0.   ,  0.   ,  0.   , -0.187,  0.   ,  0.   ,  0.   ,  0.   ,  0.   ,  0.   ,  0.   ,  0.   ,  0.   ],\n",
       "        [-0.331,  1.   , -0.285, -0.246,  0.   , -0.193, -0.148,  0.   ,  0.   ,  0.   ,  0.   ,  0.   ,  0.   ,  0.   ,  0.   ,  0.   ,  0.   ,  0.   ,  0.   ,  0.   ,  0.   ],\n",
       "        [ 0.   , -0.285,  1.   , -0.336,  0.   ,  0.   ,  0.   ,  0.   ,  0.   ,  0.   ,  0.   ,  0.   ,  0.   ,  0.   ,  0.   ,  0.   ,  0.   ,  0.   ,  0.   ,  0.   ,  0.   ],\n",
       "        [ 0.   , -0.246, -0.336,  1.   , -0.186,  0.   ,  0.   ,  0.   , -0.211,  0.   ,  0.   ,  0.   ,  0.   ,  0.   ,  0.   , -0.226,  0.   ,  0.   ,  0.   ,  0.   ,  0.   ],\n",
       "        [ 0.   ,  0.   ,  0.   , -0.186,  1.   ,  0.   ,  0.   , -0.555,  0.   ,  0.   ,  0.   ,  0.   ,  0.   ,  0.   ,  0.   ,  0.   ,  0.   ,  0.   ,  0.   ,  0.   ,  0.   ],\n",
       "        [ 0.   , -0.193,  0.   ,  0.   ,  0.   ,  1.   , -0.2  ,  0.   , -0.27 , -0.16 ,  0.   ,  0.   ,  0.   ,  0.   ,  0.   ,  0.   ,  0.   ,  0.   ,  0.   , -0.354,  0.   ],\n",
       "        [-0.294, -0.148,  0.   ,  0.   ,  0.   , -0.2  ,  1.   ,  0.   ,  0.   , -0.269, -0.154,  0.   ,  0.   ,  0.   ,  0.   ,  0.   ,  0.   ,  0.   ,  0.   ,  0.   ,  0.   ],\n",
       "        [ 0.   ,  0.   ,  0.   ,  0.   , -0.555,  0.   ,  0.   ,  1.   ,  0.   ,  0.   ,  0.   ,  0.   , -0.351,  0.   ,  0.   , -0.145,  0.   ,  0.   ,  0.   ,  0.   ,  0.   ],\n",
       "        [ 0.   ,  0.   ,  0.   , -0.211,  0.   , -0.27 ,  0.   ,  0.   ,  1.   , -0.185,  0.   ,  0.   ,  0.   ,  0.   ,  0.   , -0.099, -0.282,  0.   ,  0.   ,  0.   ,  0.   ],\n",
       "        [ 0.   ,  0.   ,  0.   ,  0.   ,  0.   , -0.16 , -0.269,  0.   , -0.185,  1.   , -0.269,  0.   ,  0.   ,  0.   ,  0.   ,  0.   , -0.125,  0.   ,  0.   ,  0.   ,  0.   ],\n",
       "        [ 0.   ,  0.   ,  0.   ,  0.   ,  0.   ,  0.   , -0.154,  0.   ,  0.   , -0.269,  1.   , -0.294,  0.   ,  0.   ,  0.   ,  0.   , -0.167, -0.185,  0.   ,  0.   ,  0.   ],\n",
       "        [-0.187,  0.   ,  0.   ,  0.   ,  0.   ,  0.   ,  0.   ,  0.   ,  0.   ,  0.   , -0.294,  1.   ,  0.   , -0.226,  0.   ,  0.   ,  0.   , -0.189,  0.   ,  0.   ,  0.   ],\n",
       "        [ 0.   ,  0.   ,  0.   ,  0.   ,  0.   ,  0.   ,  0.   , -0.351,  0.   ,  0.   ,  0.   ,  0.   ,  1.   ,  0.   ,  0.   , -0.33 ,  0.   ,  0.   ,  0.   ,  0.   ,  0.   ],\n",
       "        [ 0.   ,  0.   ,  0.   ,  0.   ,  0.   ,  0.   ,  0.   ,  0.   ,  0.   ,  0.   ,  0.   , -0.226,  0.   ,  1.   , -0.348,  0.   ,  0.   , -0.228,  0.   ,  0.   ,  0.   ],\n",
       "        [ 0.   ,  0.   ,  0.   ,  0.   ,  0.   ,  0.   ,  0.   ,  0.   ,  0.   ,  0.   ,  0.   ,  0.   ,  0.   , -0.348,  1.   ,  0.   ,  0.   , -0.218, -0.365,  0.   ,  0.   ],\n",
       "        [ 0.   ,  0.   ,  0.   , -0.226,  0.   ,  0.   ,  0.   , -0.145, -0.099,  0.   ,  0.   ,  0.   , -0.33 ,  0.   ,  0.   ,  1.   , -0.186, -0.099, -0.33 ,  0.   ,  0.   ],\n",
       "        [ 0.   ,  0.   ,  0.   ,  0.   ,  0.   ,  0.   ,  0.   ,  0.   , -0.282, -0.125, -0.167,  0.   ,  0.   ,  0.   ,  0.   , -0.186,  1.   , -0.121,  0.   ,  0.   ,  0.   ],\n",
       "        [ 0.   ,  0.   ,  0.   ,  0.   ,  0.   ,  0.   ,  0.   ,  0.   ,  0.   ,  0.   , -0.185, -0.189,  0.   , -0.228, -0.218, -0.099, -0.121,  1.   ,  0.   ,  0.   , -0.423],\n",
       "        [ 0.   ,  0.   ,  0.   ,  0.   ,  0.   ,  0.   ,  0.   ,  0.   ,  0.   ,  0.   ,  0.   ,  0.   ,  0.   ,  0.   , -0.365, -0.33 ,  0.   ,  0.   ,  1.   ,  0.   ,  0.   ],\n",
       "        [ 0.   ,  0.   ,  0.   ,  0.   ,  0.   , -0.354,  0.   ,  0.   ,  0.   ,  0.   ,  0.   ,  0.   ,  0.   ,  0.   ,  0.   ,  0.   ,  0.   ,  0.   ,  0.   ,  1.   ,  0.   ],\n",
       "        [ 0.   ,  0.   ,  0.   ,  0.   ,  0.   ,  0.   ,  0.   ,  0.   ,  0.   ,  0.   ,  0.   ,  0.   ,  0.   ,  0.   ,  0.   ,  0.   ,  0.   , -0.423,  0.   ,  0.   ,  1.   ]])"
      ]
     },
     "execution_count": 6,
     "metadata": {},
     "output_type": "execute_result"
    }
   ],
   "source": [
    "A_WDS.todense()"
   ]
  },
  {
   "cell_type": "code",
   "execution_count": 7,
   "metadata": {},
   "outputs": [],
   "source": [
    "S_matrices = torch.tensor(np.array(S_matrices), dtype = torch.float32)\n",
    "res_index = torch.tensor(np.array(res_index), dtype = torch.float32)"
   ]
  },
  {
   "cell_type": "code",
   "execution_count": 8,
   "metadata": {},
   "outputs": [
    {
     "name": "stdout",
     "output_type": "stream",
     "text": [
      "'Reservoir' object has no attribute 'base_demand'\n",
      "'Reservoir' object has no attribute 'base_demand'\n"
     ]
    }
   ],
   "source": [
    "demands=[]\n",
    "for i in wn_current_WDS.node_name_list:\n",
    "    a = wn_current_WDS.get_node(i)\n",
    "    try:\n",
    "        demands.append(a.base_demand)\n",
    "    except Exception as e:\n",
    "        demands.append(-a.base_head)  #demands.append(0)\n",
    "        print(e)"
   ]
  },
  {
   "cell_type": "code",
   "execution_count": 76,
   "metadata": {},
   "outputs": [],
   "source": [
    "class GNN(nn.Module):\n",
    "    def __init__(self):  #second_filter = False\n",
    "        super(GNN, self).__init__()\n",
    "        \n",
    "        #self.second_filter = second_filter\n",
    "        \n",
    "        self.h_1_0 = nn.Parameter(torch.rand(21,21))\n",
    "        self.h_1_1 = nn.Parameter(torch.rand(21,21))\n",
    "        self.h_1_2 = nn.Parameter(torch.rand(21,21))\n",
    "        \n",
    "        \n",
    "        #if second_filter:\n",
    "        self.h_2_0 = nn.Parameter(torch.rand(21, 21))\n",
    "        self.h_2_1 = nn.Parameter(torch.rand(21, 21))\n",
    "        self.h_2_2 = nn.Parameter(torch.rand(21, 21))\n",
    "        \n",
    "        self.fc = nn.Linear(21, 1)\n",
    "        \n",
    "    #def graph_filter(self, S, x, ):\n",
    "        \n",
    "    def forward(self, S, x):\n",
    "        \n",
    "        f1 =  torch.matmul(self.h_1_0, torch.matmul(torch.pow(S, 0), x))\n",
    "        f1 += torch.matmul(self.h_1_1, torch.matmul(torch.pow(S, 1), x))\n",
    "        f1 += torch.matmul(self.h_1_2, torch.matmul(torch.pow(S, 2), x))\n",
    "        \n",
    "        f1 = torch.sigmoid(f1)\n",
    "        \n",
    "        #if self.second_filter:\n",
    "        f2 =  torch.matmul( self.h_2_0, torch.matmul(torch.pow(S, 0),f1))\n",
    "        f2 += torch.matmul( self.h_2_1, torch.matmul(torch.pow(S, 0),f1))\n",
    "        f2 += torch.matmul( self.h_2_2, torch.matmul(torch.pow(S, 0),f1))\n",
    "        \n",
    "        f2 = torch.sigmoid(f2)\n",
    "        \n",
    "        \n",
    "        ans = self.fc(f2)\n",
    "        ans = torch.tanh(ans)\n",
    "        \n",
    "        #ans = torch.sigmoid(ans)\n",
    "        \n",
    "        #ans = torch.relu(ans)\n",
    "        \n",
    "        return ans"
   ]
  },
  {
   "cell_type": "code",
   "execution_count": 77,
   "metadata": {},
   "outputs": [],
   "source": [
    "model = GNN() #second_filter=True"
   ]
  },
  {
   "cell_type": "code",
<<<<<<< Updated upstream
   "execution_count": 31,
   "metadata": {},
=======
   "execution_count": 78,
   "metadata": {
    "scrolled": true
   },
>>>>>>> Stashed changes
   "outputs": [
    {
     "name": "stdout",
     "output_type": "stream",
     "text": [
      "Parameter containing:\n",
      "tensor([[0.5387, 0.5042, 0.5115, 0.7678, 0.2393, 0.6994, 0.6234, 0.3420, 0.3458,\n",
      "         0.2718, 0.0758, 0.6119, 0.6500, 0.0711, 0.0710, 0.4442, 0.4887, 0.0561,\n",
      "         0.1487, 0.7095, 0.3350],\n",
      "        [0.6626, 0.8301, 0.5925, 0.7636, 0.3966, 0.7283, 0.7647, 0.5270, 0.6700,\n",
      "         0.3730, 0.7343, 0.4864, 0.1097, 0.5755, 0.8752, 0.6046, 0.4549, 0.1704,\n",
      "         0.6534, 0.0951, 0.0143],\n",
      "        [0.5352, 0.5505, 0.8567, 0.4938, 0.1737, 0.1720, 0.5769, 0.8465, 0.6241,\n",
      "         0.7648, 0.1703, 0.8123, 0.1553, 0.5497, 0.0944, 0.4096, 0.6861, 0.9617,\n",
      "         0.0066, 0.2927, 0.2279],\n",
      "        [0.9326, 0.3509, 0.4716, 0.3490, 0.8571, 0.6266, 0.5941, 0.1398, 0.6657,\n",
      "         0.3377, 0.3483, 0.0995, 0.4574, 0.4776, 0.4070, 0.9104, 0.1204, 0.0110,\n",
      "         0.3601, 0.0691, 0.7796],\n",
      "        [0.3792, 0.8002, 0.9296, 0.6776, 0.9361, 0.3506, 0.5285, 0.2264, 0.1268,\n",
      "         0.6030, 0.7145, 0.4864, 0.4535, 0.0773, 0.1598, 0.4900, 0.6267, 0.0629,\n",
      "         0.7758, 0.2652, 0.9913],\n",
      "        [0.1970, 0.1212, 0.6006, 0.6454, 0.2287, 0.5181, 0.5721, 0.7611, 0.1723,\n",
      "         0.5583, 0.8681, 0.4922, 0.4296, 0.6395, 0.5514, 0.8639, 0.4135, 0.8614,\n",
      "         0.6873, 0.4034, 0.7253],\n",
      "        [0.2353, 0.4693, 0.4682, 0.9034, 0.1690, 0.9932, 0.6419, 0.1358, 0.3892,\n",
      "         0.9754, 0.7719, 0.4377, 0.5364, 0.3737, 0.9327, 0.3245, 0.9239, 0.2829,\n",
      "         0.0440, 0.4462, 0.9193],\n",
      "        [0.8475, 0.5309, 0.5050, 0.8931, 0.0293, 0.5936, 0.2939, 0.7839, 0.2842,\n",
      "         0.7864, 0.0787, 0.7740, 0.3350, 0.8995, 0.6821, 0.3067, 0.5112, 0.8701,\n",
      "         0.3415, 0.4642, 0.3815],\n",
      "        [0.0054, 0.5904, 0.6327, 0.2413, 0.7604, 0.0634, 0.0103, 0.8074, 0.2820,\n",
      "         0.3315, 0.6309, 0.7524, 0.2276, 0.2365, 0.6469, 0.6369, 0.8049, 0.6251,\n",
      "         0.0305, 0.5909, 0.0511],\n",
      "        [0.8219, 0.4060, 0.7757, 0.1034, 0.4254, 0.7574, 0.8573, 0.0799, 0.6576,\n",
      "         0.4676, 0.4928, 0.8161, 0.3877, 0.3115, 0.3521, 0.0961, 0.7867, 0.7266,\n",
      "         0.0098, 0.1828, 0.9310],\n",
      "        [0.1794, 0.2226, 0.0940, 0.5430, 0.6743, 0.0105, 0.6083, 0.0219, 0.5214,\n",
      "         0.5329, 0.6523, 0.2207, 0.5945, 0.5082, 0.9174, 0.7646, 0.4848, 0.3650,\n",
      "         0.5917, 0.9606, 0.5799],\n",
      "        [0.6387, 0.9740, 0.9606, 0.2189, 0.6576, 0.9078, 0.7037, 0.1164, 0.0723,\n",
      "         0.5983, 0.2318, 0.3397, 0.0606, 0.5209, 0.4002, 0.2251, 0.9982, 0.4182,\n",
      "         0.8245, 0.1462, 0.0182],\n",
      "        [0.2365, 0.6008, 0.1464, 0.5733, 0.6962, 0.4915, 0.9138, 0.8864, 0.2840,\n",
      "         0.1565, 0.0156, 0.2366, 0.7384, 0.1662, 0.9393, 0.5693, 0.1911, 0.8988,\n",
      "         0.0295, 0.8926, 0.1268],\n",
      "        [0.4119, 0.6877, 0.7891, 0.3538, 0.0150, 0.0376, 0.8672, 0.5417, 0.1869,\n",
      "         0.6045, 0.7488, 0.9636, 0.8135, 0.8724, 0.9038, 0.2853, 0.5559, 0.6470,\n",
      "         0.2576, 0.5391, 0.7032],\n",
      "        [0.5817, 0.5024, 0.2204, 0.3287, 0.2858, 0.8409, 0.6874, 0.2729, 0.2536,\n",
      "         0.8350, 0.0364, 0.7562, 0.6741, 0.6790, 0.3439, 0.5218, 0.8496, 0.5917,\n",
      "         0.2057, 0.9932, 0.3328],\n",
      "        [0.4319, 0.6511, 0.8303, 0.9899, 0.2449, 0.8330, 0.2355, 0.8293, 0.3678,\n",
      "         0.1721, 0.6007, 0.8606, 0.7007, 0.6957, 0.8496, 0.2037, 0.6576, 0.9164,\n",
      "         0.7462, 0.9256, 0.1043],\n",
      "        [0.9248, 0.6429, 0.1242, 0.9609, 0.1938, 0.1191, 0.2900, 0.8166, 0.6865,\n",
      "         0.1946, 0.0258, 0.9813, 0.5084, 0.3315, 0.8314, 0.0296, 0.0902, 0.5485,\n",
      "         0.7751, 0.2127, 0.3414],\n",
      "        [0.5174, 0.3397, 0.8516, 0.6870, 0.3861, 0.7953, 0.6085, 0.4896, 0.7720,\n",
      "         0.1151, 0.8832, 0.9269, 0.1687, 0.0689, 0.8830, 0.0926, 0.1153, 0.0076,\n",
      "         0.6365, 0.8426, 0.8835],\n",
      "        [0.4580, 0.3732, 0.2063, 0.4292, 0.3817, 0.5827, 0.7568, 0.8394, 0.2559,\n",
      "         0.2685, 0.2565, 0.8783, 0.1255, 0.4703, 0.2856, 0.8866, 0.2737, 0.8971,\n",
      "         0.6043, 0.7762, 0.0652],\n",
      "        [0.3740, 0.5876, 0.4149, 0.6974, 0.5915, 0.3077, 0.1714, 0.0270, 0.7466,\n",
      "         0.6156, 0.9714, 0.4318, 0.1606, 0.4162, 0.7468, 0.8620, 0.8841, 0.9914,\n",
      "         0.9312, 0.4836, 0.2627],\n",
      "        [0.7339, 0.0519, 0.8747, 0.7061, 0.1564, 0.7958, 0.1224, 0.6816, 0.8156,\n",
      "         0.9331, 0.3129, 0.0727, 0.9261, 0.5304, 0.9738, 0.8729, 0.0456, 0.0813,\n",
      "         0.9072, 0.1742, 0.3552]], requires_grad=True)\n",
      "Parameter containing:\n",
      "tensor([[0.0462, 0.1987, 0.8644, 0.2188, 0.7888, 0.9690, 0.3437, 0.3168, 0.0062,\n",
      "         0.2786, 0.8360, 0.4756, 0.2890, 0.0020, 0.5666, 0.7377, 0.5816, 0.5363,\n",
      "         0.9684, 0.3583, 0.5870],\n",
      "        [0.5867, 0.5426, 0.3216, 0.7225, 0.9860, 0.1410, 0.6933, 0.8903, 0.3797,\n",
      "         0.1985, 0.0784, 0.5484, 0.9582, 0.0163, 0.0196, 0.3362, 0.0661, 0.6832,\n",
      "         0.0806, 0.9382, 0.4171],\n",
      "        [0.4797, 0.0193, 0.6484, 0.7138, 0.2102, 0.7369, 0.5281, 0.8269, 0.3505,\n",
      "         0.3417, 0.9236, 0.0332, 0.1702, 0.6947, 0.0771, 0.0944, 0.3979, 0.9709,\n",
      "         0.8707, 0.4154, 0.9719],\n",
      "        [0.1197, 0.6729, 0.8612, 0.8308, 0.4203, 0.7976, 0.0146, 0.5994, 0.6285,\n",
      "         0.6434, 0.8642, 0.3983, 0.2208, 0.8918, 0.7479, 0.5171, 0.9247, 0.5996,\n",
      "         0.7870, 0.1964, 0.8944],\n",
      "        [0.6385, 0.1132, 0.6899, 0.1565, 0.1806, 0.5920, 0.1984, 0.7276, 0.1408,\n",
      "         0.0946, 0.4990, 0.5188, 0.9374, 0.2660, 0.2319, 0.1465, 0.5847, 0.8607,\n",
      "         0.8643, 0.8317, 0.5317],\n",
      "        [0.4897, 0.5021, 0.8328, 0.1684, 0.9311, 0.0551, 0.4823, 0.1083, 0.2877,\n",
      "         0.8668, 0.5033, 0.9712, 0.8939, 0.9496, 0.8374, 0.2815, 0.1468, 0.9716,\n",
      "         0.8470, 0.0878, 0.4411],\n",
      "        [0.6838, 0.8054, 0.4014, 0.5797, 0.9095, 0.3701, 0.1667, 0.4924, 0.9679,\n",
      "         0.9177, 0.1975, 0.8857, 0.7493, 0.4724, 0.6506, 0.2944, 0.1772, 0.5091,\n",
      "         0.7493, 0.4656, 0.8035],\n",
      "        [0.7966, 0.0354, 0.7896, 0.7195, 0.9452, 0.6034, 0.5215, 0.0248, 0.2915,\n",
      "         0.9268, 0.1059, 0.8572, 0.7503, 0.3614, 0.4936, 0.1302, 0.2724, 0.6082,\n",
      "         0.6515, 0.4194, 0.6821],\n",
      "        [0.3609, 0.2077, 0.5118, 0.8984, 0.6852, 0.8779, 0.6330, 0.7723, 0.5339,\n",
      "         0.1883, 0.3354, 0.6492, 0.8152, 0.8795, 0.8053, 0.3034, 0.2593, 0.8234,\n",
      "         0.1665, 0.3933, 0.8042],\n",
      "        [0.8031, 0.9997, 0.0946, 0.5583, 0.6481, 0.7193, 0.0166, 0.6367, 0.6491,\n",
      "         0.7926, 0.2470, 0.5172, 0.6867, 0.4555, 0.3937, 0.5447, 0.7840, 0.3946,\n",
      "         0.6416, 0.9379, 0.6231],\n",
      "        [0.6180, 0.2648, 0.9865, 0.3257, 0.8592, 0.7782, 0.2481, 0.6503, 0.9787,\n",
      "         0.5960, 0.8594, 0.9496, 0.6692, 0.3100, 0.1643, 0.6883, 0.8256, 0.0620,\n",
      "         0.0305, 0.1839, 0.4065],\n",
      "        [0.4044, 0.5426, 0.1060, 0.8445, 0.1318, 0.3060, 0.4417, 0.5843, 0.1061,\n",
      "         0.9217, 0.2915, 0.7227, 0.0155, 0.8568, 0.7225, 0.1952, 0.8572, 0.3299,\n",
      "         0.4378, 0.9008, 0.5269],\n",
      "        [0.2374, 0.0607, 0.6225, 0.2311, 0.8721, 0.5600, 0.2612, 0.4434, 0.0331,\n",
      "         0.8026, 0.2489, 0.3109, 0.9787, 0.3541, 0.4486, 0.5416, 0.5035, 0.8298,\n",
      "         0.1144, 0.2863, 0.7010],\n",
      "        [0.5730, 0.8202, 0.0801, 0.3860, 0.3226, 0.8487, 0.0202, 0.3496, 0.1076,\n",
      "         0.7953, 0.7388, 0.2739, 0.2461, 0.1631, 0.2876, 0.1320, 0.4794, 0.3158,\n",
      "         0.8934, 0.7766, 0.3990],\n",
      "        [0.2763, 0.4558, 0.7644, 0.8238, 0.1070, 0.3348, 0.8326, 0.3099, 0.3431,\n",
      "         0.2501, 0.9603, 0.4167, 0.6508, 0.0878, 0.0303, 0.3248, 0.6034, 0.0760,\n",
      "         0.5825, 0.5296, 0.0440],\n",
      "        [0.8030, 0.8751, 0.8416, 0.9856, 0.8898, 0.0530, 0.2983, 0.0408, 0.0701,\n",
      "         0.9638, 0.3565, 0.6877, 0.2819, 0.4097, 0.2732, 0.7131, 0.0265, 0.6966,\n",
      "         0.6512, 0.1176, 0.8477],\n",
      "        [0.4496, 0.2333, 0.9679, 0.6461, 0.7346, 0.8115, 0.8992, 0.4759, 0.7481,\n",
      "         0.7588, 0.2362, 0.7248, 0.8786, 0.3005, 0.4111, 0.7115, 0.9891, 0.8242,\n",
      "         0.9661, 0.6761, 0.6497],\n",
      "        [0.8537, 0.5760, 0.6081, 0.1616, 0.3902, 0.8628, 0.0636, 0.2840, 0.2147,\n",
      "         0.9667, 0.3286, 0.2003, 0.7019, 0.4995, 0.5446, 0.5400, 0.4386, 0.8703,\n",
      "         0.5711, 0.1672, 0.9110],\n",
      "        [0.8220, 0.8618, 0.8422, 0.5579, 0.7986, 0.4367, 0.0551, 0.8833, 0.1760,\n",
      "         0.7452, 0.6877, 0.5213, 0.4073, 0.1235, 0.7961, 0.2891, 0.0519, 0.6618,\n",
      "         0.3273, 0.8941, 0.5702],\n",
      "        [0.3931, 0.5150, 0.1722, 0.5259, 0.3531, 0.1582, 0.4079, 0.4930, 0.1164,\n",
      "         0.3872, 0.7488, 0.2981, 0.2796, 0.5946, 0.6451, 0.4094, 0.3557, 0.3344,\n",
      "         0.9475, 0.7431, 0.2010],\n",
      "        [0.1512, 0.8144, 0.7022, 0.5129, 0.6580, 0.9396, 0.1282, 0.7417, 0.2921,\n",
      "         0.3766, 0.8715, 0.4539, 0.6375, 0.9097, 0.0053, 0.3709, 0.8142, 0.7739,\n",
      "         0.6816, 0.2023, 0.9725]], requires_grad=True)\n",
      "Parameter containing:\n",
      "tensor([[4.1698e-01, 2.4242e-01, 2.5956e-02, 2.1044e-02, 7.3323e-01, 6.6959e-01,\n",
      "         2.9962e-02, 3.8859e-01, 8.9627e-01, 5.3796e-01, 5.8710e-01, 9.5246e-01,\n",
      "         6.0137e-01, 2.6151e-01, 2.2798e-01, 8.6179e-01, 4.6957e-01, 1.5887e-01,\n",
      "         8.7961e-01, 9.4868e-01, 7.9389e-01],\n",
      "        [7.7408e-01, 3.4192e-01, 4.4164e-02, 8.7486e-01, 7.9428e-01, 5.2787e-01,\n",
      "         8.0713e-02, 9.9356e-01, 7.5027e-01, 3.1627e-01, 5.6645e-01, 6.8088e-02,\n",
      "         1.8974e-01, 4.4866e-01, 1.3173e-01, 8.3037e-01, 2.4121e-01, 3.0082e-01,\n",
      "         9.9051e-01, 3.4037e-01, 7.0095e-02],\n",
      "        [4.8810e-01, 2.5890e-01, 4.6106e-01, 7.7672e-01, 5.3545e-01, 6.3935e-01,\n",
      "         6.3713e-01, 2.0861e-01, 4.4485e-02, 4.2651e-01, 4.5540e-01, 4.9284e-01,\n",
      "         1.3178e-01, 1.9026e-01, 7.7595e-01, 9.9995e-03, 1.2187e-01, 4.3244e-01,\n",
      "         9.8798e-01, 7.3922e-01, 1.0915e-01],\n",
      "        [9.5512e-01, 4.5741e-01, 6.0953e-02, 1.3963e-01, 3.1882e-01, 3.9283e-01,\n",
      "         9.0574e-01, 1.9892e-03, 6.1804e-01, 3.3914e-01, 7.5291e-01, 3.1733e-02,\n",
      "         6.0927e-01, 2.9489e-02, 2.2468e-01, 2.2235e-01, 1.0628e-03, 4.0975e-01,\n",
      "         5.9051e-01, 2.0959e-01, 4.5974e-01],\n",
      "        [4.1717e-01, 3.5765e-01, 7.2734e-01, 9.0666e-02, 3.1109e-01, 4.0783e-01,\n",
      "         3.9717e-02, 6.4702e-01, 3.2576e-01, 8.6129e-02, 3.1201e-01, 1.5955e-01,\n",
      "         9.2823e-01, 7.9763e-01, 7.0480e-01, 2.3537e-01, 1.2649e-01, 5.8823e-02,\n",
      "         4.2479e-01, 5.6185e-01, 6.6521e-01],\n",
      "        [4.0369e-01, 6.7295e-01, 8.8187e-01, 9.8042e-02, 8.9315e-01, 2.3500e-01,\n",
      "         9.2476e-01, 8.3315e-01, 3.1100e-01, 7.5662e-01, 9.0381e-01, 3.5086e-02,\n",
      "         5.7648e-01, 8.6665e-01, 3.6483e-01, 2.2315e-01, 1.9136e-01, 9.8876e-01,\n",
      "         7.1552e-01, 4.1542e-01, 4.0799e-01],\n",
      "        [4.6505e-01, 5.8068e-01, 2.4852e-02, 3.5345e-01, 9.7644e-01, 2.9593e-01,\n",
      "         9.2165e-01, 5.5199e-01, 3.1493e-01, 1.8419e-01, 6.3962e-01, 3.6627e-01,\n",
      "         4.1808e-01, 5.0868e-01, 5.0852e-01, 9.0157e-01, 3.3362e-01, 2.3682e-01,\n",
      "         9.2219e-02, 6.4190e-01, 1.7866e-01],\n",
      "        [2.7335e-02, 5.8958e-01, 4.3162e-01, 6.3784e-02, 4.8234e-01, 9.8170e-01,\n",
      "         8.2766e-01, 4.3920e-01, 2.9399e-01, 6.9006e-01, 4.3955e-01, 3.0370e-01,\n",
      "         7.3303e-01, 4.3106e-01, 2.2286e-01, 8.4274e-01, 6.6017e-01, 7.4919e-01,\n",
      "         1.8801e-01, 3.3812e-01, 7.7270e-01],\n",
      "        [9.5724e-01, 7.2217e-01, 7.9367e-01, 3.1142e-01, 1.7163e-01, 7.8739e-01,\n",
      "         7.4362e-01, 6.8339e-01, 6.9100e-01, 5.5166e-01, 7.8024e-01, 9.7906e-01,\n",
      "         7.1858e-02, 6.9529e-01, 3.9324e-01, 2.5041e-02, 9.6013e-01, 4.7647e-01,\n",
      "         1.3464e-01, 8.5194e-01, 5.9752e-01],\n",
      "        [6.2302e-01, 9.9260e-01, 3.1843e-01, 4.8180e-01, 4.0502e-01, 5.8405e-01,\n",
      "         4.3537e-01, 6.5949e-01, 1.6213e-01, 9.5494e-01, 4.7294e-02, 3.2561e-01,\n",
      "         3.1614e-01, 4.9781e-01, 5.3280e-01, 7.4948e-01, 2.6390e-01, 2.0525e-01,\n",
      "         1.7457e-01, 5.4319e-01, 4.9180e-01],\n",
      "        [3.3684e-01, 8.1265e-01, 9.8595e-01, 7.8933e-01, 2.8225e-01, 4.6846e-01,\n",
      "         3.8290e-01, 5.5347e-01, 6.7784e-01, 9.9044e-01, 5.3409e-01, 4.6594e-01,\n",
      "         7.4876e-01, 3.9010e-01, 8.8667e-01, 6.7800e-01, 3.1235e-01, 5.7399e-04,\n",
      "         2.1584e-01, 3.5569e-01, 9.2657e-01],\n",
      "        [8.2893e-01, 1.7851e-01, 7.3072e-01, 9.0287e-01, 5.0283e-01, 4.8516e-01,\n",
      "         6.9278e-01, 3.1783e-02, 5.5079e-01, 7.7254e-01, 5.1075e-01, 4.7273e-01,\n",
      "         2.2803e-01, 4.2345e-01, 9.8552e-01, 8.1062e-01, 8.7605e-01, 4.1889e-01,\n",
      "         5.7918e-02, 8.6466e-01, 9.4600e-01],\n",
      "        [7.3441e-01, 1.4332e-01, 2.7120e-01, 8.7738e-01, 3.3392e-01, 9.3094e-01,\n",
      "         9.6442e-01, 7.1293e-01, 6.2245e-01, 9.0052e-01, 6.2660e-01, 3.3521e-02,\n",
      "         1.5210e-01, 4.7603e-01, 6.1946e-01, 8.2463e-01, 5.1363e-01, 6.6311e-01,\n",
      "         1.7889e-01, 2.3160e-01, 2.1184e-01],\n",
      "        [8.1895e-01, 9.7136e-01, 1.3315e-01, 8.8797e-01, 6.0227e-02, 9.6997e-01,\n",
      "         8.4180e-02, 7.6360e-01, 6.9103e-01, 8.0840e-01, 6.1065e-01, 1.3912e-01,\n",
      "         9.2821e-01, 6.5490e-01, 3.6482e-01, 9.0832e-01, 6.0117e-01, 8.1129e-01,\n",
      "         6.3938e-02, 3.8249e-01, 4.1030e-01],\n",
      "        [9.2786e-01, 2.5281e-01, 8.4095e-01, 3.6647e-01, 4.3666e-01, 9.0843e-01,\n",
      "         3.9060e-01, 6.4959e-01, 8.8068e-01, 7.7158e-02, 9.6209e-01, 3.6155e-01,\n",
      "         7.3062e-01, 9.3195e-01, 4.8554e-01, 1.0560e-02, 3.1445e-01, 5.1723e-01,\n",
      "         5.6135e-01, 7.1752e-01, 5.9284e-01],\n",
      "        [7.1316e-01, 1.1111e-01, 7.8305e-01, 7.9601e-01, 2.6458e-01, 4.1141e-01,\n",
      "         1.4687e-01, 6.3305e-01, 6.3062e-01, 1.0189e-01, 4.4449e-01, 4.9424e-01,\n",
      "         8.1556e-01, 2.8647e-01, 3.9589e-01, 4.3805e-01, 5.7891e-02, 4.7582e-01,\n",
      "         2.1589e-01, 6.3010e-01, 7.5277e-01],\n",
      "        [7.6282e-01, 3.4176e-01, 9.0053e-01, 8.2093e-01, 2.0463e-01, 4.0094e-01,\n",
      "         9.5477e-02, 9.7854e-01, 6.8672e-01, 6.2335e-01, 2.3231e-01, 1.0028e-01,\n",
      "         9.7840e-01, 5.6263e-01, 1.3701e-01, 1.1718e-01, 9.8662e-02, 2.7342e-01,\n",
      "         2.9156e-01, 9.3424e-01, 6.2804e-01],\n",
      "        [5.2815e-01, 3.7649e-01, 5.3844e-01, 7.9600e-01, 9.9708e-02, 4.0207e-01,\n",
      "         3.7041e-01, 5.3182e-01, 7.2585e-01, 4.0828e-01, 7.8415e-01, 9.5758e-01,\n",
      "         4.7538e-01, 5.7797e-02, 4.8647e-01, 7.1953e-01, 3.5995e-01, 2.9509e-02,\n",
      "         6.2704e-01, 9.4942e-01, 2.0192e-01],\n",
      "        [6.1527e-01, 7.4650e-01, 2.6343e-01, 2.4617e-01, 1.2392e-01, 5.3542e-01,\n",
      "         4.1484e-01, 9.2402e-01, 3.9690e-01, 6.9092e-01, 6.2861e-01, 2.7512e-01,\n",
      "         1.6194e-01, 6.2016e-01, 8.3147e-01, 1.0262e-01, 8.2085e-01, 4.5071e-01,\n",
      "         9.8337e-02, 7.2546e-01, 4.1983e-01],\n",
      "        [6.2819e-01, 3.9909e-01, 7.5471e-01, 9.7748e-01, 3.4855e-01, 7.0364e-01,\n",
      "         2.7657e-01, 3.6158e-01, 5.8289e-01, 8.8267e-01, 9.9869e-02, 2.2818e-01,\n",
      "         9.8909e-01, 7.5035e-01, 9.2545e-01, 4.9961e-01, 3.3973e-01, 7.7253e-01,\n",
      "         5.7209e-01, 6.7981e-01, 8.8359e-01],\n",
      "        [9.3725e-01, 6.6238e-01, 6.7494e-01, 9.8211e-01, 1.6284e-01, 4.0854e-01,\n",
      "         9.3487e-01, 9.0434e-01, 6.6224e-01, 2.1460e-01, 4.6809e-01, 9.2686e-02,\n",
      "         1.6488e-01, 5.3293e-01, 3.5072e-01, 8.7045e-01, 8.0042e-01, 9.8728e-01,\n",
      "         9.4193e-01, 5.9161e-01, 8.9197e-02]], requires_grad=True)\n",
      "Parameter containing:\n",
      "tensor([[0.6634, 0.6269, 0.5671, 0.8211, 0.2315, 0.7604, 0.8469, 0.5995, 0.0546,\n",
      "         0.8834, 0.9852, 0.1013, 0.1838, 0.3743, 0.3188, 0.4423, 0.6288, 0.7950,\n",
      "         0.2512, 0.3650, 0.3175],\n",
      "        [0.9476, 0.9113, 0.5884, 0.9387, 0.7755, 0.6461, 0.3209, 0.6744, 0.3702,\n",
      "         0.6762, 0.5095, 0.3984, 0.0029, 0.7314, 0.8686, 0.0761, 0.3251, 0.6596,\n",
      "         0.0286, 0.7678, 0.3460],\n",
      "        [0.7888, 0.8831, 0.1517, 0.3474, 0.6303, 0.7830, 0.6546, 0.8023, 0.7868,\n",
      "         0.5238, 0.6469, 0.5687, 0.7334, 0.6488, 0.9365, 0.4591, 0.4880, 0.4167,\n",
      "         0.8193, 0.4283, 0.5018],\n",
      "        [0.3405, 0.5632, 0.9027, 0.9601, 0.3280, 0.1782, 0.2663, 0.0049, 0.0675,\n",
      "         0.0761, 0.4633, 0.1088, 0.2181, 0.5606, 0.3729, 0.7496, 0.9731, 0.4426,\n",
      "         0.2837, 0.6193, 0.0248],\n",
      "        [0.4778, 0.2711, 0.3798, 0.0469, 0.9232, 0.8687, 0.5293, 0.6497, 0.4060,\n",
      "         0.9212, 0.9185, 0.5062, 0.0635, 0.0218, 0.7340, 0.4300, 0.7364, 0.2769,\n",
      "         0.6878, 0.3173, 0.4257],\n",
      "        [0.4377, 0.0125, 0.4400, 0.0550, 0.3978, 0.4447, 0.5077, 0.6236, 0.6392,\n",
      "         0.6312, 0.4512, 0.1923, 0.9725, 0.6276, 0.1409, 0.6967, 0.5964, 0.1929,\n",
      "         0.0781, 0.3612, 0.5627],\n",
      "        [0.4589, 0.4641, 0.8204, 0.6182, 0.1346, 0.5147, 0.9937, 0.7025, 0.9382,\n",
      "         0.0463, 0.1719, 0.5443, 0.1442, 0.8643, 0.7492, 0.7019, 0.1879, 0.3753,\n",
      "         0.2713, 0.5150, 0.9672],\n",
      "        [0.2733, 0.7335, 0.9655, 0.6802, 0.3453, 0.8025, 0.3420, 0.5747, 0.1783,\n",
      "         0.4323, 0.3709, 0.4705, 0.2624, 0.4848, 0.4182, 0.6944, 0.5147, 0.2811,\n",
      "         0.6725, 0.4686, 0.0488],\n",
      "        [0.5276, 0.3901, 0.7117, 0.0719, 0.0959, 0.5524, 0.9371, 0.2532, 0.4960,\n",
      "         0.3810, 0.9407, 0.4299, 0.6920, 0.3435, 0.3286, 0.9818, 0.0870, 0.7324,\n",
      "         0.1929, 0.3142, 0.5296],\n",
      "        [0.4683, 0.4362, 0.7776, 0.4364, 0.2049, 0.3539, 0.1458, 0.9871, 0.5435,\n",
      "         0.5904, 0.6006, 0.4755, 0.6714, 0.6802, 0.4755, 0.4565, 0.5335, 0.9111,\n",
      "         0.7004, 0.1740, 0.1481],\n",
      "        [0.8057, 0.4911, 0.7350, 0.0893, 0.7781, 0.9784, 0.9166, 0.6497, 0.8446,\n",
      "         0.2365, 0.6151, 0.1309, 0.0663, 0.0269, 0.3239, 0.2965, 0.2853, 0.1011,\n",
      "         0.6850, 0.0925, 0.4265],\n",
      "        [0.8660, 0.3864, 0.7952, 0.8406, 0.1120, 0.6472, 0.2093, 0.1556, 0.1738,\n",
      "         0.9800, 0.2453, 0.4802, 0.9225, 0.6214, 0.8733, 0.0596, 0.1698, 0.4698,\n",
      "         0.3372, 0.2473, 0.5319],\n",
      "        [0.2124, 0.7881, 0.3034, 0.1361, 0.5076, 0.3360, 0.4091, 0.8178, 0.1837,\n",
      "         0.3750, 0.8644, 0.7821, 0.4530, 0.2996, 0.4011, 0.4135, 0.9042, 0.5601,\n",
      "         0.7549, 0.1782, 0.9656],\n",
      "        [0.5191, 0.0740, 0.1381, 0.1356, 0.3867, 0.0551, 0.0034, 0.1105, 0.0103,\n",
      "         0.0240, 0.6154, 0.8419, 0.3742, 0.4508, 0.5435, 0.6519, 0.7518, 0.5823,\n",
      "         0.5309, 0.1542, 0.3941],\n",
      "        [0.2295, 0.3688, 0.9237, 0.4242, 0.2603, 0.2037, 0.1742, 0.4729, 0.8029,\n",
      "         0.0969, 0.5055, 0.6304, 0.9334, 0.0466, 0.5533, 0.7600, 0.0919, 0.6775,\n",
      "         0.7660, 0.7495, 0.8863],\n",
      "        [0.4732, 0.7489, 0.5153, 0.1780, 0.0514, 0.9678, 0.1855, 0.9152, 0.1134,\n",
      "         0.8424, 0.5223, 0.5892, 0.7533, 0.2689, 0.1684, 0.7741, 0.7036, 0.2099,\n",
      "         0.0402, 0.8402, 0.6307],\n",
      "        [0.3864, 0.6484, 0.6561, 0.4581, 0.4739, 0.2481, 0.8172, 0.3745, 0.7563,\n",
      "         0.7719, 0.1296, 0.1470, 0.4323, 0.7237, 0.8164, 0.3928, 0.6110, 0.8854,\n",
      "         0.4260, 0.7466, 0.8973],\n",
      "        [0.4817, 0.1164, 0.7211, 0.0619, 0.7747, 0.3776, 0.5629, 0.4461, 0.9085,\n",
      "         0.6114, 0.1804, 0.8039, 0.3463, 0.7073, 0.5350, 0.2628, 0.7989, 0.0381,\n",
      "         0.1150, 0.0692, 0.5610],\n",
      "        [0.4532, 0.4506, 0.4255, 0.6928, 0.7913, 0.6703, 0.9206, 0.6268, 0.1929,\n",
      "         0.6809, 0.1379, 0.9756, 0.7578, 0.7877, 0.8851, 0.9470, 0.2517, 0.1300,\n",
      "         0.8755, 0.6589, 0.9980],\n",
      "        [0.8209, 0.7024, 0.4216, 0.9340, 0.5142, 0.0487, 0.7654, 0.1604, 0.5329,\n",
      "         0.6054, 0.5503, 0.6010, 0.9904, 0.3626, 0.8479, 0.6546, 0.3498, 0.0226,\n",
      "         0.5903, 0.5852, 0.8824],\n",
      "        [0.4999, 0.5230, 0.8666, 0.1597, 0.8802, 0.1268, 0.5050, 0.8795, 0.5398,\n",
      "         0.0104, 0.5124, 0.7516, 0.6202, 0.2860, 0.6021, 0.9953, 0.2997, 0.0626,\n",
      "         0.5713, 0.3545, 0.8938]], requires_grad=True)\n",
      "Parameter containing:\n",
      "tensor([[0.8641, 0.9675, 0.5069, 0.5241, 0.7449, 0.0386, 0.1484, 0.5315, 0.6418,\n",
      "         0.3893, 0.8756, 0.7957, 0.3732, 0.4332, 0.0723, 0.3418, 0.8239, 0.9564,\n",
      "         0.8547, 0.2749, 0.3373],\n",
      "        [0.0187, 0.5887, 0.9432, 0.2555, 0.2174, 0.7629, 0.9784, 0.2878, 0.1512,\n",
      "         0.3253, 0.1406, 0.8528, 0.1973, 0.1003, 0.1767, 0.2941, 0.7959, 0.7160,\n",
      "         0.3526, 0.1281, 0.5114],\n",
      "        [0.3259, 0.4361, 0.9429, 0.5186, 0.6792, 0.3612, 0.5196, 0.1829, 0.4902,\n",
      "         0.0165, 0.1971, 0.5250, 0.1734, 0.0998, 0.1952, 0.5380, 0.9171, 0.9906,\n",
      "         0.3972, 0.8994, 0.2897],\n",
      "        [0.2049, 0.7816, 0.6137, 0.1630, 0.4729, 0.0950, 0.1652, 0.9720, 0.4339,\n",
      "         0.6121, 0.7021, 0.6022, 0.1690, 0.4171, 0.8966, 0.4890, 0.1773, 0.1061,\n",
      "         0.5059, 0.9038, 0.7112],\n",
      "        [0.2261, 0.8700, 0.5981, 0.7068, 0.6256, 0.7203, 0.8150, 0.4716, 0.0069,\n",
      "         0.1358, 0.8000, 0.7746, 0.6440, 0.0802, 0.2865, 0.4457, 0.5615, 0.9811,\n",
      "         0.4442, 0.1415, 0.2712],\n",
      "        [0.4871, 0.5211, 0.1753, 0.1003, 0.8283, 0.2606, 0.4519, 0.8401, 0.1673,\n",
      "         0.2885, 0.6143, 0.0453, 0.9232, 0.8256, 0.8884, 0.1541, 0.8441, 0.6974,\n",
      "         0.2331, 0.6335, 0.3787],\n",
      "        [0.5687, 0.3816, 0.4088, 0.6541, 0.1551, 0.8866, 0.3219, 0.4232, 0.8789,\n",
      "         0.6031, 0.8052, 0.5166, 0.2624, 0.1180, 0.5568, 0.2946, 0.4475, 0.4557,\n",
      "         0.4454, 0.2161, 0.7244],\n",
      "        [0.9681, 0.5279, 0.6629, 0.8144, 0.6786, 0.0413, 0.7700, 0.6274, 0.0133,\n",
      "         0.1117, 0.2454, 0.9496, 0.9159, 0.5078, 0.6359, 0.3653, 0.8539, 0.7354,\n",
      "         0.0969, 0.9694, 0.1507],\n",
      "        [0.1067, 0.0469, 0.2575, 0.6636, 0.6326, 0.2092, 0.0175, 0.4544, 0.2118,\n",
      "         0.2598, 0.5995, 0.1330, 0.8436, 0.3679, 0.4490, 0.9029, 0.8594, 0.6076,\n",
      "         0.1828, 0.3998, 0.5926],\n",
      "        [0.2711, 0.3327, 0.0816, 0.7176, 0.6771, 0.8115, 0.9300, 0.3571, 0.9129,\n",
      "         0.6510, 0.2716, 0.6004, 0.6579, 0.9361, 0.6387, 0.9711, 0.8963, 0.1158,\n",
      "         0.5783, 0.3405, 0.5109],\n",
      "        [0.6013, 0.5989, 0.2580, 0.2892, 0.2809, 0.7852, 0.9297, 0.5035, 0.4352,\n",
      "         0.3715, 0.1002, 0.1967, 0.5194, 0.2914, 0.3393, 0.5598, 0.2829, 0.7898,\n",
      "         0.1021, 0.7724, 0.8714],\n",
      "        [0.2046, 0.2825, 0.6027, 0.3649, 0.5552, 0.2767, 0.7769, 0.2971, 0.6208,\n",
      "         0.4608, 0.5125, 0.4891, 0.1542, 0.0564, 0.5755, 0.2401, 0.0264, 0.4015,\n",
      "         0.1180, 0.0202, 0.9067],\n",
      "        [0.5980, 0.0894, 0.8950, 0.2414, 0.6017, 0.1009, 0.0361, 0.4968, 0.9741,\n",
      "         0.1087, 0.7152, 0.0865, 0.0599, 0.7972, 0.0387, 0.0254, 0.2035, 0.4042,\n",
      "         0.9160, 0.6864, 0.1578],\n",
      "        [0.8863, 0.0206, 0.4106, 0.2017, 0.4933, 0.3082, 0.9072, 0.5308, 0.7039,\n",
      "         0.2911, 0.2684, 0.3688, 0.3071, 0.0295, 0.1917, 0.9608, 0.4996, 0.2363,\n",
      "         0.7023, 0.0393, 0.3336],\n",
      "        [0.5493, 0.0601, 0.1480, 0.9886, 0.8825, 0.8037, 0.9465, 0.7210, 0.5286,\n",
      "         0.7092, 0.1188, 0.7597, 0.2730, 0.4109, 0.3914, 0.1978, 0.8061, 0.1117,\n",
      "         0.2338, 0.5640, 0.4770],\n",
      "        [0.0683, 0.8990, 0.0114, 0.1085, 0.4185, 0.0736, 0.8869, 0.8577, 0.9548,\n",
      "         0.0134, 0.6229, 0.6776, 0.2984, 0.3192, 0.8198, 0.3294, 0.4213, 0.1453,\n",
      "         0.1607, 0.2568, 0.8650],\n",
      "        [0.8148, 0.4421, 0.5700, 0.4154, 0.8879, 0.4958, 0.5169, 0.4947, 0.9256,\n",
      "         0.8804, 0.4641, 0.1500, 0.4220, 0.2141, 0.7897, 0.9379, 0.6926, 0.3749,\n",
      "         0.9482, 0.8523, 0.5849],\n",
      "        [0.3849, 0.1960, 0.6693, 0.7590, 0.6947, 0.8910, 0.5190, 0.2769, 0.1322,\n",
      "         0.7975, 0.0500, 0.4014, 0.2777, 0.3754, 0.2723, 0.1404, 0.6017, 0.8843,\n",
      "         0.9120, 0.8662, 0.9733],\n",
      "        [0.6226, 0.0921, 0.8865, 0.5649, 0.1410, 0.3868, 0.6598, 0.7594, 0.4041,\n",
      "         0.9947, 0.3734, 0.9678, 0.4849, 0.3536, 0.3813, 0.5738, 0.4628, 0.1828,\n",
      "         0.5291, 0.3309, 0.4514],\n",
      "        [0.0976, 0.4301, 0.8632, 0.5967, 0.1162, 0.1881, 0.2843, 0.1535, 0.0969,\n",
      "         0.8247, 0.4839, 0.6651, 0.8732, 0.2839, 0.3935, 0.2419, 0.4294, 0.0881,\n",
      "         0.6397, 0.0954, 0.8344],\n",
      "        [0.2513, 0.4882, 0.7151, 0.5507, 0.3148, 0.4158, 0.5444, 0.8597, 0.6007,\n",
      "         0.5978, 0.2185, 0.7560, 0.1904, 0.9912, 0.5567, 0.2807, 0.7677, 0.6221,\n",
      "         0.7085, 0.1284, 0.8104]], requires_grad=True)\n",
      "Parameter containing:\n",
      "tensor([[0.8226, 0.1841, 0.6590, 0.6386, 0.6856, 0.4068, 0.7005, 0.6744, 0.9679,\n",
      "         0.5233, 0.4359, 0.2314, 0.0087, 0.4863, 0.5908, 0.6561, 0.9490, 0.8243,\n",
      "         0.4039, 0.0220, 0.5653],\n",
      "        [0.4246, 0.9495, 0.2245, 0.9714, 0.7368, 0.5976, 0.2561, 0.6895, 0.8556,\n",
      "         0.0502, 0.4450, 0.4569, 0.6969, 0.0615, 0.2136, 0.8093, 0.7509, 0.5169,\n",
      "         0.3357, 0.1452, 0.1456],\n",
      "        [0.6659, 0.8578, 0.6531, 0.7610, 0.4453, 0.4589, 0.4206, 0.4975, 0.8188,\n",
      "         0.2675, 0.0120, 0.4281, 0.1807, 0.8524, 0.5589, 0.9985, 0.4008, 0.3780,\n",
      "         0.4971, 0.6684, 0.2086],\n",
      "        [0.1585, 0.0655, 0.0228, 0.5849, 0.6047, 0.0721, 0.4973, 0.4009, 0.1672,\n",
      "         0.5042, 0.4068, 0.6917, 0.0483, 0.2027, 0.5578, 0.4090, 0.2399, 0.4610,\n",
      "         0.8840, 0.8211, 0.6784],\n",
      "        [0.9860, 0.8602, 0.2178, 0.9371, 0.2952, 0.2568, 0.2593, 0.5373, 0.3355,\n",
      "         0.6555, 0.4199, 0.8553, 0.0654, 0.4277, 0.8737, 0.2666, 0.5726, 0.2552,\n",
      "         0.3123, 0.9410, 0.3928],\n",
      "        [0.6084, 0.0194, 0.0905, 0.9352, 0.3096, 0.6362, 0.7751, 0.7025, 0.3926,\n",
      "         0.3767, 0.4030, 0.6905, 0.6529, 0.3154, 0.1800, 0.2046, 0.3588, 0.3882,\n",
      "         0.9045, 0.2969, 0.8676],\n",
      "        [0.8182, 0.3374, 0.9636, 0.0314, 0.8129, 0.2536, 0.3183, 0.6648, 0.1328,\n",
      "         0.5089, 0.6709, 0.3300, 0.7059, 0.3668, 0.5819, 0.8180, 0.1026, 0.3629,\n",
      "         0.9545, 0.8278, 0.6554],\n",
      "        [0.3889, 0.0290, 0.8351, 0.7378, 0.1432, 0.2954, 0.0112, 0.5615, 0.8568,\n",
      "         0.1771, 0.4439, 0.2270, 0.8481, 0.7736, 0.5951, 0.8273, 0.7357, 0.6011,\n",
      "         0.7736, 0.1909, 0.7920],\n",
      "        [0.6541, 0.0033, 0.0229, 0.7502, 0.1091, 0.9955, 0.5926, 0.0780, 0.0632,\n",
      "         0.7235, 0.4898, 0.4210, 0.8099, 0.6180, 0.7609, 0.9553, 0.5731, 0.1813,\n",
      "         0.2588, 0.0753, 0.0479],\n",
      "        [0.6758, 0.3631, 0.4171, 0.9513, 0.4808, 0.7361, 0.9790, 0.9393, 0.7668,\n",
      "         0.7183, 0.2872, 0.0568, 0.7801, 0.1572, 0.9939, 0.3418, 0.7617, 0.7569,\n",
      "         0.0987, 0.6098, 0.8961],\n",
      "        [0.4766, 0.1490, 0.7822, 0.8938, 0.0621, 0.5748, 0.4780, 0.9495, 0.8552,\n",
      "         0.1594, 0.3259, 0.1404, 0.9799, 0.7625, 0.9206, 0.5781, 0.6841, 0.6658,\n",
      "         0.3288, 0.9932, 0.4195],\n",
      "        [0.7716, 0.4642, 0.4391, 0.9289, 0.4353, 0.9505, 0.3608, 0.8271, 0.0872,\n",
      "         0.8727, 0.8340, 0.6763, 0.1122, 0.7084, 0.8923, 0.1064, 0.8915, 0.4861,\n",
      "         0.7342, 0.4274, 0.2825],\n",
      "        [0.5237, 0.5301, 0.1225, 0.9808, 0.4972, 0.7705, 0.9342, 0.0851, 0.1215,\n",
      "         0.2166, 0.4045, 0.4463, 0.8047, 0.0579, 0.2086, 0.2814, 0.2991, 0.7540,\n",
      "         0.7926, 0.4584, 0.8832],\n",
      "        [0.7416, 0.3599, 0.0618, 0.2195, 0.5029, 0.4983, 0.9905, 0.2437, 0.7586,\n",
      "         0.9207, 0.5808, 0.1292, 0.6858, 0.9251, 0.6659, 0.3631, 0.1165, 0.5166,\n",
      "         0.5520, 0.7214, 0.7238],\n",
      "        [0.2469, 0.2250, 0.0730, 0.2230, 0.0995, 0.1520, 0.5830, 0.5794, 0.6217,\n",
      "         0.3946, 0.4629, 0.9390, 0.2209, 0.2579, 0.6565, 0.8986, 0.6650, 0.3984,\n",
      "         0.8154, 0.4964, 0.0900],\n",
      "        [0.6904, 0.5318, 0.7280, 0.2233, 0.5322, 0.1936, 0.8129, 0.9809, 0.4855,\n",
      "         0.7957, 0.4773, 0.7955, 0.2182, 0.4698, 0.3612, 0.6184, 0.8943, 0.8699,\n",
      "         0.5100, 0.4755, 0.3954],\n",
      "        [0.0976, 0.2214, 0.2263, 0.0846, 0.7653, 0.7882, 0.3785, 0.6407, 0.0818,\n",
      "         0.4517, 0.8301, 0.0808, 0.2594, 0.6319, 0.1825, 0.6753, 0.4673, 0.9880,\n",
      "         0.4279, 0.1677, 0.0176],\n",
      "        [0.4853, 0.3300, 0.9869, 0.5342, 0.2818, 0.4092, 0.3122, 0.6758, 0.1161,\n",
      "         0.4439, 0.0529, 0.9756, 0.8663, 0.7470, 0.8033, 0.5318, 0.1388, 0.0597,\n",
      "         0.9730, 0.3430, 0.2344],\n",
      "        [0.3955, 0.2015, 0.9811, 0.7623, 0.7527, 0.8764, 0.7708, 0.1557, 0.1787,\n",
      "         0.9165, 0.4707, 0.2372, 0.0583, 0.1037, 0.2892, 0.0352, 0.4706, 0.3630,\n",
      "         0.3706, 0.3445, 0.5897],\n",
      "        [0.8625, 0.5662, 0.4918, 0.6950, 0.2536, 0.6748, 0.5168, 0.9092, 0.4105,\n",
      "         0.3719, 0.9299, 0.8661, 0.8764, 0.8797, 0.0214, 0.0580, 0.5333, 0.7704,\n",
      "         0.4084, 0.5433, 0.6357],\n",
      "        [0.4866, 0.6629, 0.1005, 0.5016, 0.9403, 0.3280, 0.7791, 0.0906, 0.6230,\n",
      "         0.3622, 0.2951, 0.5767, 0.4078, 0.4150, 0.6221, 0.0769, 0.7814, 0.0661,\n",
      "         0.9315, 0.3219, 0.1762]], requires_grad=True)\n",
      "Parameter containing:\n",
      "tensor([[-0.1894, -0.0559,  0.1300, -0.0271,  0.2128, -0.1124,  0.0871,  0.0423,\n",
      "         -0.0358,  0.1210,  0.0648, -0.1726,  0.1248,  0.1238, -0.1801,  0.1718,\n",
      "         -0.1069,  0.1564,  0.1150,  0.1625,  0.0336]], requires_grad=True)\n",
      "Parameter containing:\n",
      "tensor([0.1445], requires_grad=True)\n"
     ]
    }
   ],
   "source": [
    "for i in model.parameters():\n",
    "    print(i)"
   ]
  },
  {
   "cell_type": "code",
   "execution_count": 79,
   "metadata": {},
   "outputs": [],
   "source": [
    "S = torch.tensor(np.array(A_WDS.todense()), dtype = torch.float32)\n",
    "x = torch.tensor(np.array(demands), dtype = torch.float32)"
   ]
  },
  {
   "cell_type": "code",
   "execution_count": 80,
   "metadata": {},
   "outputs": [
    {
     "data": {
      "text/plain": [
       "tensor([ 3.1545e-02,  1.2618e-02,  1.2618e-02,  1.2618e-02,  0.0000e+00,\n",
       "         3.1545e-02,  3.1545e-02,  0.0000e+00,  3.1545e-02,  6.3090e-02,\n",
       "         3.1545e-02,  3.1545e-02,  0.0000e+00,  1.2618e-02,  1.2618e-02,\n",
       "         1.2618e-02,  1.2618e-02,  5.0472e-02,  1.2618e-02, -6.5532e+01,\n",
       "        -6.5532e+01])"
      ]
     },
     "execution_count": 80,
     "metadata": {},
     "output_type": "execute_result"
    }
   ],
   "source": [
    "x"
   ]
  },
  {
   "cell_type": "code",
   "execution_count": 81,
   "metadata": {},
   "outputs": [
    {
     "data": {
      "text/plain": [
       "tensor([0.4441], grad_fn=<TanhBackward>)"
      ]
     },
     "execution_count": 81,
     "metadata": {},
     "output_type": "execute_result"
    }
   ],
   "source": [
    "model(S_matrices[9], x)"
   ]
  },
  {
   "cell_type": "code",
   "execution_count": 82,
   "metadata": {},
   "outputs": [],
   "source": [
    "device = torch.device('cuda' if torch.cuda.is_available() else 'cpu')\n",
    "model = GNN().to(device)\n",
    "optimizer = torch.optim.Adam(model.parameters(), lr=0.01, weight_decay=5e-4)\n"
   ]
  },
  {
   "cell_type": "code",
   "execution_count": 83,
   "metadata": {},
   "outputs": [],
   "source": [
    "training_range = 400\n",
    "test_range = 100"
   ]
  },
  {
   "cell_type": "code",
   "execution_count": 84,
   "metadata": {},
   "outputs": [
    {
     "name": "stdout",
     "output_type": "stream",
     "text": [
      "epoch  0  total loss   12.674808885937857\n",
      "epoch  10  total loss   8.29142438030074\n",
      "epoch  20  total loss   7.502530493886411\n",
      "epoch  30  total loss   7.05411893088359\n",
      "epoch  40  total loss   7.36196927380287\n",
      "epoch  50  total loss   9.593570333825085\n"
     ]
    }
   ],
   "source": [
    "for epoch in range(51):\n",
    "    total_loss= 0\n",
    "#     total_correct =0\n",
    "    #Data\n",
    "    for i in range(training_range):\n",
    "        #Prediction\n",
    "        preds = model(S_matrices[i], x)\n",
    "        labels = res_index[i]\n",
    "\n",
    "        #Calculate the loss\n",
    "        loss = F.mse_loss(preds.reshape(1,1), labels.reshape(1,1)) \n",
    "\n",
    "        #Backpropagate\n",
    "        optimizer.zero_grad() #To avoid adding up gradients\n",
    "        loss.backward() #calculate gradients\n",
    "\n",
    "        #Optimizer step\n",
    "        optimizer.step() #Update weights\n",
    "\n",
    "        total_loss += loss.item()\n",
    "#         total_correct += get_number_correct_labels(preds, labels)\n",
    "    if epoch%10 ==0:\n",
    "        print(\"epoch \", epoch, \" total loss  \", total_loss )"
   ]
  },
  {
   "cell_type": "code",
<<<<<<< Updated upstream
   "execution_count": 45,
   "metadata": {},
   "outputs": [
    {
     "name": "stdout",
     "output_type": "stream",
     "text": [
      "Parameter containing:\n",
      "tensor([[ 0.2771,  0.2771,  0.2771,  0.2771,  0.2771,  0.2771,  0.2771,  0.2771,\n",
      "          0.2771,  0.2771,  0.2771,  0.2771,  0.2771,  0.2771,  0.2771,  0.2771,\n",
      "          0.2771,  0.2771,  0.2771,  0.2771,  0.2771],\n",
      "        [ 0.0728,  0.0728,  0.0728,  0.0728,  0.0728,  0.0728,  0.0728,  0.0728,\n",
      "          0.0728,  0.0728,  0.0728,  0.0728,  0.0728,  0.0728,  0.0728,  0.0728,\n",
      "          0.0728,  0.0728,  0.0728,  0.0728,  0.0728],\n",
      "        [ 0.0048,  0.0048,  0.0048,  0.0048,  0.0048,  0.0048,  0.0048,  0.0048,\n",
      "          0.0048,  0.0048,  0.0048,  0.0048,  0.0048,  0.0048,  0.0048,  0.0048,\n",
      "          0.0048,  0.0048,  0.0048,  0.0048,  0.0048],\n",
      "        [-0.0060, -0.0060, -0.0060, -0.0060, -0.0060, -0.0060, -0.0060, -0.0060,\n",
      "         -0.0060, -0.0060, -0.0060, -0.0060, -0.0060, -0.0060, -0.0060, -0.0060,\n",
      "         -0.0060, -0.0060, -0.0060, -0.0060, -0.0060],\n",
      "        [ 0.0486,  0.0486,  0.0486,  0.0486,  0.0486,  0.0486,  0.0486,  0.0486,\n",
      "          0.0486,  0.0486,  0.0486,  0.0486,  0.0486,  0.0486,  0.0486,  0.0486,\n",
      "          0.0486,  0.0486,  0.0486,  0.0486,  0.0486]], requires_grad=True)\n",
      "Parameter containing:\n",
      "tensor([[ 1.7518e-04,  9.5607e-05,  6.8148e-05,  2.3472e-05,  6.6063e-05,\n",
      "         -1.5413e-01, -3.4351e-05, -1.5312e-05,  1.0748e-04, -2.8690e-04,\n",
      "         -1.2385e-04,  5.2756e-05, -8.5845e-05,  1.6805e-04, -1.0303e-04,\n",
      "         -1.3388e-04, -5.8048e-05, -1.5499e-01, -6.8072e-05,  2.4480e-01,\n",
      "          2.4481e-01],\n",
      "        [-1.0959e-05, -3.3232e-06,  3.0502e-06,  1.1538e-07,  8.9695e-06,\n",
      "         -2.1745e-02,  1.9350e-06, -8.5949e-06,  1.1418e-05,  2.7040e-05,\n",
      "         -7.9086e-06, -4.6527e-06,  3.2322e-06,  8.8283e-06, -8.3135e-07,\n",
      "         -1.5315e-05, -2.6918e-05, -1.5896e-02, -8.9399e-06,  5.5682e-02,\n",
      "          5.5685e-02],\n",
      "        [ 5.6891e-06,  3.4275e-06,  9.6228e-06, -4.6607e-06, -1.0700e-05,\n",
      "          5.2883e-04, -1.3476e-06, -6.5778e-06,  2.1866e-05,  1.6269e-05,\n",
      "          6.7973e-05, -1.6977e-06,  3.1562e-06, -7.2425e-06,  4.3340e-06,\n",
      "         -5.4641e-06, -9.4838e-07,  5.7839e-04,  3.0633e-06, -4.3608e-04,\n",
      "         -4.3607e-04],\n",
      "        [ 5.2076e-07, -4.2398e-07,  3.0162e-07, -3.7056e-04, -2.5476e-07,\n",
      "          1.5552e-06, -4.0995e-07, -1.3318e-07,  4.0592e-07,  7.1984e-07,\n",
      "         -2.6349e-07,  3.0713e-07, -2.3048e-07, -5.5569e-07, -2.1509e-07,\n",
      "         -3.0520e-07, -7.0434e-07,  1.1269e-06,  1.4856e-07, -2.3401e-04,\n",
      "         -2.3421e-04],\n",
      "        [ 7.4922e-34, -5.3776e-34,  2.8724e-34, -5.7380e-35,  5.4877e-34,\n",
      "         -2.4027e-05, -5.2934e-34,  4.2693e-34, -4.4094e-34,  4.9294e-34,\n",
      "          4.3522e-34, -1.2563e-34, -3.7730e-34,  7.4639e-34, -6.1970e-35,\n",
      "         -6.2575e-34, -5.1883e-34, -8.5803e-07, -3.1569e-34,  7.1196e-03,\n",
      "          7.1208e-03]], requires_grad=True)\n",
      "Parameter containing:\n",
      "tensor([[-3.0592e-04, -1.6908e-04,  1.6715e-04,  2.1350e-04,  1.2091e-05,\n",
      "          3.3648e-02, -8.0585e-05,  6.0196e-06, -2.4217e-04,  3.9300e-04,\n",
      "         -1.4985e-04, -2.5696e-04, -3.4203e-05, -2.1613e-04, -2.0498e-04,\n",
      "          1.9379e-04,  2.2260e-06,  3.0023e-02,  1.4291e-04,  2.4479e-01,\n",
      "          2.4479e-01],\n",
      "        [ 2.5542e-05,  1.8995e-05, -1.7307e-05,  1.1623e-05, -1.2171e-06,\n",
      "          1.8633e-03, -3.7010e-06, -7.1958e-07, -1.9766e-05,  4.1779e-05,\n",
      "          4.7065e-07,  2.6443e-05, -6.5108e-06,  1.3899e-05, -1.1616e-05,\n",
      "         -1.6585e-06, -4.5786e-06, -7.1422e-04,  1.6503e-06,  5.5675e-02,\n",
      "          5.5674e-02],\n",
      "        [ 1.5912e-05, -8.3158e-06,  2.1680e-06,  3.4821e-06,  3.8360e-06,\n",
      "         -5.0009e-04,  2.3585e-05,  1.0654e-06,  1.9005e-05,  3.0035e-05,\n",
      "          2.0804e-05,  2.0470e-05,  3.4873e-06, -6.2878e-06, -4.8446e-06,\n",
      "         -2.5395e-06, -2.9544e-06, -5.3513e-04,  3.8626e-06, -4.3625e-04,\n",
      "         -4.3623e-04],\n",
      "        [ 6.7225e-07,  5.1896e-07,  4.7929e-07,  5.5647e-07,  1.1906e-07,\n",
      "         -1.9282e-06,  7.3732e-07, -9.6962e-05,  6.7425e-07,  8.2755e-07,\n",
      "          7.0478e-07,  6.7748e-07,  8.2195e-08,  6.0246e-07,  5.4224e-07,\n",
      "          4.9584e-07,  6.0326e-07, -1.0229e-06,  5.5524e-07, -2.3359e-04,\n",
      "         -2.3351e-04],\n",
      "        [-7.4084e-34, -7.0954e-35, -2.3261e-34, -7.8047e-34, -2.2376e-34,\n",
      "          1.2548e-12, -2.5901e-34,  2.3288e-34,  2.4995e-34, -1.5711e-33,\n",
      "         -1.9970e-35,  1.0475e-33,  2.5593e-34, -8.1012e-34,  1.5422e-34,\n",
      "          7.9437e-34,  2.4398e-34, -8.9833e-27, -1.5543e-34,  7.1117e-03,\n",
      "          7.1119e-03]], requires_grad=True)\n",
      "Parameter containing:\n",
      "tensor([[0.7614, 0.4768, 0.9254, 0.9171, 0.3579]], requires_grad=True)\n",
      "Parameter containing:\n",
      "tensor([[0.8671, 0.4135, 0.3117, 0.3505, 0.5591]], requires_grad=True)\n",
      "Parameter containing:\n",
      "tensor([[0.8844, 0.0221, 0.4696, 0.4310, 0.2021]], requires_grad=True)\n"
     ]
    }
   ],
=======
   "execution_count": null,
   "metadata": {
    "scrolled": true
   },
   "outputs": [],
>>>>>>> Stashed changes
   "source": [
    "for i in model.parameters():\n",
    "    print(i)"
   ]
  },
  {
   "cell_type": "code",
   "execution_count": 86,
   "metadata": {},
   "outputs": [
    {
     "data": {
      "text/plain": [
       "tensor([0.2366], grad_fn=<TanhBackward>)"
      ]
     },
     "execution_count": 86,
     "metadata": {},
     "output_type": "execute_result"
    }
   ],
   "source": [
    "preds"
   ]
  },
  {
   "cell_type": "code",
   "execution_count": 87,
   "metadata": {},
   "outputs": [
    {
     "data": {
      "text/plain": [
       "tensor([0.2516], grad_fn=<TanhBackward>)"
      ]
     },
     "execution_count": 87,
     "metadata": {},
     "output_type": "execute_result"
    }
   ],
   "source": [
    "model(S_matrices[95],x)"
   ]
  },
  {
   "cell_type": "code",
   "execution_count": 88,
   "metadata": {},
   "outputs": [
    {
     "data": {
      "text/plain": [
       "tensor(0.4141)"
      ]
     },
     "execution_count": 88,
     "metadata": {},
     "output_type": "execute_result"
    }
   ],
   "source": [
    "res_index[95]"
   ]
  },
  {
   "cell_type": "code",
   "execution_count": 89,
   "metadata": {},
   "outputs": [
    {
     "data": {
      "text/plain": [
       "0.02398392583456271"
      ]
     },
     "execution_count": 89,
     "metadata": {},
     "output_type": "execute_result"
    }
   ],
   "source": [
    "total_loss/training_range"
   ]
  },
  {
   "cell_type": "code",
   "execution_count": 90,
   "metadata": {
    "scrolled": true
   },
   "outputs": [
    {
     "name": "stdout",
     "output_type": "stream",
     "text": [
      "0.2516 tensor(0.3816)\n",
      "0.2516 tensor(0.4465)\n",
      "0.2516 tensor(0.2998)\n",
      "0.2516 tensor(0.3425)\n",
      "0.2516 tensor(0.4795)\n",
      "0.2516 tensor(0.3550)\n",
      "0.2516 tensor(0.2692)\n",
      "0.2516 tensor(0.3353)\n",
      "0.2516 tensor(0.3079)\n",
      "0.2516 tensor(0.2996)\n",
      "0.2516 tensor(0.4235)\n",
      "0.2516 tensor(0.4859)\n",
      "0.2516 tensor(0.3106)\n",
      "0.2516 tensor(0.4153)\n",
      "0.2516 tensor(0.3657)\n",
      "0.2516 tensor(0.4498)\n",
      "0.2516 tensor(0.4506)\n",
      "0.2516 tensor(0.2767)\n",
      "0.2516 tensor(0.4273)\n",
      "0.2516 tensor(0.4009)\n",
      "0.2516 tensor(0.4490)\n",
      "0.2516 tensor(0.4396)\n",
      "0.2516 tensor(0.4281)\n",
      "0.2516 tensor(0.4457)\n",
      "0.2516 tensor(0.4919)\n",
      "0.2516 tensor(0.3291)\n",
      "0.2516 tensor(0.4104)\n",
      "0.2516 tensor(0.3312)\n",
      "0.2516 tensor(0.4535)\n",
      "0.2516 tensor(0.3872)\n",
      "0.2516 tensor(0.4030)\n",
      "0.2516 tensor(0.1458)\n",
      "0.2516 tensor(0.3568)\n",
      "0.2516 tensor(0.3630)\n",
      "0.2516 tensor(0.2550)\n",
      "0.2516 tensor(0.3974)\n",
      "0.2516 tensor(0.4021)\n",
      "0.2516 tensor(0.4215)\n",
      "0.2516 tensor(0.3862)\n",
      "0.2516 tensor(0.4938)\n",
      "0.2516 tensor(0.4437)\n",
      "0.2516 tensor(0.4449)\n",
      "0.2516 tensor(0.1866)\n",
      "0.2516 tensor(0.1445)\n",
      "0.2516 tensor(0.3381)\n",
      "0.2516 tensor(0.1874)\n",
      "0.2516 tensor(0.4162)\n",
      "0.2516 tensor(0.5017)\n",
      "0.2516 tensor(0.4189)\n",
      "0.2516 tensor(0.4515)\n",
      "0.2516 tensor(0.4420)\n",
      "0.2516 tensor(0.3574)\n",
      "0.2516 tensor(0.1668)\n",
      "0.2516 tensor(0.4196)\n",
      "0.2516 tensor(0.3343)\n",
      "0.2516 tensor(0.4397)\n",
      "0.2516 tensor(0.3549)\n",
      "0.2516 tensor(0.0980)\n",
      "0.2516 tensor(0.3293)\n",
      "0.2516 tensor(0.4462)\n",
      "0.2516 tensor(0.5248)\n",
      "0.2516 tensor(0.4657)\n",
      "0.2516 tensor(0.5173)\n",
      "0.2516 tensor(0.1697)\n",
      "0.2516 tensor(0.4680)\n",
      "0.2516 tensor(0.1735)\n",
      "0.2516 tensor(0.3935)\n",
      "0.2516 tensor(0.4506)\n",
      "0.2516 tensor(0.4042)\n",
      "0.2516 tensor(0.3171)\n",
      "0.2516 tensor(0.2763)\n",
      "0.2516 tensor(0.4028)\n",
      "0.2516 tensor(0.5160)\n",
      "0.2516 tensor(0.4202)\n",
      "0.2516 tensor(0.4473)\n",
      "0.2516 tensor(0.4503)\n",
      "0.2516 tensor(0.4234)\n",
      "0.2516 tensor(0.3635)\n",
      "0.2516 tensor(0.4068)\n",
      "0.2516 tensor(0.3500)\n",
      "0.2516 tensor(0.1779)\n",
      "0.2516 tensor(0.4465)\n",
      "0.2516 tensor(0.3246)\n",
      "0.2516 tensor(0.1852)\n",
      "0.2516 tensor(0.2889)\n",
      "0.2516 tensor(0.3679)\n",
      "0.2516 tensor(0.4022)\n",
      "0.2516 tensor(0.3814)\n",
      "0.2516 tensor(0.3665)\n",
      "0.2516 tensor(0.3054)\n",
      "0.2516 tensor(0.4400)\n",
      "0.2516 tensor(0.4356)\n",
      "0.2516 tensor(0.3908)\n",
      "0.2516 tensor(0.4053)\n",
      "0.2516 tensor(0.1209)\n",
      "0.2516 tensor(0.1726)\n",
      "0.2516 tensor(0.4535)\n",
      "0.2516 tensor(0.4404)\n",
      "0.2516 tensor(0.4128)\n",
      "0.2516 tensor(0.3612)\n",
      "tensor(0.0236, grad_fn=<DivBackward0>)\n"
     ]
    }
   ],
   "source": [
    "loss_dev = 0\n",
    "for i in range(training_range,training_range+test_range):\n",
    "    #Prediction\n",
    "    preds = model(S_matrices[i], x)\n",
    "    labels = res_index[i]\n",
    "    print(np.round(preds.item(), 4), labels)\n",
    "    #Calculate the loss\n",
    "    loss_dev += F.mse_loss(preds, labels.reshape(1))\n",
    "\n",
    "print(loss_dev/test_range)"
   ]
  },
  {
   "cell_type": "code",
   "execution_count": 150,
   "metadata": {},
   "outputs": [
    {
     "data": {
      "text/plain": [
       "tensor(0.3551)"
      ]
     },
     "execution_count": 150,
     "metadata": {},
     "output_type": "execute_result"
    }
   ],
   "source": [
    "torch.sum(res_index)/5000"
   ]
  }
 ],
 "metadata": {
  "kernelspec": {
   "display_name": "Python 3",
   "language": "python",
   "name": "python3"
  },
  "language_info": {
   "codemirror_mode": {
    "name": "ipython",
    "version": 3
   },
   "file_extension": ".py",
   "mimetype": "text/x-python",
   "name": "python",
   "nbconvert_exporter": "python",
   "pygments_lexer": "ipython3",
   "version": "3.8.5"
  }
 },
 "nbformat": 4,
 "nbformat_minor": 4
}
