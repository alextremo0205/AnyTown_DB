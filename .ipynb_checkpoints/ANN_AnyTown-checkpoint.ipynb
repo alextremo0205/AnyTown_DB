{
 "cells": [
  {
   "cell_type": "markdown",
   "metadata": {},
   "source": [
    "# Implementing a ANN\n",
    "*with Scikit-learn"
   ]
  },
  {
   "cell_type": "code",
   "execution_count": 1,
   "metadata": {},
   "outputs": [],
   "source": [
    "import wntr\n",
    "import pandas as pd\n",
    "import numpy as np\n",
    "import pickle\n",
    "import networkx as nx\n",
    "\n",
    "from sklearn.neural_network import MLPRegressor\n",
    "from sklearn.model_selection import train_test_split\n",
    "\n",
    "from sklearn.model_selection import GridSearchCV"
   ]
  },
  {
   "cell_type": "code",
   "execution_count": 2,
   "metadata": {},
   "outputs": [
    {
     "data": {
      "text/plain": [
       "(<matplotlib.collections.PathCollection at 0x225c1bb2eb0>,\n",
       " <matplotlib.collections.LineCollection at 0x225c1bb2430>)"
      ]
     },
     "execution_count": 2,
     "metadata": {},
     "output_type": "execute_result"
    },
    {
     "data": {
      "image/png": "[encoded data removed]",
      "text/plain": [
       "<Figure size 432x288 with 1 Axes>"
      ]
     },
     "metadata": {},
     "output_type": "display_data"
    }
   ],
   "source": [
    "# Create a water network model\n",
    "inp_file = 'Working files/Mod_AnyT_0.inp'\n",
    "wn_current_WDS = wntr.network.WaterNetworkModel(inp_file)\n",
    "\n",
    "# Graph the network\n",
    "wntr.graphics.plot_network(wn_current_WDS, title=wn_current_WDS.name)"
   ]
  },
  {
   "cell_type": "code",
   "execution_count": 3,
   "metadata": {},
   "outputs": [],
   "source": [
    "x_diameters = []\n",
    "y_res_index = []"
   ]
  },
  {
   "cell_type": "code",
   "execution_count": 4,
   "metadata": {},
   "outputs": [],
   "source": [
    "database = pickle.load( open( \"Mod_AnyT_DB.p\", \"rb\" ) )"
   ]
  },
  {
   "cell_type": "code",
   "execution_count": 5,
   "metadata": {},
   "outputs": [],
   "source": [
    "for i in range(len(database)):\n",
    "    x_diameters.append(database.loc[i]['Diams'])\n",
    "    y_res_index.append(database.loc[i]['avgPrPa'])"
   ]
  },
  {
   "cell_type": "code",
   "execution_count": 6,
   "metadata": {},
   "outputs": [
    {
     "name": "stdout",
     "output_type": "stream",
     "text": [
      "3750 1250\n"
     ]
    }
   ],
   "source": [
    "X_train, X_test, y_train, y_test = train_test_split(x_diameters, y_res_index, random_state=1)\n",
    "print(len(X_train), len(y_test))"
   ]
  },
  {
   "cell_type": "code",
   "execution_count": 7,
   "metadata": {},
   "outputs": [],
   "source": [
    "regr = MLPRegressor(hidden_layer_sizes=(10, 5, 3), \n",
    "                    activation='relu', \n",
    "                    solver='adam', \n",
    "                    alpha=0.0001, \n",
    "                    batch_size='auto', \n",
    "                    learning_rate='constant', \n",
    "                    learning_rate_init=0.001, \n",
    "                    power_t=0.5, \n",
    "                    max_iter=200, \n",
    "                    shuffle=True, \n",
    "                    random_state=None, \n",
    "                    tol=0.0001, \n",
    "                    verbose=True, \n",
    "                    warm_start=False, \n",
    "                    momentum=0.9, \n",
    "                    nesterovs_momentum=True, \n",
    "                    early_stopping=True, \n",
    "                    validation_fraction=0.1, \n",
    "                    beta_1=0.9, \n",
    "                    beta_2=0.999, \n",
    "                    epsilon=1e-08)"
   ]
  },
  {
   "cell_type": "code",
   "execution_count": 8,
   "metadata": {},
   "outputs": [],
   "source": [
    "parameter_space = {\n",
    "    'hidden_layer_sizes': [(50,50,50), (50,100,50), (100,)],\n",
    "    'activation': ['tanh', 'relu'],\n",
    "    'solver': ['sgd', 'adam'],\n",
    "    'alpha': [0.0001, 0.05],\n",
    "    'learning_rate': ['constant','adaptive'],\n",
    "}"
   ]
  },
  {
   "cell_type": "code",
   "execution_count": 10,
   "metadata": {},
   "outputs": [],
   "source": [
    "clf = pickle.load(open('Mod_AnyT_DB.p', 'rb'))"
   ]
  },
  {
   "cell_type": "code",
   "execution_count": 21,
   "metadata": {
    "scrolled": true
   },
   "outputs": [
    {
     "name": "stdout",
     "output_type": "stream",
     "text": [
      "Fitting 3 folds for each of 48 candidates, totalling 144 fits\n"
     ]
    },
    {
     "name": "stderr",
     "output_type": "stream",
     "text": [
      "[Parallel(n_jobs=-1)]: Using backend LokyBackend with 8 concurrent workers.\n",
      "[Parallel(n_jobs=-1)]: Done  34 tasks      | elapsed:   14.2s\n",
      "[Parallel(n_jobs=-1)]: Done 144 out of 144 | elapsed:  1.5min finished\n"
     ]
    },
    {
     "name": "stdout",
     "output_type": "stream",
     "text": [
      "Iteration 1, loss = 0.04842882\n",
      "Iteration 2, loss = 0.02728241\n",
      "Iteration 3, loss = 0.02522089\n",
      "Iteration 4, loss = 0.02429504\n",
      "Iteration 5, loss = 0.02391397\n",
      "Iteration 6, loss = 0.02354597\n",
      "Iteration 7, loss = 0.02294652\n",
      "Iteration 8, loss = 0.02240601\n",
      "Iteration 9, loss = 0.02198679\n",
      "Iteration 10, loss = 0.02144113\n",
      "Iteration 11, loss = 0.02078386\n",
      "Iteration 12, loss = 0.02018492\n",
      "Iteration 13, loss = 0.01964151\n",
      "Iteration 14, loss = 0.01900538\n",
      "Iteration 15, loss = 0.01846701\n",
      "Iteration 16, loss = 0.01789626\n",
      "Iteration 17, loss = 0.01759618\n",
      "Iteration 18, loss = 0.01718698\n",
      "Iteration 19, loss = 0.01718096\n",
      "Iteration 20, loss = 0.01682096\n",
      "Iteration 21, loss = 0.01672313\n",
      "Iteration 22, loss = 0.01624690\n",
      "Iteration 23, loss = 0.01593648\n",
      "Iteration 24, loss = 0.01572467\n",
      "Iteration 25, loss = 0.01571169\n",
      "Iteration 26, loss = 0.01550132\n",
      "Iteration 27, loss = 0.01522642\n",
      "Iteration 28, loss = 0.01494849\n",
      "Iteration 29, loss = 0.01498723\n",
      "Iteration 30, loss = 0.01467157\n",
      "Iteration 31, loss = 0.01496123\n",
      "Iteration 32, loss = 0.01453663\n",
      "Iteration 33, loss = 0.01422714\n",
      "Iteration 34, loss = 0.01410714\n",
      "Iteration 35, loss = 0.01417631\n",
      "Iteration 36, loss = 0.01404759\n",
      "Iteration 37, loss = 0.01367491\n",
      "Iteration 38, loss = 0.01350708\n",
      "Iteration 39, loss = 0.01338296\n",
      "Iteration 40, loss = 0.01328699\n",
      "Iteration 41, loss = 0.01309046\n",
      "Iteration 42, loss = 0.01297311\n",
      "Iteration 43, loss = 0.01294091\n",
      "Iteration 44, loss = 0.01293260\n",
      "Iteration 45, loss = 0.01273590\n",
      "Iteration 46, loss = 0.01282697\n",
      "Iteration 47, loss = 0.01251281\n",
      "Iteration 48, loss = 0.01228570\n",
      "Iteration 49, loss = 0.01232214\n",
      "Iteration 50, loss = 0.01207089\n",
      "Iteration 51, loss = 0.01203478\n",
      "Iteration 52, loss = 0.01199496\n",
      "Iteration 53, loss = 0.01171994\n",
      "Iteration 54, loss = 0.01197368\n",
      "Iteration 55, loss = 0.01157362\n",
      "Iteration 56, loss = 0.01147364\n",
      "Iteration 57, loss = 0.01138386\n",
      "Iteration 58, loss = 0.01121269\n",
      "Iteration 59, loss = 0.01113004\n",
      "Iteration 60, loss = 0.01106847\n",
      "Iteration 61, loss = 0.01108154\n",
      "Iteration 62, loss = 0.01089013\n",
      "Iteration 63, loss = 0.01091322\n",
      "Iteration 64, loss = 0.01061785\n",
      "Iteration 65, loss = 0.01082220\n",
      "Iteration 66, loss = 0.01084723\n",
      "Iteration 67, loss = 0.01041145\n",
      "Iteration 68, loss = 0.01027161\n",
      "Iteration 69, loss = 0.01017023\n",
      "Iteration 70, loss = 0.01026280\n",
      "Iteration 71, loss = 0.01059875\n",
      "Iteration 72, loss = 0.01018111\n",
      "Iteration 73, loss = 0.00997014\n",
      "Iteration 74, loss = 0.00977476\n",
      "Iteration 75, loss = 0.00979741\n",
      "Iteration 76, loss = 0.01006443\n",
      "Iteration 77, loss = 0.00972799\n",
      "Iteration 78, loss = 0.00944357\n",
      "Iteration 79, loss = 0.00958729\n",
      "Iteration 80, loss = 0.00970100\n",
      "Iteration 81, loss = 0.00941650\n",
      "Iteration 82, loss = 0.00913890\n",
      "Iteration 83, loss = 0.00904939\n",
      "Iteration 84, loss = 0.00895540\n",
      "Iteration 85, loss = 0.00901971\n",
      "Iteration 86, loss = 0.00881163\n",
      "Iteration 87, loss = 0.00879513\n",
      "Iteration 88, loss = 0.00898960\n",
      "Iteration 89, loss = 0.00883223\n",
      "Iteration 90, loss = 0.00858973\n",
      "Iteration 91, loss = 0.00851310\n",
      "Iteration 92, loss = 0.00852107\n",
      "Iteration 93, loss = 0.00844823\n",
      "Iteration 94, loss = 0.00828742\n",
      "Iteration 95, loss = 0.00835961\n",
      "Iteration 96, loss = 0.00828875\n",
      "Iteration 97, loss = 0.00812056\n",
      "Iteration 98, loss = 0.00841037\n",
      "Iteration 99, loss = 0.00806622\n",
      "Iteration 100, loss = 0.00816628\n",
      "Iteration 101, loss = 0.00789650\n",
      "Iteration 102, loss = 0.00778685\n",
      "Iteration 103, loss = 0.00771809\n",
      "Iteration 104, loss = 0.00774347\n",
      "Iteration 105, loss = 0.00756306\n",
      "Iteration 106, loss = 0.00762500\n",
      "Iteration 107, loss = 0.00748452\n",
      "Iteration 108, loss = 0.00753308\n",
      "Iteration 109, loss = 0.00770607\n",
      "Iteration 110, loss = 0.00754096\n",
      "Iteration 111, loss = 0.00729618\n",
      "Iteration 112, loss = 0.00721129\n",
      "Iteration 113, loss = 0.00728070\n",
      "Iteration 114, loss = 0.00735345\n",
      "Iteration 115, loss = 0.00708898\n",
      "Iteration 116, loss = 0.00697333\n",
      "Iteration 117, loss = 0.00699087\n",
      "Iteration 118, loss = 0.00709046\n",
      "Iteration 119, loss = 0.00705796\n",
      "Iteration 120, loss = 0.00688391\n",
      "Iteration 121, loss = 0.00683920\n",
      "Iteration 122, loss = 0.00677453\n",
      "Iteration 123, loss = 0.00672576\n",
      "Iteration 124, loss = 0.00658207\n",
      "Iteration 125, loss = 0.00664626\n",
      "Iteration 126, loss = 0.00657512\n",
      "Iteration 127, loss = 0.00645117\n",
      "Iteration 128, loss = 0.00639619\n",
      "Iteration 129, loss = 0.00637307\n",
      "Iteration 130, loss = 0.00635606\n",
      "Iteration 131, loss = 0.00635457\n",
      "Iteration 132, loss = 0.00620995\n",
      "Iteration 133, loss = 0.00636084\n",
      "Iteration 134, loss = 0.00614325\n",
      "Iteration 135, loss = 0.00618289\n",
      "Iteration 136, loss = 0.00601121\n",
      "Iteration 137, loss = 0.00621416\n",
      "Iteration 138, loss = 0.00600474\n",
      "Iteration 139, loss = 0.00593263\n",
      "Iteration 140, loss = 0.00589399\n",
      "Iteration 141, loss = 0.00575583\n",
      "Iteration 142, loss = 0.00583183\n",
      "Iteration 143, loss = 0.00564688\n",
      "Iteration 144, loss = 0.00563584\n",
      "Iteration 145, loss = 0.00580453\n",
      "Iteration 146, loss = 0.00562105\n",
      "Iteration 147, loss = 0.00557253\n",
      "Iteration 148, loss = 0.00559994\n",
      "Iteration 149, loss = 0.00565116\n",
      "Iteration 150, loss = 0.00545950\n",
      "Iteration 151, loss = 0.00531515\n",
      "Iteration 152, loss = 0.00534555\n",
      "Iteration 153, loss = 0.00526169\n",
      "Iteration 154, loss = 0.00521843\n",
      "Iteration 155, loss = 0.00523020\n",
      "Iteration 156, loss = 0.00511388\n",
      "Iteration 157, loss = 0.00517586\n",
      "Iteration 158, loss = 0.00519043\n",
      "Iteration 159, loss = 0.00544511\n",
      "Iteration 160, loss = 0.00530991\n",
      "Iteration 161, loss = 0.00535531\n",
      "Iteration 162, loss = 0.00516509\n",
      "Iteration 163, loss = 0.00498010\n",
      "Iteration 164, loss = 0.00511561\n",
      "Iteration 165, loss = 0.00487752\n",
      "Iteration 166, loss = 0.00481134\n",
      "Iteration 167, loss = 0.00489545\n",
      "Iteration 168, loss = 0.00489860\n",
      "Iteration 169, loss = 0.00467061\n",
      "Iteration 170, loss = 0.00471359\n",
      "Iteration 171, loss = 0.00458794\n",
      "Iteration 172, loss = 0.00455630\n",
      "Iteration 173, loss = 0.00464680\n",
      "Iteration 174, loss = 0.00465860\n",
      "Iteration 175, loss = 0.00460544\n",
      "Iteration 176, loss = 0.00449775\n",
      "Iteration 177, loss = 0.00442268\n",
      "Iteration 178, loss = 0.00444178\n",
      "Iteration 179, loss = 0.00436678\n",
      "Iteration 180, loss = 0.00428104\n",
      "Training loss did not improve more than tol=0.000100 for 10 consecutive epochs. Stopping.\n"
     ]
    },
    {
     "data": {
      "text/plain": [
       "GridSearchCV(cv=3,\n",
       "             estimator=MLPRegressor(hidden_layer_sizes=(10, 5, 3),\n",
       "                                    verbose=True),\n",
       "             n_jobs=-1,\n",
       "             param_grid={'activation': ['tanh', 'relu'],\n",
       "                         'alpha': [0.0001, 0.05],\n",
       "                         'hidden_layer_sizes': [(50, 50, 50), (50, 100, 50),\n",
       "                                                (100,)],\n",
       "                         'learning_rate': ['constant', 'adaptive'],\n",
       "                         'solver': ['sgd', 'adam']},\n",
       "             verbose=True)"
      ]
     },
     "execution_count": 21,
     "metadata": {},
     "output_type": "execute_result"
    }
   ],
   "source": [
    "clf = GridSearchCV(regr, parameter_space, n_jobs=-1, cv=3, verbose= True)\n",
    "clf.fit(X_train, y_train)"
   ]
  },
  {
   "cell_type": "code",
   "execution_count": 11,
   "metadata": {},
   "outputs": [
    {
     "ename": "AttributeError",
     "evalue": "'DataFrame' object has no attribute 'best_params_'",
     "output_type": "error",
     "traceback": [
      "\u001b[1;31m---------------------------------------------------------------------------\u001b[0m",
      "\u001b[1;31mAttributeError\u001b[0m                            Traceback (most recent call last)",
      "\u001b[1;32m<ipython-input-11-8580a5f514d4>\u001b[0m in \u001b[0;36m<module>\u001b[1;34m\u001b[0m\n\u001b[0;32m      1\u001b[0m \u001b[1;31m# Best parameter set\u001b[0m\u001b[1;33m\u001b[0m\u001b[1;33m\u001b[0m\u001b[1;33m\u001b[0m\u001b[0m\n\u001b[1;32m----> 2\u001b[1;33m \u001b[0mprint\u001b[0m\u001b[1;33m(\u001b[0m\u001b[1;34m'Best parameters found:\\n'\u001b[0m\u001b[1;33m,\u001b[0m \u001b[0mclf\u001b[0m\u001b[1;33m.\u001b[0m\u001b[0mbest_params_\u001b[0m\u001b[1;33m)\u001b[0m\u001b[1;33m\u001b[0m\u001b[1;33m\u001b[0m\u001b[0m\n\u001b[0m\u001b[0;32m      3\u001b[0m \u001b[1;33m\u001b[0m\u001b[0m\n\u001b[0;32m      4\u001b[0m \u001b[1;31m# # All results\u001b[0m\u001b[1;33m\u001b[0m\u001b[1;33m\u001b[0m\u001b[1;33m\u001b[0m\u001b[0m\n\u001b[0;32m      5\u001b[0m \u001b[1;31m# means = clf.cv_results_['mean_test_score']\u001b[0m\u001b[1;33m\u001b[0m\u001b[1;33m\u001b[0m\u001b[1;33m\u001b[0m\u001b[0m\n",
      "\u001b[1;32mC:\\Programs\\Anaconda3\\envs\\PyTorch_Env\\lib\\site-packages\\pandas\\core\\generic.py\u001b[0m in \u001b[0;36m__getattr__\u001b[1;34m(self, name)\u001b[0m\n\u001b[0;32m   5137\u001b[0m             \u001b[1;32mif\u001b[0m \u001b[0mself\u001b[0m\u001b[1;33m.\u001b[0m\u001b[0m_info_axis\u001b[0m\u001b[1;33m.\u001b[0m\u001b[0m_can_hold_identifiers_and_holds_name\u001b[0m\u001b[1;33m(\u001b[0m\u001b[0mname\u001b[0m\u001b[1;33m)\u001b[0m\u001b[1;33m:\u001b[0m\u001b[1;33m\u001b[0m\u001b[1;33m\u001b[0m\u001b[0m\n\u001b[0;32m   5138\u001b[0m                 \u001b[1;32mreturn\u001b[0m \u001b[0mself\u001b[0m\u001b[1;33m[\u001b[0m\u001b[0mname\u001b[0m\u001b[1;33m]\u001b[0m\u001b[1;33m\u001b[0m\u001b[1;33m\u001b[0m\u001b[0m\n\u001b[1;32m-> 5139\u001b[1;33m             \u001b[1;32mreturn\u001b[0m \u001b[0mobject\u001b[0m\u001b[1;33m.\u001b[0m\u001b[0m__getattribute__\u001b[0m\u001b[1;33m(\u001b[0m\u001b[0mself\u001b[0m\u001b[1;33m,\u001b[0m \u001b[0mname\u001b[0m\u001b[1;33m)\u001b[0m\u001b[1;33m\u001b[0m\u001b[1;33m\u001b[0m\u001b[0m\n\u001b[0m\u001b[0;32m   5140\u001b[0m \u001b[1;33m\u001b[0m\u001b[0m\n\u001b[0;32m   5141\u001b[0m     \u001b[1;32mdef\u001b[0m \u001b[0m__setattr__\u001b[0m\u001b[1;33m(\u001b[0m\u001b[0mself\u001b[0m\u001b[1;33m,\u001b[0m \u001b[0mname\u001b[0m\u001b[1;33m:\u001b[0m \u001b[0mstr\u001b[0m\u001b[1;33m,\u001b[0m \u001b[0mvalue\u001b[0m\u001b[1;33m)\u001b[0m \u001b[1;33m->\u001b[0m \u001b[1;32mNone\u001b[0m\u001b[1;33m:\u001b[0m\u001b[1;33m\u001b[0m\u001b[1;33m\u001b[0m\u001b[0m\n",
      "\u001b[1;31mAttributeError\u001b[0m: 'DataFrame' object has no attribute 'best_params_'"
     ]
    }
   ],
   "source": [
    "# Best parameter set\n",
    "print('Best parameters found:\\n', clf.best_params_)\n",
    "\n",
    "# # All results\n",
    "# means = clf.cv_results_['mean_test_score']\n",
    "# stds = clf.cv_results_['std_test_score']\n",
    "# for mean, std, params in zip(means, stds, clf.cv_results_['params']):\n",
    "#     print(\"%0.3f (+/-%0.03f) for %r\" % (mean, std * 2, params))"
   ]
  },
  {
   "cell_type": "code",
   "execution_count": 36,
   "metadata": {
    "scrolled": true
   },
   "outputs": [],
   "source": [
    "# regr.fit(X_train, y_train)\n",
    "# regr.predict(X_test[:2])"
   ]
  },
  {
   "cell_type": "code",
   "execution_count": 23,
   "metadata": {},
   "outputs": [
    {
     "data": {
      "text/plain": [
       "0.9611920827317872"
      ]
     },
     "execution_count": 23,
     "metadata": {},
     "output_type": "execute_result"
    }
   ],
   "source": [
    "clf.score(X_train, y_train)"
   ]
  },
  {
   "cell_type": "code",
   "execution_count": 24,
   "metadata": {},
   "outputs": [
    {
     "data": {
      "text/plain": [
       "0.939052792014902"
      ]
     },
     "execution_count": 24,
     "metadata": {},
     "output_type": "execute_result"
    }
   ],
   "source": [
    "clf.score(X_test, y_test)"
   ]
  },
  {
   "cell_type": "code",
   "execution_count": 34,
   "metadata": {},
   "outputs": [
    {
     "data": {
      "text/plain": [
       "array([ 0.423,  0.411,  0.058,  0.287,  0.375,  0.353,  0.357,  0.419,  0.477, -0.114])"
      ]
     },
     "execution_count": 34,
     "metadata": {},
     "output_type": "execute_result"
    }
   ],
   "source": [
    "clf.predict(X_test[:10])"
   ]
  },
  {
   "cell_type": "code",
   "execution_count": 27,
   "metadata": {},
   "outputs": [
    {
     "data": {
      "text/plain": [
       "array([ 0.406,  0.409,  0.057,  0.345,  0.401,  0.34 ,  0.341,  0.422,  0.431, -0.16 ])"
      ]
     },
     "execution_count": 27,
     "metadata": {},
     "output_type": "execute_result"
    }
   ],
   "source": [
    "np.round(y_test[:10],3)"
   ]
  },
  {
   "cell_type": "code",
   "execution_count": 29,
   "metadata": {},
   "outputs": [
    {
     "data": {
      "text/plain": [
       "1250"
      ]
     },
     "execution_count": 29,
     "metadata": {},
     "output_type": "execute_result"
    }
   ],
   "source": [
    "len(y_test)"
   ]
  },
  {
   "cell_type": "code",
   "execution_count": 30,
   "metadata": {},
   "outputs": [],
   "source": [
    "import pickle"
   ]
  },
  {
   "cell_type": "code",
   "execution_count": 33,
   "metadata": {},
   "outputs": [],
   "source": [
    "pickle.dump(clf, open('ANN_model_GridSearch.p', 'wb'))"
   ]
  },
  {
   "cell_type": "code",
   "execution_count": 36,
   "metadata": {},
   "outputs": [],
   "source": [
    "x_real_values_train = y_train\n",
    "y_pred_values_train = clf.predict(X_train)\n",
    "\n",
    "x_real_values_test = y_test\n",
    "y_pred_values_test = clf.predict(X_test)"
   ]
  },
  {
   "cell_type": "code",
   "execution_count": 37,
   "metadata": {},
   "outputs": [],
   "source": [
    "import plotly.graph_objects as go"
   ]
  },
  {
   "cell_type": "code",
   "execution_count": 46,
   "metadata": {},
   "outputs": [
    {
     "data": {
      "application/vnd.jupyter.widget-view+json": {
       "model_id": "97b51987973b44e794fb5a01ba539c83",
       "version_major": 2,
       "version_minor": 0
      },
      "text/plain": [
       "FigureWidget({\n",
       "    'data': [{'line': {'dash': 'dash'},\n",
       "              'marker': {'size': 3},\n",
       "              'mod…"
      ]
     },
     "metadata": {},
     "output_type": "display_data"
    }
   ],
   "source": [
    "fig = go.FigureWidget(data=go.Scatter(x=x_real_values_train, y=y_pred_values_train,  line={'dash': 'dash'}, name = 'Train'))\n",
    "\n",
    "fig.add_trace(go.Scatter(x=x_real_values_test, y=y_pred_values_test,  line={'dash': 'dash'}, name='Test'))\n",
    "#fig.add_trace(go.Scatter(x=x_axis, y=first_DB_pd['minPrPa'],  line={'dash': 'dash'}, name='Min. Res.'))\n",
    "\n",
    "\n",
    "fig.update_traces(mode='markers',  marker_size=3)\n",
    "fig.update_layout(title='Pred. vs Actual - Prasad & Park Resilience Index',\n",
    "                    xaxis_title=\"Real Index\",\n",
    "                    yaxis_title=\"Pred. Index\",\n",
    "                    legend_title=\"Legend\",\n",
    "                    autosize=False,\n",
    "                    width=800,\n",
    "                    height=500,\n",
    "                    font=dict(\n",
    "                        #family=\"Courier New, monospace\",\n",
    "                        size=18,\n",
    "    ))\n",
    "#yaxis_zeroline=False, xaxis_zeroline=False)\n",
    "fig.update_layout(shapes=[\n",
    "dict(\n",
    "  type= 'line',\n",
    "  yref= 'y', y0= -0.20, y1= 1,   # adding a horizontal line at Y = 1\n",
    "  xref= 'x', x0= -0.20, x1= 1\n",
    "     ) \n",
    "])\n",
    "\n",
    "fig.update_xaxes(range=[-0.3, 1])\n",
    "fig.update_yaxes(range=[-0.3, 1])\n",
    "\n",
    "fig"
   ]
  }
 ],
 "metadata": {
  "kernelspec": {
   "display_name": "Python 3",
   "language": "python",
   "name": "python3"
  },
  "language_info": {
   "codemirror_mode": {
    "name": "ipython",
    "version": 3
   },
   "file_extension": ".py",
   "mimetype": "text/x-python",
   "name": "python",
   "nbconvert_exporter": "python",
   "pygments_lexer": "ipython3",
   "version": "3.8.5"
  }
 },
 "nbformat": 4,
 "nbformat_minor": 4
}
