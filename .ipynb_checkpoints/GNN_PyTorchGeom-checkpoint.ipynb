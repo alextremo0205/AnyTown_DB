{
 "cells": [
  {
   "cell_type": "markdown",
   "metadata": {},
   "source": [
    "# GNN with PyTorch Geometric"
   ]
  },
  {
   "cell_type": "markdown",
   "metadata": {},
   "source": [
    "### imports"
   ]
  },
  {
   "cell_type": "code",
   "execution_count": null,
   "metadata": {},
   "outputs": [],
   "source": [
    "import wntr\n",
    "import pandas as pd\n",
    "import numpy as np\n",
    "import networkx as nx\n",
    "import pickle\n",
    "\n",
    "#message passing\n",
    "from torch_geometric.nn import MessagePassing, EdgeConv\n",
    "from torch_geometric.nn import GCNConv\n",
    "\n",
    "from torch_geometric.data import Data, DataLoader\n",
    "\n",
    "from torch_geometric.utils import convert #, add_self_loops, degree,\n",
    "\n",
    "#from torch_geometric.typing import OptPairTensor\n",
    "\n",
    "\n",
    "import torch\n",
    "import torch.nn.functional as F\n",
    "#from torch.nn import Sequential, Linear, ReLU\n",
    "import torch.nn as nn\n",
    "\n",
    "from sklearn.preprocessing import MinMaxScaler"
   ]
  },
  {
   "cell_type": "code",
   "execution_count": null,
   "metadata": {},
   "outputs": [],
   "source": [
    "# Utility Scaler\n",
    "def scale(list_of_values, minT=None, maxT=None):\n",
    "    list_of_values = np.array(list_of_values)\n",
    "    if maxT is None:\n",
    "        maxT = max(list_of_values)\n",
    "    if minT is None:\n",
    "        minT = min(list_of_values)\n",
    "        \n",
    "    scaledList = (list_of_values - minT)/(maxT - minT)\n",
    "    return(scaledList)\n",
    "\n",
    "def rescale(scaledList, minT, maxT):\n",
    "    return(scaledList)*(maxT - minT) + minT"
   ]
  },
  {
   "cell_type": "code",
   "execution_count": null,
   "metadata": {},
   "outputs": [],
   "source": [
    "# Create a water network model\n",
    "inp_file = 'networks/Mod_AnyTown.inp'\n",
    "wn_WDS = wntr.network.WaterNetworkModel(inp_file)\n",
    "\n",
    "# Graph the network\n",
    "wntr.graphics.plot_network(wn_WDS, title=wn_WDS.name)\n",
    "\n",
    "# Simulate hydraulics\n",
    "# sim_WDS = wntr.sim.EpanetSimulator(wn_WDS)\n",
    "# results_WDS = sim_WDS.run_sim()"
   ]
  },
  {
   "cell_type": "code",
   "execution_count": null,
   "metadata": {},
   "outputs": [],
   "source": [
    "# Import database: contains information for all the simulations run\n",
    "database = pickle.load( open( \"Mod_AnyT_DB.p\", \"rb\" ))"
   ]
  },
  {
   "cell_type": "code",
   "execution_count": null,
   "metadata": {},
   "outputs": [],
   "source": [
    "database.columns"
   ]
  },
  {
   "cell_type": "code",
   "execution_count": null,
   "metadata": {},
   "outputs": [],
   "source": [
    "#AnyTown_diams = [6, 8, 10, 12, 14]"
   ]
  },
  {
   "cell_type": "code",
   "execution_count": null,
   "metadata": {},
   "outputs": [],
   "source": [
    "graphs = []\n",
    "res_index = []\n",
    "for i in range(len(database)):\n",
    "    diams_n = dict(zip(wn_WDS.link_name_list, list(scale(database.loc[i]['Diams'], minT=0, maxT=20)))) #diam\n",
    "    G_WDS = wn_WDS.get_graph(link_weight=diams_n) # directed multigraph\n",
    "    #A_WDS = nx.adjacency_matrix(G_WDS)\n",
    "    uG_WDS = G_WDS.to_undirected()\n",
    "    #A_WDS = nx.normalized_laplacian_matrix(uG_WDS)\n",
    "    #A_WDS -=  identity(21)\n",
    "    sG_WDS = nx.Graph(uG_WDS)\n",
    "    pg_sG_WDS = convert.from_networkx(sG_WDS)\n",
    "    \n",
    "    graphs.append(pg_sG_WDS)\n",
    "    graphs[i].y = database.loc[i]['avgPrPa']\n",
    "    graphs[i].x = torch.ones(21,1)\n",
    "    graphs[i].weight=graphs[i].weight.reshape(graphs[i].weight.shape[0],1)"
   ]
  },
  {
   "cell_type": "code",
   "execution_count": null,
   "metadata": {
    "scrolled": true
   },
   "outputs": [],
   "source": [
    "graphs[3].weight.t(), graphs[3].edge_index"
   ]
  },
  {
   "cell_type": "markdown",
   "metadata": {},
   "source": [
    "#### **Message Passing Layer**"
   ]
  },
  {
   "cell_type": "markdown",
   "metadata": {},
   "source": [
    "**MessagePassing(aggr=\"add\", flow=\"source_to_target\", node_dim=-2):** \\\n",
    "Defines the aggregation scheme to use (\"add\", \"mean\" or \"max\") and the flow direction of message passing (either \"source_to_target\" or \"target_to_source\"). Furthermore, the node_dim attribute indicates along which axis to propagate."
   ]
  },
  {
   "cell_type": "markdown",
   "metadata": {},
   "source": [
    "<img src=\"equation_Message_Passing.png\" width=\"800\">\n",
    "\n",
    "Source: [PyTorch Geometric](https://pytorch-geometric.readthedocs.io/en/latest/notes/create_gnn.html)"
   ]
  },
  {
   "cell_type": "markdown",
   "metadata": {},
   "source": [
    "#### Layer definition"
   ]
  },
  {
   "cell_type": "code",
   "execution_count": null,
   "metadata": {},
   "outputs": [],
   "source": [
    "class G_layer_Alex(MessagePassing):\n",
    "    def __init__(self, aggr = 'add'):\n",
    "        self.aggr = aggr #add, mean, max\n",
    "        super(G_layer_Alex, self).__init__(aggr=self.aggr)  #\"add\", \"mean\" or \"max\"\n",
    "    \n",
    "    def forward(self, x, edge_attr, edge_index):\n",
    "        #First step. This is the deepest part of the MP framework.\n",
    "        #Some preprocessing of the node or edge attributes may be \n",
    "        #made before the propagation\n",
    "        return self.propagate(edge_index, x=x, edge_attr=edge_attr)\n",
    "          \n",
    "    def update(self, messages, x):\n",
    "        #This is the UPDATE function, it receives the message from \n",
    "        #the nodes and the own information. \n",
    "        # Naming of the parameters impacts the function!! \n",
    "        ###   x_i != x\n",
    "        # x_i has dimension (edges x 2) \n",
    "        # x   has dimension (nodes x node_features)\n",
    "        return messages+1000*x\n",
    "    \n",
    "    def message(self, x_i, edge_attr): # x_j,\n",
    "        #This is the Message function. \n",
    "        #It is useful to think about this one at a node level. Just one node i interacting with node j\n",
    "        #Notation of the parameters x_i: self information of the node, x_j: information of the neighbor\n",
    "        #edge_attr is the weight or value ei_j of the edge that connects the nodes i and j\n",
    "        msg= x_i + edge_attr\n",
    "        return msg\n",
    "    \n",
    "    def __repr__(self):\n",
    "        return '{}(aggr={})'.format(self.__class__.__name__, self.aggr)\n",
    "        "
   ]
  },
  {
   "cell_type": "markdown",
   "metadata": {},
   "source": [
    "#### Model definition"
   ]
  },
  {
   "cell_type": "code",
   "execution_count": null,
   "metadata": {},
   "outputs": [],
   "source": [
    "class Net(nn.Module):\n",
    "    def __init__(self):\n",
    "        super(Net, self).__init__()\n",
    "        self.conv1 = G_layer_Alex(aggr ='mean')\n",
    "\n",
    "    def forward(self, data):\n",
    "        x, edge_attr, edge_index = data.x, data.weight, data.edge_index\n",
    "        x = self.conv1(x, edge_attr, edge_index)\n",
    "        return x"
   ]
  },
  {
   "cell_type": "code",
   "execution_count": null,
   "metadata": {},
   "outputs": [],
   "source": [
    "device = torch.device('cuda' if torch.cuda.is_available() else 'cpu')\n",
    "model = Net().to(device)"
   ]
  },
  {
   "cell_type": "code",
   "execution_count": null,
   "metadata": {},
   "outputs": [],
   "source": [
    "model.conv1"
   ]
  },
  {
   "cell_type": "code",
   "execution_count": null,
   "metadata": {},
   "outputs": [],
   "source": [
    "a = model(graphs[14])"
   ]
  },
  {
   "cell_type": "code",
   "execution_count": null,
   "metadata": {},
   "outputs": [],
   "source": [
    "a.shape"
   ]
  },
  {
   "cell_type": "code",
   "execution_count": null,
   "metadata": {
    "scrolled": true
   },
   "outputs": [],
   "source": [
    "graphs[14].weight.t(), graphs[14].edge_index"
   ]
  },
  {
   "cell_type": "code",
   "execution_count": null,
   "metadata": {},
   "outputs": [],
   "source": [
    "a.t()"
   ]
  },
  {
   "cell_type": "code",
   "execution_count": null,
   "metadata": {},
   "outputs": [],
   "source": [
    "a.t()"
   ]
  },
  {
   "cell_type": "markdown",
   "metadata": {},
   "source": [
    "## Training"
   ]
  },
  {
   "cell_type": "code",
   "execution_count": null,
   "metadata": {},
   "outputs": [],
   "source": [
    "device = torch.device('cuda' if torch.cuda.is_available() else 'cpu')\n",
    "model = Net().to(device)\n",
    "data = dataset[0].to(device)\n",
    "optimizer = torch.optim.Adam(model.parameters(), lr=0.01, weight_decay=5e-4)\n",
    "\n",
    "model.train()\n",
    "for epoch in range(200):\n",
    "    optimizer.zero_grad()\n",
    "    out = model(data)\n",
    "    loss = F.mse_loss(out[data.train_mask], data.y[data.train_mask])\n",
    "    loss.backward()\n",
    "    optimizer.step()"
   ]
  }
 ],
 "metadata": {
  "kernelspec": {
   "display_name": "Python 3",
   "language": "python",
   "name": "python3"
  },
  "language_info": {
   "codemirror_mode": {
    "name": "ipython",
    "version": 3
   },
   "file_extension": ".py",
   "mimetype": "text/x-python",
   "name": "python",
   "nbconvert_exporter": "python",
   "pygments_lexer": "ipython3",
   "version": "3.8.5"
  }
 },
 "nbformat": 4,
 "nbformat_minor": 4
}
