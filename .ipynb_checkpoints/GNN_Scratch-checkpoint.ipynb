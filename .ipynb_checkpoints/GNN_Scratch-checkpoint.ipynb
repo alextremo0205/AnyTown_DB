{
 "cells": [
  {
   "cell_type": "markdown",
   "metadata": {},
   "source": [
    "# Implementing a GNN \n",
    "*without PyTorch Geometric"
   ]
  },
  {
   "cell_type": "code",
   "execution_count": 8,
   "metadata": {},
   "outputs": [],
   "source": [
    "import wntr\n",
    "import pandas as pd\n",
    "import numpy as np\n",
    "import pickle\n",
    "import networkx as nx\n",
    "\n",
    "import math\n",
    "\n",
    "import torch\n",
    "import torch.nn as nn\n",
    "import torch.optim as optim\n",
    "import torch.nn.functional as F"
   ]
  },
  {
   "cell_type": "code",
   "execution_count": 9,
   "metadata": {},
   "outputs": [
    {
     "data": {
      "text/plain": [
       "(<matplotlib.collections.PathCollection at 0x1a0967d6b20>,\n",
       " <matplotlib.collections.LineCollection at 0x1a0967fa820>)"
      ]
     },
     "execution_count": 9,
     "metadata": {},
     "output_type": "execute_result"
    },
    {
     "data": {
      "image/png": "[encoded data removed]",
      "text/plain": [
       "<Figure size 432x288 with 1 Axes>"
      ]
     },
     "metadata": {},
     "output_type": "display_data"
    }
   ],
   "source": [
    "# Create a water network model\n",
    "inp_file = 'Working files/Mod_AnyT_0.inp'\n",
    "wn_current_WDS = wntr.network.WaterNetworkModel(inp_file)\n",
    "\n",
    "# Graph the network\n",
    "wntr.graphics.plot_network(wn_current_WDS, title=wn_current_WDS.name)\n"
   ]
  },
  {
   "cell_type": "code",
   "execution_count": 10,
   "metadata": {},
   "outputs": [],
   "source": [
    "S_matrices = []\n",
    "res_index = []"
   ]
  },
  {
   "cell_type": "code",
   "execution_count": 11,
   "metadata": {},
   "outputs": [],
   "source": [
    "database = pickle.load( open( \"Mod_AnyT_DB.p\", \"rb\" ) )"
   ]
  },
  {
   "cell_type": "code",
   "execution_count": 12,
   "metadata": {},
   "outputs": [],
   "source": [
    "for i in range(len(database)):\n",
    "    diams = dict(zip(wn_current_WDS.link_name_list, list(database.loc[i]['Diams']))) #diam\n",
    "    G_WDS = wn_current_WDS.get_graph(link_weight=diams) # directed multigraph\n",
    "    #A_WDS = nx.adjacency_matrix(G_WDS)\n",
    "    uG_WDS = G_WDS.to_undirected()\n",
    "    A_WDS = nx.normalized_laplacian_matrix(uG_WDS)\n",
    "    S_matrices.append(A_WDS.todense())\n",
    "    \n",
    "    res_index.append(database.loc[i]['avgPrPa'])\n",
    "    "
   ]
  },
  {
   "cell_type": "code",
   "execution_count": 6,
   "metadata": {
    "scrolled": true
   },
   "outputs": [
    {
     "data": {
      "text/plain": [
       "matrix([[ 1.   , -0.331,  0.   ,  0.   ,  0.   ,  0.   , -0.294,  0.   ,  0.   ,  0.   ,  0.   , -0.187,  0.   ,  0.   ,  0.   ,  0.   ,  0.   ,  0.   ,  0.   ,  0.   ,  0.   ],\n",
       "        [-0.331,  1.   , -0.285, -0.246,  0.   , -0.193, -0.148,  0.   ,  0.   ,  0.   ,  0.   ,  0.   ,  0.   ,  0.   ,  0.   ,  0.   ,  0.   ,  0.   ,  0.   ,  0.   ,  0.   ],\n",
       "        [ 0.   , -0.285,  1.   , -0.336,  0.   ,  0.   ,  0.   ,  0.   ,  0.   ,  0.   ,  0.   ,  0.   ,  0.   ,  0.   ,  0.   ,  0.   ,  0.   ,  0.   ,  0.   ,  0.   ,  0.   ],\n",
       "        [ 0.   , -0.246, -0.336,  1.   , -0.186,  0.   ,  0.   ,  0.   , -0.211,  0.   ,  0.   ,  0.   ,  0.   ,  0.   ,  0.   , -0.226,  0.   ,  0.   ,  0.   ,  0.   ,  0.   ],\n",
       "        [ 0.   ,  0.   ,  0.   , -0.186,  1.   ,  0.   ,  0.   , -0.555,  0.   ,  0.   ,  0.   ,  0.   ,  0.   ,  0.   ,  0.   ,  0.   ,  0.   ,  0.   ,  0.   ,  0.   ,  0.   ],\n",
       "        [ 0.   , -0.193,  0.   ,  0.   ,  0.   ,  1.   , -0.2  ,  0.   , -0.27 , -0.16 ,  0.   ,  0.   ,  0.   ,  0.   ,  0.   ,  0.   ,  0.   ,  0.   ,  0.   , -0.354,  0.   ],\n",
       "        [-0.294, -0.148,  0.   ,  0.   ,  0.   , -0.2  ,  1.   ,  0.   ,  0.   , -0.269, -0.154,  0.   ,  0.   ,  0.   ,  0.   ,  0.   ,  0.   ,  0.   ,  0.   ,  0.   ,  0.   ],\n",
       "        [ 0.   ,  0.   ,  0.   ,  0.   , -0.555,  0.   ,  0.   ,  1.   ,  0.   ,  0.   ,  0.   ,  0.   , -0.351,  0.   ,  0.   , -0.145,  0.   ,  0.   ,  0.   ,  0.   ,  0.   ],\n",
       "        [ 0.   ,  0.   ,  0.   , -0.211,  0.   , -0.27 ,  0.   ,  0.   ,  1.   , -0.185,  0.   ,  0.   ,  0.   ,  0.   ,  0.   , -0.099, -0.282,  0.   ,  0.   ,  0.   ,  0.   ],\n",
       "        [ 0.   ,  0.   ,  0.   ,  0.   ,  0.   , -0.16 , -0.269,  0.   , -0.185,  1.   , -0.269,  0.   ,  0.   ,  0.   ,  0.   ,  0.   , -0.125,  0.   ,  0.   ,  0.   ,  0.   ],\n",
       "        [ 0.   ,  0.   ,  0.   ,  0.   ,  0.   ,  0.   , -0.154,  0.   ,  0.   , -0.269,  1.   , -0.294,  0.   ,  0.   ,  0.   ,  0.   , -0.167, -0.185,  0.   ,  0.   ,  0.   ],\n",
       "        [-0.187,  0.   ,  0.   ,  0.   ,  0.   ,  0.   ,  0.   ,  0.   ,  0.   ,  0.   , -0.294,  1.   ,  0.   , -0.226,  0.   ,  0.   ,  0.   , -0.189,  0.   ,  0.   ,  0.   ],\n",
       "        [ 0.   ,  0.   ,  0.   ,  0.   ,  0.   ,  0.   ,  0.   , -0.351,  0.   ,  0.   ,  0.   ,  0.   ,  1.   ,  0.   ,  0.   , -0.33 ,  0.   ,  0.   ,  0.   ,  0.   ,  0.   ],\n",
       "        [ 0.   ,  0.   ,  0.   ,  0.   ,  0.   ,  0.   ,  0.   ,  0.   ,  0.   ,  0.   ,  0.   , -0.226,  0.   ,  1.   , -0.348,  0.   ,  0.   , -0.228,  0.   ,  0.   ,  0.   ],\n",
       "        [ 0.   ,  0.   ,  0.   ,  0.   ,  0.   ,  0.   ,  0.   ,  0.   ,  0.   ,  0.   ,  0.   ,  0.   ,  0.   , -0.348,  1.   ,  0.   ,  0.   , -0.218, -0.365,  0.   ,  0.   ],\n",
       "        [ 0.   ,  0.   ,  0.   , -0.226,  0.   ,  0.   ,  0.   , -0.145, -0.099,  0.   ,  0.   ,  0.   , -0.33 ,  0.   ,  0.   ,  1.   , -0.186, -0.099, -0.33 ,  0.   ,  0.   ],\n",
       "        [ 0.   ,  0.   ,  0.   ,  0.   ,  0.   ,  0.   ,  0.   ,  0.   , -0.282, -0.125, -0.167,  0.   ,  0.   ,  0.   ,  0.   , -0.186,  1.   , -0.121,  0.   ,  0.   ,  0.   ],\n",
       "        [ 0.   ,  0.   ,  0.   ,  0.   ,  0.   ,  0.   ,  0.   ,  0.   ,  0.   ,  0.   , -0.185, -0.189,  0.   , -0.228, -0.218, -0.099, -0.121,  1.   ,  0.   ,  0.   , -0.423],\n",
       "        [ 0.   ,  0.   ,  0.   ,  0.   ,  0.   ,  0.   ,  0.   ,  0.   ,  0.   ,  0.   ,  0.   ,  0.   ,  0.   ,  0.   , -0.365, -0.33 ,  0.   ,  0.   ,  1.   ,  0.   ,  0.   ],\n",
       "        [ 0.   ,  0.   ,  0.   ,  0.   ,  0.   , -0.354,  0.   ,  0.   ,  0.   ,  0.   ,  0.   ,  0.   ,  0.   ,  0.   ,  0.   ,  0.   ,  0.   ,  0.   ,  0.   ,  1.   ,  0.   ],\n",
       "        [ 0.   ,  0.   ,  0.   ,  0.   ,  0.   ,  0.   ,  0.   ,  0.   ,  0.   ,  0.   ,  0.   ,  0.   ,  0.   ,  0.   ,  0.   ,  0.   ,  0.   , -0.423,  0.   ,  0.   ,  1.   ]])"
      ]
     },
     "execution_count": 6,
     "metadata": {},
     "output_type": "execute_result"
    }
   ],
   "source": [
    "A_WDS.todense()"
   ]
  },
  {
   "cell_type": "code",
   "execution_count": 13,
   "metadata": {},
   "outputs": [],
   "source": [
    "S_matrices = torch.tensor(np.array(S_matrices), dtype = torch.float32)\n",
    "res_index = torch.tensor(np.array(res_index), dtype = torch.float32)"
   ]
  },
  {
   "cell_type": "code",
   "execution_count": 14,
   "metadata": {},
   "outputs": [
    {
     "name": "stdout",
     "output_type": "stream",
     "text": [
      "'Reservoir' object has no attribute 'base_demand'\n",
      "'Reservoir' object has no attribute 'base_demand'\n"
     ]
    }
   ],
   "source": [
    "demands=[]\n",
    "for i in wn_current_WDS.node_name_list:\n",
    "    a = wn_current_WDS.get_node(i)\n",
    "    try:\n",
    "        demands.append(a.base_demand)\n",
    "    except Exception as e:\n",
    "        demands.append(-a.base_head)  #demands.append(0)\n",
    "        print(e)"
   ]
  },
  {
   "cell_type": "code",
   "execution_count": 15,
   "metadata": {},
   "outputs": [],
   "source": [
    "class GNN(nn.Module):\n",
    "    def __init__(self):  #second_filter = False\n",
    "        super(GNN, self).__init__()\n",
    "        \n",
    "        #self.second_filter = second_filter\n",
    "        \n",
    "        self.h_1_0 = nn.Parameter(torch.rand(5,21))\n",
    "        self.h_1_1 = nn.Parameter(torch.rand(5,21))\n",
    "        self.h_1_2 = nn.Parameter(torch.rand(5,21))\n",
    "        \n",
    "        \n",
    "        #if second_filter:\n",
    "        self.h_2_0 = nn.Parameter(torch.rand(1, 5))\n",
    "        self.h_2_1 = nn.Parameter(torch.rand(1, 5))\n",
    "        self.h_2_2 = nn.Parameter(torch.rand(1, 5))\n",
    "        \n",
    "        #self.fc = nn.Linear(21, 1)\n",
    "        \n",
    "    #def graph_filter(self, S, x, ):\n",
    "        \n",
    "    def forward(self, S, x):\n",
    "        \n",
    "        f1 =  torch.matmul(self.h_1_0, torch.matmul(torch.pow(S, 0), x))\n",
    "        f1 += torch.matmul(self.h_1_1, torch.matmul(torch.pow(S, 1), x))\n",
    "        f1 += torch.matmul(self.h_1_2, torch.matmul(torch.pow(S, 2), x))\n",
    "        \n",
    "        f1 = torch.sigmoid(f1)\n",
    "        \n",
    "        #if self.second_filter:\n",
    "#         f2 =  torch.matmul(f1, torch.matmul(torch.pow(S, 0), self.h_2_0))\n",
    "#         f2 += torch.matmul(f1, torch.matmul(torch.pow(S, 1), self.h_2_1))\n",
    "#         f2 += torch.matmul(f1, torch.matmul(torch.pow(S, 2), self.h_2_2))\n",
    "        \n",
    "#         f2 = torch.sigmoid(f2)\n",
    "        \n",
    "        \n",
    "        ans = torch.mean(f1)\n",
    "        ans = torch.tanh(ans)\n",
    "        \n",
    "        #ans = torch.sigmoid(ans)\n",
    "        \n",
    "        #ans = torch.relu(ans)\n",
    "        \n",
    "        return ans"
   ]
  },
  {
   "cell_type": "code",
   "execution_count": 19,
   "metadata": {},
   "outputs": [],
   "source": [
    "#model = GCN(in_features=10, hid_features=5, out_features=3, K=2, dropout=False)\n",
    "model = GNN()"
   ]
  },
  {
   "cell_type": "code",
   "execution_count": null,
   "metadata": {},
   "outputs": [],
   "source": []
  },
  {
   "cell_type": "code",
   "execution_count": 20,
   "metadata": {
    "scrolled": true
   },
   "outputs": [
    {
     "name": "stdout",
     "output_type": "stream",
     "text": [
      "Parameter containing:\n",
      "tensor([[0.5395, 0.1715, 0.4176, 0.4932, 0.7698, 0.3723, 0.0257, 0.0277, 0.1479,\n",
      "         0.4667, 0.1844, 0.1214, 0.6382, 0.3837, 0.8133, 0.1250, 0.1444, 0.0091,\n",
      "         0.5879, 0.8163, 0.9658],\n",
      "        [0.4659, 0.3671, 0.2135, 0.8697, 0.3700, 0.6154, 0.0383, 0.2629, 0.6410,\n",
      "         0.1516, 0.4923, 0.2963, 0.9598, 0.1380, 0.3247, 0.3274, 0.7992, 0.8211,\n",
      "         0.8135, 0.6770, 0.0222],\n",
      "        [0.3888, 0.2129, 0.5543, 0.2063, 0.8977, 0.4204, 0.2819, 0.2722, 0.4667,\n",
      "         0.8476, 0.6879, 0.2745, 0.5761, 0.6190, 0.4983, 0.2565, 0.7980, 0.8263,\n",
      "         0.3343, 0.7783, 0.1012],\n",
      "        [0.2518, 0.9253, 0.5654, 0.7676, 0.2847, 0.5299, 0.8855, 0.7256, 0.4699,\n",
      "         0.0408, 0.6298, 0.7118, 0.6765, 0.0411, 0.6344, 0.8684, 0.0820, 0.8212,\n",
      "         0.8995, 0.0948, 0.2658],\n",
      "        [0.3948, 0.5050, 0.7371, 0.8828, 0.7337, 0.1366, 0.5997, 0.2521, 0.7446,\n",
      "         0.3644, 0.1861, 0.6759, 0.2623, 0.0936, 0.4483, 0.9349, 0.3275, 0.8871,\n",
      "         0.0602, 0.0509, 0.0898]], requires_grad=True)\n",
      "Parameter containing:\n",
      "tensor([[0.5038, 0.7788, 0.3036, 0.4449, 0.8290, 0.0411, 0.0999, 0.0325, 0.0806,\n",
      "         0.2503, 0.9416, 0.4115, 0.9658, 0.7016, 0.1264, 0.4852, 0.8156, 0.3696,\n",
      "         0.2186, 0.9882, 0.1453],\n",
      "        [0.3365, 0.3620, 0.5310, 0.7965, 0.3180, 0.7037, 0.2210, 0.0970, 0.2024,\n",
      "         0.9630, 0.9216, 0.2146, 0.2913, 0.4976, 0.5658, 0.8321, 0.3571, 0.4577,\n",
      "         0.2677, 0.5631, 0.4678],\n",
      "        [0.7279, 0.0180, 0.3980, 0.0367, 0.6575, 0.0254, 0.8854, 0.4887, 0.9941,\n",
      "         0.3036, 0.7125, 0.0643, 0.3871, 0.5542, 0.4829, 0.2261, 0.6942, 0.6594,\n",
      "         0.1912, 0.7687, 0.6534],\n",
      "        [0.2948, 0.3872, 0.9332, 0.0121, 0.3951, 0.1243, 0.2472, 0.4535, 0.2381,\n",
      "         0.8327, 0.9570, 0.9901, 0.1643, 0.9646, 0.7447, 0.3871, 0.9920, 0.3156,\n",
      "         0.5590, 0.8113, 0.6557],\n",
      "        [0.7294, 0.7087, 0.1133, 0.4026, 0.4363, 0.8504, 0.7858, 0.4368, 0.4992,\n",
      "         0.9981, 0.1945, 0.1066, 0.6413, 0.7954, 0.5088, 0.3726, 0.6446, 0.1787,\n",
      "         0.2823, 0.5373, 0.6757]], requires_grad=True)\n",
      "Parameter containing:\n",
      "tensor([[0.8407, 0.4590, 0.5956, 0.3488, 0.0117, 0.2113, 0.9396, 0.3394, 0.8759,\n",
      "         0.8268, 0.0504, 0.8196, 0.7959, 0.7947, 0.2739, 0.4404, 0.5308, 0.9690,\n",
      "         0.6682, 0.3387, 0.2869],\n",
      "        [0.6108, 0.0078, 0.1430, 0.9794, 0.2965, 0.6229, 0.7558, 0.7709, 0.6427,\n",
      "         0.3061, 0.3808, 0.4834, 0.7766, 0.3356, 0.7415, 0.5009, 0.4330, 0.7746,\n",
      "         0.7395, 0.2646, 0.7024],\n",
      "        [0.8258, 0.6281, 0.7490, 0.5039, 0.9778, 0.8742, 0.0122, 0.6893, 0.2876,\n",
      "         0.2712, 0.5720, 0.0368, 0.7225, 0.5017, 0.9789, 0.7297, 0.4163, 0.2114,\n",
      "         0.3074, 0.2693, 0.3621],\n",
      "        [0.8772, 0.1000, 0.7034, 0.5785, 0.5525, 0.3860, 0.2174, 0.5223, 0.3160,\n",
      "         0.8297, 0.6666, 0.8794, 0.0208, 0.4409, 0.1078, 0.7826, 0.3538, 0.8015,\n",
      "         0.1058, 0.8220, 0.4798],\n",
      "        [0.2770, 0.2744, 0.4810, 0.9734, 0.5678, 0.7295, 0.8476, 0.4887, 0.7719,\n",
      "         0.2204, 0.9371, 0.5332, 0.7310, 0.8786, 0.7292, 0.1002, 0.7804, 0.9258,\n",
      "         0.5117, 0.1461, 0.1008]], requires_grad=True)\n",
      "Parameter containing:\n",
      "tensor([[0.8736, 0.1416, 0.7182, 0.7840, 0.2667]], requires_grad=True)\n",
      "Parameter containing:\n",
      "tensor([[0.5142, 0.8964, 0.4985, 0.6142, 0.2734]], requires_grad=True)\n",
      "Parameter containing:\n",
      "tensor([[0.5761, 0.4283, 0.4229, 0.4183, 0.6352]], requires_grad=True)\n"
     ]
    }
   ],
   "source": [
    "for i in model.parameters():\n",
    "    print(i)"
   ]
  },
  {
   "cell_type": "code",
   "execution_count": null,
   "metadata": {},
   "outputs": [],
   "source": []
  },
  {
   "cell_type": "code",
   "execution_count": null,
   "metadata": {},
   "outputs": [],
   "source": []
  },
  {
   "cell_type": "code",
   "execution_count": 21,
   "metadata": {},
   "outputs": [],
   "source": [
    "S = torch.tensor(np.array(A_WDS.todense()), dtype = torch.float32)\n",
    "x = torch.tensor(np.array(demands), dtype = torch.float32)"
   ]
  },
  {
   "cell_type": "code",
   "execution_count": 22,
   "metadata": {},
   "outputs": [
    {
     "data": {
      "text/plain": [
       "tensor([ 3.1545e-02,  1.2618e-02,  1.2618e-02,  1.2618e-02,  0.0000e+00,\n",
       "         3.1545e-02,  3.1545e-02,  0.0000e+00,  3.1545e-02,  6.3090e-02,\n",
       "         3.1545e-02,  3.1545e-02,  0.0000e+00,  1.2618e-02,  1.2618e-02,\n",
       "         1.2618e-02,  1.2618e-02,  5.0472e-02,  1.2618e-02, -6.5532e+01,\n",
       "        -6.5532e+01])"
      ]
     },
     "execution_count": 22,
     "metadata": {},
     "output_type": "execute_result"
    }
   ],
   "source": [
    "x"
   ]
  },
  {
   "cell_type": "code",
   "execution_count": 25,
   "metadata": {},
   "outputs": [
    {
     "data": {
      "text/plain": [
       "tensor(0., grad_fn=<TanhBackward>)"
      ]
     },
     "execution_count": 25,
     "metadata": {},
     "output_type": "execute_result"
    }
   ],
   "source": [
    "model(S_matrices[10], x)"
   ]
  },
  {
   "cell_type": "code",
   "execution_count": 26,
   "metadata": {},
   "outputs": [
    {
     "name": "stderr",
     "output_type": "stream",
     "text": [
      "C:\\Programs\\Anaconda3\\envs\\PyTorch_Env\\lib\\site-packages\\torch\\cuda\\__init__.py:52: UserWarning: CUDA initialization: Found no NVIDIA driver on your system. Please check that you have an NVIDIA GPU and installed a driver from http://www.nvidia.com/Download/index.aspx (Triggered internally at  ..\\c10\\cuda\\CUDAFunctions.cpp:100.)\n",
      "  return torch._C._cuda_getDeviceCount() > 0\n"
     ]
    }
   ],
   "source": [
    "device = torch.device('cuda' if torch.cuda.is_available() else 'cpu')\n",
    "model = GNN().to(device)\n",
    "optimizer = torch.optim.Adam(model.parameters(), lr=0.01, weight_decay=5e-4)\n"
   ]
  },
  {
   "cell_type": "code",
   "execution_count": 27,
   "metadata": {},
   "outputs": [],
   "source": [
    "training_range = 400\n",
    "test_range = 100"
   ]
  },
  {
   "cell_type": "code",
   "execution_count": 38,
   "metadata": {},
   "outputs": [
    {
     "data": {
      "text/plain": [
       "torch.Size([])"
      ]
     },
     "execution_count": 38,
     "metadata": {},
     "output_type": "execute_result"
    }
   ],
   "source": [
    "labels.size()"
   ]
  },
  {
   "cell_type": "code",
   "execution_count": 39,
   "metadata": {},
   "outputs": [
    {
     "name": "stdout",
     "output_type": "stream",
     "text": [
      "epoch  0  total loss   6.2484050370102295\n",
      "epoch  10  total loss   12.237391029619118\n",
      "epoch  20  total loss   6.24839816064565\n",
      "epoch  30  total loss   6.248405315269338\n",
      "epoch  40  total loss   6.248409127704917\n",
      "epoch  50  total loss   8.804672382554827\n"
     ]
    }
   ],
   "source": [
    "for epoch in range(51):\n",
    "    total_loss= 0\n",
    "#     total_correct =0\n",
    "    #Data\n",
    "    for i in range(training_range):\n",
    "        #Prediction\n",
    "        preds = model(S_matrices[i], x)\n",
    "        labels = res_index[i]\n",
    "\n",
    "        #Calculate the loss\n",
    "        loss = F.mse_loss(preds.reshape(-1,1), labels.reshape(-1,1)) \n",
    "\n",
    "        #Backpropagate\n",
    "        optimizer.zero_grad() #To avoid adding up gradients\n",
    "        loss.backward() #calculate gradients\n",
    "\n",
    "        #Optimizer step\n",
    "        optimizer.step() #Update weights\n",
    "\n",
    "        total_loss += loss.item()\n",
    "#         total_correct += get_number_correct_labels(preds, labels)\n",
    "    if epoch%10 ==0:\n",
    "        print(\"epoch \", epoch, \" total loss  \", total_loss )"
   ]
  },
  {
   "cell_type": "code",
   "execution_count": 29,
   "metadata": {
    "scrolled": true
   },
   "outputs": [
    {
     "name": "stdout",
     "output_type": "stream",
     "text": [
      "Parameter containing:\n",
      "tensor([[ 0.0048,  0.0048,  0.0048,  0.0048,  0.0048,  0.0048,  0.0048,  0.0048,\n",
      "          0.0048,  0.0048,  0.0048,  0.0048,  0.0048,  0.0048,  0.0048,  0.0048,\n",
      "          0.0048,  0.0048,  0.0048,  0.0048,  0.0048],\n",
      "        [-0.2275, -0.2275, -0.2275, -0.2275, -0.2275, -0.2275, -0.2275, -0.2275,\n",
      "         -0.2275, -0.2275, -0.2275, -0.2275, -0.2275, -0.2275, -0.2275, -0.2275,\n",
      "         -0.2275, -0.2275, -0.2275, -0.2275, -0.2275],\n",
      "        [ 0.0048,  0.0048,  0.0048,  0.0048,  0.0048,  0.0048,  0.0048,  0.0048,\n",
      "          0.0048,  0.0048,  0.0048,  0.0048,  0.0048,  0.0048,  0.0048,  0.0048,\n",
      "          0.0048,  0.0048,  0.0048,  0.0048,  0.0048],\n",
      "        [-0.1588, -0.1588, -0.1588, -0.1588, -0.1588, -0.1588, -0.1588, -0.1588,\n",
      "         -0.1588, -0.1588, -0.1588, -0.1588, -0.1588, -0.1588, -0.1588, -0.1588,\n",
      "         -0.1588, -0.1588, -0.1588, -0.1588, -0.1588],\n",
      "        [ 0.0326,  0.0326,  0.0326,  0.0326,  0.0326,  0.0326,  0.0326,  0.0326,\n",
      "          0.0326,  0.0326,  0.0326,  0.0326,  0.0326,  0.0326,  0.0326,  0.0326,\n",
      "          0.0326,  0.0326,  0.0326,  0.0326,  0.0326]], requires_grad=True)\n",
      "Parameter containing:\n",
      "tensor([[-1.4581e-05, -1.0109e-06, -4.1761e-05, -6.4360e-05, -1.3950e-05,\n",
      "         -9.7218e-04, -8.8853e-06, -2.1827e-04,  2.4939e-05,  2.3267e-06,\n",
      "          1.3285e-04, -6.3001e-05, -6.1310e-05, -6.5871e-05, -1.6106e-05,\n",
      "          2.8303e-04, -1.1749e-05, -7.2599e-04,  8.1440e-06,  2.4611e-03,\n",
      "          2.4612e-03],\n",
      "        [ 1.2314e-36, -2.2208e-36, -9.8192e-37, -2.9381e-37,  1.0206e-36,\n",
      "          7.4241e-02, -1.6205e-37, -6.1756e-38,  7.9264e-37,  3.4485e-36,\n",
      "         -1.3793e-36,  3.3996e-37,  8.4208e-38,  1.4254e-36,  1.1523e-36,\n",
      "          1.4375e-36, -2.4730e-36,  4.7565e-02, -8.8843e-37, -1.6121e-01,\n",
      "         -1.6121e-01],\n",
      "        [ 1.0474e-05, -2.9422e-06, -4.2210e-06,  2.0498e-04,  3.8693e-05,\n",
      "         -8.3237e-04,  1.6600e-06,  1.3633e-04, -7.5698e-05, -7.5368e-06,\n",
      "          7.9201e-05, -1.4586e-05,  7.9873e-06, -6.0336e-06,  1.6776e-05,\n",
      "          6.0502e-06, -4.8329e-06, -6.5294e-04, -2.5421e-05,  1.6131e-03,\n",
      "          1.6131e-03],\n",
      "        [-1.8900e-23, -9.8840e-24, -2.2461e-23,  2.3511e-23,  2.1758e-24,\n",
      "          3.7824e-03,  1.7776e-23,  1.6839e-23,  2.1331e-23, -7.7263e-23,\n",
      "         -2.9721e-23,  3.3410e-23,  1.7486e-23,  7.6204e-24, -2.1948e-23,\n",
      "         -2.1596e-23, -2.3519e-23,  1.1177e-02,  6.5304e-24, -8.0430e-02,\n",
      "         -8.0448e-02],\n",
      "        [ 1.0427e-40,  1.7682e-39, -3.4168e-39,  6.0333e-39,  1.0577e-39,\n",
      "         -4.0138e-06,  1.9976e-39,  2.3406e-39, -1.4003e-40,  8.1455e-41,\n",
      "         -3.6623e-40, -6.8643e-39, -5.8450e-41,  1.1316e-39, -1.5110e-39,\n",
      "         -1.8524e-39, -9.0382e-40, -9.0250e-08, -5.8811e-40,  3.2431e-03,\n",
      "          3.2438e-03]], requires_grad=True)\n",
      "Parameter containing:\n",
      "tensor([[ 5.8443e-06, -2.1002e-05,  3.9544e-05,  3.6917e-05, -1.7239e-04,\n",
      "          4.3290e-04, -1.5032e-05,  1.4422e-04, -5.7907e-06,  9.3588e-06,\n",
      "         -8.9847e-06, -8.2517e-06, -2.3824e-05, -1.8246e-05, -1.4895e-06,\n",
      "         -1.2117e-05, -2.9697e-05,  1.6795e-04,  3.3034e-05,  2.4606e-03,\n",
      "          2.4607e-03],\n",
      "        [-2.2261e-36,  1.8451e-36,  1.0208e-36, -2.2418e-36,  4.5881e-37,\n",
      "         -1.3410e-02,  2.8501e-36,  6.3343e-37,  1.1427e-36, -2.9800e-36,\n",
      "          3.7747e-37, -3.6717e-36,  6.2426e-37,  1.3238e-36, -1.3682e-36,\n",
      "          2.1481e-36,  2.7704e-36, -1.2765e-03,  1.6351e-36, -1.6117e-01,\n",
      "         -1.6117e-01],\n",
      "        [-6.2709e-06, -6.8916e-06,  2.5757e-06,  2.5259e-06, -1.1775e-05,\n",
      "          3.9801e-04, -8.9146e-06,  3.2373e-04, -9.9389e-06,  5.6615e-06,\n",
      "         -1.0207e-05, -1.1104e-05,  1.9113e-05, -6.6087e-06, -6.3857e-06,\n",
      "          2.0825e-06,  1.0662e-07,  1.8971e-04,  2.9282e-06,  1.6130e-03,\n",
      "          1.6130e-03],\n",
      "        [ 7.6712e-23,  1.2436e-24,  3.6943e-25,  5.2380e-23,  1.0970e-23,\n",
      "         -4.9035e-08,  1.2499e-23, -1.2149e-23,  3.1487e-23, -1.1007e-22,\n",
      "          2.3013e-23,  7.0337e-23,  2.2152e-23, -4.4059e-23, -8.0234e-24,\n",
      "         -3.0398e-23, -4.8028e-23, -5.7972e-05, -5.1695e-23, -8.0408e-02,\n",
      "         -8.0398e-02],\n",
      "        [ 8.0539e-40, -6.1108e-40, -1.5512e-39, -2.5754e-39,  6.9550e-39,\n",
      "          6.0903e-14,  4.2657e-40, -2.2727e-38, -1.3500e-40, -7.6714e-41,\n",
      "          5.2361e-41, -4.9588e-40, -3.0038e-39,  2.3539e-39,  7.3373e-40,\n",
      "          7.3481e-41, -2.7124e-41, -2.5103e-28, -9.6841e-41,  3.2388e-03,\n",
      "          3.2389e-03]], requires_grad=True)\n",
      "Parameter containing:\n",
      "tensor([[0.1187, 0.7386, 0.5292, 0.2558, 0.9105]], requires_grad=True)\n",
      "Parameter containing:\n",
      "tensor([[0.3541, 0.5674, 0.1074, 0.4741, 0.9464]], requires_grad=True)\n",
      "Parameter containing:\n",
      "tensor([[0.1323, 0.8520, 0.3486, 0.2025, 0.0434]], requires_grad=True)\n"
     ]
    }
   ],
   "source": [
    "for i in model.parameters():\n",
    "    print(i)"
   ]
  },
  {
   "cell_type": "code",
   "execution_count": 30,
   "metadata": {},
   "outputs": [
    {
     "data": {
      "text/plain": [
       "tensor(0.3799, grad_fn=<TanhBackward>)"
      ]
     },
     "execution_count": 30,
     "metadata": {},
     "output_type": "execute_result"
    }
   ],
   "source": [
    "preds"
   ]
  },
  {
   "cell_type": "code",
   "execution_count": 31,
   "metadata": {},
   "outputs": [
    {
     "data": {
      "text/plain": [
       "tensor(0.3799, grad_fn=<TanhBackward>)"
      ]
     },
     "execution_count": 31,
     "metadata": {},
     "output_type": "execute_result"
    }
   ],
   "source": [
    "model(S_matrices[95],x)"
   ]
  },
  {
   "cell_type": "code",
   "execution_count": 32,
   "metadata": {},
   "outputs": [
    {
     "data": {
      "text/plain": [
       "tensor(0.4141)"
      ]
     },
     "execution_count": 32,
     "metadata": {},
     "output_type": "execute_result"
    }
   ],
   "source": [
    "res_index[95]"
   ]
  },
  {
   "cell_type": "code",
   "execution_count": 33,
   "metadata": {},
   "outputs": [
    {
     "data": {
      "text/plain": [
       "0.015621006690677461"
      ]
     },
     "execution_count": 33,
     "metadata": {},
     "output_type": "execute_result"
    }
   ],
   "source": [
    "total_loss/training_range"
   ]
  },
  {
   "cell_type": "code",
   "execution_count": 34,
   "metadata": {
    "scrolled": true
   },
   "outputs": [
    {
     "name": "stdout",
     "output_type": "stream",
     "text": [
      "0.3799 tensor(0.3816)\n",
      "0.3799 tensor(0.4465)\n",
      "0.3799 tensor(0.2998)\n",
      "0.3799 tensor(0.3425)\n",
      "0.3799 tensor(0.4795)\n",
      "0.3799 tensor(0.3550)\n",
      "0.3799 tensor(0.2692)\n",
      "0.3799 tensor(0.3353)\n",
      "0.3799 tensor(0.3079)\n",
      "0.3799 tensor(0.2996)\n",
      "0.3799 tensor(0.4235)\n",
      "0.3799 tensor(0.4859)\n",
      "0.3799 tensor(0.3106)\n",
      "0.3799 tensor(0.4153)\n",
      "0.3799 tensor(0.3657)\n",
      "0.3799 tensor(0.4498)\n",
      "0.3799 tensor(0.4506)\n",
      "0.3799 tensor(0.2767)\n",
      "0.3799 tensor(0.4273)\n",
      "0.3799 tensor(0.4009)\n",
      "0.3799 tensor(0.4490)\n",
      "0.3799 tensor(0.4396)\n",
      "0.3799 tensor(0.4281)\n",
      "0.3799 tensor(0.4457)\n",
      "0.3799 tensor(0.4919)\n",
      "0.3799 tensor(0.3291)\n",
      "0.3799 tensor(0.4104)\n",
      "0.3799 tensor(0.3312)\n",
      "0.3799 tensor(0.4535)\n",
      "0.3799 tensor(0.3872)\n",
      "0.3799 tensor(0.4030)\n",
      "0.3799 tensor(0.1458)\n",
      "0.3799 tensor(0.3568)\n",
      "0.3799 tensor(0.3630)\n",
      "0.3799 tensor(0.2550)\n",
      "0.3799 tensor(0.3974)\n",
      "0.3799 tensor(0.4021)\n",
      "0.3799 tensor(0.4215)\n",
      "0.3799 tensor(0.3862)\n",
      "0.3799 tensor(0.4938)\n",
      "0.3799 tensor(0.4437)\n",
      "0.3799 tensor(0.4449)\n",
      "0.3799 tensor(0.1866)\n",
      "0.3799 tensor(0.1445)\n",
      "0.3799 tensor(0.3381)\n",
      "0.3799 tensor(0.1874)\n",
      "0.3799 tensor(0.4162)\n",
      "0.3799 tensor(0.5017)\n",
      "0.3799 tensor(0.4189)\n",
      "0.3799 tensor(0.4515)\n",
      "0.3799 tensor(0.4420)\n",
      "0.3799 tensor(0.3574)\n",
      "0.3799 tensor(0.1668)\n",
      "0.3799 tensor(0.4196)\n",
      "0.3799 tensor(0.3343)\n",
      "0.3799 tensor(0.4397)\n",
      "0.3799 tensor(0.3549)\n",
      "0.3799 tensor(0.0980)\n",
      "0.3799 tensor(0.3293)\n",
      "0.3799 tensor(0.4462)\n",
      "0.3799 tensor(0.5248)\n",
      "0.3799 tensor(0.4657)\n",
      "0.3799 tensor(0.5173)\n",
      "0.3799 tensor(0.1697)\n",
      "0.3799 tensor(0.4680)\n",
      "0.3799 tensor(0.1735)\n",
      "0.3799 tensor(0.3935)\n",
      "0.3799 tensor(0.4506)\n",
      "0.3799 tensor(0.4042)\n",
      "0.3799 tensor(0.3171)\n",
      "0.3799 tensor(0.2763)\n",
      "0.3799 tensor(0.4028)\n",
      "0.3799 tensor(0.5160)\n",
      "0.3799 tensor(0.4202)\n",
      "0.3799 tensor(0.4473)\n",
      "0.3799 tensor(0.4503)\n",
      "0.3799 tensor(0.4234)\n",
      "0.3799 tensor(0.3635)\n",
      "0.3799 tensor(0.4068)\n",
      "0.3799 tensor(0.3500)\n",
      "0.3799 tensor(0.1779)\n",
      "0.3799 tensor(0.4465)\n",
      "0.3799 tensor(0.3246)\n",
      "0.3799 tensor(0.1852)\n",
      "0.3799 tensor(0.2889)\n",
      "0.3799 tensor(0.3679)\n",
      "0.3799 tensor(0.4022)\n",
      "0.3799 tensor(0.3814)\n",
      "0.3799 tensor(0.3665)\n",
      "0.3799 tensor(0.3054)\n",
      "0.3799 tensor(0.4400)\n",
      "0.3799 tensor(0.4356)\n",
      "0.3799 tensor(0.3908)\n",
      "0.3799 tensor(0.4053)\n",
      "0.3799 tensor(0.1209)\n",
      "0.3799 tensor(0.1726)\n",
      "0.3799 tensor(0.4535)\n",
      "0.3799 tensor(0.4404)\n",
      "0.3799 tensor(0.4128)\n",
      "0.3799 tensor(0.3612)\n",
      "tensor(0.0095, grad_fn=<DivBackward0>)\n"
     ]
    },
    {
     "name": "stderr",
     "output_type": "stream",
     "text": [
      "<ipython-input-34-de62fbd77ae9>:8: UserWarning: Using a target size (torch.Size([1])) that is different to the input size (torch.Size([])). This will likely lead to incorrect results due to broadcasting. Please ensure they have the same size.\n",
      "  loss_dev += F.mse_loss(preds, labels.reshape(1))\n"
     ]
    }
   ],
   "source": [
    "loss_dev = 0\n",
    "for i in range(training_range,training_range+test_range):\n",
    "    #Prediction\n",
    "    preds = model(S_matrices[i], x)\n",
    "    labels = res_index[i]\n",
    "    print(np.round(preds.item(), 4), labels)\n",
    "    #Calculate the loss\n",
    "    loss_dev += F.mse_loss(preds, labels.reshape(1))\n",
    "\n",
    "print(loss_dev/test_range)"
   ]
  },
  {
   "cell_type": "code",
   "execution_count": 150,
   "metadata": {},
   "outputs": [
    {
     "data": {
      "text/plain": [
       "tensor(0.3551)"
      ]
     },
     "execution_count": 150,
     "metadata": {},
     "output_type": "execute_result"
    }
   ],
   "source": [
    "torch.sum(res_index)/5000"
   ]
  }
 ],
 "metadata": {
  "kernelspec": {
   "display_name": "Python 3",
   "language": "python",
   "name": "python3"
  },
  "language_info": {
   "codemirror_mode": {
    "name": "ipython",
    "version": 3
   },
   "file_extension": ".py",
   "mimetype": "text/x-python",
   "name": "python",
   "nbconvert_exporter": "python",
   "pygments_lexer": "ipython3",
   "version": "3.8.5"
  }
 },
 "nbformat": 4,
 "nbformat_minor": 4
}
