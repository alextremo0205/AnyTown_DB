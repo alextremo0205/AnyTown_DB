{
 "cells": [
  {
   "cell_type": "markdown",
   "metadata": {},
   "source": [
    "# GNN with PyG \n",
    "#### Graph Filters with K-hop approach\n",
    "-Custom layer for Graph Neural Networks using PyTorch Geometric \\n"
   ]
  },
  {
   "cell_type": "markdown",
   "metadata": {},
   "source": [
    "## Imports"
   ]
  },
  {
   "cell_type": "markdown",
   "metadata": {
    "collapsed": "true"
   },
   "source": [
    "### Basic"
   ]
  },
  {
   "cell_type": "code",
   "execution_count": 40,
   "metadata": {},
   "outputs": [],
   "source": [
    "import wntr\n",
    "import pandas as pd\n",
    "import numpy as np\n",
    "import networkx as nx\n",
    "import pickle\n",
    "import time"
   ]
  },
  {
   "cell_type": "markdown",
   "metadata": {},
   "source": [
    "### PyTorch"
   ]
  },
  {
   "cell_type": "code",
   "execution_count": 41,
   "metadata": {},
   "outputs": [],
   "source": [
    "import torch\n",
    "import torch.nn.functional as F\n",
    "import torch.nn as nn\n",
    "from torch import Tensor\n",
    "#from torch.nn import Sequential, Linear, ReLU"
   ]
  },
  {
   "cell_type": "code",
   "execution_count": 342,
   "metadata": {},
   "outputs": [
    {
     "name": "stdout",
     "output_type": "stream",
     "text": [
      "1.7.0\n"
     ]
    }
   ],
   "source": [
    "print(torch.__version__) #Hopefully 1.7.1"
   ]
  },
  {
   "cell_type": "markdown",
   "metadata": {
    "collapsed": "true"
   },
   "source": [
    "### PyTorch Geometric"
   ]
  },
  {
   "cell_type": "code",
   "execution_count": 42,
   "metadata": {},
   "outputs": [],
   "source": [
    "#message passing\n",
    "from torch_geometric.nn import MessagePassing, EdgeConv\n",
    "from torch_geometric.nn import GCNConv\n",
    "\n",
    "from torch_geometric.data import Data, DataLoader\n",
    "\n",
    "from torch_geometric.utils import convert, get_laplacian, to_dense_adj #, add_self_loops, degree,\n",
    "\n",
    "from torch_geometric.typing import Adj#, Union#, Size, OptTensor\n",
    "\n",
    "from torch_sparse import matmul, SparseTensor"
   ]
  },
  {
   "cell_type": "markdown",
   "metadata": {
    "collapsed": "true"
   },
   "source": [
    "### RunBuilder and RunManager"
   ]
  },
  {
   "cell_type": "code",
   "execution_count": 43,
   "metadata": {},
   "outputs": [],
   "source": [
    "from collections import OrderedDict\n",
    "from collections import namedtuple\n",
    "from itertools import product\n",
    "\n",
    "from torch.utils.data import DataLoader\n",
    "#from torch.utils.tensorboard import SummaryWriter"
   ]
  },
  {
   "cell_type": "markdown",
   "metadata": {},
   "source": [
    "### Scikit-Learn"
   ]
  },
  {
   "cell_type": "code",
   "execution_count": 56,
   "metadata": {},
   "outputs": [],
   "source": [
    "from sklearn.model_selection import train_test_split\n",
    "from sklearn.metrics import r2_score"
   ]
  },
  {
   "cell_type": "markdown",
   "metadata": {},
   "source": [
    "### Performance"
   ]
  },
  {
   "cell_type": "code",
   "execution_count": 206,
   "metadata": {},
   "outputs": [],
   "source": [
    "from joblib import Parallel, delayed"
   ]
  },
  {
   "cell_type": "markdown",
   "metadata": {},
   "source": [
    "### Visualization"
   ]
  },
  {
   "cell_type": "code",
   "execution_count": 182,
   "metadata": {},
   "outputs": [],
   "source": [
    "import ipywidgets as widgets\n",
    "from IPython.display import clear_output, display"
   ]
  },
  {
   "cell_type": "markdown",
   "metadata": {
    "collapsed": "true"
   },
   "source": [
    "## Utilities"
   ]
  },
  {
   "cell_type": "markdown",
   "metadata": {
    "collapsed": "true"
   },
   "source": [
    "### Scaler"
   ]
  },
  {
   "cell_type": "code",
   "execution_count": 44,
   "metadata": {},
   "outputs": [],
   "source": [
    "def scale(list_of_values, minT=None, maxT=None):\n",
    "    list_of_values = np.array(list_of_values)\n",
    "    if maxT is None:\n",
    "        maxT = max(list_of_values)\n",
    "    if minT is None:\n",
    "        minT = min(list_of_values)\n",
    "        \n",
    "    scaledList = (list_of_values - minT)/(maxT - minT)\n",
    "    return(scaledList)\n",
    "\n",
    "def rescale(scaledList, minT, maxT):\n",
    "    return(scaledList)*(maxT - minT) + minT"
   ]
  },
  {
   "cell_type": "markdown",
   "metadata": {
    "collapsed": "true"
   },
   "source": [
    "### RunBuilder"
   ]
  },
  {
   "cell_type": "code",
   "execution_count": 45,
   "metadata": {},
   "outputs": [],
   "source": [
    "class RunBuilder():\n",
    "    @staticmethod\n",
    "    def get_runs(params):\n",
    "\n",
    "        Run = namedtuple('Run', params.keys())\n",
    "\n",
    "        runs = []\n",
    "        for v in product(*params.values()):\n",
    "            runs.append(Run(*v))\n",
    "\n",
    "        return runs"
   ]
  },
  {
   "cell_type": "markdown",
   "metadata": {},
   "source": [
    "### Loading bar"
   ]
  },
  {
   "cell_type": "code",
   "execution_count": 194,
   "metadata": {},
   "outputs": [],
   "source": [
    "f = widgets.IntProgress(\n",
    "    value=7,\n",
    "    min=0,\n",
    "    max=10,\n",
    "    step=1,\n",
    "    description='Loading:',\n",
    "    bar_style='', # 'success', 'info', 'warning', 'danger' or ''\n",
    "    orientation='horizontal'\n",
    ")"
   ]
  },
  {
   "cell_type": "markdown",
   "metadata": {},
   "source": [
    "### Graph R2"
   ]
  },
  {
   "cell_type": "code",
   "execution_count": 274,
   "metadata": {},
   "outputs": [],
   "source": [
    "def graph_r2(model,graphs):\n",
    "    preds =[]\n",
    "    y = []\n",
    "    for g in graphs:\n",
    "        preds.append(model(g).mean().detach().numpy())\n",
    "        y.append(g.y.detach().numpy())\n",
    "    #print(preds, y)\n",
    "    r_squared = r2_score( np.array(y).flatten() , np.array(preds).flatten() )\n",
    "    return(r_squared)"
   ]
  },
  {
   "cell_type": "markdown",
   "metadata": {
    "collapsed": "true"
   },
   "source": [
    "## Dataset "
   ]
  },
  {
   "cell_type": "markdown",
   "metadata": {},
   "source": [
    "### Loading inp and database"
   ]
  },
  {
   "cell_type": "code",
   "execution_count": 46,
   "metadata": {},
   "outputs": [
    {
     "data": {
      "text/plain": [
       "(<matplotlib.collections.PathCollection at 0x1e5db8c8130>,\n",
       " <matplotlib.collections.LineCollection at 0x1e5dbb7bdf0>)"
      ]
     },
     "execution_count": 46,
     "metadata": {},
     "output_type": "execute_result"
    },
    {
     "data": {
      "image/png": "[encoded data removed]",
      "text/plain": [
       "<Figure size 432x288 with 1 Axes>"
      ]
     },
     "metadata": {},
     "output_type": "display_data"
    }
   ],
   "source": [
    "# Create a water network model\n",
    "inp_file = 'networks/Mod_AnyTown.inp'\n",
    "wn_WDS = wntr.network.WaterNetworkModel(inp_file)\n",
    "\n",
    "# Graph the network\n",
    "wntr.graphics.plot_network(wn_WDS, title=wn_WDS.name)\n",
    "\n",
    "# Simulate hydraulics\n",
    "# sim_WDS = wntr.sim.EpanetSimulator(wn_WDS)\n",
    "# results_WDS = sim_WDS.run_sim()"
   ]
  },
  {
   "cell_type": "code",
   "execution_count": 47,
   "metadata": {},
   "outputs": [],
   "source": [
    "# Import database: contains information for all the simulations run\n",
    "try:\n",
    "    print(database is None)\n",
    "except:\n",
    "    database = pickle.load( open( \"Mod_AnyT_DB.p\", \"rb\" ))"
   ]
  },
  {
   "cell_type": "code",
   "execution_count": 48,
   "metadata": {},
   "outputs": [
    {
     "data": {
      "text/plain": [
       "Index(['Sim_ID', 'Diams', 'wntrModel', 'EpanetSim', 'wntrResults',\n",
       "       'PrasadPark', 'Todini', 'maxPrPa', 'maxTod', 'minPrPa', 'minTod',\n",
       "       'avgPrPa', 'avgTod'],\n",
       "      dtype='object')"
      ]
     },
     "execution_count": 48,
     "metadata": {},
     "output_type": "execute_result"
    }
   ],
   "source": [
    "database.columns"
   ]
  },
  {
   "cell_type": "markdown",
   "metadata": {},
   "source": [
    "### Geometric Dataset"
   ]
  },
  {
   "cell_type": "markdown",
   "metadata": {},
   "source": [
    "The normalization of the diameters considers 0 as min diameter and 20 in as max diameter. \\\n",
    "AnyTown's diameters for the dataset are \\[6, 8, 10, 12, 14] in"
   ]
  },
  {
   "cell_type": "code",
   "execution_count": 170,
   "metadata": {},
   "outputs": [],
   "source": [
    "graphs = []\n",
    "res_index = []\n",
    "for i in range(len(database)):\n",
    "    diams_n = dict(zip(wn_WDS.link_name_list, list(scale(database.loc[i]['Diams'], minT=0, maxT=20)))) #diam\n",
    "    G_WDS = wn_WDS.get_graph(link_weight=diams_n) # directed multigraph\n",
    "    #A_WDS = nx.adjacency_matrix(G_WDS)\n",
    "    uG_WDS = G_WDS.to_undirected()\n",
    "    #A_WDS = nx.normalized_laplacian_matrix(uG_WDS)\n",
    "    #A_WDS -=  identity(21)\n",
    "    sG_WDS = nx.Graph(uG_WDS)\n",
    "    pg_sG_WDS = convert.from_networkx(sG_WDS)\n",
    "    \n",
    "    graphs.append(pg_sG_WDS)\n",
    "    graphs[i].y = torch.tensor(database.loc[i]['avgPrPa'].reshape(-1,1), dtype=torch.float32)\n",
    "    graphs[i].x = torch.ones(21,1)\n",
    "    graphs[i].weight=graphs[i].weight.reshape(graphs[i].weight.shape[0],1)"
   ]
  },
  {
   "cell_type": "code",
   "execution_count": 171,
   "metadata": {
    "scrolled": true
   },
   "outputs": [
    {
     "data": {
      "text/plain": [
       "(tensor([[0.5000, 0.3000, 0.6000, 0.3000, 0.6000, 0.3000, 0.5000, 0.3000, 0.6000,\n",
       "          0.3000, 0.3000, 0.3000, 0.6000, 0.4000, 0.4000, 0.4000, 0.7000, 0.5000,\n",
       "          0.5000, 0.7000, 0.5000, 0.5000, 0.5000, 0.3000, 0.5000, 0.4000, 0.5000,\n",
       "          0.7000, 0.3000, 0.3000, 0.6000, 0.5000, 0.4000, 0.4000, 0.4000, 0.5000,\n",
       "          0.5000, 0.4000, 0.3000, 0.7000, 0.4000, 0.7000, 0.5000, 0.4000, 0.5000,\n",
       "          0.6000, 0.5000, 0.7000, 0.4000, 0.3000, 0.4000, 0.4000, 0.5000, 0.4000,\n",
       "          0.4000, 0.3000, 0.7000, 0.4000, 0.3000, 0.4000, 0.4000, 0.7000, 0.3000,\n",
       "          0.4000, 0.4000, 0.3000, 0.5000, 0.7000, 0.4000, 0.4000, 0.7000, 0.5000,\n",
       "          0.3000, 0.3000, 0.4000, 0.6000, 0.7000, 0.4000, 0.7000, 0.6000]],\n",
       "        dtype=torch.float64),\n",
       " tensor([[ 0,  0,  0,  1,  1,  1,  1,  1,  2,  2,  3,  3,  3,  3,  3,  4,  4,  5,\n",
       "           5,  5,  5,  5,  6,  6,  6,  6,  6,  7,  7,  7,  8,  8,  8,  8,  8,  9,\n",
       "           9,  9,  9,  9, 10, 10, 10, 10, 10, 11, 11, 11, 11, 12, 12, 13, 13, 13,\n",
       "          14, 14, 14, 15, 15, 15, 15, 15, 15, 15, 16, 16, 16, 16, 16, 17, 17, 17,\n",
       "          17, 17, 17, 17, 18, 18, 19, 20],\n",
       "         [ 6,  1, 11,  0,  2,  3,  5,  6,  1,  3,  1,  2,  8, 15,  4,  3,  7,  1,\n",
       "           8, 19,  6,  9,  0,  1,  5, 10,  9,  4, 12, 15,  3,  5, 15,  9, 16,  5,\n",
       "           6,  8, 16, 10,  6,  9, 16, 17, 11,  0, 10, 17, 13,  7, 15, 11, 17, 14,\n",
       "          13, 17, 18,  3,  7,  8, 12, 16, 17, 18,  8,  9, 10, 15, 17, 10, 11, 13,\n",
       "          14, 15, 16, 20, 14, 15,  5, 17]]))"
      ]
     },
     "execution_count": 171,
     "metadata": {},
     "output_type": "execute_result"
    }
   ],
   "source": [
    "#Example of the normalized weights in the adjacency matrix (as edge index and edge weight)\n",
    "graphs[3].weight.t(), graphs[3].edge_index"
   ]
  },
  {
   "cell_type": "code",
   "execution_count": 172,
   "metadata": {},
   "outputs": [
    {
     "data": {
      "text/plain": [
       "tensor([[0.3883]])"
      ]
     },
     "execution_count": 172,
     "metadata": {},
     "output_type": "execute_result"
    }
   ],
   "source": [
    "graphs[3].y"
   ]
  },
  {
   "cell_type": "markdown",
   "metadata": {},
   "source": [
    "## **Message Passing**"
   ]
  },
  {
   "cell_type": "markdown",
   "metadata": {},
   "source": [
    "**MessagePassing(aggr=\"add\", flow=\"source_to_target\", node_dim=-2):** \\\n",
    "Defines the aggregation scheme to use (\"add\", \"mean\" or \"max\") and the flow direction of message passing (either \"source_to_target\" or \"target_to_source\"). Furthermore, the node_dim attribute indicates along which axis to propagate."
   ]
  },
  {
   "cell_type": "markdown",
   "metadata": {},
   "source": [
    "<img src=\"equation_Message_Passing.png\" width=\"800\">\n",
    "\n",
    "Source: [PyTorch Geometric](https://pytorch-geometric.readthedocs.io/en/latest/notes/create_gnn.html)"
   ]
  },
  {
   "cell_type": "markdown",
   "metadata": {},
   "source": [
    "### Layer definition"
   ]
  },
  {
   "cell_type": "code",
   "execution_count": 335,
   "metadata": {},
   "outputs": [],
   "source": [
    "class G_filter_K(MessagePassing):\n",
    "    def __init__(self, units, aggr = 'add', K = 1):\n",
    "        self.aggr = aggr #add, mean, max\n",
    "        self.K = K\n",
    "        super(G_filter_K, self).__init__(aggr=self.aggr)  #\"add\", \"mean\" or \"max\"\n",
    "        self.in_features, self.out_features = units\n",
    "        #super(ParameterList, self).__init__()\n",
    "        self.H = nn.ParameterList()\n",
    "        for j in range(K+1):\n",
    "            self.H.append(nn.Parameter(torch.randn(self.in_features, self.out_features)))\n",
    "        \n",
    "    def forward(self, x: Tensor, edge_attr: Tensor, edge_index: Adj):\n",
    "        #First step. This is the deepest part of the MP framework.\n",
    "        #Some preprocessing of the node or edge attributes may be \n",
    "        #made before the propagation\n",
    "        \n",
    "        #For activating message_and_aggregate() it is required that the edge index is a SparseTensor\n",
    "        #edge_index = SparseTensor.from_edge_index(edge_index, edge_attr=edge_attr)\n",
    "        \n",
    "        accum_result = torch.matmul(x, self.H[0])\n",
    "        for k in range(1,self.K):\n",
    "            x = self.propagate(edge_index, x=x, edge_weight=edge_attr,\n",
    "                               size=None)\n",
    "            accum_result += torch.matmul(x, self.H[k])\n",
    "        \n",
    "        return accum_result\n",
    "        \n",
    "        #ans = self.propagate(edge_index, x=x, edge_weight=edge_attr)\n",
    "        #return ans\n",
    "          \n",
    "    def update(self, messages, x):\n",
    "        #This is the UPDATE function, it receives the message from \n",
    "        #the nodes and the own information. \n",
    "        # Naming of the parameters impacts the function!! \n",
    "        ###   x_i != x\n",
    "        # x_i has dimension (edges x 2) \n",
    "        # x   has dimension (nodes x node_features)\n",
    "        \n",
    "        return messages #+1*x #Dummy example of an update function involving the message and the self value\n",
    "\n",
    "    def message(self, x_j: Tensor, edge_weight: Tensor) -> Tensor:\n",
    "#         #This is the Message function. \n",
    "#         #It is useful to think about this one at a node level. Just one node i interacting with node j\n",
    "#         #Notation of the parameters x_i: self information of the node, x_j: information of the neighbor\n",
    "#         #edge_weight is the weight or value ei_j of the edge that connects the nodes i and j\n",
    "#         msg= x_i + edge_weight\n",
    "#         return msg\n",
    "        #print('message')\n",
    "        return edge_weight.view(-1, 1) * x_j\n",
    "        #return x_j\n",
    "\n",
    "    def message_and_aggregate(self, adj_t: SparseTensor, x: Tensor) -> Tensor:\n",
    "        #This function only is activated when the edge_index at propagate() is a SparseTensor.\n",
    "        #It is equivalent to the message function, but a graph level. #adj_t is the Shift Operator in Sparse form.\n",
    "        #print(\"message and aggregate\")\n",
    "        #print(adj_t)\n",
    "        return matmul(adj_t, x, reduce=self.aggr)\n",
    "\n",
    "    def __repr__(self):\n",
    "        return '{}(in_f={}, out_f={},aggr={}, K={})'.format(self.__class__.__name__,self.in_features,self.out_features, self.aggr, self.K)\n",
    "        "
   ]
  },
  {
   "cell_type": "markdown",
   "metadata": {},
   "source": [
    "### Model definition"
   ]
  },
  {
   "cell_type": "code",
   "execution_count": 329,
   "metadata": {},
   "outputs": [],
   "source": [
    "class Net(nn.Module):\n",
    "    def __init__(self, hid_units, K):\n",
    "        super(Net, self).__init__()\n",
    "        self.K = K\n",
    "        self.hid_units = hid_units\n",
    "        self.conv1 = G_filter_K(units = [1, self.hid_units], aggr ='mean', K = self.K)\n",
    "        self.conv2 = G_filter_K(units = [self.hid_units, self.hid_units], aggr ='mean', K = self.K)\n",
    "        self.conv3 = G_filter_K(units = [self.hid_units, 1], aggr ='mean', K = self.K)\n",
    "\n",
    "    def forward(self, data):\n",
    "        \n",
    "        x, edge_attr, edge_index = data.x, torch.reshape(data.weight, (-1,)).to(dtype=torch.float), data.edge_index\n",
    "        \n",
    "        x = self.conv1(x, edge_attr, edge_index)\n",
    "        x = F.leaky_relu(x)\n",
    "        \n",
    "        x = self.conv2(x, edge_attr, edge_index)\n",
    "        x = F.leaky_relu(x)\n",
    "        \n",
    "        x = self.conv3(x, edge_attr, edge_index)\n",
    "        x = torch.tanh(x)\n",
    "\n",
    "        \n",
    "        return x.mean()\n",
    "    \n",
    "    # Calculates the number of parameters for each layer (weights and biases are summed together)\n",
    "    def N_parameters(self):\n",
    "        self.num_params = []\n",
    "        i = 0\n",
    "        \n",
    "        for parameter in self.parameters():\n",
    "            self.num_params.append(torch.numel(parameter))\n",
    "\n",
    "        return self.num_params"
   ]
  },
  {
   "cell_type": "markdown",
   "metadata": {},
   "source": [
    "## Training"
   ]
  },
  {
   "cell_type": "markdown",
   "metadata": {},
   "source": [
    "### Hyperparameters"
   ]
  },
  {
   "cell_type": "code",
   "execution_count": 336,
   "metadata": {},
   "outputs": [],
   "source": [
    "#N_epochs = 1000\n",
    "params = OrderedDict(\n",
    "    lr = [1e-4, 1e-5]\n",
    "    ,weight_decay=[0]\n",
    "    ,N_epochs = [10]\n",
    "    ,hid_units = [32]\n",
    "    ,K = [3]\n",
    "    #,batch_size = [50] #T.B.I\n",
    ")"
   ]
  },
  {
   "cell_type": "code",
   "execution_count": 338,
   "metadata": {},
   "outputs": [],
   "source": [
    "runs = RunBuilder.get_runs(params)"
   ]
  },
  {
   "cell_type": "code",
   "execution_count": 339,
   "metadata": {},
   "outputs": [
    {
     "data": {
      "text/plain": [
       "[Run(lr=0.0001, weight_decay=0, N_epochs=10, hid_units=32, K=3),\n",
       " Run(lr=1e-05, weight_decay=0, N_epochs=10, hid_units=32, K=3)]"
      ]
     },
     "execution_count": 339,
     "metadata": {},
     "output_type": "execute_result"
    }
   ],
   "source": [
    "runs"
   ]
  },
  {
   "cell_type": "markdown",
   "metadata": {
    "collapsed": "true"
   },
   "source": [
    "### Data split"
   ]
  },
  {
   "cell_type": "code",
   "execution_count": 296,
   "metadata": {},
   "outputs": [],
   "source": [
    "seed = 1135\n",
    "train_size = int(0.8 * len(graphs))\n",
    "val_size = int(0.1 * len(graphs))\n",
    "test_size = len(graphs) -val_size - train_size\n",
    "train_dataset, val_dataset, test_dataset = torch.utils.data.random_split(graphs, [train_size, val_size, test_size],generator=torch.Generator().manual_seed(seed))"
   ]
  },
  {
   "cell_type": "markdown",
   "metadata": {},
   "source": [
    "### Forward and Backpropagation"
   ]
  },
  {
   "cell_type": "markdown",
   "metadata": {},
   "source": [
    "#### One-Batch training"
   ]
  },
  {
   "cell_type": "code",
   "execution_count": 340,
   "metadata": {},
   "outputs": [
    {
     "data": {
      "application/vnd.jupyter.widget-view+json": {
       "model_id": "9675a3dc99814411a1a4eabb976047c0",
       "version_major": 2,
       "version_minor": 0
      },
      "text/plain": [
       "IntProgress(value=10, description='Loading:', max=10)"
      ]
     },
     "metadata": {},
     "output_type": "display_data"
    },
    {
     "name": "stdout",
     "output_type": "stream",
     "text": [
      "-------------------New configuration-------------------\n",
      "\t epoch  0 \t  total loss:   0.43036 \t R2:  -25.2228\n",
      "\t epoch  4 \t  total loss:   0.43036 \t R2:  -25.2228\n",
      "\t epoch  8 \t  total loss:   0.43036 \t R2:  -25.2228\n",
      "\t epoch  9 \t  total loss:   0.43036 \t R2:  -25.2228\n",
      "-Run(lr=0.0001, weight_decay=0, N_epochs=10, hid_units=32, K=3) 86.15 seconds\n",
      "Total parameters: \t 4352 \n",
      "\n",
      "-------------------New configuration-------------------\n"
     ]
    },
    {
     "name": "stderr",
     "output_type": "stream",
     "text": [
      "C:\\Programs\\Anaconda3\\envs\\PyTorch_Env\\lib\\site-packages\\torch\\nn\\modules\\container.py:434: UserWarning: Setting attributes on ParameterList is not supported.\n",
      "  warnings.warn(\"Setting attributes on ParameterList is not supported.\")\n"
     ]
    },
    {
     "name": "stdout",
     "output_type": "stream",
     "text": [
      "\t epoch  0 \t  total loss:   1.85525 \t R2:  -111.3739\n",
      "\t epoch  4 \t  total loss:   1.85525 \t R2:  -111.3739\n",
      "\t epoch  8 \t  total loss:   1.85525 \t R2:  -111.3739\n",
      "\t epoch  9 \t  total loss:   1.85525 \t R2:  -111.3739\n",
      "-Run(lr=1e-05, weight_decay=0, N_epochs=10, hid_units=32, K=3) 93.73 seconds\n",
      "Total parameters: \t 4352 \n",
      "\n"
     ]
    }
   ],
   "source": [
    "display(f)\n",
    "device = torch.device('cuda' if torch.cuda.is_available() else 'cpu')\n",
    "\n",
    "report_freq=4\n",
    "\n",
    "for run in RunBuilder.get_runs(params):\n",
    "    print(\"-------------------New configuration-------------------\")\n",
    "    model = Net(hid_units = run.hid_units, K=run.K).to(device)\n",
    "    start_time = time.time()\n",
    "    optimizer = torch.optim.Adam(model.parameters(), lr=run.lr, weight_decay=run.weight_decay)\n",
    "    f.value = 0\n",
    "    f.max = run.N_epochs\n",
    "    model.train()\n",
    "    for epoch in range(run.N_epochs):\n",
    "        total_loss= 0\n",
    "        \n",
    "        for training_graph in train_dataset:\n",
    "            pred = model(training_graph).mean()\n",
    "            target = training_graph.y\n",
    "            loss = F.mse_loss(pred.reshape(-1,1), target.reshape(-1,1))            \n",
    "            loss.to(torch.float32)\n",
    "            total_loss += loss\n",
    "        \n",
    "        total_loss /= len(train_dataset)\n",
    "        #total_loss = total_loss.to(torch.float32)\n",
    "        optimizer.zero_grad()\n",
    "        total_loss.backward()\n",
    "        optimizer.step()\n",
    "        \n",
    "        f.value += 1\n",
    "        if epoch%report_freq == 0 or epoch == run.N_epochs-1:\n",
    "            r2 = np.round(graph_r2(model, graphs), 4)\n",
    "            print('\\t', \"epoch \", epoch, '\\t',\" total loss:  \", np.round(total_loss.item(),5), '\\t', 'R2: ', r2)\n",
    "            \n",
    "    comment = f'-{run}'\n",
    "    execution_time=np.round((time.time() - start_time), 2)\n",
    "    print(comment, execution_time, 'seconds')\n",
    "    print('Total parameters:','\\t', np.array(model.N_parameters()).sum(), \"\\n\")\n",
    "    \n"
   ]
  },
  {
   "cell_type": "markdown",
   "metadata": {
    "collapsed": "true"
   },
   "source": [
    "#### Joblib implementation - Update: Failed, it's slower"
   ]
  },
  {
   "cell_type": "code",
   "execution_count": 207,
   "metadata": {},
   "outputs": [],
   "source": [
    "def fun(training_graph):\n",
    "    pred = model(training_graph).mean()\n",
    "    target = training_graph.y\n",
    "    loss = F.mse_loss(pred.reshape(-1,1), target.reshape(-1,1))            \n",
    "    #loss.to(torch.float32)\n",
    "    \n",
    "    return loss"
   ]
  },
  {
   "cell_type": "code",
   "execution_count": 220,
   "metadata": {},
   "outputs": [
    {
     "data": {
      "application/vnd.jupyter.widget-view+json": {
       "model_id": "",
       "version_major": 2,
       "version_minor": 0
      },
      "text/plain": [
       "IntProgress(value=51, description='Loading:', max=51)"
      ]
     },
     "metadata": {},
     "output_type": "display_data"
    },
    {
     "name": "stdout",
     "output_type": "stream",
     "text": [
      "epoch  0  total loss   tensor(0.1603, grad_fn=<MeanBackward0>)\n",
      "epoch  10  total loss   tensor(0.1563, grad_fn=<MeanBackward0>)\n",
      "epoch  20  total loss   tensor(0.1522, grad_fn=<MeanBackward0>)\n",
      "epoch  30  total loss   tensor(0.1482, grad_fn=<MeanBackward0>)\n",
      "epoch  40  total loss   tensor(0.1443, grad_fn=<MeanBackward0>)\n",
      "epoch  50  total loss   tensor(0.1404, grad_fn=<MeanBackward0>)\n",
      "-Run(lr=0.001, weight_decay=0.0005, N_epochs=51) 206.75 seconds\n"
     ]
    }
   ],
   "source": [
    "for run in RunBuilder.get_runs(params):\n",
    "    display(f)\n",
    "    start_time = time.time()\n",
    "    optimizer = torch.optim.Adam(model.parameters(), lr=run.lr, weight_decay=run.weight_decay)\n",
    "    f.value = 0\n",
    "    f.max = run.N_epochs\n",
    "    model.train()\n",
    "    for epoch in range(run.N_epochs):\n",
    "        total_loss= 0\n",
    "        losses = Parallel(n_jobs=-1)(delayed(fun)(training_graph) for training_graph in train_dataset)\n",
    "        total_loss = torch.tensor(losses, requires_grad=True).mean()\n",
    "        #total_loss.requires_grad = True\n",
    "        #print(total_loss)\n",
    "        #total_loss /= len(train_dataset)\n",
    "        #total_loss = total_loss.to(torch.float32)\n",
    "        optimizer.zero_grad()\n",
    "        total_loss.backward()\n",
    "        optimizer.step()\n",
    "        \n",
    "        f.value += 1\n",
    "        if epoch%10 == 0:\n",
    "            print(\"epoch \", epoch, \" total loss  \", total_loss )\n",
    "#             clear_output(wait=True)\n",
    "#             display(f)\n",
    "            \n",
    "    comment = f'-{run}'\n",
    "    execution_time=np.round((time.time() - start_time),2)\n",
    "    print(comment, execution_time, 'seconds')"
   ]
  },
  {
   "cell_type": "markdown",
   "metadata": {},
   "source": [
    "## Testing\n",
    "*To be further implemented"
   ]
  },
  {
   "cell_type": "code",
   "execution_count": 317,
   "metadata": {},
   "outputs": [
    {
     "data": {
      "text/plain": [
       "(tensor(-0.4635, grad_fn=<MeanBackward0>), tensor([[0.3997]]))"
      ]
     },
     "execution_count": 317,
     "metadata": {},
     "output_type": "execute_result"
    }
   ],
   "source": [
    "model(graphs[0]), graphs[0].y"
   ]
  },
  {
   "cell_type": "code",
   "execution_count": 318,
   "metadata": {},
   "outputs": [
    {
     "data": {
      "text/plain": [
       "(tensor(-0.3596, grad_fn=<MeanBackward0>), tensor([[0.4345]]))"
      ]
     },
     "execution_count": 318,
     "metadata": {},
     "output_type": "execute_result"
    }
   ],
   "source": [
    "model(graphs[1]), graphs[1].y"
   ]
  },
  {
   "cell_type": "code",
   "execution_count": 319,
   "metadata": {
    "scrolled": true
   },
   "outputs": [],
   "source": [
    "a = next(model.parameters())"
   ]
  },
  {
   "cell_type": "code",
   "execution_count": 324,
   "metadata": {},
   "outputs": [
    {
     "name": "stdout",
     "output_type": "stream",
     "text": [
      "Parameter containing:\n",
      "tensor([[-1.0837e+00,  3.8476e-01, -2.6206e-01,  7.5902e-01,  3.1285e-01,\n",
      "         -9.5688e-01,  7.3525e-01,  2.4037e+00,  7.1097e-01,  3.0753e-01,\n",
      "         -9.9809e-01,  2.3838e+00, -6.6143e-01, -5.8691e-02,  6.4599e-01,\n",
      "         -4.9875e-02,  6.0933e-01, -2.9590e-01,  7.1253e-01, -1.1285e-04,\n",
      "          8.8660e-03, -1.4372e+00,  1.1796e+00,  2.2248e+00, -4.0977e-01,\n",
      "         -1.1884e+00, -3.0083e-01,  1.0328e+00,  4.8691e-01, -1.4225e+00,\n",
      "          5.8947e-01,  6.6941e-01]], requires_grad=True)\n"
     ]
    }
   ],
   "source": [
    "print(a)"
   ]
  },
  {
   "cell_type": "code",
   "execution_count": null,
   "metadata": {},
   "outputs": [],
   "source": []
  }
 ],
 "metadata": {
  "kernelspec": {
   "display_name": "Python 3",
   "language": "python",
   "name": "python3"
  },
  "language_info": {
   "codemirror_mode": {
    "name": "ipython",
    "version": 3
   },
   "file_extension": ".py",
   "mimetype": "text/x-python",
   "name": "python",
   "nbconvert_exporter": "python",
   "pygments_lexer": "ipython3",
   "version": "3.8.5"
  },
  "toc-autonumbering": true,
  "toc-showcode": false,
  "toc-showmarkdowntxt": false,
  "toc-showtags": false
 },
 "nbformat": 4,
 "nbformat_minor": 4
}
