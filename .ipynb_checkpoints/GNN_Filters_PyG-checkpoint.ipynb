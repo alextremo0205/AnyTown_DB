{
 "cells": [
  {
   "cell_type": "markdown",
   "metadata": {},
   "source": [
    "# GNN with PyG \n",
    "#### Graph Filters with K-hop approach\n",
    "-Custom layer for Graph Neural Networks using PyTorch Geometric"
   ]
  },
  {
   "cell_type": "markdown",
   "metadata": {
    "collapsed": "true"
   },
   "source": [
    "## Imports"
   ]
  },
  {
   "cell_type": "markdown",
   "metadata": {},
   "source": [
    "### Basic"
   ]
  },
  {
   "cell_type": "code",
   "execution_count": 1,
   "metadata": {
    "execution": {
     "iopub.execute_input": "2021-02-26T10:19:47.236310Z",
     "iopub.status.busy": "2021-02-26T10:19:47.236310Z",
     "iopub.status.idle": "2021-02-26T10:19:47.803933Z",
     "shell.execute_reply": "2021-02-26T10:19:47.803933Z",
     "shell.execute_reply.started": "2021-02-26T10:19:47.236310Z"
    }
   },
   "outputs": [],
   "source": [
    "import wntr\n",
    "import pandas as pd\n",
    "import numpy as np\n",
    "import networkx as nx\n",
    "import pickle\n",
    "import time\n",
    "import winsound"
   ]
  },
  {
   "cell_type": "markdown",
   "metadata": {},
   "source": [
    "### PyTorch"
   ]
  },
  {
   "cell_type": "code",
   "execution_count": 2,
   "metadata": {
    "execution": {
     "iopub.execute_input": "2021-02-26T10:19:47.804791Z",
     "iopub.status.busy": "2021-02-26T10:19:47.804791Z",
     "iopub.status.idle": "2021-02-26T10:19:48.102996Z",
     "shell.execute_reply": "2021-02-26T10:19:48.102201Z",
     "shell.execute_reply.started": "2021-02-26T10:19:47.804791Z"
    }
   },
   "outputs": [],
   "source": [
    "import torch\n",
    "import torch.nn.functional as F\n",
    "import torch.nn as nn\n",
    "from torch import Tensor\n",
    "#from torch.nn import Sequential, Linear, ReLU"
   ]
  },
  {
   "cell_type": "code",
   "execution_count": 3,
   "metadata": {
    "execution": {
     "iopub.execute_input": "2021-02-26T10:19:48.104989Z",
     "iopub.status.busy": "2021-02-26T10:19:48.104012Z",
     "iopub.status.idle": "2021-02-26T10:19:48.109976Z",
     "shell.execute_reply": "2021-02-26T10:19:48.109976Z",
     "shell.execute_reply.started": "2021-02-26T10:19:48.104989Z"
    }
   },
   "outputs": [
    {
     "name": "stdout",
     "output_type": "stream",
     "text": [
      "1.7.1\n"
     ]
    }
   ],
   "source": [
    "print(torch.__version__) #Hopefully 1.7.1"
   ]
  },
  {
   "cell_type": "markdown",
   "metadata": {},
   "source": [
    "### PyTorch Geometric"
   ]
  },
  {
   "cell_type": "code",
   "execution_count": 4,
   "metadata": {
    "execution": {
     "iopub.execute_input": "2021-02-26T10:19:48.112969Z",
     "iopub.status.busy": "2021-02-26T10:19:48.112969Z",
     "iopub.status.idle": "2021-02-26T10:19:49.165928Z",
     "shell.execute_reply": "2021-02-26T10:19:49.165928Z",
     "shell.execute_reply.started": "2021-02-26T10:19:48.112969Z"
    }
   },
   "outputs": [
    {
     "name": "stderr",
     "output_type": "stream",
     "text": [
      "C:\\Programs\\Anaconda3\\envs\\PyTorch_Env\\lib\\site-packages\\torch\\cuda\\__init__.py:52: UserWarning: CUDA initialization: Found no NVIDIA driver on your system. Please check that you have an NVIDIA GPU and installed a driver from http://www.nvidia.com/Download/index.aspx (Triggered internally at  ..\\c10\\cuda\\CUDAFunctions.cpp:100.)\n",
      "  return torch._C._cuda_getDeviceCount() > 0\n"
     ]
    }
   ],
   "source": [
    "#message passing\n",
    "from torch_geometric.nn import MessagePassing, EdgeConv\n",
    "from torch_geometric.nn import GCNConv\n",
    "\n",
    "from torch_geometric.data import Data, DataLoader\n",
    "\n",
    "from torch_geometric.utils import convert, get_laplacian, to_dense_adj #, add_self_loops, degree,\n",
    "\n",
    "from torch_geometric.typing import Adj#, Union#, Size, OptTensor\n",
    "\n",
    "from torch_sparse import matmul, SparseTensor\n"
   ]
  },
  {
   "cell_type": "markdown",
   "metadata": {},
   "source": [
    "### RunBuilder and RunManager"
   ]
  },
  {
   "cell_type": "code",
   "execution_count": 5,
   "metadata": {
    "execution": {
     "iopub.execute_input": "2021-02-26T10:19:49.166859Z",
     "iopub.status.busy": "2021-02-26T10:19:49.166859Z",
     "iopub.status.idle": "2021-02-26T10:19:49.169916Z",
     "shell.execute_reply": "2021-02-26T10:19:49.169916Z",
     "shell.execute_reply.started": "2021-02-26T10:19:49.166859Z"
    }
   },
   "outputs": [],
   "source": [
    "from collections import OrderedDict\n",
    "from collections import namedtuple\n",
    "from itertools import product\n",
    "\n",
    "from torch.utils.data import DataLoader\n",
    "#from torch.utils.tensorboard import SummaryWriter"
   ]
  },
  {
   "cell_type": "markdown",
   "metadata": {},
   "source": [
    "### Scikit-Learn"
   ]
  },
  {
   "cell_type": "code",
   "execution_count": 6,
   "metadata": {
    "execution": {
     "iopub.execute_input": "2021-02-26T10:19:49.170849Z",
     "iopub.status.busy": "2021-02-26T10:19:49.170849Z",
     "iopub.status.idle": "2021-02-26T10:19:49.176834Z",
     "shell.execute_reply": "2021-02-26T10:19:49.176834Z",
     "shell.execute_reply.started": "2021-02-26T10:19:49.170849Z"
    }
   },
   "outputs": [],
   "source": [
    "from sklearn.model_selection import train_test_split\n",
    "from sklearn.metrics import r2_score"
   ]
  },
  {
   "cell_type": "markdown",
   "metadata": {},
   "source": [
    "### Performance"
   ]
  },
  {
   "cell_type": "code",
   "execution_count": 7,
   "metadata": {
    "execution": {
     "iopub.execute_input": "2021-02-26T10:19:49.177832Z",
     "iopub.status.busy": "2021-02-26T10:19:49.177832Z",
     "iopub.status.idle": "2021-02-26T10:19:49.180823Z",
     "shell.execute_reply": "2021-02-26T10:19:49.180823Z",
     "shell.execute_reply.started": "2021-02-26T10:19:49.177832Z"
    }
   },
   "outputs": [],
   "source": [
    "# from joblib import Parallel, delayed"
   ]
  },
  {
   "cell_type": "markdown",
   "metadata": {},
   "source": [
    "### Visualization"
   ]
  },
  {
   "cell_type": "code",
   "execution_count": 8,
   "metadata": {
    "execution": {
     "iopub.execute_input": "2021-02-26T10:19:49.182818Z",
     "iopub.status.busy": "2021-02-26T10:19:49.182818Z",
     "iopub.status.idle": "2021-02-26T10:19:49.188802Z",
     "shell.execute_reply": "2021-02-26T10:19:49.188802Z",
     "shell.execute_reply.started": "2021-02-26T10:19:49.182818Z"
    }
   },
   "outputs": [],
   "source": [
    "import ipywidgets as widgets\n",
    "from IPython.display import clear_output, display\n",
    "import plotly.graph_objects as go"
   ]
  },
  {
   "cell_type": "markdown",
   "metadata": {},
   "source": [
    "### Custom"
   ]
  },
  {
   "cell_type": "code",
   "execution_count": 9,
   "metadata": {
    "execution": {
     "iopub.execute_input": "2021-02-26T10:19:49.190796Z",
     "iopub.status.busy": "2021-02-26T10:19:49.190796Z",
     "iopub.status.idle": "2021-02-26T10:19:49.198777Z",
     "shell.execute_reply": "2021-02-26T10:19:49.197779Z",
     "shell.execute_reply.started": "2021-02-26T10:19:49.190796Z"
    }
   },
   "outputs": [],
   "source": [
    "from wntr_to_nx import from_wntr_to_nx"
   ]
  },
  {
   "cell_type": "markdown",
   "metadata": {
    "collapsed": "true"
   },
   "source": [
    "## Utilities"
   ]
  },
  {
   "cell_type": "markdown",
   "metadata": {},
   "source": [
    "### Scaler"
   ]
  },
  {
   "cell_type": "code",
   "execution_count": 10,
   "metadata": {
    "execution": {
     "iopub.execute_input": "2021-02-26T10:19:49.199815Z",
     "iopub.status.busy": "2021-02-26T10:19:49.199815Z",
     "iopub.status.idle": "2021-02-26T10:19:49.204759Z",
     "shell.execute_reply": "2021-02-26T10:19:49.204759Z",
     "shell.execute_reply.started": "2021-02-26T10:19:49.199815Z"
    }
   },
   "outputs": [],
   "source": [
    "def scale(list_of_values, minT=None, maxT=None):\n",
    "    list_of_values = np.array(list_of_values)\n",
    "    if maxT is None:\n",
    "        maxT = max(list_of_values)\n",
    "    if minT is None:\n",
    "        minT = min(list_of_values)\n",
    "        \n",
    "    scaledList = (list_of_values - minT)/(maxT - minT)\n",
    "    return(scaledList)\n",
    "\n",
    "def rescale(scaledList, minT, maxT):\n",
    "    return(scaledList)*(maxT - minT) + minT"
   ]
  },
  {
   "cell_type": "markdown",
   "metadata": {},
   "source": [
    "### RunBuilder"
   ]
  },
  {
   "cell_type": "code",
   "execution_count": 11,
   "metadata": {
    "execution": {
     "iopub.execute_input": "2021-02-26T10:19:49.205756Z",
     "iopub.status.busy": "2021-02-26T10:19:49.205756Z",
     "iopub.status.idle": "2021-02-26T10:19:49.209746Z",
     "shell.execute_reply": "2021-02-26T10:19:49.209746Z",
     "shell.execute_reply.started": "2021-02-26T10:19:49.205756Z"
    }
   },
   "outputs": [],
   "source": [
    "class RunBuilder():\n",
    "    @staticmethod\n",
    "    def get_runs(params):\n",
    "\n",
    "        Run = namedtuple('Run', params.keys())\n",
    "\n",
    "        runs = []\n",
    "        for v in product(*params.values()):\n",
    "            runs.append(Run(*v))\n",
    "\n",
    "        return runs"
   ]
  },
  {
   "cell_type": "markdown",
   "metadata": {},
   "source": [
    "### Loading bar"
   ]
  },
  {
   "cell_type": "code",
   "execution_count": 12,
   "metadata": {
    "execution": {
     "iopub.execute_input": "2021-02-26T10:19:49.211744Z",
     "iopub.status.busy": "2021-02-26T10:19:49.210743Z",
     "iopub.status.idle": "2021-02-26T10:19:49.219720Z",
     "shell.execute_reply": "2021-02-26T10:19:49.219720Z",
     "shell.execute_reply.started": "2021-02-26T10:19:49.211744Z"
    }
   },
   "outputs": [],
   "source": [
    "f = widgets.IntProgress(\n",
    "    value=7,\n",
    "    min=0,\n",
    "    max=10,\n",
    "    step=1,\n",
    "    description='Loading:',\n",
    "    bar_style='', # 'success', 'info', 'warning', 'danger' or ''\n",
    "    orientation='horizontal'\n",
    ")"
   ]
  },
  {
   "cell_type": "markdown",
   "metadata": {},
   "source": [
    "### Graph R2"
   ]
  },
  {
   "cell_type": "code",
   "execution_count": 163,
   "metadata": {
    "execution": {
     "iopub.execute_input": "2021-02-26T11:08:51.349074Z",
     "iopub.status.busy": "2021-02-26T11:08:51.349074Z",
     "iopub.status.idle": "2021-02-26T11:08:51.353096Z",
     "shell.execute_reply": "2021-02-26T11:08:51.353096Z",
     "shell.execute_reply.started": "2021-02-26T11:08:51.349074Z"
    }
   },
   "outputs": [],
   "source": [
    "def graph_r2(model,graphs):\n",
    "    preds =[]\n",
    "    y = []\n",
    "    for g in graphs:\n",
    "        preds.append(model(g)[0].detach().numpy())\n",
    "        y.append(g.y.detach().numpy())\n",
    "    #print(preds, y)\n",
    "    r_squared = r2_score( np.array(y).flatten() , np.array(preds).flatten() )\n",
    "    return(r_squared)"
   ]
  },
  {
   "cell_type": "markdown",
   "metadata": {},
   "source": [
    "### Model Preds and Targets"
   ]
  },
  {
   "cell_type": "code",
   "execution_count": 14,
   "metadata": {
    "execution": {
     "iopub.execute_input": "2021-02-26T10:19:49.225703Z",
     "iopub.status.busy": "2021-02-26T10:19:49.225703Z",
     "iopub.status.idle": "2021-02-26T10:19:49.229693Z",
     "shell.execute_reply": "2021-02-26T10:19:49.229693Z",
     "shell.execute_reply.started": "2021-02-26T10:19:49.225703Z"
    }
   },
   "outputs": [],
   "source": [
    "def res_and_tar(model,graphs):\n",
    "    preds =[]\n",
    "    y = []\n",
    "    for g in graphs:\n",
    "        preds.append(model(g).mean().detach().numpy())\n",
    "        y.append(g.y.detach().numpy())\n",
    "    #print(preds, y)\n",
    "    #r_squared = r2_score( np.array(y).flatten() , np.array(preds).flatten() )\n",
    "    return(np.array(preds).flatten(), np.array(y).flatten())"
   ]
  },
  {
   "cell_type": "markdown",
   "metadata": {},
   "source": [
    "### Graph -results"
   ]
  },
  {
   "cell_type": "code",
   "execution_count": 15,
   "metadata": {
    "execution": {
     "iopub.execute_input": "2021-02-26T10:19:49.230689Z",
     "iopub.status.busy": "2021-02-26T10:19:49.230689Z",
     "iopub.status.idle": "2021-02-26T10:19:49.236674Z",
     "shell.execute_reply": "2021-02-26T10:19:49.236674Z",
     "shell.execute_reply.started": "2021-02-26T10:19:49.230689Z"
    }
   },
   "outputs": [],
   "source": [
    "def pred_vs_y_plotly(x_real_values_train, y_pred_values_train, x_real_values_test, y_pred_values_test):\n",
    "    fig = go.FigureWidget(data=go.Scatter(x=x_real_values_train, y=y_pred_values_train,  line={'dash': 'dash'}, name = 'Train'))\n",
    "\n",
    "    fig.add_trace(go.Scatter(x=x_real_values_test, y=y_pred_values_test,  line={'dash': 'dash'}, name='Test'))\n",
    "    #fig.add_trace(go.Scatter(x=x_axis, y=first_DB_pd['minPrPa'],  line={'dash': 'dash'}, name='Min. Res.'))\n",
    "\n",
    "\n",
    "    fig.update_traces(mode='markers',  marker_size=3)\n",
    "    fig.update_layout(title='Pred. vs Actual - Prasad & Park Resilience Index',\n",
    "                        xaxis_title=\"Real Index\",\n",
    "                        yaxis_title=\"Pred. Index\",\n",
    "                        legend_title=\"Legend\",\n",
    "                        legend= {'itemsizing': 'constant'},\n",
    "                        autosize=False,\n",
    "                        width=800,\n",
    "                        height=500,\n",
    "                        font=dict(\n",
    "                            #family=\"Courier New, monospace\",\n",
    "                            size=18,\n",
    "        ))\n",
    "    #yaxis_zeroline=False, xaxis_zeroline=False)\n",
    "    fig.update_layout(shapes=[\n",
    "    dict(\n",
    "      type= 'line',\n",
    "      yref= 'y', y0= -0.30, y1= 1,   # adding a horizontal line at Y = 1\n",
    "      xref= 'x', x0= -0.30, x1= 1\n",
    "         ) \n",
    "    ])\n",
    "\n",
    "    fig.update_xaxes(range=[-0.3, 1])\n",
    "    fig.update_yaxes(range=[-0.3, 1])\n",
    "    \n",
    "    return fig"
   ]
  },
  {
   "cell_type": "markdown",
   "metadata": {},
   "source": [
    "## Dataset "
   ]
  },
  {
   "cell_type": "markdown",
   "metadata": {},
   "source": [
    "### Loading inp and database"
   ]
  },
  {
   "cell_type": "code",
   "execution_count": 16,
   "metadata": {
    "execution": {
     "iopub.execute_input": "2021-02-26T10:19:49.237671Z",
     "iopub.status.busy": "2021-02-26T10:19:49.237671Z",
     "iopub.status.idle": "2021-02-26T10:19:49.456127Z",
     "shell.execute_reply": "2021-02-26T10:19:49.456127Z",
     "shell.execute_reply.started": "2021-02-26T10:19:49.237671Z"
    }
   },
   "outputs": [
    {
     "data": {
      "text/plain": [
       "(<matplotlib.collections.PathCollection at 0x242b4d4cf70>,\n",
       " <matplotlib.collections.LineCollection at 0x242b4d4c370>)"
      ]
     },
     "execution_count": 16,
     "metadata": {},
     "output_type": "execute_result"
    },
    {
     "data": {
      "image/png": "[encoded data removed]",
      "text/plain": [
       "<Figure size 432x288 with 1 Axes>"
      ]
     },
     "metadata": {},
     "output_type": "display_data"
    }
   ],
   "source": [
    "# Create a water network model\n",
    "inp_file = 'networks/Mod_AnyTown.inp'\n",
    "wn_WDS = wntr.network.WaterNetworkModel(inp_file)\n",
    "\n",
    "# Graph the network\n",
    "wntr.graphics.plot_network(wn_WDS, title=wn_WDS.name)\n",
    "\n",
    "# Simulate hydraulics\n",
    "# sim_WDS = wntr.sim.EpanetSimulator(wn_WDS)\n",
    "# results_WDS = sim_WDS.run_sim()"
   ]
  },
  {
   "cell_type": "code",
   "execution_count": 17,
   "metadata": {
    "execution": {
     "iopub.execute_input": "2021-02-26T10:19:49.457085Z",
     "iopub.status.busy": "2021-02-26T10:19:49.457085Z",
     "iopub.status.idle": "2021-02-26T10:20:01.151885Z",
     "shell.execute_reply": "2021-02-26T10:20:01.151885Z",
     "shell.execute_reply.started": "2021-02-26T10:19:49.457085Z"
    }
   },
   "outputs": [],
   "source": [
    "# Import database: contains information for all the simulations run\n",
    "try:\n",
    "    print(database is None)\n",
    "except:\n",
    "    database = pickle.load( open( \"Mod_AnyT_DB.p\", \"rb\" ))"
   ]
  },
  {
   "cell_type": "code",
   "execution_count": 18,
   "metadata": {
    "execution": {
     "iopub.execute_input": "2021-02-26T10:20:01.152851Z",
     "iopub.status.busy": "2021-02-26T10:20:01.152851Z",
     "iopub.status.idle": "2021-02-26T10:20:01.156841Z",
     "shell.execute_reply": "2021-02-26T10:20:01.156841Z",
     "shell.execute_reply.started": "2021-02-26T10:20:01.152851Z"
    }
   },
   "outputs": [
    {
     "data": {
      "text/plain": [
       "Index(['Sim_ID', 'Diams', 'wntrModel', 'EpanetSim', 'wntrResults',\n",
       "       'PrasadPark', 'Todini', 'maxPrPa', 'maxTod', 'minPrPa', 'minTod',\n",
       "       'avgPrPa', 'avgTod'],\n",
       "      dtype='object')"
      ]
     },
     "execution_count": 18,
     "metadata": {},
     "output_type": "execute_result"
    }
   ],
   "source": [
    "database.columns"
   ]
  },
  {
   "cell_type": "markdown",
   "metadata": {},
   "source": [
    "### Geometric Dataset"
   ]
  },
  {
   "cell_type": "markdown",
   "metadata": {},
   "source": [
    "The normalization of the diameters considers 0 as min diameter and 20 in as max diameter. \\\n",
    "AnyTown's diameters for the dataset are \\[6, 8, 10, 12, 14] in"
   ]
  },
  {
   "cell_type": "code",
   "execution_count": 133,
   "metadata": {
    "execution": {
     "iopub.execute_input": "2021-02-26T11:02:11.683349Z",
     "iopub.status.busy": "2021-02-26T11:02:11.683349Z",
     "iopub.status.idle": "2021-02-26T11:02:22.864572Z",
     "shell.execute_reply": "2021-02-26T11:02:22.864572Z",
     "shell.execute_reply.started": "2021-02-26T11:02:11.683349Z"
    }
   },
   "outputs": [],
   "source": [
    "graphs = []\n",
    "res_index = []\n",
    "for i in range(len(database)):\n",
    "    diams_n = dict(zip(wn_WDS.link_name_list, list(scale(database.loc[i]['Diams'], minT=0, maxT=20)))) #diam\n",
    "    #sG_WDS=from_wntr_to_nx(wn_WDS)\n",
    "    G_WDS = wn_WDS.get_graph(link_weight=diams_n) # directed multigraph\n",
    "    #A_WDS = nx.adjacency_matrix(G_WDS)\n",
    "    uG_WDS = G_WDS.to_undirected()\n",
    "    #A_WDS = nx.normalized_laplacian_matrix(uG_WDS)\n",
    "    #A_WDS -=  identity(21)\n",
    "    sG_WDS = nx.Graph(uG_WDS)\n",
    "    pg_sG_WDS = convert.from_networkx(sG_WDS)\n",
    "    \n",
    "    graphs.append(pg_sG_WDS)\n",
    "    graphs[i].y = torch.tensor(scale(database.loc[i]['avgPrPa'].reshape(-1,1), minT = -1, maxT=1), dtype=torch.float32)\n",
    "    graphs[i].x = torch.ones(21,1)\n",
    "    #graphs[i].diams_n=graphs[i].diameter/20\n",
    "    graphs[i].weight=graphs[i].weight.reshape(graphs[i].weight.shape[0],1)"
   ]
  },
  {
   "cell_type": "code",
   "execution_count": 135,
   "metadata": {
    "execution": {
     "iopub.execute_input": "2021-02-26T11:02:31.208159Z",
     "iopub.status.busy": "2021-02-26T11:02:31.208159Z",
     "iopub.status.idle": "2021-02-26T11:02:31.218133Z",
     "shell.execute_reply": "2021-02-26T11:02:31.218133Z",
     "shell.execute_reply.started": "2021-02-26T11:02:31.208159Z"
    },
    "scrolled": true
   },
   "outputs": [
    {
     "data": {
      "text/plain": [
       "(tensor([[0.5000, 0.3000, 0.6000, 0.3000, 0.6000, 0.3000, 0.5000, 0.3000, 0.6000,\n",
       "          0.3000, 0.3000, 0.3000, 0.6000, 0.4000, 0.4000, 0.4000, 0.7000, 0.5000,\n",
       "          0.5000, 0.7000, 0.5000, 0.5000, 0.5000, 0.3000, 0.5000, 0.4000, 0.5000,\n",
       "          0.7000, 0.3000, 0.3000, 0.6000, 0.5000, 0.4000, 0.4000, 0.4000, 0.5000,\n",
       "          0.5000, 0.4000, 0.3000, 0.7000, 0.4000, 0.7000, 0.5000, 0.4000, 0.5000,\n",
       "          0.6000, 0.5000, 0.7000, 0.4000, 0.3000, 0.4000, 0.4000, 0.5000, 0.4000,\n",
       "          0.4000, 0.3000, 0.7000, 0.4000, 0.3000, 0.4000, 0.4000, 0.7000, 0.3000,\n",
       "          0.4000, 0.4000, 0.3000, 0.5000, 0.7000, 0.4000, 0.4000, 0.7000, 0.5000,\n",
       "          0.3000, 0.3000, 0.4000, 0.6000, 0.7000, 0.4000, 0.7000, 0.6000]],\n",
       "        dtype=torch.float64),\n",
       " tensor([[ 0,  0,  0,  1,  1,  1,  1,  1,  2,  2,  3,  3,  3,  3,  3,  4,  4,  5,\n",
       "           5,  5,  5,  5,  6,  6,  6,  6,  6,  7,  7,  7,  8,  8,  8,  8,  8,  9,\n",
       "           9,  9,  9,  9, 10, 10, 10, 10, 10, 11, 11, 11, 11, 12, 12, 13, 13, 13,\n",
       "          14, 14, 14, 15, 15, 15, 15, 15, 15, 15, 16, 16, 16, 16, 16, 17, 17, 17,\n",
       "          17, 17, 17, 17, 18, 18, 19, 20],\n",
       "         [ 6,  1, 11,  0,  2,  3,  5,  6,  1,  3,  1,  2,  8, 15,  4,  3,  7,  1,\n",
       "           8, 19,  6,  9,  0,  1,  5, 10,  9,  4, 12, 15,  3,  5, 15,  9, 16,  5,\n",
       "           6,  8, 16, 10,  6,  9, 16, 17, 11,  0, 10, 17, 13,  7, 15, 11, 17, 14,\n",
       "          13, 17, 18,  3,  7,  8, 12, 16, 17, 18,  8,  9, 10, 15, 17, 10, 11, 13,\n",
       "          14, 15, 16, 20, 14, 15,  5, 17]]))"
      ]
     },
     "execution_count": 135,
     "metadata": {},
     "output_type": "execute_result"
    }
   ],
   "source": [
    "#Example of the normalized weights in the adjacency matrix (as edge index and edge weight)\n",
    "graphs[3].weight.t(), graphs[3].edge_index\n",
    "#graphs[3].diams_n.t(), graphs[3].edge_index"
   ]
  },
  {
   "cell_type": "code",
   "execution_count": 138,
   "metadata": {
    "execution": {
     "iopub.execute_input": "2021-02-26T11:02:40.222232Z",
     "iopub.status.busy": "2021-02-26T11:02:40.222232Z",
     "iopub.status.idle": "2021-02-26T11:02:40.225224Z",
     "shell.execute_reply": "2021-02-26T11:02:40.225224Z",
     "shell.execute_reply.started": "2021-02-26T11:02:40.222232Z"
    }
   },
   "outputs": [],
   "source": [
    "#graphs[3].base_head"
   ]
  },
  {
   "cell_type": "code",
   "execution_count": 139,
   "metadata": {
    "execution": {
     "iopub.execute_input": "2021-02-26T11:02:40.721902Z",
     "iopub.status.busy": "2021-02-26T11:02:40.721902Z",
     "iopub.status.idle": "2021-02-26T11:02:40.727886Z",
     "shell.execute_reply": "2021-02-26T11:02:40.727886Z",
     "shell.execute_reply.started": "2021-02-26T11:02:40.721902Z"
    }
   },
   "outputs": [
    {
     "data": {
      "text/plain": [
       "tensor([[0.6942]])"
      ]
     },
     "execution_count": 139,
     "metadata": {},
     "output_type": "execute_result"
    }
   ],
   "source": [
    "graphs[3].y"
   ]
  },
  {
   "cell_type": "markdown",
   "metadata": {},
   "source": [
    "## **Message Passing**"
   ]
  },
  {
   "cell_type": "markdown",
   "metadata": {},
   "source": [
    "**MessagePassing(aggr=\"add\", flow=\"source_to_target\", node_dim=-2):** \\\n",
    "Defines the aggregation scheme to use (\"add\", \"mean\" or \"max\") and the flow direction of message passing (either \"source_to_target\" or \"target_to_source\"). Furthermore, the node_dim attribute indicates along which axis to propagate."
   ]
  },
  {
   "cell_type": "markdown",
   "metadata": {},
   "source": [
    "$${\\huge \\mathbf{x}_i^{\\prime} = \\gamma_{\\mathbf{\\Theta}} \\left( \\mathbf{x}_i,\n",
    "\\square_{j \\in \\mathcal{N}(i)} \\, \\phi_{\\mathbf{\\Theta}}\n",
    "\\left(\\mathbf{x}_i, \\mathbf{x}_j,\\mathbf{e}_{j,i}\\right) \\right) }$$ \n",
    "\n",
    "where $\\square$ denotes a differentiable, permutation invariant function, e.g., sum, mean or max, and $\\gamma_{\\mathbf{\\Theta}}$ and $ \\phi_{\\mathbf{\\Theta}}$ denote differentiable functions such as MLPs.\n",
    "Source: [PyTorch Geometric](https://pytorch-geometric.readthedocs.io/en/latest/notes/create_gnn.html)"
   ]
  },
  {
   "cell_type": "markdown",
   "metadata": {},
   "source": [
    "### Layer definition"
   ]
  },
  {
   "cell_type": "markdown",
   "metadata": {},
   "source": [
    "#### Graph filter"
   ]
  },
  {
   "cell_type": "code",
   "execution_count": 140,
   "metadata": {
    "execution": {
     "iopub.execute_input": "2021-02-26T11:02:43.257924Z",
     "iopub.status.busy": "2021-02-26T11:02:43.256926Z",
     "iopub.status.idle": "2021-02-26T11:02:43.265902Z",
     "shell.execute_reply": "2021-02-26T11:02:43.265902Z",
     "shell.execute_reply.started": "2021-02-26T11:02:43.257924Z"
    }
   },
   "outputs": [],
   "source": [
    "class G_filter_K(MessagePassing):\n",
    "    def __init__(self, units, aggr = 'add', K = 1):\n",
    "        self.aggr = aggr #add, mean, max\n",
    "        self.K = K\n",
    "        super(G_filter_K, self).__init__(aggr=self.aggr)  #\"add\", \"mean\" or \"max\"\n",
    "        self.in_features, self.out_features = units\n",
    "        #super(ParameterList, self).__init__()\n",
    "#         self.H = nn.ParameterList([nn.Parameter(torch.randn(self.in_features, self.out_features)) for _ in range(K+1)])\n",
    "        self.H = nn.ParameterList()\n",
    "        for j in range(K+1):\n",
    "            self.H.append(nn.Parameter(torch.randn(self.in_features, self.out_features)))\n",
    "        \n",
    "    def forward(self, x: Tensor, edge_attr: Tensor, edge_index: Adj):\n",
    "        #First step. This is the deepest part of the MP framework.\n",
    "        #Some preprocessing of the node or edge attributes may be \n",
    "        #made before the propagation\n",
    "        \n",
    "        #For activating message_and_aggregate() it is required that the edge index is a SparseTensor\n",
    "        #edge_index = SparseTensor.from_edge_index(edge_index, edge_attr=edge_attr)\n",
    "        \n",
    "        accum_result = torch.matmul(x, self.H[0])\n",
    "        for k in range(1,self.K):\n",
    "            x = self.propagate(edge_index, x=x, edge_weight=edge_attr,\n",
    "                               size=None)\n",
    "            accum_result += torch.matmul(x, self.H[k])\n",
    "        \n",
    "        return accum_result\n",
    "        \n",
    "        #ans = self.propagate(edge_index, x=x, edge_weight=edge_attr)\n",
    "        #return ans\n",
    "          \n",
    "    def update(self, messages, x):\n",
    "        #This is the UPDATE function, it receives the message from \n",
    "        #the nodes and the own information. \n",
    "        # Naming of the parameters impacts the function!! \n",
    "        ###   x_i != x\n",
    "        # x_i has dimension (edges x 2) \n",
    "        # x   has dimension (nodes x node_features)\n",
    "        \n",
    "        return messages #+1*x #Dummy example of an update function involving the message and the self value\n",
    "\n",
    "    def message(self, x_j: Tensor, edge_weight: Tensor) -> Tensor:\n",
    "#         #This is the Message function. \n",
    "#         #It is useful to think about this one at a node level. Just one node i interacting with node j\n",
    "#         #Notation of the parameters x_i: self information of the node, x_j: information of the neighbor\n",
    "#         #edge_weight is the weight or value ei_j of the edge that connects the nodes i and j\n",
    "#         msg= x_i + edge_weight\n",
    "#         return msg\n",
    "        #print('message')\n",
    "        return edge_weight.view(-1, 1) * x_j\n",
    "        #return x_j\n",
    "\n",
    "    def message_and_aggregate(self, adj_t: SparseTensor, x: Tensor) -> Tensor:\n",
    "        #This function only is activated when the edge_index at propagate() is a SparseTensor.\n",
    "        #It is equivalent to the message function, but a graph level. #adj_t is the Shift Operator in Sparse form.\n",
    "        #print(\"message and aggregate\")\n",
    "        #print(adj_t)\n",
    "        return matmul(adj_t, x, reduce=self.aggr)\n",
    "\n",
    "    def __repr__(self):\n",
    "        return '{}(in_f={}, out_f={},aggr={}, K={})'.format(self.__class__.__name__,self.in_features,self.out_features, self.aggr, self.K)\n",
    "        "
   ]
  },
  {
   "cell_type": "markdown",
   "metadata": {},
   "source": [
    "#### NNConv"
   ]
  },
  {
   "cell_type": "markdown",
   "metadata": {},
   "source": [
    "### Model definition"
   ]
  },
  {
   "cell_type": "code",
   "execution_count": 143,
   "metadata": {
    "execution": {
     "iopub.execute_input": "2021-02-26T11:02:48.678002Z",
     "iopub.status.busy": "2021-02-26T11:02:48.678002Z",
     "iopub.status.idle": "2021-02-26T11:02:48.680966Z",
     "shell.execute_reply": "2021-02-26T11:02:48.680966Z",
     "shell.execute_reply.started": "2021-02-26T11:02:48.678002Z"
    }
   },
   "outputs": [],
   "source": [
    "# len(graphs[3].diams_n)\n",
    "#len(torch.reshape(graphs[3].diams_n, (-1,)).to(dtype=torch.float))\n",
    "#len(graphs[3].base_demand)"
   ]
  },
  {
   "cell_type": "code",
   "execution_count": 144,
   "metadata": {
    "execution": {
     "iopub.execute_input": "2021-02-26T11:02:49.161834Z",
     "iopub.status.busy": "2021-02-26T11:02:49.161834Z",
     "iopub.status.idle": "2021-02-26T11:02:49.165819Z",
     "shell.execute_reply": "2021-02-26T11:02:49.165819Z",
     "shell.execute_reply.started": "2021-02-26T11:02:49.161834Z"
    }
   },
   "outputs": [],
   "source": [
    "gk = G_filter_K(units = [1, 32], aggr ='add', K = 2)"
   ]
  },
  {
   "cell_type": "code",
   "execution_count": 146,
   "metadata": {
    "execution": {
     "iopub.execute_input": "2021-02-26T11:02:56.507216Z",
     "iopub.status.busy": "2021-02-26T11:02:56.507216Z",
     "iopub.status.idle": "2021-02-26T11:02:56.510172Z",
     "shell.execute_reply": "2021-02-26T11:02:56.510172Z",
     "shell.execute_reply.started": "2021-02-26T11:02:56.507216Z"
    },
    "scrolled": true
   },
   "outputs": [],
   "source": [
    "#data = graphs[3]\n",
    "#gk(torch.ones(21,1), torch.reshape(data.diams_n, (-1,)).to(dtype=torch.float), data.edge_index)"
   ]
  },
  {
   "cell_type": "code",
   "execution_count": 148,
   "metadata": {
    "execution": {
     "iopub.execute_input": "2021-02-26T11:03:00.716575Z",
     "iopub.status.busy": "2021-02-26T11:03:00.715617Z",
     "iopub.status.idle": "2021-02-26T11:03:00.719568Z",
     "shell.execute_reply": "2021-02-26T11:03:00.719568Z",
     "shell.execute_reply.started": "2021-02-26T11:03:00.716575Z"
    }
   },
   "outputs": [],
   "source": [
    "#torch.reshape(data.base_demand,(-1,1)),torch.reshape(data.elevation,(-1,1))"
   ]
  },
  {
   "cell_type": "code",
   "execution_count": 164,
   "metadata": {
    "execution": {
     "iopub.execute_input": "2021-02-26T11:08:59.774299Z",
     "iopub.status.busy": "2021-02-26T11:08:59.774299Z",
     "iopub.status.idle": "2021-02-26T11:08:59.780254Z",
     "shell.execute_reply": "2021-02-26T11:08:59.780254Z",
     "shell.execute_reply.started": "2021-02-26T11:08:59.774299Z"
    }
   },
   "outputs": [],
   "source": [
    "class Net(nn.Module):\n",
    "    def __init__(self, hid_units, K):\n",
    "        super(Net, self).__init__()\n",
    "        self.K = K\n",
    "        self.hid_units = hid_units\n",
    "        self.conv1 = G_filter_K(units = [1, self.hid_units], aggr ='add', K = self.K)\n",
    "        self.conv2 = G_filter_K(units = [self.hid_units, self.hid_units], aggr ='add', K = self.K)\n",
    "        self.conv3 = G_filter_K(units = [self.hid_units, self.hid_units], aggr ='add', K = self.K)\n",
    "        self.fc1 = nn.Linear(self.hid_units,1)\n",
    "\n",
    "    def forward(self, data):\n",
    "        \n",
    "#         x, edge_attr, edge_index =  torch.reshape(data.base_head+data.elevation,(-1,1)), torch.reshape(data.diams_n, (-1,)).to(dtype=torch.float), data.edge_index\n",
    "        x, edge_attr, edge_index =  data.x, torch.reshape(data.weight, (-1,)).to(dtype=torch.float), data.edge_index\n",
    "        \n",
    "        x = self.conv1(x, edge_attr, edge_index)\n",
    "        x = torch.sigmoid(x)\n",
    "        \n",
    "        x = self.conv2(x, edge_attr, edge_index)\n",
    "        x = torch.sigmoid(x)\n",
    "        \n",
    "#         x = self.conv3(x, edge_attr, edge_index)\n",
    "#         x = torch.sigmoid(x)\n",
    "        \n",
    "        x = self.fc1(x)\n",
    "        x = torch.sigmoid(x)\n",
    "\n",
    "        return x.mean(), x\n",
    "    \n",
    "    # Calculates the number of parameters for each layer (weights and biases are summed together)\n",
    "    def N_parameters(self):\n",
    "        self.num_params = []\n",
    "#         i = 0\n",
    "        \n",
    "        for parameter in self.parameters():\n",
    "            self.num_params.append(torch.numel(parameter))\n",
    "\n",
    "        return self.num_params"
   ]
  },
  {
   "cell_type": "markdown",
   "metadata": {},
   "source": [
    "## Training"
   ]
  },
  {
   "cell_type": "markdown",
   "metadata": {},
   "source": [
    "### Hyperparameters"
   ]
  },
  {
   "cell_type": "code",
   "execution_count": 165,
   "metadata": {
    "execution": {
     "iopub.execute_input": "2021-02-26T11:09:00.254953Z",
     "iopub.status.busy": "2021-02-26T11:09:00.253957Z",
     "iopub.status.idle": "2021-02-26T11:09:00.257945Z",
     "shell.execute_reply": "2021-02-26T11:09:00.257945Z",
     "shell.execute_reply.started": "2021-02-26T11:09:00.254953Z"
    }
   },
   "outputs": [],
   "source": [
    "#N_epochs = 1000\n",
    "params = OrderedDict(\n",
    "    lr = [1e-4]\n",
    "    ,weight_decay=[0]\n",
    "    ,N_epochs = [60]\n",
    "    ,hid_units = [32]\n",
    "    ,K = [2]\n",
    "    #,batch_size = [50] #T.B.I\n",
    ")\n",
    "\n",
    "report_freq=5"
   ]
  },
  {
   "cell_type": "code",
   "execution_count": 166,
   "metadata": {
    "execution": {
     "iopub.execute_input": "2021-02-26T11:09:00.714644Z",
     "iopub.status.busy": "2021-02-26T11:09:00.714644Z",
     "iopub.status.idle": "2021-02-26T11:09:00.718633Z",
     "shell.execute_reply": "2021-02-26T11:09:00.718633Z",
     "shell.execute_reply.started": "2021-02-26T11:09:00.714644Z"
    }
   },
   "outputs": [],
   "source": [
    "runs = RunBuilder.get_runs(params)"
   ]
  },
  {
   "cell_type": "code",
   "execution_count": 167,
   "metadata": {
    "execution": {
     "iopub.execute_input": "2021-02-26T11:09:00.720629Z",
     "iopub.status.busy": "2021-02-26T11:09:00.720629Z",
     "iopub.status.idle": "2021-02-26T11:09:00.725614Z",
     "shell.execute_reply": "2021-02-26T11:09:00.725614Z",
     "shell.execute_reply.started": "2021-02-26T11:09:00.720629Z"
    }
   },
   "outputs": [
    {
     "data": {
      "text/plain": [
       "[Run(lr=0.0001, weight_decay=0, N_epochs=60, hid_units=32, K=2)]"
      ]
     },
     "execution_count": 167,
     "metadata": {},
     "output_type": "execute_result"
    }
   ],
   "source": [
    "runs"
   ]
  },
  {
   "cell_type": "markdown",
   "metadata": {},
   "source": [
    "### Data split"
   ]
  },
  {
   "cell_type": "code",
   "execution_count": 168,
   "metadata": {
    "execution": {
     "iopub.execute_input": "2021-02-26T11:09:01.558674Z",
     "iopub.status.busy": "2021-02-26T11:09:01.558674Z",
     "iopub.status.idle": "2021-02-26T11:09:01.563660Z",
     "shell.execute_reply": "2021-02-26T11:09:01.563660Z",
     "shell.execute_reply.started": "2021-02-26T11:09:01.558674Z"
    }
   },
   "outputs": [],
   "source": [
    "seed = 1135\n",
    "train_size = int(0.8 * len(graphs))\n",
    "val_size = int(0.1 * len(graphs))\n",
    "test_size = len(graphs) -val_size - train_size\n",
    "train_dataset, val_dataset, test_dataset = torch.utils.data.random_split(graphs, [train_size, val_size, test_size],generator=torch.Generator().manual_seed(seed))"
   ]
  },
  {
   "cell_type": "markdown",
   "metadata": {},
   "source": [
    "### Forward and Backpropagation"
   ]
  },
  {
   "cell_type": "markdown",
   "metadata": {},
   "source": [
    "#### One-Batch training"
   ]
  },
  {
   "cell_type": "code",
   "execution_count": 169,
   "metadata": {
    "execution": {
     "iopub.execute_input": "2021-02-26T11:09:03.083244Z",
     "iopub.status.busy": "2021-02-26T11:09:03.083244Z",
     "iopub.status.idle": "2021-02-26T11:14:48.549212Z",
     "shell.execute_reply": "2021-02-26T11:14:48.548257Z",
     "shell.execute_reply.started": "2021-02-26T11:09:03.083244Z"
    },
    "scrolled": true
   },
   "outputs": [
    {
     "data": {
      "application/vnd.jupyter.widget-view+json": {
       "model_id": "f84a0be1ae6642b1978373d7a6adeb52",
       "version_major": 2,
       "version_minor": 0
      },
      "text/plain": [
       "IntProgress(value=1, description='Loading...', max=60)"
      ]
     },
     "metadata": {},
     "output_type": "display_data"
    },
    {
     "name": "stdout",
     "output_type": "stream",
     "text": [
      "-------------------New configuration-------------------\n",
      "\t epoch  0 \t  total loss:   38.1251 \t R2:  0.0297\n",
      "\t epoch  5 \t  total loss:   12.7261 \t R2:  0.2186\n",
      "\t epoch  10 \t  total loss:   11.0649 \t R2:  0.3154\n",
      "\t epoch  15 \t  total loss:   10.2162 \t R2:  0.3652\n",
      "\t epoch  20 \t  total loss:   9.6757 \t R2:  0.399\n",
      "\t epoch  25 \t  total loss:   9.1112 \t R2:  0.4347\n",
      "\t epoch  30 \t  total loss:   8.6879 \t R2:  0.4608\n",
      "\t epoch  35 \t  total loss:   8.3514 \t R2:  0.4816\n",
      "\t epoch  40 \t  total loss:   8.1343 \t R2:  0.4948\n",
      "\t epoch  45 \t  total loss:   7.997 \t R2:  0.5032\n",
      "\t epoch  50 \t  total loss:   7.904 \t R2:  0.5089\n",
      "\t epoch  55 \t  total loss:   7.8375 \t R2:  0.513\n",
      "\t epoch  59 \t  total loss:   7.7965 \t R2:  0.5155\n",
      "-Run(lr=0.0001, weight_decay=0, N_epochs=60, hid_units=32, K=2) 345.35 seconds\n",
      "Total parameters: \t 6273 \n",
      "\n"
     ]
    }
   ],
   "source": [
    "f.description = 'Loading...'\n",
    "display(f)\n",
    "device = torch.device('cuda' if torch.cuda.is_available() else 'cpu')\n",
    "\n",
    "for run in RunBuilder.get_runs(params):\n",
    "    print(\"-------------------New configuration-------------------\")\n",
    "    model = Net(hid_units = run.hid_units, K=run.K).to(device)\n",
    "    start_time = time.time()\n",
    "    optimizer = torch.optim.Adam(model.parameters(), lr=run.lr, weight_decay=run.weight_decay)\n",
    "    f.value = 0\n",
    "    f.max = run.N_epochs\n",
    "    model.train()\n",
    "    for epoch in range(run.N_epochs):\n",
    "        total_loss= 0\n",
    "        \n",
    "        for training_graph in train_dataset:\n",
    "            pred = model(training_graph)[0]\n",
    "            target = training_graph.y\n",
    "            loss = F.mse_loss(pred.reshape(-1,1), target.reshape(-1,1))            \n",
    "            loss.to(torch.float32)\n",
    "            total_loss += loss\n",
    "        \n",
    "            #total_loss /= len(train_dataset)\n",
    "            #total_loss = total_loss.to(torch.float32)\n",
    "            optimizer.zero_grad()\n",
    "            loss.backward()\n",
    "            optimizer.step()\n",
    "        \n",
    "        f.value += 1\n",
    "        f.description = 'Epoch {}/{}'.format(epoch+1,f.max)\n",
    "        if epoch%report_freq == 0 or epoch == run.N_epochs-1:\n",
    "            #print(model.conv1.H[0])\n",
    "            r2 = np.round(graph_r2(model, train_dataset), 4)\n",
    "            print('\\t', \"epoch \", epoch, '\\t',\" total loss:  \", np.round(total_loss.item(),4), '\\t', 'R2: ', r2)\n",
    "            \n",
    "    comment = f'-{run}'\n",
    "    execution_time=np.round((time.time() - start_time), 2)\n",
    "    print(comment, execution_time, 'seconds')\n",
    "    print('Total parameters:','\\t', np.array(model.N_parameters()).sum(), \"\\n\")\n",
    "    \n",
    "winsound.Beep(1000, 100) #Ending sound\n"
   ]
  },
  {
   "cell_type": "code",
   "execution_count": null,
   "metadata": {
    "execution": {
     "iopub.status.busy": "2021-02-26T11:01:42.095394Z",
     "iopub.status.idle": "2021-02-26T11:01:42.095394Z"
    }
   },
   "outputs": [],
   "source": [
    "for i in range(10):\n",
    "    print(model(graphs[i]))"
   ]
  },
  {
   "cell_type": "code",
   "execution_count": 232,
   "metadata": {
    "execution": {
     "iopub.execute_input": "2021-02-26T11:34:19.976782Z",
     "iopub.status.busy": "2021-02-26T11:34:19.975809Z",
     "iopub.status.idle": "2021-02-26T11:34:19.981769Z",
     "shell.execute_reply": "2021-02-26T11:34:19.981769Z",
     "shell.execute_reply.started": "2021-02-26T11:34:19.976782Z"
    }
   },
   "outputs": [],
   "source": [
    "a, b = model(graphs[-1])[0], model(graphs[-1])[1].detach().numpy()"
   ]
  },
  {
   "cell_type": "code",
   "execution_count": 233,
   "metadata": {
    "execution": {
     "iopub.execute_input": "2021-02-26T11:34:23.348985Z",
     "iopub.status.busy": "2021-02-26T11:34:23.348985Z",
     "iopub.status.idle": "2021-02-26T11:34:23.353004Z",
     "shell.execute_reply": "2021-02-26T11:34:23.353004Z",
     "shell.execute_reply.started": "2021-02-26T11:34:23.348985Z"
    }
   },
   "outputs": [
    {
     "data": {
      "text/plain": [
       "tensor(0.6622, grad_fn=<MeanBackward0>)"
      ]
     },
     "execution_count": 233,
     "metadata": {},
     "output_type": "execute_result"
    }
   ],
   "source": [
    "a"
   ]
  },
  {
   "cell_type": "code",
   "execution_count": null,
   "metadata": {},
   "outputs": [],
   "source": []
  },
  {
   "cell_type": "code",
   "execution_count": 183,
   "metadata": {
    "execution": {
     "iopub.execute_input": "2021-02-26T11:17:05.986707Z",
     "iopub.status.busy": "2021-02-26T11:17:05.986707Z",
     "iopub.status.idle": "2021-02-26T11:17:05.990696Z",
     "shell.execute_reply": "2021-02-26T11:17:05.990696Z",
     "shell.execute_reply.started": "2021-02-26T11:17:05.986707Z"
    }
   },
   "outputs": [
    {
     "name": "stdout",
     "output_type": "stream",
     "text": [
      "0.7371584\n",
      "0.57573164\n",
      "0.88126034\n",
      "0.5991537\n",
      "0.8161363\n",
      "0.5977639\n",
      "0.6336391\n",
      "0.5693125\n",
      "0.70629174\n",
      "0.702073\n",
      "0.62919104\n",
      "0.64857864\n",
      "0.84823895\n",
      "0.74637103\n",
      "0.6388566\n",
      "0.5704113\n",
      "0.76099145\n",
      "0.51795447\n",
      "0.83995485\n",
      "0.0025988976\n",
      "0.8848422\n"
     ]
    }
   ],
   "source": [
    "for i in b:\n",
    "    print(i[0])"
   ]
  },
  {
   "cell_type": "code",
   "execution_count": 186,
   "metadata": {
    "execution": {
     "iopub.execute_input": "2021-02-26T11:17:49.815467Z",
     "iopub.status.busy": "2021-02-26T11:17:49.814445Z",
     "iopub.status.idle": "2021-02-26T11:17:49.819430Z",
     "shell.execute_reply": "2021-02-26T11:17:49.819430Z",
     "shell.execute_reply.started": "2021-02-26T11:17:49.815467Z"
    }
   },
   "outputs": [
    {
     "name": "stdout",
     "output_type": "stream",
     "text": [
      "20\n",
      "30\n",
      "40\n",
      "50\n",
      "55\n",
      "60\n",
      "70\n",
      "75\n",
      "80\n",
      "90\n",
      "100\n",
      "110\n",
      "115\n",
      "120\n",
      "130\n",
      "140\n",
      "150\n",
      "160\n",
      "170\n",
      "65\n",
      "165\n"
     ]
    }
   ],
   "source": [
    "for i in wn_WDS.node_name_list:\n",
    "    print(i)"
   ]
  },
  {
   "cell_type": "code",
   "execution_count": 194,
   "metadata": {
    "execution": {
     "iopub.execute_input": "2021-02-26T11:20:34.498705Z",
     "iopub.status.busy": "2021-02-26T11:20:34.497707Z",
     "iopub.status.idle": "2021-02-26T11:20:34.502694Z",
     "shell.execute_reply": "2021-02-26T11:20:34.501697Z",
     "shell.execute_reply.started": "2021-02-26T11:20:34.498705Z"
    }
   },
   "outputs": [],
   "source": [
    "a = database.iloc[-1].wntrModel"
   ]
  },
  {
   "cell_type": "code",
   "execution_count": 224,
   "metadata": {
    "execution": {
     "iopub.execute_input": "2021-02-26T11:32:07.763334Z",
     "iopub.status.busy": "2021-02-26T11:32:07.763334Z",
     "iopub.status.idle": "2021-02-26T11:32:07.766328Z",
     "shell.execute_reply": "2021-02-26T11:32:07.766328Z",
     "shell.execute_reply.started": "2021-02-26T11:32:07.763334Z"
    }
   },
   "outputs": [],
   "source": [
    "b = a.get_links_for_node('65')"
   ]
  },
  {
   "cell_type": "code",
   "execution_count": 225,
   "metadata": {
    "execution": {
     "iopub.execute_input": "2021-02-26T11:32:08.213125Z",
     "iopub.status.busy": "2021-02-26T11:32:08.212102Z",
     "iopub.status.idle": "2021-02-26T11:32:08.225098Z",
     "shell.execute_reply": "2021-02-26T11:32:08.225098Z",
     "shell.execute_reply.started": "2021-02-26T11:32:08.213125Z"
    }
   },
   "outputs": [
    {
     "ename": "TypeError",
     "evalue": "write() missing 1 required positional argument: 'wn'",
     "output_type": "error",
     "traceback": [
      "\u001b[1;31m---------------------------------------------------------------------------\u001b[0m",
      "\u001b[1;31mTypeError\u001b[0m                                 Traceback (most recent call last)",
      "\u001b[1;32m<ipython-input-225-7eaa1f6e2351>\u001b[0m in \u001b[0;36m<module>\u001b[1;34m\u001b[0m\n\u001b[1;32m----> 1\u001b[1;33m \u001b[0mwntr\u001b[0m\u001b[1;33m.\u001b[0m\u001b[0mepanet\u001b[0m\u001b[1;33m.\u001b[0m\u001b[0mio\u001b[0m\u001b[1;33m.\u001b[0m\u001b[0mInpFile\u001b[0m\u001b[1;33m.\u001b[0m\u001b[0mwrite\u001b[0m\u001b[1;33m(\u001b[0m\u001b[1;34m'trial_local.inp'\u001b[0m\u001b[1;33m,\u001b[0m \u001b[0ma\u001b[0m\u001b[1;33m)\u001b[0m\u001b[1;33m\u001b[0m\u001b[1;33m\u001b[0m\u001b[0m\n\u001b[0m",
      "\u001b[1;31mTypeError\u001b[0m: write() missing 1 required positional argument: 'wn'"
     ]
    }
   ],
   "source": [
    "wntr.epanet.io.InpFile.write('trial_local.inp', a)"
   ]
  },
  {
   "cell_type": "code",
   "execution_count": 226,
   "metadata": {
    "execution": {
     "iopub.execute_input": "2021-02-26T11:32:11.924922Z",
     "iopub.status.busy": "2021-02-26T11:32:11.923892Z",
     "iopub.status.idle": "2021-02-26T11:32:11.930875Z",
     "shell.execute_reply": "2021-02-26T11:32:11.929877Z",
     "shell.execute_reply.started": "2021-02-26T11:32:11.924922Z"
    },
    "scrolled": true
   },
   "outputs": [
    {
     "name": "stdout",
     "output_type": "stream",
     "text": [
      "('2', <Pipe '2' from '20' to '70', length=3657.6000000000004, diameter=0.30479999999999996, roughness=70.0, minor_loss=0.0, check_valve=False, status=Open>)\n",
      "('4', <Pipe '4' from '20' to '30', length=3657.6000000000004, diameter=0.35559999999999997, roughness=120.0, minor_loss=0.0, check_valve=False, status=Open>)\n",
      "('6', <Pipe '6' from '20' to '110', length=3657.6000000000004, diameter=0.15239999999999998, roughness=70.0, minor_loss=0.0, check_valve=False, status=Open>)\n",
      "('8', <Pipe '8' from '70' to '30', length=2743.2000000000003, diameter=0.2032, roughness=70.0, minor_loss=0.0, check_valve=False, status=Open>)\n",
      "('10', <Pipe '10' from '70' to '100', length=182.88, diameter=0.2032, roughness=70.0, minor_loss=0.0, check_valve=False, status=Open>)\n",
      "('12', <Pipe '12' from '70' to '90', length=182.88, diameter=0.35559999999999997, roughness=70.0, minor_loss=0.0, check_valve=False, status=Open>)\n",
      "('14', <Pipe '14' from '70' to '60', length=182.88, diameter=0.254, roughness=70.0, minor_loss=0.0, check_valve=False, status=Open>)\n",
      "('16', <Pipe '16' from '90' to '60', length=182.88, diameter=0.2032, roughness=70.0, minor_loss=0.0, check_valve=False, status=Open>)\n",
      "('18', <Pipe '18' from '60' to '80', length=182.88, diameter=0.35559999999999997, roughness=70.0, minor_loss=0.0, check_valve=False, status=Open>)\n",
      "('20', <Pipe '20' from '90' to '80', length=182.88, diameter=0.254, roughness=70.0, minor_loss=0.0, check_valve=False, status=Open>)\n",
      "('22', <Pipe '22' from '90' to '150', length=182.88, diameter=0.15239999999999998, roughness=70.0, minor_loss=0.0, check_valve=False, status=Open>)\n",
      "('24', <Pipe '24' from '90' to '100', length=182.88, diameter=0.35559999999999997, roughness=70.0, minor_loss=0.0, check_valve=False, status=Open>)\n",
      "('26', <Pipe '26' from '100' to '150', length=182.88, diameter=0.2032, roughness=70.0, minor_loss=0.0, check_valve=False, status=Open>)\n",
      "('28', <Pipe '28' from '150' to '80', length=182.88, diameter=0.35559999999999997, roughness=70.0, minor_loss=0.0, check_valve=False, status=Open>)\n",
      "('30', <Pipe '30' from '60' to '30', length=182.88, diameter=0.254, roughness=120.0, minor_loss=0.0, check_valve=False, status=Open>)\n",
      "('32', <Pipe '32' from '30' to '40', length=182.88, diameter=0.254, roughness=120.0, minor_loss=0.0, check_valve=False, status=Open>)\n",
      "('34', <Pipe '34' from '30' to '50', length=182.88, diameter=0.35559999999999997, roughness=120.0, minor_loss=0.0, check_valve=False, status=Open>)\n",
      "('36', <Pipe '36' from '40' to '50', length=182.88, diameter=0.30479999999999996, roughness=120.0, minor_loss=0.0, check_valve=False, status=Open>)\n",
      "('38', <Pipe '38' from '50' to '80', length=182.88, diameter=0.30479999999999996, roughness=120.0, minor_loss=0.0, check_valve=False, status=Open>)\n",
      "('40', <Pipe '40' from '80' to '140', length=182.88, diameter=0.15239999999999998, roughness=120.0, minor_loss=0.0, check_valve=False, status=Open>)\n",
      "('42', <Pipe '42' from '150' to '140', length=182.88, diameter=0.254, roughness=120.0, minor_loss=0.0, check_valve=False, status=Open>)\n",
      "('44', <Pipe '44' from '150' to '160', length=182.88, diameter=0.15239999999999998, roughness=120.0, minor_loss=0.0, check_valve=False, status=Open>)\n",
      "('46', <Pipe '46' from '100' to '160', length=182.88, diameter=0.254, roughness=120.0, minor_loss=0.0, check_valve=False, status=Open>)\n",
      "('48', <Pipe '48' from '100' to '110', length=182.88, diameter=0.30479999999999996, roughness=70.0, minor_loss=0.0, check_valve=False, status=Open>)\n",
      "('50', <Pipe '50' from '110' to '160', length=182.88, diameter=0.2032, roughness=120.0, minor_loss=0.0, check_valve=False, status=Open>)\n",
      "('52', <Pipe '52' from '110' to '120', length=182.88, diameter=0.15239999999999998, roughness=120.0, minor_loss=0.0, check_valve=False, status=Open>)\n",
      "('54', <Pipe '54' from '120' to '160', length=182.88, diameter=0.2032, roughness=130.0, minor_loss=0.0, check_valve=False, status=Open>)\n",
      "('56', <Pipe '56' from '120' to '130', length=182.88, diameter=0.2032, roughness=120.0, minor_loss=0.0, check_valve=False, status=Open>)\n",
      "('58', <Pipe '58' from '130' to '160', length=182.88, diameter=0.2032, roughness=120.0, minor_loss=0.0, check_valve=False, status=Open>)\n",
      "('60', <Pipe '60' from '130' to '170', length=182.88, diameter=0.2032, roughness=120.0, minor_loss=0.0, check_valve=False, status=Open>)\n",
      "('62', <Pipe '62' from '160' to '140', length=182.88, diameter=0.15239999999999998, roughness=120.0, minor_loss=0.0, check_valve=False, status=Open>)\n",
      "('64', <Pipe '64' from '170' to '140', length=3657.6000000000004, diameter=0.30479999999999996, roughness=120.0, minor_loss=0.0, check_valve=False, status=Open>)\n",
      "('66', <Pipe '66' from '50' to '140', length=3657.6000000000004, diameter=0.35559999999999997, roughness=120.0, minor_loss=0.0, check_valve=False, status=Open>)\n",
      "('68', <Pipe '68' from '140' to '115', length=1828.8000000000002, diameter=0.30479999999999996, roughness=130.0, minor_loss=0.0, check_valve=False, status=Open>)\n",
      "('70', <Pipe '70' from '140' to '75', length=1828.8000000000002, diameter=0.15239999999999998, roughness=130.0, minor_loss=0.0, check_valve=False, status=Open>)\n",
      "('72', <Pipe '72' from '115' to '75', length=1828.8000000000002, diameter=0.2032, roughness=130.0, minor_loss=0.0, check_valve=False, status=Open>)\n",
      "('74', <Pipe '74' from '50' to '55', length=1828.8000000000002, diameter=0.15239999999999998, roughness=130.0, minor_loss=0.0, check_valve=False, status=Open>)\n",
      "('76', <Pipe '76' from '55' to '75', length=1828.8000000000002, diameter=0.30479999999999996, roughness=130.0, minor_loss=0.0, check_valve=False, status=Open>)\n",
      "('78', <Pipe '78' from '60' to '65', length=30.48, diameter=0.15239999999999998, roughness=120.0, minor_loss=0.0, check_valve=False, status=Open>)\n",
      "('80', <Pipe '80' from '165' to '160', length=30.48, diameter=0.254, roughness=120.0, minor_loss=0.0, check_valve=False, status=Open>)\n"
     ]
    }
   ],
   "source": [
    "for i in a.pipes():\n",
    "    print(i)"
   ]
  },
  {
   "cell_type": "code",
   "execution_count": 228,
   "metadata": {
    "execution": {
     "iopub.execute_input": "2021-02-26T11:32:16.425281Z",
     "iopub.status.busy": "2021-02-26T11:32:16.424282Z",
     "iopub.status.idle": "2021-02-26T11:32:16.429272Z",
     "shell.execute_reply": "2021-02-26T11:32:16.429272Z",
     "shell.execute_reply.started": "2021-02-26T11:32:16.424282Z"
    }
   },
   "outputs": [
    {
     "data": {
      "text/plain": [
       "['78']"
      ]
     },
     "execution_count": 228,
     "metadata": {},
     "output_type": "execute_result"
    }
   ],
   "source": [
    "b"
   ]
  },
  {
   "cell_type": "code",
   "execution_count": 231,
   "metadata": {
    "execution": {
     "iopub.execute_input": "2021-02-26T11:32:59.541556Z",
     "iopub.status.busy": "2021-02-26T11:32:59.541556Z",
     "iopub.status.idle": "2021-02-26T11:32:59.545517Z",
     "shell.execute_reply": "2021-02-26T11:32:59.545517Z",
     "shell.execute_reply.started": "2021-02-26T11:32:59.541556Z"
    }
   },
   "outputs": [
    {
     "data": {
      "text/plain": [
       "array([3.048])"
      ]
     },
     "execution_count": 231,
     "metadata": {},
     "output_type": "execute_result"
    }
   ],
   "source": [
    "c=np.array([0.15239])\n",
    "rescale(c, minT=0, maxT=20)#*0.254"
   ]
  },
  {
   "cell_type": "markdown",
   "metadata": {},
   "source": [
    "#### Joblib implementation - Update: Failed, it's slower"
   ]
  },
  {
   "cell_type": "code",
   "execution_count": 207,
   "metadata": {},
   "outputs": [],
   "source": [
    "# def fun(training_graph):\n",
    "#     pred = model(training_graph).mean()\n",
    "#     target = training_graph.y\n",
    "#     loss = F.mse_loss(pred.reshape(-1,1), target.reshape(-1,1))            \n",
    "#     #loss.to(torch.float32)\n",
    "    \n",
    "#     return loss"
   ]
  },
  {
   "cell_type": "code",
   "execution_count": 220,
   "metadata": {},
   "outputs": [
    {
     "data": {
      "application/vnd.jupyter.widget-view+json": {
       "model_id": "",
       "version_major": 2,
       "version_minor": 0
      },
      "text/plain": [
       "IntProgress(value=51, description='Loading:', max=51)"
      ]
     },
     "metadata": {},
     "output_type": "display_data"
    },
    {
     "name": "stdout",
     "output_type": "stream",
     "text": [
      "epoch  0  total loss   tensor(0.1603, grad_fn=<MeanBackward0>)\n",
      "epoch  10  total loss   tensor(0.1563, grad_fn=<MeanBackward0>)\n",
      "epoch  20  total loss   tensor(0.1522, grad_fn=<MeanBackward0>)\n",
      "epoch  30  total loss   tensor(0.1482, grad_fn=<MeanBackward0>)\n",
      "epoch  40  total loss   tensor(0.1443, grad_fn=<MeanBackward0>)\n",
      "epoch  50  total loss   tensor(0.1404, grad_fn=<MeanBackward0>)\n",
      "-Run(lr=0.001, weight_decay=0.0005, N_epochs=51) 206.75 seconds\n"
     ]
    }
   ],
   "source": [
    "# for run in RunBuilder.get_runs(params):\n",
    "#     display(f)\n",
    "#     start_time = time.time()\n",
    "#     optimizer = torch.optim.Adam(model.parameters(), lr=run.lr, weight_decay=run.weight_decay)\n",
    "#     f.value = 0\n",
    "#     f.max = run.N_epochs\n",
    "#     model.train()\n",
    "#     for epoch in range(run.N_epochs):\n",
    "#         total_loss= 0\n",
    "#         losses = Parallel(n_jobs=-1)(delayed(fun)(training_graph) for training_graph in train_dataset)\n",
    "#         total_loss = torch.tensor(losses, requires_grad=True).mean()\n",
    "#         #total_loss.requires_grad = True\n",
    "#         #print(total_loss)\n",
    "#         #total_loss /= len(train_dataset)\n",
    "#         #total_loss = total_loss.to(torch.float32)\n",
    "#         optimizer.zero_grad()\n",
    "#         total_loss.backward()\n",
    "#         optimizer.step()\n",
    "        \n",
    "#         f.value += 1\n",
    "#         if epoch%10 == 0:\n",
    "#             print(\"epoch \", epoch, \" total loss  \", total_loss )\n",
    "# #             clear_output(wait=True)\n",
    "# #             display(f)\n",
    "            \n",
    "#     comment = f'-{run}'\n",
    "#     execution_time=np.round((time.time() - start_time),2)\n",
    "#     print(comment, execution_time, 'seconds')"
   ]
  },
  {
   "cell_type": "markdown",
   "metadata": {},
   "source": [
    "## Testing\n",
    "*To be further implemented"
   ]
  },
  {
   "cell_type": "code",
   "execution_count": 34,
   "metadata": {},
   "outputs": [
    {
     "name": "stdout",
     "output_type": "stream",
     "text": [
      "Training R2: \t 0.57\n",
      "Validation R2: \t 0.5604\n"
     ]
    }
   ],
   "source": [
    "print('Training R2: \\t', np.round(graph_r2(model, train_dataset), 4))\n",
    "print('Validation R2: \\t', np.round(graph_r2(model, val_dataset), 4))"
   ]
  },
  {
   "cell_type": "code",
   "execution_count": 35,
   "metadata": {
    "scrolled": true
   },
   "outputs": [
    {
     "name": "stdout",
     "output_type": "stream",
     "text": [
      "Actual \t Pred\n",
      "0.3997 \t 0.3106\n",
      "0.4345 \t 0.3918\n",
      "0.4562 \t 0.4173\n",
      "0.3883 \t 0.3733\n",
      "0.4384 \t 0.4189\n",
      "0.3341 \t 0.3261\n",
      "0.476 \t 0.475\n",
      "0.2792 \t 0.2975\n",
      "0.4296 \t 0.3763\n",
      "0.3782 \t 0.3918\n"
     ]
    }
   ],
   "source": [
    "#Simple test\n",
    "print('Actual \\t',  'Pred')\n",
    "for i in range(10):\n",
    "    print(np.round(rescale(graphs[i].y.item(),-1,1),4), '\\t', np.round(rescale(model(graphs[i]).item(), -1,1),4) )"
   ]
  },
  {
   "cell_type": "code",
   "execution_count": 36,
   "metadata": {},
   "outputs": [],
   "source": [
    "preds_train, y_train = res_and_tar(model,train_dataset)\n",
    "preds_val, y_val = res_and_tar(model,val_dataset)"
   ]
  },
  {
   "cell_type": "code",
   "execution_count": 37,
   "metadata": {},
   "outputs": [],
   "source": [
    "x_real_values_train = rescale(y_train, minT = -1, maxT=1)\n",
    "y_pred_values_train = rescale(preds_train, minT = -1, maxT=1)\n",
    "\n",
    "x_real_values_test = rescale(y_val, minT=-1, maxT=1)\n",
    "y_pred_values_test = rescale(preds_val, minT=-1, maxT=1)"
   ]
  },
  {
   "cell_type": "code",
   "execution_count": 38,
   "metadata": {},
   "outputs": [
    {
     "data": {
      "application/vnd.jupyter.widget-view+json": {
       "model_id": "c2027b1dfd514a6bbfd6e2d7aeaced33",
       "version_major": 2,
       "version_minor": 0
      },
      "text/plain": [
       "FigureWidget({\n",
       "    'data': [{'line': {'dash': 'dash'},\n",
       "              'marker': {'size': 3},\n",
       "              'mod…"
      ]
     },
     "metadata": {},
     "output_type": "display_data"
    }
   ],
   "source": [
    "fig = pred_vs_y_plotly(x_real_values_train, y_pred_values_train, x_real_values_test, y_pred_values_test)\n",
    "fig"
   ]
  }
 ],
 "metadata": {
  "kernelspec": {
   "display_name": "Python 3",
   "language": "python",
   "name": "python3"
  },
  "language_info": {
   "codemirror_mode": {
    "name": "ipython",
    "version": 3
   },
   "file_extension": ".py",
   "mimetype": "text/x-python",
   "name": "python",
   "nbconvert_exporter": "python",
   "pygments_lexer": "ipython3",
   "version": "3.8.5"
  },
  "toc-autonumbering": true,
  "toc-showcode": false,
  "toc-showmarkdowntxt": false,
  "toc-showtags": false
 },
 "nbformat": 4,
 "nbformat_minor": 4
}
