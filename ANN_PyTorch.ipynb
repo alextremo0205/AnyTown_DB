{
 "cells": [
  {
   "cell_type": "markdown",
   "metadata": {},
   "source": [
    "# ANN - PyTorch"
   ]
  },
  {
   "cell_type": "code",
   "execution_count": 1,
   "metadata": {},
   "outputs": [],
   "source": [
    "import pandas as pd\n",
    "import numpy as np\n",
    "import pickle\n",
    "import networkx as nx\n",
    "import matplotlib.pyplot as plt\n",
    "\n",
    "import math\n",
    "import time\n",
    "import pickle\n",
    "\n",
    "import torch\n",
    "import torch.nn as nn\n",
    "import torch.nn.functional as F\n",
    "import torch.optim as optim\n",
    "\n",
    "from random import shuffle\n",
    "\n",
    "from sklearn.model_selection import train_test_split\n",
    "from sklearn.metrics import r2_score"
   ]
  },
  {
   "cell_type": "markdown",
   "metadata": {},
   "source": [
    "### Data processing"
   ]
  },
  {
   "cell_type": "code",
   "execution_count": 2,
   "metadata": {},
   "outputs": [],
   "source": [
    "# Import database\n",
    "database = pickle.load( open( \"Mod_AnyT_DB.p\", \"rb\" ) )"
   ]
  },
  {
   "cell_type": "markdown",
   "metadata": {},
   "source": [
    "#### Data Normalization"
   ]
  },
  {
   "cell_type": "code",
   "execution_count": 3,
   "metadata": {},
   "outputs": [],
   "source": [
    "def norm_diams(ls_diams):\n",
    "    avail_diams = [6, 8, 10, 12, 14] #inches\n",
    "    min_diam = min(avail_diams)\n",
    "    max_diam = max(avail_diams)\n",
    "    n_d = (ls_diams-min_diam)/(max_diam-min_diam)\n",
    "    return n_d\n"
   ]
  },
  {
   "cell_type": "code",
   "execution_count": 4,
   "metadata": {},
   "outputs": [],
   "source": [
    "x_diameters = []\n",
    "y_res_index = []\n",
    "for i in range(len(database)):\n",
    "    x_diameters.append(norm_diams(database.loc[i]['Diams']))\n",
    "    y_res_index.append(database.loc[i]['avgPrPa'])"
   ]
  },
  {
   "cell_type": "code",
   "execution_count": 5,
   "metadata": {},
   "outputs": [
    {
     "name": "stdout",
     "output_type": "stream",
     "text": [
      "4000 1000\n"
     ]
    }
   ],
   "source": [
    "X_train, X_test, y_train, y_test = train_test_split(x_diameters, y_res_index, random_state=1, test_size=0.2 )\n",
    "print(len(X_train), len(y_test))"
   ]
  },
  {
   "cell_type": "code",
   "execution_count": 6,
   "metadata": {},
   "outputs": [],
   "source": [
    "X_train, X_test, y_train, y_test = torch.tensor(X_train, dtype = torch.float32), torch.tensor(X_test, dtype = torch.float32), torch.tensor(y_train, dtype = torch.float32), torch.tensor(y_test, dtype = torch.float32)"
   ]
  },
  {
   "cell_type": "markdown",
   "metadata": {},
   "source": [
    "### ANN model definition"
   ]
  },
  {
   "cell_type": "code",
   "execution_count": 7,
   "metadata": {},
   "outputs": [],
   "source": [
    "class MLP(nn.Module):\n",
    "    def __init__(self, in_features, h_sizes, out_size):\n",
    "        super(MLP, self).__init__()\n",
    "        self.hidden_linear = nn.ModuleList()\n",
    "        #self.hidden_dropout = nn.ModuleList()\n",
    "        self.h_len = len(h_sizes)\n",
    "        \n",
    "        #Add initial layer\n",
    "        self.hidden_linear.append(nn.Linear(in_features, h_sizes[0]))\n",
    "        #self.hidden_dropout.append(nn.Dropout(p=0.5))\n",
    "        \n",
    "        #Add hidden layers        \n",
    "        for k in range(len(h_sizes)-1):\n",
    "            self.hidden_linear.append(nn.Linear(h_sizes[k], h_sizes[k+1]))\n",
    "        #    self.hidden_dropout.append(nn.Dropout(p=0.5))\n",
    "        \n",
    "        #Add output layer\n",
    "        self.hidden_linear.append(nn.Linear(h_sizes[-1], out_size))\n",
    "        \n",
    "        \n",
    "    def forward(self, x):\n",
    "        y = x\n",
    "        for i in range(len(self.hidden_linear)-1):\n",
    "            y = self.hidden_linear[i](y)\n",
    "        #    y = self.hidden_dropout[i](y)\n",
    "            y = torch.tanh(y) #F.relu(y)\n",
    "        \n",
    "        y = self.hidden_linear[-1](y)\n",
    "        y = torch.tanh(y)\n",
    "            \n",
    "        return y"
   ]
  },
  {
   "cell_type": "code",
   "execution_count": 8,
   "metadata": {},
   "outputs": [],
   "source": [
    "mlp = MLP(40, [50, 50, 50], 1)"
   ]
  },
  {
   "cell_type": "code",
   "execution_count": 9,
   "metadata": {},
   "outputs": [],
   "source": [
    "#mlp(torch.rand(1,40))"
   ]
  },
  {
   "cell_type": "code",
   "execution_count": 10,
   "metadata": {},
   "outputs": [],
   "source": [
    "# # Hyperparameters\n",
    "batch_size = 50\n",
    "lr = 0.001\n",
    "weight_decay = 8e-4\n",
    "num_epochs = 1500"
   ]
  },
  {
   "cell_type": "code",
   "execution_count": 11,
   "metadata": {},
   "outputs": [],
   "source": [
    "data_loader_X_train = torch.utils.data.DataLoader(\n",
    "    X_train,\n",
    "    shuffle=False,\n",
    "    batch_size = batch_size\n",
    ")\n",
    "\n",
    "data_loader_y_train = torch.utils.data.DataLoader(\n",
    "    y_train,\n",
    "    shuffle = False,\n",
    "    batch_size = batch_size\n",
    ")"
   ]
  },
  {
   "cell_type": "code",
   "execution_count": 12,
   "metadata": {},
   "outputs": [],
   "source": [
    "optimizer = torch.optim.Adam(mlp.parameters(), lr=lr, weight_decay=weight_decay, amsgrad = True)"
   ]
  },
  {
   "cell_type": "code",
   "execution_count": 13,
   "metadata": {},
   "outputs": [],
   "source": [
    "mlp = pickle.load(open('ANN_PyTorch_96.p', 'rb'))"
   ]
  },
  {
   "cell_type": "code",
   "execution_count": 14,
   "metadata": {
    "scrolled": true
   },
   "outputs": [
    {
     "name": "stdout",
     "output_type": "stream",
     "text": [
      "epoch  0  total loss   tensor(0.7390, grad_fn=<AddBackward0>)\n",
      "0.08523917198181152\n",
      "epoch  50  total loss   tensor(0.4879, grad_fn=<AddBackward0>)\n",
      "3.970893144607544\n",
      "epoch  100  total loss   tensor(0.4410, grad_fn=<AddBackward0>)\n",
      "9.453950643539429\n",
      "epoch  150  total loss   tensor(0.4335, grad_fn=<AddBackward0>)\n",
      "15.185543060302734\n",
      "epoch  200  total loss   tensor(0.4286, grad_fn=<AddBackward0>)\n",
      "20.716964960098267\n",
      "epoch  250  total loss   tensor(0.4241, grad_fn=<AddBackward0>)\n",
      "26.527191638946533\n",
      "epoch  300  total loss   tensor(0.4193, grad_fn=<AddBackward0>)\n",
      "32.22769212722778\n",
      "epoch  350  total loss   tensor(0.4134, grad_fn=<AddBackward0>)\n",
      "37.95274782180786\n",
      "epoch  400  total loss   tensor(0.4056, grad_fn=<AddBackward0>)\n",
      "43.48607516288757\n",
      "epoch  450  total loss   tensor(0.3948, grad_fn=<AddBackward0>)\n",
      "49.35438323020935\n",
      "epoch  500  total loss   tensor(0.3788, grad_fn=<AddBackward0>)\n",
      "55.406304121017456\n",
      "epoch  550  total loss   tensor(0.3533, grad_fn=<AddBackward0>)\n",
      "60.83125352859497\n",
      "epoch  600  total loss   tensor(0.3098, grad_fn=<AddBackward0>)\n",
      "66.70027661323547\n",
      "epoch  650  total loss   tensor(0.2372, grad_fn=<AddBackward0>)\n",
      "72.5078797340393\n",
      "epoch  700  total loss   tensor(0.1658, grad_fn=<AddBackward0>)\n",
      "78.26363015174866\n",
      "epoch  750  total loss   tensor(0.1359, grad_fn=<AddBackward0>)\n",
      "83.7963216304779\n",
      "epoch  800  total loss   tensor(0.1206, grad_fn=<AddBackward0>)\n",
      "89.84407186508179\n",
      "epoch  850  total loss   tensor(0.1096, grad_fn=<AddBackward0>)\n",
      "95.66150522232056\n",
      "epoch  900  total loss   tensor(0.1007, grad_fn=<AddBackward0>)\n",
      "101.38015174865723\n",
      "epoch  950  total loss   tensor(0.0938, grad_fn=<AddBackward0>)\n",
      "107.28455805778503\n",
      "epoch  1000  total loss   tensor(0.0887, grad_fn=<AddBackward0>)\n",
      "112.67643904685974\n",
      "epoch  1050  total loss   tensor(0.0851, grad_fn=<AddBackward0>)\n",
      "118.28614020347595\n",
      "epoch  1100  total loss   tensor(0.0826, grad_fn=<AddBackward0>)\n",
      "123.88357663154602\n",
      "epoch  1150  total loss   tensor(0.0810, grad_fn=<AddBackward0>)\n",
      "129.38929295539856\n",
      "epoch  1200  total loss   tensor(0.0797, grad_fn=<AddBackward0>)\n",
      "135.47398257255554\n",
      "epoch  1250  total loss   tensor(0.0788, grad_fn=<AddBackward0>)\n",
      "141.32531261444092\n",
      "epoch  1300  total loss   tensor(0.0780, grad_fn=<AddBackward0>)\n",
      "146.80279994010925\n",
      "epoch  1350  total loss   tensor(0.0773, grad_fn=<AddBackward0>)\n",
      "152.44334435462952\n",
      "epoch  1400  total loss   tensor(0.0768, grad_fn=<AddBackward0>)\n",
      "158.10720658302307\n",
      "epoch  1450  total loss   tensor(0.0762, grad_fn=<AddBackward0>)\n",
      "163.61703062057495\n",
      "epoch  1499  total loss   tensor(0.0757, grad_fn=<AddBackward0>)\n"
     ]
    }
   ],
   "source": [
    "mlp.train()\n",
    "f_loss = nn.MSELoss() #(preds-y_train[i])**2\n",
    "start = time.time()\n",
    "for epoch in range(num_epochs):\n",
    "    total_loss= 0\n",
    "#     total_correct =0\n",
    "    \n",
    "    iter_y_train = iter(data_loader_y_train)\n",
    "    iter_X_train = iter(data_loader_X_train)\n",
    "    \n",
    "    #Data\n",
    "    for batch in iter_X_train:\n",
    "        #Prediction\n",
    "        preds = mlp(batch)\n",
    "\n",
    "        #Calculate the loss\n",
    "        loss = f_loss(preds.reshape(batch_size,1), next(iter_y_train).reshape(batch_size,1))\n",
    "        \n",
    "        total_loss += loss\n",
    "    \n",
    "    #Backpropagate\n",
    "    optimizer.zero_grad() #To avoid adding up gradients\n",
    "    total_loss.backward() #calculate gradients\n",
    "\n",
    "    #Optimizer step\n",
    "    optimizer.step() #Update weights\n",
    "        \n",
    "    if epoch%50 == 0:\n",
    "        print(\"epoch \", epoch, \" total loss  \", total_loss )\n",
    "        print(time.time()-start)\n",
    "    \n",
    "    if epoch == num_epochs-1:\n",
    "        print(\"epoch \", epoch, \" total loss  \", total_loss )\n",
    "        "
   ]
  },
  {
   "cell_type": "code",
   "execution_count": 15,
   "metadata": {},
   "outputs": [
    {
     "name": "stdout",
     "output_type": "stream",
     "text": [
      "[2050, 2550, 2550, 51]\n"
     ]
    }
   ],
   "source": [
    "num_params = []\n",
    "i = 0\n",
    "        \n",
    "for parameter in mlp.parameters():\n",
    "    if i%2 == 0:\n",
    "        num_params.append(parameter.reshape(-1,1).shape[0])\n",
    "    else:\n",
    "        num_params[-1] += parameter.reshape(-1,1).shape[0]\n",
    "    i += 1\n",
    "\n",
    "print(num_params)"
   ]
  },
  {
   "cell_type": "code",
   "execution_count": 16,
   "metadata": {},
   "outputs": [
    {
     "data": {
      "text/plain": [
       "tensor([[ 0.4248,  0.0850,  0.3197,  0.3827,  0.3282,  0.3749,  0.4242,  0.4537,\n",
       "         -0.1273]], grad_fn=<TBackward>)"
      ]
     },
     "execution_count": 16,
     "metadata": {},
     "output_type": "execute_result"
    }
   ],
   "source": [
    "mlp(X_test[1:10]).t()"
   ]
  },
  {
   "cell_type": "code",
   "execution_count": 15,
   "metadata": {},
   "outputs": [
    {
     "data": {
      "text/plain": [
       "tensor([ 0.4086,  0.0567,  0.3450,  0.4014,  0.3403,  0.3413,  0.4215,  0.4311,\n",
       "        -0.1600])"
      ]
     },
     "execution_count": 15,
     "metadata": {},
     "output_type": "execute_result"
    }
   ],
   "source": [
    "y_test[1:10]"
   ]
  },
  {
   "cell_type": "code",
   "execution_count": 17,
   "metadata": {},
   "outputs": [
    {
     "data": {
      "text/plain": [
       "0.9419716436291272"
      ]
     },
     "execution_count": 17,
     "metadata": {},
     "output_type": "execute_result"
    }
   ],
   "source": [
    "#R squared \n",
    "mlp.eval()\n",
    "r2_score( y_train.detach().numpy() , mlp(X_train).detach().numpy().flatten() )"
   ]
  },
  {
   "cell_type": "code",
   "execution_count": 18,
   "metadata": {},
   "outputs": [
    {
     "data": {
      "text/plain": [
       "0.9528152713324181"
      ]
     },
     "execution_count": 18,
     "metadata": {},
     "output_type": "execute_result"
    }
   ],
   "source": [
    "#R squared\n",
    "mlp.eval()\n",
    "r2_score( y_test.detach().numpy() , mlp(X_test).detach().numpy().flatten() )"
   ]
  },
  {
   "cell_type": "code",
   "execution_count": 18,
   "metadata": {},
   "outputs": [],
   "source": [
    "x_real_values_train = y_train.detach().numpy()\n",
    "y_pred_values_train = mlp(X_train).detach().numpy().flatten()\n",
    "\n",
    "x_real_values_test = y_test.detach().numpy()\n",
    "y_pred_values_test = mlp(X_test).detach().numpy().flatten()"
   ]
  },
  {
   "cell_type": "code",
   "execution_count": 19,
   "metadata": {},
   "outputs": [],
   "source": [
    "import plotly.graph_objects as go"
   ]
  },
  {
   "cell_type": "code",
   "execution_count": 20,
   "metadata": {},
   "outputs": [
    {
     "data": {
      "application/vnd.jupyter.widget-view+json": {
       "model_id": "2d6a776749c34c8f8d517fd0ae1bcb6a",
       "version_major": 2,
       "version_minor": 0
      },
      "text/plain": [
       "FigureWidget({\n",
       "    'data': [{'line': {'dash': 'dash'},\n",
       "              'marker': {'size': 3},\n",
       "              'mod…"
      ]
     },
     "metadata": {},
     "output_type": "display_data"
    }
   ],
   "source": [
    "fig = go.FigureWidget(data=go.Scatter(x=x_real_values_train, y=y_pred_values_train,  line={'dash': 'dash'}, name = 'Train'))\n",
    "\n",
    "fig.add_trace(go.Scatter(x=x_real_values_test, y=y_pred_values_test,  line={'dash': 'dash'}, name='Test'))\n",
    "#fig.add_trace(go.Scatter(x=x_axis, y=first_DB_pd['minPrPa'],  line={'dash': 'dash'}, name='Min. Res.'))\n",
    "\n",
    "\n",
    "fig.update_traces(mode='markers',  marker_size=3)\n",
    "fig.update_layout(title='Pred. vs Actual - Prasad & Park Resilience Index',\n",
    "                    xaxis_title=\"Real Index\",\n",
    "                    yaxis_title=\"Pred. Index\",\n",
    "                    legend_title=\"Legend\",\n",
    "                    autosize=False,\n",
    "                    width=800,\n",
    "                    height=500,\n",
    "                    font=dict(\n",
    "                        #family=\"Courier New, monospace\",\n",
    "                        size=18,\n",
    "    ))\n",
    "#yaxis_zeroline=False, xaxis_zeroline=False)\n",
    "fig.update_layout(shapes=[\n",
    "dict(\n",
    "  type= 'line',\n",
    "  yref= 'y', y0= -0.30, y1= 1,   # adding a horizontal line at Y = 1\n",
    "  xref= 'x', x0= -0.30, x1= 1\n",
    "     ) \n",
    "])\n",
    "\n",
    "fig.update_xaxes(range=[-0.3, 1])\n",
    "fig.update_yaxes(range=[-0.3, 1])\n",
    "\n",
    "fig"
   ]
  },
  {
   "cell_type": "code",
   "execution_count": 24,
   "metadata": {},
   "outputs": [],
   "source": [
    "pickle.dump(mlp, open('ANN_PyTorch_96.p', 'wb'))"
   ]
  }
 ],
 "metadata": {
  "kernelspec": {
   "display_name": "Python 3",
   "language": "python",
   "name": "python3"
  },
  "language_info": {
   "codemirror_mode": {
    "name": "ipython",
    "version": 3
   },
   "file_extension": ".py",
   "mimetype": "text/x-python",
   "name": "python",
   "nbconvert_exporter": "python",
   "pygments_lexer": "ipython3",
   "version": "3.8.5"
  }
 },
 "nbformat": 4,
 "nbformat_minor": 4
}
