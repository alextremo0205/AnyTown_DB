{
 "cells": [
  {
   "cell_type": "markdown",
   "id": "japanese-stake",
   "metadata": {},
   "source": [
    "# Geometric Datasets: Exeter"
   ]
  },
  {
   "cell_type": "markdown",
   "id": "baking-glenn",
   "metadata": {},
   "source": [
    "## Imports"
   ]
  },
  {
   "cell_type": "markdown",
   "id": "stopped-store",
   "metadata": {},
   "source": [
    "### Basic"
   ]
  },
  {
   "cell_type": "code",
   "execution_count": 166,
   "id": "eastern-accessory",
   "metadata": {},
   "outputs": [],
   "source": [
    "import os\n",
    "import wntr\n",
    "import pandas as pd\n",
    "import numpy as np\n",
    "import pickle\n",
    "import networkx as nx\n",
    "\n",
    "#Custom .py file\n",
    "#from PrasadParkIndex import *\n",
    "from res_index import *"
   ]
  },
  {
   "cell_type": "markdown",
   "id": "rural-atlas",
   "metadata": {},
   "source": [
    "### PyTorch and PyG"
   ]
  },
  {
   "cell_type": "code",
   "execution_count": 132,
   "id": "running-respect",
   "metadata": {},
   "outputs": [],
   "source": [
    "import torch\n",
    "from torch_geometric.data import Data\n",
    "\n",
    "from torch_geometric.datasets import TUDataset"
   ]
  },
  {
   "cell_type": "markdown",
   "id": "portuguese-scope",
   "metadata": {},
   "source": [
    "### DeepSNAP"
   ]
  },
  {
   "cell_type": "code",
   "execution_count": 133,
   "id": "frequent-ocean",
   "metadata": {},
   "outputs": [],
   "source": [
    "from deepsnap.graph import Graph as dSNAP_Graph\n",
    "from deepsnap.dataset import GraphDataset as dSNAP_GraphDS"
   ]
  },
  {
   "cell_type": "markdown",
   "id": "million-valley",
   "metadata": {},
   "source": [
    "## Original inp file"
   ]
  },
  {
   "cell_type": "code",
   "execution_count": 134,
   "id": "liked-kruger",
   "metadata": {},
   "outputs": [],
   "source": [
    "# Create a water network model\n",
    "def load_inp(inp_file_path):\n",
    "    wn_WDS = wntr.network.WaterNetworkModel(inp_file_path)\n",
    "\n",
    "    # Plot the network\n",
    "    wntr.graphics.plot_network(wn_WDS, title=wn_WDS.name)\n",
    "\n",
    "    # Simulate hydraulics\n",
    "    sim_WDS = wntr.sim.EpanetSimulator(wn_WDS)\n",
    "    results_WDS = sim_WDS.run_sim()\n",
    "    \n",
    "    return(wn_WDS, sim_WDS, results_WDS)"
   ]
  },
  {
   "cell_type": "code",
   "execution_count": 135,
   "id": "promotional-crystal",
   "metadata": {},
   "outputs": [],
   "source": [
    "name_WDS = 'TLN'"
   ]
  },
  {
   "cell_type": "code",
   "execution_count": 136,
   "id": "environmental-niagara",
   "metadata": {},
   "outputs": [],
   "source": [
    "WDS_info = pd.read_csv('./networks/Exeter/TLN_info.csv', dtype = {'NodeID': str} )"
   ]
  },
  {
   "cell_type": "code",
   "execution_count": 137,
   "id": "reliable-banks",
   "metadata": {},
   "outputs": [
    {
     "data": {
      "text/plain": [
       "Index(['D', 'Cost', 'NodeID', 'MinPressure_m', 'UNITS_TO_M'], dtype='object')"
      ]
     },
     "execution_count": 137,
     "metadata": {},
     "output_type": "execute_result"
    }
   ],
   "source": [
    "WDS_info.columns"
   ]
  },
  {
   "cell_type": "code",
   "execution_count": 157,
   "id": "floating-amino",
   "metadata": {},
   "outputs": [
    {
     "name": "stdout",
     "output_type": "stream",
     "text": [
      "        MinPressure_m\n",
      "NodeID               \n",
      "2                30.0\n",
      "3                30.0\n",
      "4                30.0\n",
      "5                30.0\n",
      "6                30.0\n",
      "7                30.0\n"
     ]
    }
   ],
   "source": [
    "min_pres = WDS_info[['NodeID', 'MinPressure_m']].dropna()\n",
    "min_pres = min_pres.set_index('NodeID')\n",
    "print(min_pres)\n",
    "\n",
    "UNIT_TO_M = WDS_info['UNITS_TO_M'].dropna().item()"
   ]
  },
  {
   "cell_type": "code",
   "execution_count": 139,
   "id": "cognitive-camera",
   "metadata": {},
   "outputs": [
    {
     "data": {
      "image/png": "[encoded data removed]",
      "text/plain": [
       "<Figure size 432x288 with 1 Axes>"
      ]
     },
     "metadata": {},
     "output_type": "display_data"
    }
   ],
   "source": [
    "path= 'networks/Exeter/'+name_WDS+'.inp'\n",
    "wn_WDS, b, c = load_inp(path)"
   ]
  },
  {
   "cell_type": "code",
   "execution_count": 158,
   "id": "academic-grocery",
   "metadata": {},
   "outputs": [],
   "source": [
    "num_pipes = wn_WDS.num_pipes\n",
    "\n",
    "avail_diams = list(WDS_info.D.dropna()) #[6, 8, 10, 12, 14] #inches\n",
    "pipe_names = wn_WDS.link_name_list\n",
    "\n",
    "seed = 958 #Trial seed: 4345\n",
    "np.random.seed(seed)\n",
    "\n",
    "N_iter = 100"
   ]
  },
  {
   "cell_type": "code",
   "execution_count": 159,
   "id": "aggregate-feature",
   "metadata": {},
   "outputs": [
    {
     "data": {
      "text/plain": [
       "[1, 2, 3, 4, 6, 8, 10, 12, 14, 16, 18, 20, 22, 24]"
      ]
     },
     "execution_count": 159,
     "metadata": {},
     "output_type": "execute_result"
    }
   ],
   "source": [
    "avail_diams"
   ]
  },
  {
   "cell_type": "markdown",
   "id": "important-advocacy",
   "metadata": {},
   "source": [
    "## Dataset Creation"
   ]
  },
  {
   "cell_type": "code",
   "execution_count": 160,
   "id": "viral-senior",
   "metadata": {},
   "outputs": [],
   "source": [
    "node_attributes = ['node_id','node_type','base_demand','elevation','base_head','coords']\n",
    "edge_attributes = ['link_id','length','diameter','roughness']\n",
    "\n",
    "def from_wntr_to_pandas(wn):\n",
    "  # node features and coordinates\n",
    "  df_nodes = pd.DataFrame(columns=node_attributes)\n",
    "  for i, node_id in enumerate(wn.nodes):    \n",
    "    this_node = wn.get_node(node_id)\n",
    "    if this_node.node_type == 'Junction':\n",
    "      df_nodes.loc[i,:] = (node_id, 0, this_node.base_demand, this_node.elevation, 0, this_node.coordinates)      \n",
    "    elif this_node.node_type == 'Reservoir':\n",
    "      df_nodes.loc[i,:] = (node_id, 1, 0, 0, this_node.base_head, this_node.coordinates)      \n",
    "    else:\n",
    "      print('Only Junctions and Reservoirs so far')      \n",
    "      break\n",
    "      \n",
    "  # link features\n",
    "  df_links = pd.DataFrame(columns=edge_attributes)\n",
    "  for i, link_id in enumerate(wn.links):    \n",
    "    this_link = wn.get_link(link_id)\n",
    "    if this_link.link_type == 'Pipe':\n",
    "      df_links.loc[i,:] = (link_id, this_link.length, this_link.diameter, this_link.roughness)      \n",
    "    else:\n",
    "      print('Only Pipes so far')      \n",
    "      break\n",
    "\n",
    "  # edge indexes\n",
    "  G = wn.get_graph()\n",
    "  #COO_edges =0  \n",
    "  COO_edges = np.array(nx.to_scipy_sparse_matrix(G,format='coo').nonzero())\n",
    "\n",
    "  return df_nodes, df_links, COO_edges\n",
    "\n",
    "def from_wntr_to_geometric(wn):      \n",
    "  df_nodes, df_links, COO_edges = from_wntr_to_pandas(wn)   # get pandas dataframes\n",
    "  \n",
    "  # create torch data \n",
    "  x = torch.tensor(df_nodes[['node_type','base_demand','elevation','base_head']].astype(float).values, dtype=torch.float)\n",
    "  pos = torch.tensor(df_nodes['coords'], dtype=torch.float)\n",
    "  edge_index = torch.tensor(COO_edges, dtype=torch.long)\n",
    "  edge_attr = torch.tensor(df_links[['length','diameter','roughness']].astype(float).values, dtype=torch.float)\n",
    "  data = Data(x=x, pos=pos, edge_index=edge_index, edge_attr=edge_attr)\n",
    "\n",
    "  return data, df_nodes, df_links"
   ]
  },
  {
   "cell_type": "code",
   "execution_count": 162,
   "id": "physical-relaxation",
   "metadata": {},
   "outputs": [],
   "source": [
    "#data, df_nodes, df_links = from_wntr_to_geometric(wn_WDS)"
   ]
  },
  {
   "cell_type": "code",
   "execution_count": 163,
   "id": "automated-beach",
   "metadata": {},
   "outputs": [],
   "source": [
    "#results_WDS.node['pressure']"
   ]
  },
  {
   "cell_type": "code",
   "execution_count": 164,
   "id": "czech-instruction",
   "metadata": {},
   "outputs": [],
   "source": [
    "# print(res_index(results_WDS.node['head'], results_WDS.node['pressure'], results_WDS.node['demand'], flowrate, wn_WDS, min_pres, indx = 'Todini'))"
   ]
  },
  {
   "cell_type": "code",
   "execution_count": null,
   "id": "broke-banner",
   "metadata": {},
   "outputs": [],
   "source": []
  },
  {
   "cell_type": "code",
   "execution_count": 165,
   "id": "short-friend",
   "metadata": {
    "scrolled": true
   },
   "outputs": [
    {
     "name": "stdout",
     "output_type": "stream",
     "text": [
      "iter: 0\n",
      "iter: 5\n",
      "iter: 10\n",
      "iter: 15\n",
      "iter: 20\n",
      "iter: 25\n",
      "iter: 30\n",
      "iter: 35\n",
      "iter: 40\n",
      "iter: 45\n",
      "iter: 50\n",
      "iter: 55\n",
      "iter: 60\n",
      "iter: 65\n",
      "iter: 70\n",
      "iter: 75\n",
      "iter: 80\n",
      "iter: 85\n",
      "iter: 90\n",
      "iter: 95\n"
     ]
    }
   ],
   "source": [
    "first_DB = []\n",
    "fail_DB = []\n",
    "\n",
    "all_geom_data = [] # geometric data\n",
    "\n",
    "for sim in range(N_iter):\n",
    "  DB_row = []  # y data\n",
    "  # echo on screen\n",
    "  if sim % 5 == 0:\n",
    "    print(f'iter: {sim}')\n",
    "    #print(flowrate)\n",
    "  \n",
    "  # assign diameters    \n",
    "  new_diams = np.random.choice(avail_diams, num_pipes)\n",
    "  new_diams = new_diams * UNIT_TO_M\n",
    "  for i in range(num_pipes):\n",
    "      c_pipe = wn_WDS.get_link(pipe_names[i])\n",
    "      c_pipe.diameter = new_diams[i]\n",
    "  \n",
    "  # run the simulation\n",
    "  try:\n",
    "    # Simulate hydraulics\n",
    "    sim_WDS = wntr.sim.EpanetSimulator(wn_WDS)\n",
    "    results_WDS = sim_WDS.run_sim()\n",
    "    \n",
    "    try:\n",
    "      flowrate = pd.DataFrame(results_AnyT.link['flowrate']['82']) #FLowrate at the link with the pump\n",
    "    except Exception as e1:\n",
    "      flowrate = 0\n",
    "    \n",
    "    # get resilience indexes  \n",
    "    RI_PP = res_index(results_WDS.node['head'], results_WDS.node['pressure'], results_WDS.node['demand'], flowrate, wn_WDS, min_pres, indx = 'PP')\n",
    "    RI_Todini = res_index(results_WDS.node['head'], results_WDS.node['pressure'], results_WDS.node['demand'], flowrate, wn_WDS, min_pres, indx = 'Todini')\n",
    "    \n",
    "    #RI_PP = PP_index(results_WDS.node['head'], results_WDS.node['pressure'], results_WDS.node['demand'], flowrate, wn_WDS, PMIN_WDS)\n",
    "    #RI_Todini = wntr.metrics.hydraulic.todini_index(results_WDS.node['head'], results_WDS.node['pressure'], results_WDS.node['demand'], flowrate, wn_WDS, PMIN_WDS)\n",
    "    \n",
    "    DB_row.append(RI_PP)\n",
    "    DB_row.append(RI_Todini)\n",
    "    \n",
    "    first_DB.append(DB_row)\n",
    "    \n",
    "    # create Geometric Data (no y yet)\n",
    "    data, _, _ = from_wntr_to_geometric(wn_WDS)\n",
    "    all_geom_data.append(data)\n",
    "      \n",
    "  except Exception as e:\n",
    "    fail_row = [sim]\n",
    "    fail_row.append(np.round(new_diams/UNIT_TO_M, 0))\n",
    "    fail_row.append(wn_WDS)\n",
    "    fail_row.append(e)\n",
    "    print(e)\n",
    "    fail_DB.append(fail_row)\n",
    "    #wn_WDS.write_inpfile('Failed files/' + 'fail_' + heading+'_'+str(sim)+ '.inp', version=2.2)"
   ]
  },
  {
   "cell_type": "code",
   "execution_count": 110,
   "id": "saved-headline",
   "metadata": {},
   "outputs": [
    {
     "name": "stdout",
     "output_type": "stream",
     "text": [
      "2\n",
      "3\n",
      "4\n",
      "5\n",
      "6\n",
      "7\n"
     ]
    }
   ],
   "source": [
    "for name, node in wn_WDS.nodes(wntr.network.Junction):\n",
    "    print(name)"
   ]
  },
  {
   "cell_type": "code",
   "execution_count": 72,
   "id": "divine-eight",
   "metadata": {},
   "outputs": [
    {
     "data": {
      "text/plain": [
       "100"
      ]
     },
     "execution_count": 72,
     "metadata": {},
     "output_type": "execute_result"
    }
   ],
   "source": [
    "len(all_geom_data)"
   ]
  },
  {
   "cell_type": "code",
   "execution_count": 73,
   "id": "british-college",
   "metadata": {},
   "outputs": [
    {
     "data": {
      "text/plain": [
       "Data(edge_attr=[8, 3], edge_index=[2, 8], pos=[7, 2], x=[7, 4])"
      ]
     },
     "execution_count": 73,
     "metadata": {},
     "output_type": "execute_result"
    }
   ],
   "source": [
    "all_geom_data[0]"
   ]
  },
  {
   "cell_type": "code",
   "execution_count": 74,
   "id": "occupied-strap",
   "metadata": {},
   "outputs": [
    {
     "data": {
      "text/plain": [
       "tensor([[1.0000e+03, 3.0480e-01, 1.3000e+02],\n",
       "        [1.0000e+03, 3.0480e-01, 1.3000e+02],\n",
       "        [1.0000e+03, 2.5400e-01, 1.3000e+02],\n",
       "        [1.0000e+03, 1.5240e-01, 1.3000e+02],\n",
       "        [1.0000e+03, 3.0480e-01, 1.3000e+02],\n",
       "        [1.0000e+03, 1.5240e-01, 1.3000e+02],\n",
       "        [1.0000e+03, 2.0320e-01, 1.3000e+02],\n",
       "        [1.0000e+03, 3.0480e-01, 1.3000e+02]])"
      ]
     },
     "execution_count": 74,
     "metadata": {},
     "output_type": "execute_result"
    }
   ],
   "source": [
    "all_geom_data[0].edge_attr[0:10]"
   ]
  },
  {
   "cell_type": "code",
   "execution_count": 171,
   "id": "musical-telling",
   "metadata": {},
   "outputs": [
    {
     "name": "stdout",
     "output_type": "stream",
     "text": [
      "C:\\Users\\agarzondiaz\\surfdrive\\Year 1\\AnyTown Database\\AnyTown_DB/TLN_graph_regression_ResIndex_100\n"
     ]
    }
   ],
   "source": [
    "# folder\n",
    "dir_path = os.getcwd()+'/{name}_graph_regression_ResIndex_{num_iter}'.format(name = name_WDS, num_iter = N_iter)\n",
    "print(dir_path)"
   ]
  },
  {
   "cell_type": "code",
   "execution_count": 174,
   "id": "controversial-mumbai",
   "metadata": {},
   "outputs": [],
   "source": [
    "dataset = {}\n",
    "dataset['info'] = 'Dataset for graph regression to computer AnyTown resilience index'\n",
    "dataset['ngraphs'] = len(all_geom_data)\n",
    "dataset['data'] = all_geom_data"
   ]
  },
  {
   "cell_type": "code",
   "execution_count": 176,
   "id": "collected-condition",
   "metadata": {},
   "outputs": [
    {
     "name": "stdout",
     "output_type": "stream",
     "text": [
      "Successfully created the directory C:\\Users\\agarzondiaz\\surfdrive\\Year 1\\AnyTown Database\\AnyTown_DB/TLN_graph_regression_ResIndex_100 \n"
     ]
    }
   ],
   "source": [
    "# save\n",
    "try:\n",
    "    os.mkdir(dir_path)    \n",
    "    pickle.dump(dataset,open(f\"{dir_path}/dataset.p\", \"wb\" ))\n",
    "except OSError:\n",
    "    print (\"Creation of the directory %s failed\" % dir_path)\n",
    "else:\n",
    "    print (\"Successfully created the directory %s \" % dir_path)"
   ]
  },
  {
   "cell_type": "code",
   "execution_count": 178,
   "id": "interim-drill",
   "metadata": {},
   "outputs": [],
   "source": [
    "prueba = pickle.load(open(r'C:\\Users\\agarzondiaz\\surfdrive\\Year 1\\AnyTown Database\\AnyTown_DB/TLN_graph_regression_ResIndex_100\\dataset.p', 'rb'))"
   ]
  },
  {
   "cell_type": "code",
   "execution_count": 188,
   "id": "foreign-thirty",
   "metadata": {},
   "outputs": [
    {
     "data": {
      "text/plain": [
       "tensor([0.5588, 0.2540, 0.0762, 0.5588, 0.3556, 0.0254, 0.3556, 0.4064])"
      ]
     },
     "execution_count": 188,
     "metadata": {},
     "output_type": "execute_result"
    }
   ],
   "source": [
    "prueba['data'][0].edge_attr[:,1] #Diameters"
   ]
  },
  {
   "cell_type": "code",
   "execution_count": 189,
   "id": "protective-surfing",
   "metadata": {},
   "outputs": [
    {
     "data": {
      "text/plain": [
       "tensor([22., 10.,  3., 22., 14.,  1., 14., 16.])"
      ]
     },
     "execution_count": 189,
     "metadata": {},
     "output_type": "execute_result"
    }
   ],
   "source": [
    "prueba['data'][0].edge_attr[:,1]/ UNIT_TO_M #Diameters"
   ]
  }
 ],
 "metadata": {
  "kernelspec": {
   "display_name": "Python 3",
   "language": "python",
   "name": "python3"
  },
  "language_info": {
   "codemirror_mode": {
    "name": "ipython",
    "version": 3
   },
   "file_extension": ".py",
   "mimetype": "text/x-python",
   "name": "python",
   "nbconvert_exporter": "python",
   "pygments_lexer": "ipython3",
   "version": "3.8.5"
  }
 },
 "nbformat": 4,
 "nbformat_minor": 5
}
