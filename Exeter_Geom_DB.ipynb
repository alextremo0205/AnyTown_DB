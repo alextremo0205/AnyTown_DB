{
 "cells": [
  {
   "cell_type": "markdown",
   "id": "announced-delay",
   "metadata": {},
   "source": [
    "# Geometric Datasets: Exeter"
   ]
  },
  {
   "cell_type": "markdown",
   "id": "equivalent-ministry",
   "metadata": {},
   "source": [
    "## Imports"
   ]
  },
  {
   "cell_type": "markdown",
   "id": "tested-binding",
   "metadata": {},
   "source": [
    "### Basic"
   ]
  },
  {
   "cell_type": "code",
   "execution_count": 46,
   "id": "existing-blackberry",
   "metadata": {},
   "outputs": [],
   "source": [
    "import wntr\n",
    "import pandas as pd\n",
    "import numpy as np\n",
    "import pickle\n",
    "import networkx as nx\n",
    "\n",
    "#Custom .py file\n",
    "from PrasadParkIndex import *\n",
    "from res_index import *"
   ]
  },
  {
   "cell_type": "markdown",
   "id": "sharp-victoria",
   "metadata": {},
   "source": [
    "### PyTorch and PyG"
   ]
  },
  {
   "cell_type": "code",
   "execution_count": 8,
   "id": "latest-horizon",
   "metadata": {},
   "outputs": [
    {
     "name": "stderr",
     "output_type": "stream",
     "text": [
      "C:\\Programs\\Anaconda3\\envs\\PyTorch_Env\\lib\\site-packages\\torch\\cuda\\__init__.py:52: UserWarning: CUDA initialization: Found no NVIDIA driver on your system. Please check that you have an NVIDIA GPU and installed a driver from http://www.nvidia.com/Download/index.aspx (Triggered internally at  ..\\c10\\cuda\\CUDAFunctions.cpp:100.)\n",
      "  return torch._C._cuda_getDeviceCount() > 0\n"
     ]
    }
   ],
   "source": [
    "import torch\n",
    "from torch_geometric.data import Data\n",
    "\n",
    "from torch_geometric.datasets import TUDataset"
   ]
  },
  {
   "cell_type": "markdown",
   "id": "controversial-address",
   "metadata": {},
   "source": [
    "### DeepSNAP"
   ]
  },
  {
   "cell_type": "code",
   "execution_count": 9,
   "id": "copyrighted-positive",
   "metadata": {},
   "outputs": [],
   "source": [
    "from deepsnap.graph import Graph as dSNAP_Graph\n",
    "from deepsnap.dataset import GraphDataset as dSNAP_GraphDS"
   ]
  },
  {
   "cell_type": "markdown",
   "id": "attempted-elizabeth",
   "metadata": {},
   "source": [
    "## Original inp file"
   ]
  },
  {
   "cell_type": "code",
   "execution_count": 10,
   "id": "coastal-diameter",
   "metadata": {},
   "outputs": [],
   "source": [
    "# Create a water network model\n",
    "def load_inp(inp_file_path):\n",
    "    wn_WDS = wntr.network.WaterNetworkModel(inp_file_path)\n",
    "\n",
    "    # Plot the network\n",
    "    wntr.graphics.plot_network(wn_WDS, title=wn_WDS.name)\n",
    "\n",
    "    # Simulate hydraulics\n",
    "    sim_WDS = wntr.sim.EpanetSimulator(wn_WDS)\n",
    "    results_WDS = sim_WDS.run_sim()\n",
    "    \n",
    "    return(wn_WDS, sim_WDS, results_WDS)"
   ]
  },
  {
   "cell_type": "code",
   "execution_count": 11,
   "id": "devoted-series",
   "metadata": {},
   "outputs": [],
   "source": [
    "name_WDS = 'TLN'"
   ]
  },
  {
   "cell_type": "code",
   "execution_count": 12,
   "id": "determined-pepper",
   "metadata": {},
   "outputs": [],
   "source": [
    "WDS_info = pd.read_csv('./networks/Exeter/TLN_info.csv', dtype = {'NodeID': str} )"
   ]
  },
  {
   "cell_type": "code",
   "execution_count": 13,
   "id": "literary-penguin",
   "metadata": {},
   "outputs": [
    {
     "data": {
      "text/plain": [
       "Index(['D', 'Cost', 'NodeID', 'MinPressure_m', 'UNITS_TO_M'], dtype='object')"
      ]
     },
     "execution_count": 13,
     "metadata": {},
     "output_type": "execute_result"
    }
   ],
   "source": [
    "WDS_info.columns"
   ]
  },
  {
   "cell_type": "code",
   "execution_count": 18,
   "id": "handled-gibson",
   "metadata": {},
   "outputs": [
    {
     "name": "stdout",
     "output_type": "stream",
     "text": [
      "        MinPressure_m\n",
      "NodeID               \n",
      "2                30.0\n",
      "3                30.0\n",
      "4                30.0\n",
      "5                30.0\n",
      "6                30.0\n",
      "7                30.0\n"
     ]
    }
   ],
   "source": [
    "min_pres = WDS_info[['NodeID', 'MinPressure_m']].dropna()\n",
    "min_pres = min_pres.set_index('NodeID')\n",
    "print(min_pres)"
   ]
  },
  {
   "cell_type": "code",
   "execution_count": 23,
   "id": "rolled-spotlight",
   "metadata": {},
   "outputs": [
    {
     "data": {
      "image/png": "[encoded data removed]",
      "text/plain": [
       "<Figure size 432x288 with 1 Axes>"
      ]
     },
     "metadata": {},
     "output_type": "display_data"
    }
   ],
   "source": [
    "path= 'networks/Exeter/'+name_WDS+'.inp'\n",
    "wn_WDS, b, c = load_inp(path)"
   ]
  },
  {
   "cell_type": "code",
   "execution_count": 24,
   "id": "adopted-sense",
   "metadata": {},
   "outputs": [],
   "source": [
    "UNIT_TO_M = 0.0254 \n",
    "PMIN_WDS = 28.1236 #m #Equivalent to 40 psi #REFERENCE"
   ]
  },
  {
   "cell_type": "code",
   "execution_count": 129,
   "id": "alone-principle",
   "metadata": {},
   "outputs": [],
   "source": [
    "num_pipes = wn_WDS.num_pipes\n",
    "\n",
    "avail_diams = list(WDS_info.D.dropna()) #[6, 8, 10, 12, 14] #inches\n",
    "pipe_names = wn_WDS.link_name_list\n",
    "\n",
    "seed = 958 #Trial seed: 4345\n",
    "np.random.seed(seed)\n",
    "\n",
    "N_iter = 100"
   ]
  },
  {
   "cell_type": "code",
   "execution_count": 130,
   "id": "diverse-progressive",
   "metadata": {},
   "outputs": [
    {
     "data": {
      "text/plain": [
       "[1, 2, 3, 4, 6, 8, 10, 12, 14, 16, 18, 20, 22, 24]"
      ]
     },
     "execution_count": 130,
     "metadata": {},
     "output_type": "execute_result"
    }
   ],
   "source": [
    "avail_diams"
   ]
  },
  {
   "cell_type": "markdown",
   "id": "entertaining-store",
   "metadata": {},
   "source": [
    "## Dataset Creation"
   ]
  },
  {
   "cell_type": "code",
   "execution_count": 115,
   "id": "hourly-marina",
   "metadata": {},
   "outputs": [],
   "source": [
    "node_attributes = ['node_id','node_type','base_demand','elevation','base_head','coords']\n",
    "edge_attributes = ['link_id','length','diameter','roughness']\n",
    "\n",
    "def from_wntr_to_pandas(wn):\n",
    "  # node features and coordinates\n",
    "  df_nodes = pd.DataFrame(columns=node_attributes)\n",
    "  for i, node_id in enumerate(wn.nodes):    \n",
    "    this_node = wn.get_node(node_id)\n",
    "    if this_node.node_type == 'Junction':\n",
    "      df_nodes.loc[i,:] = (node_id, 0, this_node.base_demand, this_node.elevation, 0, this_node.coordinates)      \n",
    "    elif this_node.node_type == 'Reservoir':\n",
    "      df_nodes.loc[i,:] = (node_id, 1, 0, 0, this_node.base_head, this_node.coordinates)      \n",
    "    else:\n",
    "      print('Only Junctions and Reservoirs so far')      \n",
    "      break\n",
    "      \n",
    "  # link features\n",
    "  df_links = pd.DataFrame(columns=edge_attributes)\n",
    "  for i, link_id in enumerate(wn.links):    \n",
    "    this_link = wn.get_link(link_id)\n",
    "    if this_link.link_type == 'Pipe':\n",
    "      df_links.loc[i,:] = (link_id, this_link.length, this_link.diameter, this_link.roughness)      \n",
    "    else:\n",
    "      print('Only Pipes so far')      \n",
    "      break\n",
    "\n",
    "  # edge indexes\n",
    "  G = wn.get_graph()\n",
    "  #COO_edges =0  \n",
    "  COO_edges = np.array(nx.to_scipy_sparse_matrix(G,format='coo').nonzero())\n",
    "\n",
    "  return df_nodes, df_links, COO_edges\n",
    "\n",
    "def from_wntr_to_geometric(wn):      \n",
    "  df_nodes, df_links, COO_edges = from_wntr_to_pandas(wn)   # get pandas dataframes\n",
    "  \n",
    "  # create torch data \n",
    "  x = torch.tensor(df_nodes[['node_type','base_demand','elevation','base_head']].astype(float).values, dtype=torch.float)\n",
    "  pos = torch.tensor(df_nodes['coords'], dtype=torch.float)\n",
    "  edge_index = torch.tensor(COO_edges, dtype=torch.long)\n",
    "  edge_attr = torch.tensor(df_links[['length','diameter','roughness']].astype(float).values, dtype=torch.float)\n",
    "  data = Data(x=x, pos=pos, edge_index=edge_index, edge_attr=edge_attr)\n",
    "\n",
    "  return data, df_nodes, df_links"
   ]
  },
  {
   "cell_type": "code",
   "execution_count": 116,
   "id": "scientific-samoa",
   "metadata": {},
   "outputs": [],
   "source": [
    "data, df_nodes, df_links = from_wntr_to_geometric(wn_WDS)"
   ]
  },
  {
   "cell_type": "code",
   "execution_count": 117,
   "id": "desirable-tablet",
   "metadata": {},
   "outputs": [],
   "source": [
    "from res_index import *"
   ]
  },
  {
   "cell_type": "code",
   "execution_count": 118,
   "id": "stuck-plastic",
   "metadata": {},
   "outputs": [
    {
     "data": {
      "text/html": [
       "<div>\n",
       "<style scoped>\n",
       "    .dataframe tbody tr th:only-of-type {\n",
       "        vertical-align: middle;\n",
       "    }\n",
       "\n",
       "    .dataframe tbody tr th {\n",
       "        vertical-align: top;\n",
       "    }\n",
       "\n",
       "    .dataframe thead th {\n",
       "        text-align: right;\n",
       "    }\n",
       "</style>\n",
       "<table border=\"1\" class=\"dataframe\">\n",
       "  <thead>\n",
       "    <tr style=\"text-align: right;\">\n",
       "      <th>name</th>\n",
       "      <th>2</th>\n",
       "      <th>3</th>\n",
       "      <th>4</th>\n",
       "      <th>5</th>\n",
       "      <th>6</th>\n",
       "      <th>7</th>\n",
       "      <th>1</th>\n",
       "    </tr>\n",
       "  </thead>\n",
       "  <tbody>\n",
       "    <tr>\n",
       "      <th>0</th>\n",
       "      <td>57.458965</td>\n",
       "      <td>44.703655</td>\n",
       "      <td>21.784094</td>\n",
       "      <td>25.700605</td>\n",
       "      <td>-802.459229</td>\n",
       "      <td>10.844771</td>\n",
       "      <td>4.394531e-07</td>\n",
       "    </tr>\n",
       "  </tbody>\n",
       "</table>\n",
       "</div>"
      ],
      "text/plain": [
       "name          2          3          4          5           6          7  \\\n",
       "0     57.458965  44.703655  21.784094  25.700605 -802.459229  10.844771   \n",
       "\n",
       "name             1  \n",
       "0     4.394531e-07  "
      ]
     },
     "execution_count": 118,
     "metadata": {},
     "output_type": "execute_result"
    }
   ],
   "source": [
    "results_WDS.node['pressure']"
   ]
  },
  {
   "cell_type": "code",
   "execution_count": 119,
   "id": "little-bridges",
   "metadata": {},
   "outputs": [
    {
     "name": "stdout",
     "output_type": "stream",
     "text": [
      "0   -2.16297\n",
      "dtype: float64\n"
     ]
    }
   ],
   "source": [
    "print(res_index(results_WDS.node['head'], results_WDS.node['pressure'], results_WDS.node['demand'], flowrate, wn_WDS, min_pres, indx = 'Todini'))"
   ]
  },
  {
   "cell_type": "code",
   "execution_count": null,
   "id": "olympic-offering",
   "metadata": {},
   "outputs": [],
   "source": []
  },
  {
   "cell_type": "code",
   "execution_count": 120,
   "id": "transparent-rally",
   "metadata": {},
   "outputs": [
    {
     "name": "stdout",
     "output_type": "stream",
     "text": [
      "iter: 0\n",
      "iter: 5\n"
     ]
    },
    {
     "name": "stderr",
     "output_type": "stream",
     "text": [
      "C:\\Programs\\Anaconda3\\envs\\PyTorch_Env\\lib\\site-packages\\pandas\\core\\internals\\blocks.py:983: VisibleDeprecationWarning: Creating an ndarray from ragged nested sequences (which is a list-or-tuple of lists-or-tuples-or ndarrays with different lengths or shapes) is deprecated. If you meant to do this, you must specify 'dtype=object' when creating the ndarray\n",
      "  arr_value = np.array(value)\n"
     ]
    },
    {
     "name": "stdout",
     "output_type": "stream",
     "text": [
      "iter: 10\n",
      "iter: 15\n",
      "iter: 20\n",
      "iter: 25\n",
      "iter: 30\n",
      "iter: 35\n",
      "iter: 40\n",
      "iter: 45\n",
      "iter: 50\n",
      "iter: 55\n",
      "iter: 60\n",
      "iter: 65\n",
      "iter: 70\n",
      "iter: 75\n",
      "iter: 80\n",
      "iter: 85\n",
      "iter: 90\n",
      "iter: 95\n"
     ]
    }
   ],
   "source": [
    "first_DB = []\n",
    "fail_DB = []\n",
    "\n",
    "all_geom_data = [] # geometric data\n",
    "\n",
    "for sim in range(N_iter):\n",
    "  DB_row = []  # y data\n",
    "  # echo on screen\n",
    "  if sim % 5 == 0:\n",
    "    print(f'iter: {sim}')\n",
    "    #print(flowrate)\n",
    "  \n",
    "  # assign diameters    \n",
    "  new_diams = np.random.choice(avail_diams, num_pipes)\n",
    "  new_diams = new_diams * UNIT_TO_M\n",
    "  for i in range(num_pipes):\n",
    "      c_pipe = wn_WDS.get_link(pipe_names[i])\n",
    "      c_pipe.diameter = new_diams[i]\n",
    "  \n",
    "  # run the simulation\n",
    "  try:\n",
    "    # Simulate hydraulics\n",
    "    sim_WDS = wntr.sim.EpanetSimulator(wn_WDS)\n",
    "    results_WDS = sim_WDS.run_sim()\n",
    "    \n",
    "    try:\n",
    "      flowrate = pd.DataFrame(results_AnyT.link['flowrate']['82']) #FLowrate at the link with the pump\n",
    "    except Exception as e1:\n",
    "      flowrate = 0\n",
    "    \n",
    "    # get resilience indexes  \n",
    "    RI_PP = res_index(results_WDS.node['head'], results_WDS.node['pressure'], results_WDS.node['demand'], flowrate, wn_WDS, min_pres, indx = 'PP')\n",
    "    RI_Todini = res_index(results_WDS.node['head'], results_WDS.node['pressure'], results_WDS.node['demand'], flowrate, wn_WDS, min_pres, indx = 'Todini')\n",
    "    \n",
    "    #RI_PP = PP_index(results_WDS.node['head'], results_WDS.node['pressure'], results_WDS.node['demand'], flowrate, wn_WDS, PMIN_WDS)\n",
    "    #RI_Todini = wntr.metrics.hydraulic.todini_index(results_WDS.node['head'], results_WDS.node['pressure'], results_WDS.node['demand'], flowrate, wn_WDS, PMIN_WDS)\n",
    "    \n",
    "    DB_row.append(RI_PP)\n",
    "    DB_row.append(RI_Todini)\n",
    "    \n",
    "    first_DB.append(DB_row)\n",
    "    \n",
    "    # create Geometric Data (no y yet)\n",
    "    data, _, _ = from_wntr_to_geometric(wn_WDS)\n",
    "    all_geom_data.append(data)\n",
    "      \n",
    "  except Exception as e:\n",
    "    fail_row = [sim]\n",
    "    fail_row.append(np.round(new_diams/UNIT_TO_M, 0))\n",
    "    fail_row.append(wn_WDS)\n",
    "    fail_row.append(e)\n",
    "    print(e)\n",
    "    fail_DB.append(fail_row)\n",
    "    #wn_WDS.write_inpfile('Failed files/' + 'fail_' + heading+'_'+str(sim)+ '.inp', version=2.2)"
   ]
  },
  {
   "cell_type": "code",
   "execution_count": 128,
   "id": "latin-endorsement",
   "metadata": {},
   "outputs": [
    {
     "data": {
      "text/plain": [
       "[[0    0.903806\n",
       "  dtype: float64,\n",
       "  0    0.903806\n",
       "  dtype: float64],\n",
       " [0    0.903806\n",
       "  dtype: float64,\n",
       "  0    0.903806\n",
       "  dtype: float64],\n",
       " [0    0.903806\n",
       "  dtype: float64,\n",
       "  0    0.903806\n",
       "  dtype: float64],\n",
       " [0    0.903806\n",
       "  dtype: float64,\n",
       "  0    0.903806\n",
       "  dtype: float64],\n",
       " [0    0.903806\n",
       "  dtype: float64,\n",
       "  0    0.903806\n",
       "  dtype: float64],\n",
       " [0    0.903806\n",
       "  dtype: float64,\n",
       "  0    0.903806\n",
       "  dtype: float64],\n",
       " [0    0.903806\n",
       "  dtype: float64,\n",
       "  0    0.903806\n",
       "  dtype: float64],\n",
       " [0    0.903806\n",
       "  dtype: float64,\n",
       "  0    0.903806\n",
       "  dtype: float64],\n",
       " [0    0.903806\n",
       "  dtype: float64,\n",
       "  0    0.903806\n",
       "  dtype: float64],\n",
       " [0    0.903806\n",
       "  dtype: float64,\n",
       "  0    0.903806\n",
       "  dtype: float64],\n",
       " [0    0.903806\n",
       "  dtype: float64,\n",
       "  0    0.903806\n",
       "  dtype: float64],\n",
       " [0    0.903806\n",
       "  dtype: float64,\n",
       "  0    0.903806\n",
       "  dtype: float64],\n",
       " [0    0.903806\n",
       "  dtype: float64,\n",
       "  0    0.903806\n",
       "  dtype: float64],\n",
       " [0    0.903806\n",
       "  dtype: float64,\n",
       "  0    0.903806\n",
       "  dtype: float64],\n",
       " [0    0.903806\n",
       "  dtype: float64,\n",
       "  0    0.903806\n",
       "  dtype: float64],\n",
       " [0    0.903806\n",
       "  dtype: float64,\n",
       "  0    0.903806\n",
       "  dtype: float64],\n",
       " [0    0.903806\n",
       "  dtype: float64,\n",
       "  0    0.903806\n",
       "  dtype: float64],\n",
       " [0    0.903806\n",
       "  dtype: float64,\n",
       "  0    0.903806\n",
       "  dtype: float64],\n",
       " [0    0.903806\n",
       "  dtype: float64,\n",
       "  0    0.903806\n",
       "  dtype: float64],\n",
       " [0    0.903806\n",
       "  dtype: float64,\n",
       "  0    0.903806\n",
       "  dtype: float64],\n",
       " [0    0.903806\n",
       "  dtype: float64,\n",
       "  0    0.903806\n",
       "  dtype: float64],\n",
       " [0    0.903806\n",
       "  dtype: float64,\n",
       "  0    0.903806\n",
       "  dtype: float64],\n",
       " [0    0.903806\n",
       "  dtype: float64,\n",
       "  0    0.903806\n",
       "  dtype: float64],\n",
       " [0    0.903806\n",
       "  dtype: float64,\n",
       "  0    0.903806\n",
       "  dtype: float64],\n",
       " [0    0.903806\n",
       "  dtype: float64,\n",
       "  0    0.903806\n",
       "  dtype: float64],\n",
       " [0    0.903806\n",
       "  dtype: float64,\n",
       "  0    0.903806\n",
       "  dtype: float64],\n",
       " [0    0.903806\n",
       "  dtype: float64,\n",
       "  0    0.903806\n",
       "  dtype: float64],\n",
       " [0    0.903806\n",
       "  dtype: float64,\n",
       "  0    0.903806\n",
       "  dtype: float64],\n",
       " [0    0.903806\n",
       "  dtype: float64,\n",
       "  0    0.903806\n",
       "  dtype: float64],\n",
       " [0    0.903806\n",
       "  dtype: float64,\n",
       "  0    0.903806\n",
       "  dtype: float64],\n",
       " [0    0.903806\n",
       "  dtype: float64,\n",
       "  0    0.903806\n",
       "  dtype: float64],\n",
       " [0    0.903806\n",
       "  dtype: float64,\n",
       "  0    0.903806\n",
       "  dtype: float64],\n",
       " [0    0.903806\n",
       "  dtype: float64,\n",
       "  0    0.903806\n",
       "  dtype: float64],\n",
       " [0    0.903806\n",
       "  dtype: float64,\n",
       "  0    0.903806\n",
       "  dtype: float64],\n",
       " [0    0.903806\n",
       "  dtype: float64,\n",
       "  0    0.903806\n",
       "  dtype: float64],\n",
       " [0    0.903806\n",
       "  dtype: float64,\n",
       "  0    0.903806\n",
       "  dtype: float64],\n",
       " [0    0.903806\n",
       "  dtype: float64,\n",
       "  0    0.903806\n",
       "  dtype: float64],\n",
       " [0    0.903806\n",
       "  dtype: float64,\n",
       "  0    0.903806\n",
       "  dtype: float64],\n",
       " [0    0.903806\n",
       "  dtype: float64,\n",
       "  0    0.903806\n",
       "  dtype: float64],\n",
       " [0    0.903806\n",
       "  dtype: float64,\n",
       "  0    0.903806\n",
       "  dtype: float64],\n",
       " [0    0.903806\n",
       "  dtype: float64,\n",
       "  0    0.903806\n",
       "  dtype: float64],\n",
       " [0    0.903806\n",
       "  dtype: float64,\n",
       "  0    0.903806\n",
       "  dtype: float64],\n",
       " [0    0.903806\n",
       "  dtype: float64,\n",
       "  0    0.903806\n",
       "  dtype: float64],\n",
       " [0    0.903806\n",
       "  dtype: float64,\n",
       "  0    0.903806\n",
       "  dtype: float64],\n",
       " [0    0.903806\n",
       "  dtype: float64,\n",
       "  0    0.903806\n",
       "  dtype: float64],\n",
       " [0    0.903806\n",
       "  dtype: float64,\n",
       "  0    0.903806\n",
       "  dtype: float64],\n",
       " [0    0.903806\n",
       "  dtype: float64,\n",
       "  0    0.903806\n",
       "  dtype: float64],\n",
       " [0    0.903806\n",
       "  dtype: float64,\n",
       "  0    0.903806\n",
       "  dtype: float64],\n",
       " [0    0.903806\n",
       "  dtype: float64,\n",
       "  0    0.903806\n",
       "  dtype: float64],\n",
       " [0    0.903806\n",
       "  dtype: float64,\n",
       "  0    0.903806\n",
       "  dtype: float64],\n",
       " [0    0.903806\n",
       "  dtype: float64,\n",
       "  0    0.903806\n",
       "  dtype: float64],\n",
       " [0    0.903806\n",
       "  dtype: float64,\n",
       "  0    0.903806\n",
       "  dtype: float64],\n",
       " [0    0.903806\n",
       "  dtype: float64,\n",
       "  0    0.903806\n",
       "  dtype: float64],\n",
       " [0    0.903806\n",
       "  dtype: float64,\n",
       "  0    0.903806\n",
       "  dtype: float64],\n",
       " [0    0.903806\n",
       "  dtype: float64,\n",
       "  0    0.903806\n",
       "  dtype: float64],\n",
       " [0    0.903806\n",
       "  dtype: float64,\n",
       "  0    0.903806\n",
       "  dtype: float64],\n",
       " [0    0.903806\n",
       "  dtype: float64,\n",
       "  0    0.903806\n",
       "  dtype: float64],\n",
       " [0    0.903806\n",
       "  dtype: float64,\n",
       "  0    0.903806\n",
       "  dtype: float64],\n",
       " [0    0.903806\n",
       "  dtype: float64,\n",
       "  0    0.903806\n",
       "  dtype: float64],\n",
       " [0    0.903806\n",
       "  dtype: float64,\n",
       "  0    0.903806\n",
       "  dtype: float64],\n",
       " [0    0.903806\n",
       "  dtype: float64,\n",
       "  0    0.903806\n",
       "  dtype: float64],\n",
       " [0    0.903806\n",
       "  dtype: float64,\n",
       "  0    0.903806\n",
       "  dtype: float64],\n",
       " [0    0.903806\n",
       "  dtype: float64,\n",
       "  0    0.903806\n",
       "  dtype: float64],\n",
       " [0    0.903806\n",
       "  dtype: float64,\n",
       "  0    0.903806\n",
       "  dtype: float64],\n",
       " [0    0.903806\n",
       "  dtype: float64,\n",
       "  0    0.903806\n",
       "  dtype: float64],\n",
       " [0    0.903806\n",
       "  dtype: float64,\n",
       "  0    0.903806\n",
       "  dtype: float64],\n",
       " [0    0.903806\n",
       "  dtype: float64,\n",
       "  0    0.903806\n",
       "  dtype: float64],\n",
       " [0    0.903806\n",
       "  dtype: float64,\n",
       "  0    0.903806\n",
       "  dtype: float64],\n",
       " [0    0.903806\n",
       "  dtype: float64,\n",
       "  0    0.903806\n",
       "  dtype: float64],\n",
       " [0    0.903806\n",
       "  dtype: float64,\n",
       "  0    0.903806\n",
       "  dtype: float64],\n",
       " [0    0.903806\n",
       "  dtype: float64,\n",
       "  0    0.903806\n",
       "  dtype: float64],\n",
       " [0    0.903806\n",
       "  dtype: float64,\n",
       "  0    0.903806\n",
       "  dtype: float64],\n",
       " [0    0.903806\n",
       "  dtype: float64,\n",
       "  0    0.903806\n",
       "  dtype: float64],\n",
       " [0    0.903806\n",
       "  dtype: float64,\n",
       "  0    0.903806\n",
       "  dtype: float64],\n",
       " [0    0.903806\n",
       "  dtype: float64,\n",
       "  0    0.903806\n",
       "  dtype: float64],\n",
       " [0    0.903806\n",
       "  dtype: float64,\n",
       "  0    0.903806\n",
       "  dtype: float64],\n",
       " [0    0.903806\n",
       "  dtype: float64,\n",
       "  0    0.903806\n",
       "  dtype: float64],\n",
       " [0    0.903806\n",
       "  dtype: float64,\n",
       "  0    0.903806\n",
       "  dtype: float64],\n",
       " [0    0.903806\n",
       "  dtype: float64,\n",
       "  0    0.903806\n",
       "  dtype: float64],\n",
       " [0    0.903806\n",
       "  dtype: float64,\n",
       "  0    0.903806\n",
       "  dtype: float64],\n",
       " [0    0.903806\n",
       "  dtype: float64,\n",
       "  0    0.903806\n",
       "  dtype: float64],\n",
       " [0    0.903806\n",
       "  dtype: float64,\n",
       "  0    0.903806\n",
       "  dtype: float64],\n",
       " [0    0.903806\n",
       "  dtype: float64,\n",
       "  0    0.903806\n",
       "  dtype: float64],\n",
       " [0    0.903806\n",
       "  dtype: float64,\n",
       "  0    0.903806\n",
       "  dtype: float64],\n",
       " [0    0.903806\n",
       "  dtype: float64,\n",
       "  0    0.903806\n",
       "  dtype: float64],\n",
       " [0    0.903806\n",
       "  dtype: float64,\n",
       "  0    0.903806\n",
       "  dtype: float64],\n",
       " [0    0.903806\n",
       "  dtype: float64,\n",
       "  0    0.903806\n",
       "  dtype: float64],\n",
       " [0    0.903806\n",
       "  dtype: float64,\n",
       "  0    0.903806\n",
       "  dtype: float64],\n",
       " [0    0.903806\n",
       "  dtype: float64,\n",
       "  0    0.903806\n",
       "  dtype: float64],\n",
       " [0    0.903806\n",
       "  dtype: float64,\n",
       "  0    0.903806\n",
       "  dtype: float64],\n",
       " [0    0.903806\n",
       "  dtype: float64,\n",
       "  0    0.903806\n",
       "  dtype: float64],\n",
       " [0    0.903806\n",
       "  dtype: float64,\n",
       "  0    0.903806\n",
       "  dtype: float64],\n",
       " [0    0.903806\n",
       "  dtype: float64,\n",
       "  0    0.903806\n",
       "  dtype: float64],\n",
       " [0    0.903806\n",
       "  dtype: float64,\n",
       "  0    0.903806\n",
       "  dtype: float64],\n",
       " [0    0.903806\n",
       "  dtype: float64,\n",
       "  0    0.903806\n",
       "  dtype: float64],\n",
       " [0    0.903806\n",
       "  dtype: float64,\n",
       "  0    0.903806\n",
       "  dtype: float64],\n",
       " [0    0.903806\n",
       "  dtype: float64,\n",
       "  0    0.903806\n",
       "  dtype: float64],\n",
       " [0    0.903806\n",
       "  dtype: float64,\n",
       "  0    0.903806\n",
       "  dtype: float64],\n",
       " [0    0.903806\n",
       "  dtype: float64,\n",
       "  0    0.903806\n",
       "  dtype: float64],\n",
       " [0    0.903806\n",
       "  dtype: float64,\n",
       "  0    0.903806\n",
       "  dtype: float64]]"
      ]
     },
     "execution_count": 128,
     "metadata": {},
     "output_type": "execute_result"
    }
   ],
   "source": [
    "first_DB"
   ]
  },
  {
   "cell_type": "code",
   "execution_count": 110,
   "id": "missing-carbon",
   "metadata": {},
   "outputs": [
    {
     "name": "stdout",
     "output_type": "stream",
     "text": [
      "2\n",
      "3\n",
      "4\n",
      "5\n",
      "6\n",
      "7\n"
     ]
    }
   ],
   "source": [
    "for name, node in wn_WDS.nodes(wntr.network.Junction):\n",
    "    print(name)"
   ]
  },
  {
   "cell_type": "code",
   "execution_count": 72,
   "id": "clinical-coverage",
   "metadata": {},
   "outputs": [
    {
     "data": {
      "text/plain": [
       "100"
      ]
     },
     "execution_count": 72,
     "metadata": {},
     "output_type": "execute_result"
    }
   ],
   "source": [
    "len(all_geom_data)"
   ]
  },
  {
   "cell_type": "code",
   "execution_count": 73,
   "id": "further-mills",
   "metadata": {},
   "outputs": [
    {
     "data": {
      "text/plain": [
       "Data(edge_attr=[8, 3], edge_index=[2, 8], pos=[7, 2], x=[7, 4])"
      ]
     },
     "execution_count": 73,
     "metadata": {},
     "output_type": "execute_result"
    }
   ],
   "source": [
    "all_geom_data[0]"
   ]
  },
  {
   "cell_type": "code",
   "execution_count": 74,
   "id": "closing-simpson",
   "metadata": {},
   "outputs": [
    {
     "data": {
      "text/plain": [
       "tensor([[1.0000e+03, 3.0480e-01, 1.3000e+02],\n",
       "        [1.0000e+03, 3.0480e-01, 1.3000e+02],\n",
       "        [1.0000e+03, 2.5400e-01, 1.3000e+02],\n",
       "        [1.0000e+03, 1.5240e-01, 1.3000e+02],\n",
       "        [1.0000e+03, 3.0480e-01, 1.3000e+02],\n",
       "        [1.0000e+03, 1.5240e-01, 1.3000e+02],\n",
       "        [1.0000e+03, 2.0320e-01, 1.3000e+02],\n",
       "        [1.0000e+03, 3.0480e-01, 1.3000e+02]])"
      ]
     },
     "execution_count": 74,
     "metadata": {},
     "output_type": "execute_result"
    }
   ],
   "source": [
    "all_geom_data[0].edge_attr[0:10]"
   ]
  },
  {
   "cell_type": "code",
   "execution_count": 82,
   "id": "signed-electron",
   "metadata": {},
   "outputs": [],
   "source": []
  },
  {
   "cell_type": "code",
   "execution_count": 2,
   "id": "employed-tattoo",
   "metadata": {},
   "outputs": [
    {
     "ename": "NameError",
     "evalue": "name 'TUDataset' is not defined",
     "output_type": "error",
     "traceback": [
      "\u001b[1;31m---------------------------------------------------------------------------\u001b[0m",
      "\u001b[1;31mNameError\u001b[0m                                 Traceback (most recent call last)",
      "\u001b[1;32m<ipython-input-2-9411251b96cc>\u001b[0m in \u001b[0;36m<module>\u001b[1;34m\u001b[0m\n\u001b[1;32m----> 1\u001b[1;33m \u001b[0mdataset\u001b[0m \u001b[1;33m=\u001b[0m \u001b[0mTUDataset\u001b[0m\u001b[1;33m(\u001b[0m\u001b[0mroot\u001b[0m\u001b[1;33m=\u001b[0m\u001b[1;34m'/tmp/ENZYMES'\u001b[0m\u001b[1;33m,\u001b[0m \u001b[0mname\u001b[0m\u001b[1;33m=\u001b[0m\u001b[1;34m'ENZYMES'\u001b[0m\u001b[1;33m)\u001b[0m\u001b[1;33m\u001b[0m\u001b[1;33m\u001b[0m\u001b[0m\n\u001b[0m",
      "\u001b[1;31mNameError\u001b[0m: name 'TUDataset' is not defined"
     ]
    }
   ],
   "source": [
    "\n",
    "dataset = TUDataset(root='/tmp/ENZYMES', name='ENZYMES')"
   ]
  },
  {
   "cell_type": "code",
   "execution_count": 1,
   "id": "satisfied-strike",
   "metadata": {},
   "outputs": [
    {
     "ename": "NameError",
     "evalue": "name 'dataset' is not defined",
     "output_type": "error",
     "traceback": [
      "\u001b[1;31m---------------------------------------------------------------------------\u001b[0m",
      "\u001b[1;31mNameError\u001b[0m                                 Traceback (most recent call last)",
      "\u001b[1;32m<ipython-input-1-90790a623382>\u001b[0m in \u001b[0;36m<module>\u001b[1;34m\u001b[0m\n\u001b[1;32m----> 1\u001b[1;33m \u001b[0mdataset\u001b[0m\u001b[1;33m[\u001b[0m\u001b[1;36m0\u001b[0m\u001b[1;33m]\u001b[0m\u001b[1;33m.\u001b[0m\u001b[0my\u001b[0m\u001b[1;33m\u001b[0m\u001b[1;33m\u001b[0m\u001b[0m\n\u001b[0m",
      "\u001b[1;31mNameError\u001b[0m: name 'dataset' is not defined"
     ]
    }
   ],
   "source": [
    "dataset[0].y"
   ]
  },
  {
   "cell_type": "code",
   "execution_count": 4,
   "id": "copyrighted-mailman",
   "metadata": {},
   "outputs": [
    {
     "data": {
      "text/plain": [
       "Data(edge_index=[2, 102], x=[23, 3], y=[1])"
      ]
     },
     "execution_count": 4,
     "metadata": {},
     "output_type": "execute_result"
    }
   ],
   "source": [
    "dataset[1]"
   ]
  },
  {
   "cell_type": "code",
   "execution_count": 5,
   "id": "legal-thickness",
   "metadata": {},
   "outputs": [
    {
     "data": {
      "text/plain": [
       "Data(edge_index=[2, 92], x=[25, 3], y=[1])"
      ]
     },
     "execution_count": 5,
     "metadata": {},
     "output_type": "execute_result"
    }
   ],
   "source": [
    "dataset[2]"
   ]
  },
  {
   "cell_type": "code",
   "execution_count": 6,
   "id": "vital-audit",
   "metadata": {},
   "outputs": [
    {
     "data": {
      "text/plain": [
       "600"
      ]
     },
     "execution_count": 6,
     "metadata": {},
     "output_type": "execute_result"
    }
   ],
   "source": [
    "len(dataset)"
   ]
  },
  {
   "cell_type": "code",
   "execution_count": 7,
   "id": "stainless-memorabilia",
   "metadata": {},
   "outputs": [
    {
     "data": {
      "text/plain": [
       "torch_geometric.datasets.tu_dataset.TUDataset"
      ]
     },
     "execution_count": 7,
     "metadata": {},
     "output_type": "execute_result"
    }
   ],
   "source": [
    "type(dataset)"
   ]
  },
  {
   "cell_type": "code",
   "execution_count": 10,
   "id": "powered-afghanistan",
   "metadata": {},
   "outputs": [
    {
     "data": {
      "text/plain": [
       "ENZYMES(600)"
      ]
     },
     "execution_count": 10,
     "metadata": {},
     "output_type": "execute_result"
    }
   ],
   "source": [
    "dataset"
   ]
  },
  {
   "cell_type": "code",
   "execution_count": 11,
   "id": "caring-contest",
   "metadata": {},
   "outputs": [],
   "source": [
    "from deepsnap.graph import Graph\n",
    "from torch_geometric.datasets import Planetoid"
   ]
  },
  {
   "cell_type": "code",
   "execution_count": 12,
   "id": "coastal-library",
   "metadata": {},
   "outputs": [
    {
     "name": "stdout",
     "output_type": "stream",
     "text": [
      "Downloading https://github.com/kimiyoung/planetoid/raw/master/data/ind.cora.x\n",
      "Downloading https://github.com/kimiyoung/planetoid/raw/master/data/ind.cora.tx\n",
      "Downloading https://github.com/kimiyoung/planetoid/raw/master/data/ind.cora.allx\n",
      "Downloading https://github.com/kimiyoung/planetoid/raw/master/data/ind.cora.y\n",
      "Downloading https://github.com/kimiyoung/planetoid/raw/master/data/ind.cora.ty\n",
      "Downloading https://github.com/kimiyoung/planetoid/raw/master/data/ind.cora.ally\n",
      "Downloading https://github.com/kimiyoung/planetoid/raw/master/data/ind.cora.graph\n",
      "Downloading https://github.com/kimiyoung/planetoid/raw/master/data/ind.cora.test.index\n",
      "Processing...\n",
      "Done!\n"
     ]
    }
   ],
   "source": [
    "pyg_dataset = Planetoid('./cora', 'Cora')\n",
    "graph = Graph.pyg_to_graph(pyg_dataset[0])"
   ]
  },
  {
   "cell_type": "code",
   "execution_count": 13,
   "id": "violent-rwanda",
   "metadata": {},
   "outputs": [
    {
     "data": {
      "text/plain": [
       "Graph(G=[], edge_index=[2, 10556], edge_label_index=[2, 10556], node_feature=[2708, 1433], node_label=[2708], node_label_index=[2708])"
      ]
     },
     "execution_count": 13,
     "metadata": {},
     "output_type": "execute_result"
    }
   ],
   "source": [
    "graph"
   ]
  },
  {
   "cell_type": "code",
   "execution_count": 15,
   "id": "particular-celebrity",
   "metadata": {},
   "outputs": [],
   "source": [
    "graph1 = Graph.pyg_to_graph(dataset[0])"
   ]
  },
  {
   "cell_type": "code",
   "execution_count": 16,
   "id": "historical-spencer",
   "metadata": {},
   "outputs": [
    {
     "data": {
      "text/plain": [
       "Graph(G=[], edge_index=[2, 168], edge_label_index=[2, 168], graph_label=[1], node_feature=[37, 3], node_label_index=[37])"
      ]
     },
     "execution_count": 16,
     "metadata": {},
     "output_type": "execute_result"
    }
   ],
   "source": [
    "graph1"
   ]
  },
  {
   "cell_type": "code",
   "execution_count": null,
   "id": "combined-transfer",
   "metadata": {},
   "outputs": [],
   "source": []
  }
 ],
 "metadata": {
  "kernelspec": {
   "display_name": "Python 3",
   "language": "python",
   "name": "python3"
  },
  "language_info": {
   "codemirror_mode": {
    "name": "ipython",
    "version": 3
   },
   "file_extension": ".py",
   "mimetype": "text/x-python",
   "name": "python",
   "nbconvert_exporter": "python",
   "pygments_lexer": "ipython3",
   "version": "3.8.5"
  }
 },
 "nbformat": 4,
 "nbformat_minor": 5
}
