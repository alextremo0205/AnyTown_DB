{
 "cells": [
  {
   "cell_type": "markdown",
   "id": "curious-burke",
   "metadata": {},
   "source": [
    "# Geometric Datasets: Exeter"
   ]
  },
  {
   "cell_type": "markdown",
   "id": "proper-smith",
   "metadata": {},
   "source": [
    "Improved version:\n",
    "* F"
   ]
  },
  {
   "cell_type": "markdown",
   "id": "assured-finnish",
   "metadata": {
    "collapsed": "true"
   },
   "source": [
    "## Description"
   ]
  },
  {
   "cell_type": "markdown",
   "id": "absolute-pressing",
   "metadata": {},
   "source": [
    "Code for creating the geometric datasets for the Two-Objective Design/Resilience networks from [Exeter Benchmarks](https://emps.exeter.ac.uk/engineering/research/cws/resources/benchmarks/design-resiliance-pareto-fronts/) \n",
    "\n",
    "*Small Problems*\n",
    "* Two-Reservoir Network\n",
    "* Two-Loop Network\n",
    "* BakRyan Network\n",
    "\n",
    "*Medium Problems*\n",
    "* New York Tunnel Network\n",
    "* Blacksburg Network\n",
    "* Hanoi Network\n",
    "\n",
    "*Intemediate Problems*\n",
    "* Fossolo Network\n",
    "* Pescara Network\n",
    "\n",
    "*Large Problems*\n",
    "* Modena Network\n",
    "* Balerma Irrigation Network\n",
    "\n",
    "*GoYang Network and Exeter Network were excluded because they had accessories (Pumps and valves) not yet contemplated for the extent of this exercise. \n"
   ]
  },
  {
   "cell_type": "markdown",
   "id": "iraqi-scotland",
   "metadata": {
    "collapsed": "true"
   },
   "source": [
    "## Imports"
   ]
  },
  {
   "cell_type": "markdown",
   "id": "artistic-mattress",
   "metadata": {
    "collapsed": "true"
   },
   "source": [
    "### Basic"
   ]
  },
  {
   "cell_type": "code",
   "execution_count": 31,
   "id": "presidential-yahoo",
   "metadata": {
    "execution": {
     "iopub.execute_input": "2021-02-18T19:07:39.361063Z",
     "iopub.status.busy": "2021-02-18T19:07:39.361063Z",
     "iopub.status.idle": "2021-02-18T19:07:39.365051Z",
     "shell.execute_reply": "2021-02-18T19:07:39.365051Z",
     "shell.execute_reply.started": "2021-02-18T19:07:39.361063Z"
    }
   },
   "outputs": [],
   "source": [
    "import os\n",
    "import wntr\n",
    "import pandas as pd\n",
    "import numpy as np\n",
    "import pickle\n",
    "import networkx as nx\n",
    "import winsound"
   ]
  },
  {
   "cell_type": "markdown",
   "id": "infinite-implementation",
   "metadata": {
    "collapsed": "true"
   },
   "source": [
    "### Custom functions"
   ]
  },
  {
   "cell_type": "code",
   "execution_count": 32,
   "id": "nuclear-baptist",
   "metadata": {
    "execution": {
     "iopub.execute_input": "2021-02-18T19:07:39.367047Z",
     "iopub.status.busy": "2021-02-18T19:07:39.366049Z",
     "iopub.status.idle": "2021-02-18T19:07:39.372033Z",
     "shell.execute_reply": "2021-02-18T19:07:39.372033Z",
     "shell.execute_reply.started": "2021-02-18T19:07:39.367047Z"
    }
   },
   "outputs": [],
   "source": [
    "#Custom .py file\n",
    "#from PrasadParkIndex import *\n",
    "from res_index import *"
   ]
  },
  {
   "cell_type": "markdown",
   "id": "ranging-series",
   "metadata": {
    "collapsed": "true"
   },
   "source": [
    "### PyTorch and PyG"
   ]
  },
  {
   "cell_type": "code",
   "execution_count": 33,
   "id": "thrown-steps",
   "metadata": {
    "execution": {
     "iopub.execute_input": "2021-02-18T19:07:39.374028Z",
     "iopub.status.busy": "2021-02-18T19:07:39.374028Z",
     "iopub.status.idle": "2021-02-18T19:07:39.386001Z",
     "shell.execute_reply": "2021-02-18T19:07:39.380017Z",
     "shell.execute_reply.started": "2021-02-18T19:07:39.374028Z"
    }
   },
   "outputs": [],
   "source": [
    "import torch\n",
    "from torch_geometric.data import Data\n",
    "from torch_geometric.utils import convert\n",
    "#from torch_geometric.datasets import TUDataset"
   ]
  },
  {
   "cell_type": "markdown",
   "id": "adjacent-school",
   "metadata": {
    "collapsed": "true"
   },
   "source": [
    "### DeepSNAP"
   ]
  },
  {
   "cell_type": "code",
   "execution_count": 34,
   "id": "contemporary-demographic",
   "metadata": {
    "execution": {
     "iopub.execute_input": "2021-02-18T19:07:39.390989Z",
     "iopub.status.busy": "2021-02-18T19:07:39.389991Z",
     "iopub.status.idle": "2021-02-18T19:07:39.397968Z",
     "shell.execute_reply": "2021-02-18T19:07:39.395973Z",
     "shell.execute_reply.started": "2021-02-18T19:07:39.390989Z"
    }
   },
   "outputs": [],
   "source": [
    "# from deepsnap.graph import Graph as dSNAP_Graph\n",
    "# from deepsnap.dataset import GraphDataset as dSNAP_GraphDS"
   ]
  },
  {
   "cell_type": "markdown",
   "id": "retired-mayor",
   "metadata": {
    "collapsed": "true"
   },
   "source": [
    "### Plotly"
   ]
  },
  {
   "cell_type": "code",
   "execution_count": 35,
   "id": "approved-boost",
   "metadata": {
    "execution": {
     "iopub.execute_input": "2021-02-18T19:07:39.399960Z",
     "iopub.status.busy": "2021-02-18T19:07:39.399960Z",
     "iopub.status.idle": "2021-02-18T19:07:39.405944Z",
     "shell.execute_reply": "2021-02-18T19:07:39.404945Z",
     "shell.execute_reply.started": "2021-02-18T19:07:39.399960Z"
    }
   },
   "outputs": [],
   "source": [
    "import plotly.graph_objects as go"
   ]
  },
  {
   "cell_type": "markdown",
   "id": "later-climb",
   "metadata": {
    "collapsed": "true"
   },
   "source": [
    "## Loading inp file"
   ]
  },
  {
   "cell_type": "code",
   "execution_count": 36,
   "id": "christian-square",
   "metadata": {
    "execution": {
     "iopub.execute_input": "2021-02-18T19:07:39.407938Z",
     "iopub.status.busy": "2021-02-18T19:07:39.406941Z",
     "iopub.status.idle": "2021-02-18T19:07:39.414919Z",
     "shell.execute_reply": "2021-02-18T19:07:39.413922Z",
     "shell.execute_reply.started": "2021-02-18T19:07:39.406941Z"
    }
   },
   "outputs": [],
   "source": [
    "# Create a water network model\n",
    "def load_inp(inp_file_path):\n",
    "    wn_WDS = wntr.network.WaterNetworkModel(inp_file_path)\n",
    "\n",
    "    # Plot the network\n",
    "    wntr.graphics.plot_network(wn_WDS, title=wn_WDS.name)\n",
    "\n",
    "    # Simulate hydraulics\n",
    "    sim_WDS = wntr.sim.EpanetSimulator(wn_WDS)\n",
    "    results_WDS = sim_WDS.run_sim()\n",
    "    \n",
    "    return(wn_WDS, sim_WDS, results_WDS)"
   ]
  },
  {
   "cell_type": "markdown",
   "id": "satisfied-symbol",
   "metadata": {},
   "source": [
    "### Name of the Network "
   ]
  },
  {
   "cell_type": "markdown",
   "id": "isolated-institute",
   "metadata": {},
   "source": [
    "Choices:\n",
    "\\['BAK', 'BIN', 'BLA', 'FOS', 'HAN', 'MOD', 'NYT', 'PES', 'TLN', 'TRN']"
   ]
  },
  {
   "cell_type": "code",
   "execution_count": 37,
   "id": "velvet-rubber",
   "metadata": {
    "execution": {
     "iopub.execute_input": "2021-02-18T19:07:39.416914Z",
     "iopub.status.busy": "2021-02-18T19:07:39.415916Z",
     "iopub.status.idle": "2021-02-18T19:07:39.453815Z",
     "shell.execute_reply": "2021-02-18T19:07:39.453815Z",
     "shell.execute_reply.started": "2021-02-18T19:07:39.416914Z"
    }
   },
   "outputs": [
    {
     "data": {
      "text/html": [
       "<div>\n",
       "<style scoped>\n",
       "    .dataframe tbody tr th:only-of-type {\n",
       "        vertical-align: middle;\n",
       "    }\n",
       "\n",
       "    .dataframe tbody tr th {\n",
       "        vertical-align: top;\n",
       "    }\n",
       "\n",
       "    .dataframe thead th {\n",
       "        text-align: right;\n",
       "    }\n",
       "</style>\n",
       "<table border=\"1\" class=\"dataframe\">\n",
       "  <thead>\n",
       "    <tr style=\"text-align: right;\">\n",
       "      <th></th>\n",
       "      <th>D</th>\n",
       "      <th>Cost</th>\n",
       "      <th>NodeID</th>\n",
       "      <th>MinPressure_m</th>\n",
       "      <th>UNITS_TO_M</th>\n",
       "    </tr>\n",
       "  </thead>\n",
       "  <tbody>\n",
       "    <tr>\n",
       "      <th>0</th>\n",
       "      <td>16.0</td>\n",
       "      <td>0.38</td>\n",
       "      <td>1</td>\n",
       "      <td>40</td>\n",
       "      <td>0.001</td>\n",
       "    </tr>\n",
       "    <tr>\n",
       "      <th>1</th>\n",
       "      <td>20.4</td>\n",
       "      <td>0.56</td>\n",
       "      <td>2</td>\n",
       "      <td>40</td>\n",
       "      <td>NaN</td>\n",
       "    </tr>\n",
       "    <tr>\n",
       "      <th>2</th>\n",
       "      <td>26.0</td>\n",
       "      <td>0.88</td>\n",
       "      <td>3</td>\n",
       "      <td>40</td>\n",
       "      <td>NaN</td>\n",
       "    </tr>\n",
       "    <tr>\n",
       "      <th>3</th>\n",
       "      <td>32.6</td>\n",
       "      <td>1.35</td>\n",
       "      <td>4</td>\n",
       "      <td>40</td>\n",
       "      <td>NaN</td>\n",
       "    </tr>\n",
       "    <tr>\n",
       "      <th>4</th>\n",
       "      <td>40.8</td>\n",
       "      <td>2.02</td>\n",
       "      <td>5</td>\n",
       "      <td>40</td>\n",
       "      <td>NaN</td>\n",
       "    </tr>\n",
       "  </tbody>\n",
       "</table>\n",
       "</div>"
      ],
      "text/plain": [
       "      D  Cost NodeID  MinPressure_m  UNITS_TO_M\n",
       "0  16.0  0.38      1             40       0.001\n",
       "1  20.4  0.56      2             40         NaN\n",
       "2  26.0  0.88      3             40         NaN\n",
       "3  32.6  1.35      4             40         NaN\n",
       "4  40.8  2.02      5             40         NaN"
      ]
     },
     "execution_count": 37,
     "metadata": {},
     "output_type": "execute_result"
    }
   ],
   "source": [
    "name_WDS = 'FOS'\n",
    "\n",
    "#Read the Network info\n",
    "WDS_info = pd.read_csv('./networks/Exeter/'+name_WDS+'_info.csv', dtype = {'NodeID': str} )\n",
    "\n",
    "WDS_info.head()"
   ]
  },
  {
   "cell_type": "code",
   "execution_count": 38,
   "id": "outside-waters",
   "metadata": {
    "execution": {
     "iopub.execute_input": "2021-02-18T19:07:39.457807Z",
     "iopub.status.busy": "2021-02-18T19:07:39.457807Z",
     "iopub.status.idle": "2021-02-18T19:07:39.468775Z",
     "shell.execute_reply": "2021-02-18T19:07:39.467778Z",
     "shell.execute_reply.started": "2021-02-18T19:07:39.457807Z"
    }
   },
   "outputs": [],
   "source": [
    "#Transform the min. pressure of the nodes into a pandas dataframe\n",
    "min_pres = WDS_info[['NodeID', 'MinPressure_m']].dropna()\n",
    "min_pres = min_pres.set_index('NodeID')\n",
    "\n",
    "#Obtain the conversion factor for the diameters (Some are given in inches, meters, or mm)\n",
    "UNIT_TO_M = WDS_info['UNITS_TO_M'].dropna().item()"
   ]
  },
  {
   "cell_type": "markdown",
   "id": "atomic-claim",
   "metadata": {},
   "source": [
    "### Load the inp file"
   ]
  },
  {
   "cell_type": "code",
   "execution_count": 39,
   "id": "chemical-cycle",
   "metadata": {
    "execution": {
     "iopub.execute_input": "2021-02-18T19:07:39.470770Z",
     "iopub.status.busy": "2021-02-18T19:07:39.469772Z",
     "iopub.status.idle": "2021-02-18T19:07:39.620910Z",
     "shell.execute_reply": "2021-02-18T19:07:39.620910Z",
     "shell.execute_reply.started": "2021-02-18T19:07:39.470770Z"
    }
   },
   "outputs": [
    {
     "data": {
      "image/png": "[encoded data removed]",
      "text/plain": [
       "<Figure size 432x288 with 1 Axes>"
      ]
     },
     "metadata": {},
     "output_type": "display_data"
    }
   ],
   "source": [
    "path= 'networks/Exeter/'+name_WDS+'.inp'\n",
    "wn_WDS, _, _ = load_inp(path)\n",
    "#wn_WDS = wntr.network.WaterNetworkModel(path)"
   ]
  },
  {
   "cell_type": "code",
   "execution_count": 40,
   "id": "experienced-graduation",
   "metadata": {
    "execution": {
     "iopub.execute_input": "2021-02-18T19:07:39.621907Z",
     "iopub.status.busy": "2021-02-18T19:07:39.621907Z",
     "iopub.status.idle": "2021-02-18T19:07:39.645846Z",
     "shell.execute_reply": "2021-02-18T19:07:39.644847Z",
     "shell.execute_reply.started": "2021-02-18T19:07:39.621907Z"
    }
   },
   "outputs": [],
   "source": [
    "names = ['BAK', 'BIN', 'BLA', 'FOS', 'HAN', 'MOD', 'NYT', 'PES', 'TLN', 'TRN']\n",
    "seeds = [132, 65464, 8754, 465542, 13211, 9874545, 12, 9872, 6781, 978888]\n",
    "dict_seeds =dict(zip(names, seeds))\n",
    "\n",
    "num_pipes = wn_WDS.num_pipes\n",
    "\n",
    "avail_diams = list(WDS_info.D.dropna()) #[6, 8, 10, 12, 14] #inches\n",
    "pipe_names = wn_WDS.link_name_list\n",
    "\n",
    "seed = dict_seeds[name_WDS] #Trial seed: 4345\n",
    "np.random.seed(seed)\n",
    "\n"
   ]
  },
  {
   "cell_type": "code",
   "execution_count": 41,
   "id": "corporate-cedar",
   "metadata": {
    "execution": {
     "iopub.execute_input": "2021-02-18T19:07:39.648837Z",
     "iopub.status.busy": "2021-02-18T19:07:39.647839Z",
     "iopub.status.idle": "2021-02-18T19:07:39.657812Z",
     "shell.execute_reply": "2021-02-18T19:07:39.656814Z",
     "shell.execute_reply.started": "2021-02-18T19:07:39.648837Z"
    },
    "scrolled": true
   },
   "outputs": [
    {
     "data": {
      "text/plain": [
       "[16.0,\n",
       " 20.4,\n",
       " 26.0,\n",
       " 32.6,\n",
       " 40.8,\n",
       " 51.4,\n",
       " 61.4,\n",
       " 73.6,\n",
       " 90.0,\n",
       " 102.2,\n",
       " 114.6,\n",
       " 130.8,\n",
       " 147.2,\n",
       " 163.6,\n",
       " 184.0,\n",
       " 204.6,\n",
       " 229.2,\n",
       " 257.8,\n",
       " 290.6,\n",
       " 327.4,\n",
       " 368.2,\n",
       " 409.2]"
      ]
     },
     "execution_count": 41,
     "metadata": {},
     "output_type": "execute_result"
    }
   ],
   "source": [
    "avail_diams"
   ]
  },
  {
   "cell_type": "markdown",
   "id": "satisfactory-example",
   "metadata": {},
   "source": [
    "## Dataset Creation"
   ]
  },
  {
   "cell_type": "markdown",
   "id": "threatened-mouse",
   "metadata": {
    "collapsed": "true"
   },
   "source": [
    "### NetworkX representation\n"
   ]
  },
  {
   "cell_type": "markdown",
   "id": "defined-commissioner",
   "metadata": {},
   "source": [
    "Information on nodes and edges"
   ]
  },
  {
   "cell_type": "code",
   "execution_count": 42,
   "id": "czech-egypt",
   "metadata": {
    "execution": {
     "iopub.execute_input": "2021-02-18T19:07:39.659806Z",
     "iopub.status.busy": "2021-02-18T19:07:39.659806Z",
     "iopub.status.idle": "2021-02-18T19:07:39.673769Z",
     "shell.execute_reply": "2021-02-18T19:07:39.673769Z",
     "shell.execute_reply.started": "2021-02-18T19:07:39.659806Z"
    }
   },
   "outputs": [],
   "source": [
    "def from_wntr_to_nx(wn):\n",
    "    wn_links = list(wn.links())\n",
    "    wn_nodes = list(wn.nodes())\n",
    "    \n",
    "    G_WDS = wn.get_graph() # directed multigraph\n",
    "    uG_WDS = G_WDS.to_undirected() # undirected\n",
    "    sG_WDS = nx.Graph(uG_WDS) #Simple graph  \n",
    "    \n",
    "    i=0\n",
    "    for (u, v, wt) in sG_WDS.edges.data():\n",
    "        assert isinstance(wn_links[i][1], wntr.network.elements.Pipe), \"The link is not a pipe\"\n",
    "        sG_WDS[u][v]['diameter'] =  wn_links[i][1].diameter\n",
    "        sG_WDS[u][v]['length'] =    wn_links[i][1].length\n",
    "        sG_WDS[u][v]['roughness'] = wn_links[i][1].roughness\n",
    "        i+=1\n",
    "    \n",
    "    i=0\n",
    "    for u in sG_WDS.nodes:\n",
    "        \n",
    "        if sG_WDS.nodes[u]['type'] == 'Junction': \n",
    "            sG_WDS.nodes[u]['ID'] =          wn_nodes[i][1].name\n",
    "            sG_WDS.nodes[u]['type_1H'] =     0\n",
    "            sG_WDS.nodes[u]['base_demand'] = list(wn_nodes[i][1].demand_timeseries_list)[0].base_value\n",
    "            sG_WDS.nodes[u]['elevation'] =   wn_nodes[i][1].elevation\n",
    "            sG_WDS.nodes[u]['base_head'] =   0\n",
    "            \n",
    "            \n",
    "        elif sG_WDS.nodes[u]['type'] == 'Reservoir':\n",
    "            sG_WDS.nodes[u]['ID'] =          wn_nodes[i][1].name\n",
    "            sG_WDS.nodes[u]['type_1H'] =     1\n",
    "            sG_WDS.nodes[u]['base_demand'] = 0\n",
    "            sG_WDS.nodes[u]['elevation'] =   0\n",
    "            sG_WDS.nodes[u]['base_head'] =   wn_nodes[i][1].base_head\n",
    "        else:\n",
    "            print(u)\n",
    "            raise Exception('Only Junctions and Reservoirs so far')\n",
    "            break\n",
    "            \n",
    "        i+=1\n",
    "\n",
    "    return sG_WDS #df_nodes, df_links, sG_WDS\n",
    "\n"
   ]
  },
  {
   "cell_type": "code",
   "execution_count": 43,
   "id": "threaded-intelligence",
   "metadata": {
    "execution": {
     "iopub.execute_input": "2021-02-18T19:07:39.675764Z",
     "iopub.status.busy": "2021-02-18T19:07:39.675764Z",
     "iopub.status.idle": "2021-02-18T19:07:39.689312Z",
     "shell.execute_reply": "2021-02-18T19:07:39.688314Z",
     "shell.execute_reply.started": "2021-02-18T19:07:39.675764Z"
    }
   },
   "outputs": [
    {
     "ename": "NameError",
     "evalue": "name 'a' is not defined",
     "output_type": "error",
     "traceback": [
      "\u001b[1;31m---------------------------------------------------------------------------\u001b[0m",
      "\u001b[1;31mNameError\u001b[0m                                 Traceback (most recent call last)",
      "\u001b[1;32m<ipython-input-43-902187a2300a>\u001b[0m in \u001b[0;36m<module>\u001b[1;34m\u001b[0m\n\u001b[1;32m----> 1\u001b[1;33m \u001b[0mb\u001b[0m \u001b[1;33m=\u001b[0m \u001b[0mconvert\u001b[0m\u001b[1;33m.\u001b[0m\u001b[0mfrom_networkx\u001b[0m\u001b[1;33m(\u001b[0m\u001b[0ma\u001b[0m\u001b[1;33m)\u001b[0m\u001b[1;33m\u001b[0m\u001b[1;33m\u001b[0m\u001b[0m\n\u001b[0m",
      "\u001b[1;31mNameError\u001b[0m: name 'a' is not defined"
     ]
    }
   ],
   "source": [
    "b = convert.from_networkx(a)"
   ]
  },
  {
   "cell_type": "code",
   "execution_count": null,
   "id": "cardiac-genius",
   "metadata": {
    "execution": {
     "iopub.status.busy": "2021-02-18T19:07:39.690309Z",
     "iopub.status.idle": "2021-02-18T19:07:39.690309Z"
    }
   },
   "outputs": [],
   "source": [
    "# def from_wntr_to_geometric(wn):      \n",
    "#     df_nodes, df_links, sG_WDS = from_wntr_to_pandas(wn)   # get pandas dataframes\n",
    "\n",
    "#     # create torch data \n",
    "#     x = torch.tensor(df_nodes[['node_type','base_demand','elevation','base_head']].astype(float).values, dtype=torch.float)\n",
    "#     pos = torch.tensor(df_nodes['coords'], dtype=torch.float)\n",
    "#     pg_sG_WDS = convert.from_networkx(sG_WDS)\n",
    "    \n",
    "#     #edge_index = torch.tensor(COO_edges, dtype=torch.long)\n",
    "#     edge_attr = torch.tensor(df_links[['length','diameter','roughness']].astype(float).values, dtype=torch.float)\n",
    "#     data = Data(x=x, pos=pos, edge_index=edge_index, edge_attr=edge_attr)\n",
    "\n",
    "#     return data, df_nodes, df_links"
   ]
  },
  {
   "cell_type": "code",
   "execution_count": null,
   "id": "technical-satisfaction",
   "metadata": {
    "execution": {
     "iopub.status.busy": "2021-02-18T19:07:39.691306Z",
     "iopub.status.idle": "2021-02-18T19:07:39.692305Z"
    }
   },
   "outputs": [],
   "source": [
    "#data, df_nodes, df_links = from_wntr_to_geometric(wn_WDS)"
   ]
  },
  {
   "cell_type": "code",
   "execution_count": null,
   "id": "organizational-carol",
   "metadata": {
    "execution": {
     "iopub.status.busy": "2021-02-18T19:07:39.698293Z",
     "iopub.status.idle": "2021-02-18T19:07:39.702282Z"
    }
   },
   "outputs": [],
   "source": [
    "#results_WDS.node['pressure']"
   ]
  },
  {
   "cell_type": "code",
   "execution_count": null,
   "id": "forbidden-education",
   "metadata": {
    "execution": {
     "iopub.status.busy": "2021-02-18T19:07:39.707265Z",
     "iopub.status.idle": "2021-02-18T19:07:39.709262Z"
    }
   },
   "outputs": [],
   "source": [
    "# print(res_index(results_WDS.node['head'], results_WDS.node['pressure'], results_WDS.node['demand'], flowrate, wn_WDS, min_pres, indx = 'Todini'))"
   ]
  },
  {
   "cell_type": "code",
   "execution_count": null,
   "id": "actual-neighbor",
   "metadata": {
    "execution": {
     "iopub.status.busy": "2021-02-18T19:07:39.711257Z",
     "iopub.status.idle": "2021-02-18T19:07:39.712252Z"
    }
   },
   "outputs": [],
   "source": [
    "p = [(i+1)/len(avail_diams) for i in range(len(avail_diams))]\n",
    "p = [p[i]/sum(p) for i in range(len(p))]"
   ]
  },
  {
   "cell_type": "markdown",
   "id": "severe-participation",
   "metadata": {},
   "source": [
    "### Loop for database generation"
   ]
  },
  {
   "cell_type": "code",
   "execution_count": null,
   "id": "coordinated-possibility",
   "metadata": {
    "execution": {
     "iopub.status.busy": "2021-02-18T19:07:39.714246Z",
     "iopub.status.idle": "2021-02-18T19:07:39.715243Z"
    },
    "scrolled": true
   },
   "outputs": [],
   "source": [
    "#first_DB = []\n",
    "np.random.seed(seed)\n",
    "\n",
    "all_geom_data = [] # geometric data\n",
    "fail_DB = []\n",
    "N_iter = 20\n",
    "sim=0\n",
    "while len(all_geom_data)<N_iter and len(fail_DB)<N_iter:\n",
    "    # echo on screen\n",
    "    if sim % 50 == 0 or sim == N_iter-1:\n",
    "        print(f'iter: {sim}')\n",
    "  \n",
    "    # assign diameters    \n",
    "    new_diams = np.random.choice(avail_diams, num_pipes, replace= True, p = p)\n",
    "    new_diams = new_diams * UNIT_TO_M\n",
    "    \n",
    "    for i in range(num_pipes):\n",
    "        c_pipe = wn_WDS.get_link(pipe_names[i])\n",
    "        c_pipe.diameter = new_diams[i]\n",
    "    \n",
    "    # run the simulation\n",
    "    try:\n",
    "    # Simulate hydraulics\n",
    "        sim_WDS = wntr.sim.EpanetSimulator(wn_WDS)\n",
    "        results_WDS = sim_WDS.run_sim()\n",
    "        flowrate = 0 #There are no pumps\n",
    "        \n",
    "        # get resilience indexes  \n",
    "        RI_PP = res_index(results_WDS.node['head'], results_WDS.node['pressure'], results_WDS.node['demand'], flowrate, wn_WDS, min_pres, indx = 'PP')\n",
    "        RI_Todini = res_index(results_WDS.node['head'], results_WDS.node['pressure'], results_WDS.node['demand'], flowrate, wn_WDS, min_pres, indx = 'Todini')\n",
    "\n",
    "\n",
    "        # create Geometric Data \n",
    "        data = convert.from_networkx(from_wntr_to_nx(wn_WDS))\n",
    "\n",
    "        \n",
    "        #Add resilience indexes\n",
    "        data.res_Todini = torch.tensor(RI_Todini)\n",
    "        data.res_PP = torch.tensor(RI_PP)\n",
    "        all_geom_data.append(data)\n",
    "    \n",
    "    except Exception as e:\n",
    "        fail_row = [sim]\n",
    "        fail_row.append(np.round(new_diams/UNIT_TO_M, 0))\n",
    "        fail_row.append(wn_WDS)\n",
    "        fail_row.append(e)\n",
    "        print(e)\n",
    "        fail_DB.append(fail_row)\n",
    "    sim+=1\n",
    "    "
   ]
  },
  {
   "cell_type": "code",
   "execution_count": null,
   "id": "remarkable-browser",
   "metadata": {
    "execution": {
     "iopub.status.busy": "2021-02-18T19:07:39.717237Z",
     "iopub.status.idle": "2021-02-18T19:07:39.718235Z"
    }
   },
   "outputs": [],
   "source": [
    "print(len(all_geom_data), len(fail_DB))"
   ]
  },
  {
   "cell_type": "code",
   "execution_count": null,
   "id": "norwegian-cursor",
   "metadata": {
    "execution": {
     "iopub.status.busy": "2021-02-18T19:07:39.719234Z",
     "iopub.status.idle": "2021-02-18T19:07:39.720229Z"
    }
   },
   "outputs": [],
   "source": [
    "all_geom_data[-1]"
   ]
  },
  {
   "cell_type": "code",
   "execution_count": null,
   "id": "helpful-testimony",
   "metadata": {
    "execution": {
     "iopub.status.busy": "2021-02-18T19:07:39.721226Z",
     "iopub.status.idle": "2021-02-18T19:07:39.722224Z"
    }
   },
   "outputs": [],
   "source": [
    "winsound.Beep(1000, 500)"
   ]
  },
  {
   "cell_type": "code",
   "execution_count": null,
   "id": "furnished-application",
   "metadata": {
    "execution": {
     "iopub.status.busy": "2021-02-18T19:07:39.723221Z",
     "iopub.status.idle": "2021-02-18T19:07:39.723221Z"
    }
   },
   "outputs": [],
   "source": [
    "# folder\n",
    "dir_path = os.getcwd()+'\\{name}_Geom_DB_{num_iter}'.format(name = name_WDS, num_iter = N_iter)\n",
    "print(dir_path)"
   ]
  },
  {
   "cell_type": "code",
   "execution_count": null,
   "id": "blank-tragedy",
   "metadata": {
    "execution": {
     "iopub.status.busy": "2021-02-18T19:07:39.725216Z",
     "iopub.status.idle": "2021-02-18T19:07:39.725216Z"
    }
   },
   "outputs": [],
   "source": [
    "dataset = {}\n",
    "dataset['info'] = 'Dataset for graph regression to compute '+name_WDS+' resilience index. Edge_attr = [Length, diameter, roughness] of every pipe, x =[Node type(junction 0, reservoir 1), Base demand (0 for reservoirs), elevation, base head(0 for junctions)]'\n",
    "dataset['ngraphs'] = len(all_geom_data)\n",
    "dataset['data'] = all_geom_data"
   ]
  },
  {
   "cell_type": "code",
   "execution_count": null,
   "id": "silent-stocks",
   "metadata": {
    "execution": {
     "iopub.status.busy": "2021-02-18T19:07:39.727211Z",
     "iopub.status.idle": "2021-02-18T19:07:39.728208Z"
    }
   },
   "outputs": [],
   "source": [
    "# save\n",
    "try:\n",
    "    os.mkdir(dir_path)    \n",
    "    pickle.dump(dataset,open(f\"{dir_path}/new_datasets/{name_WDS}_dataset.p\", \"wb\" ))\n",
    "except OSError:\n",
    "    print (\"Creation of the directory %s failed\" % dir_path)\n",
    "else:\n",
    "    print (\"Successfully created the directory %s \" % dir_path)"
   ]
  },
  {
   "cell_type": "code",
   "execution_count": null,
   "id": "decent-beach",
   "metadata": {
    "execution": {
     "iopub.status.busy": "2021-02-18T19:07:39.729206Z",
     "iopub.status.idle": "2021-02-18T19:07:39.730203Z"
    }
   },
   "outputs": [],
   "source": [
    "#pickle.dump(dataset,open(f\"{dir_path}/{name_WDS}_dataset.p\", \"wb\" ))"
   ]
  },
  {
   "cell_type": "code",
   "execution_count": null,
   "id": "ambient-interim",
   "metadata": {
    "execution": {
     "iopub.status.busy": "2021-02-18T19:07:39.731200Z",
     "iopub.status.idle": "2021-02-18T19:07:39.732197Z"
    }
   },
   "outputs": [],
   "source": [
    "#prueba = pickle.load(open(r'C:\\Users\\agarzondiaz\\surfdrive\\Year 1\\AnyTown Database\\AnyTown_DB\\BIN_Geom_DB_5000\\BIN_dataset.p', 'rb'))"
   ]
  },
  {
   "cell_type": "code",
   "execution_count": null,
   "id": "crude-sperm",
   "metadata": {
    "execution": {
     "iopub.status.busy": "2021-02-18T19:07:39.733196Z",
     "iopub.status.idle": "2021-02-18T19:07:39.734192Z"
    }
   },
   "outputs": [],
   "source": [
    "prueba = pickle.load(open(f'{dir_path}/{name_WDS}_dataset.p', 'rb'))"
   ]
  },
  {
   "cell_type": "code",
   "execution_count": null,
   "id": "veterinary-verification",
   "metadata": {
    "execution": {
     "iopub.status.busy": "2021-02-18T19:07:39.735190Z",
     "iopub.status.idle": "2021-02-18T19:07:39.735190Z"
    }
   },
   "outputs": [],
   "source": [
    "len(prueba['data'])"
   ]
  },
  {
   "cell_type": "code",
   "execution_count": null,
   "id": "female-technique",
   "metadata": {
    "execution": {
     "iopub.status.busy": "2021-02-18T19:07:39.736187Z",
     "iopub.status.idle": "2021-02-18T19:07:39.736187Z"
    },
    "scrolled": true
   },
   "outputs": [],
   "source": [
    "res = []\n",
    "for i in range(len(prueba['data'])):\n",
    "    res.append(prueba['data'][i].res_PP)"
   ]
  },
  {
   "cell_type": "code",
   "execution_count": null,
   "id": "according-blair",
   "metadata": {
    "execution": {
     "iopub.status.busy": "2021-02-18T19:07:39.737184Z",
     "iopub.status.idle": "2021-02-18T19:07:39.738182Z"
    }
   },
   "outputs": [],
   "source": [
    "RI_PP_new = res_index(results_WDS.node['head'], results_WDS.node['pressure'], results_WDS.node['demand'], flowrate, wn_WDS, min_pres, indx = 'PP')\n",
    "RI_Todini_new = res_index(results_WDS.node['head'], results_WDS.node['pressure'], results_WDS.node['demand'], flowrate, wn_WDS, min_pres, indx = 'Todini')\n",
    "    \n",
    "RI_PP_old = PP_index(results_WDS.node['head'], results_WDS.node['pressure'], results_WDS.node['demand'], flowrate, wn_WDS, 30)\n",
    "RI_Todini_old = wntr.metrics.hydraulic.todini_index(results_WDS.node['head'], results_WDS.node['pressure'], results_WDS.node['demand'], flowrate, wn_WDS, 30)"
   ]
  },
  {
   "cell_type": "code",
   "execution_count": null,
   "id": "tired-millennium",
   "metadata": {
    "execution": {
     "iopub.status.busy": "2021-02-18T19:07:39.739180Z",
     "iopub.status.idle": "2021-02-18T19:07:39.739180Z"
    }
   },
   "outputs": [],
   "source": [
    "RI_Todini_new, RI_PP_old"
   ]
  },
  {
   "cell_type": "code",
   "execution_count": null,
   "id": "second-hamilton",
   "metadata": {
    "execution": {
     "iopub.status.busy": "2021-02-18T19:07:39.740177Z",
     "iopub.status.idle": "2021-02-18T19:07:39.740177Z"
    }
   },
   "outputs": [],
   "source": [
    "np.array(res).max()"
   ]
  },
  {
   "cell_type": "code",
   "execution_count": null,
   "id": "secret-timer",
   "metadata": {
    "execution": {
     "iopub.status.busy": "2021-02-18T19:07:39.741173Z",
     "iopub.status.idle": "2021-02-18T19:07:39.741173Z"
    }
   },
   "outputs": [],
   "source": [
    "RI_PP_old"
   ]
  },
  {
   "cell_type": "code",
   "execution_count": null,
   "id": "realistic-present",
   "metadata": {
    "execution": {
     "iopub.status.busy": "2021-02-18T19:07:39.742171Z",
     "iopub.status.idle": "2021-02-18T19:07:39.742171Z"
    }
   },
   "outputs": [],
   "source": [
    "RI_PP_new"
   ]
  },
  {
   "cell_type": "code",
   "execution_count": null,
   "id": "skilled-pastor",
   "metadata": {
    "execution": {
     "iopub.status.busy": "2021-02-18T19:07:39.743168Z",
     "iopub.status.idle": "2021-02-18T19:07:39.743168Z"
    }
   },
   "outputs": [],
   "source": [
    "#     RI_PP = res_index(results_WDS.node['head'], results_WDS.node['pressure'], results_WDS.node['demand'], flowrate, wn_WDS, min_pres, indx = 'PP')\n",
    "#     RI_Todini = res_index(results_WDS.node['head'], results_WDS.node['pressure'], results_WDS.node['demand'], flowrate, wn_WDS, min_pres, indx = 'Todini')\n",
    "    \n",
    "    #RI_PP = PP_index(results_WDS.node['head'], results_WDS.node['pressure'], results_WDS.node['demand'], flowrate, wn_WDS, PMIN_WDS)\n",
    "    #RI_Todini = wntr.metrics.hydraulic.todini_index(results_WDS.node['head'], results_WDS.node['pressure'], results_WDS.node['demand'], flowrate, wn_WDS, PMIN_WDS)"
   ]
  },
  {
   "cell_type": "code",
   "execution_count": null,
   "id": "median-flooring",
   "metadata": {
    "execution": {
     "iopub.status.busy": "2021-02-18T19:07:39.744165Z",
     "iopub.status.idle": "2021-02-18T19:07:39.744165Z"
    }
   },
   "outputs": [],
   "source": [
    "res[0:10]"
   ]
  },
  {
   "cell_type": "code",
   "execution_count": null,
   "id": "unlimited-local",
   "metadata": {
    "execution": {
     "iopub.status.busy": "2021-02-18T19:07:39.745162Z",
     "iopub.status.idle": "2021-02-18T19:07:39.746160Z"
    }
   },
   "outputs": [],
   "source": [
    "prueba['data'][4997].edge_attr[:,1] #Diameters"
   ]
  },
  {
   "cell_type": "code",
   "execution_count": null,
   "id": "eight-uzbekistan",
   "metadata": {
    "execution": {
     "iopub.status.busy": "2021-02-18T19:07:39.747158Z",
     "iopub.status.idle": "2021-02-18T19:07:39.747158Z"
    }
   },
   "outputs": [],
   "source": [
    "prueba['data'][0].edge_attr[:,1]/ UNIT_TO_M #Diameters"
   ]
  },
  {
   "cell_type": "code",
   "execution_count": null,
   "id": "referenced-blackberry",
   "metadata": {},
   "outputs": [],
   "source": []
  },
  {
   "cell_type": "code",
   "execution_count": null,
   "id": "three-journey",
   "metadata": {},
   "outputs": [],
   "source": []
  }
 ],
 "metadata": {
  "kernelspec": {
   "display_name": "Python 3",
   "language": "python",
   "name": "python3"
  },
  "language_info": {
   "codemirror_mode": {
    "name": "ipython",
    "version": 3
   },
   "file_extension": ".py",
   "mimetype": "text/x-python",
   "name": "python",
   "nbconvert_exporter": "python",
   "pygments_lexer": "ipython3",
   "version": "3.8.5"
  },
  "toc-autonumbering": true
 },
 "nbformat": 4,
 "nbformat_minor": 5
}
