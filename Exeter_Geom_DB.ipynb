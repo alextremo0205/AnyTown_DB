{
 "cells": [
  {
   "cell_type": "markdown",
   "id": "heated-religious",
   "metadata": {},
   "source": [
    "# Geometric Datasets: Exeter"
   ]
  },
  {
   "cell_type": "markdown",
   "id": "criminal-italian",
   "metadata": {},
   "source": [
    "Improved version:\n",
    "* F"
   ]
  },
  {
   "cell_type": "markdown",
   "id": "medium-motel",
   "metadata": {},
   "source": [
    "## Description"
   ]
  },
  {
   "cell_type": "markdown",
   "id": "republican-church",
   "metadata": {},
   "source": [
    "Code for creating the geometric datasets for the Two-Objective Design/Resilience networks from [Exeter Benchmarks](https://emps.exeter.ac.uk/engineering/research/cws/resources/benchmarks/design-resiliance-pareto-fronts/) \n",
    "\n",
    "*Small Problems*\n",
    "* Two-Reservoir Network\n",
    "* Two-Loop Network\n",
    "* BakRyan Network\n",
    "\n",
    "*Medium Problems*\n",
    "* New York Tunnel Network\n",
    "* Blacksburg Network\n",
    "* Hanoi Network\n",
    "\n",
    "*Intemediate Problems*\n",
    "* Fossolo Network\n",
    "* Pescara Network\n",
    "\n",
    "*Large Problems*\n",
    "* Modena Network\n",
    "* Balerma Irrigation Network\n",
    "\n",
    "*GoYang Network and Exeter Network were excluded because they had accessories (Pumps and valves) not yet contemplated for the extent of this exercise. \n"
   ]
  },
  {
   "cell_type": "markdown",
   "id": "color-replication",
   "metadata": {},
   "source": [
    "## Imports"
   ]
  },
  {
   "cell_type": "markdown",
   "id": "southern-statistics",
   "metadata": {},
   "source": [
    "### Basic"
   ]
  },
  {
   "cell_type": "code",
   "execution_count": 1,
   "id": "accomplished-reasoning",
   "metadata": {
    "execution": {
     "iopub.execute_input": "2021-02-18T22:11:24.124883Z",
     "iopub.status.busy": "2021-02-18T22:11:24.124883Z",
     "iopub.status.idle": "2021-02-18T22:11:25.900935Z",
     "shell.execute_reply": "2021-02-18T22:11:25.900105Z",
     "shell.execute_reply.started": "2021-02-18T22:11:24.124883Z"
    }
   },
   "outputs": [],
   "source": [
    "import os\n",
    "import wntr\n",
    "import pandas as pd\n",
    "import numpy as np\n",
    "import pickle\n",
    "import networkx as nx\n",
    "import winsound"
   ]
  },
  {
   "cell_type": "markdown",
   "id": "electrical-richmond",
   "metadata": {},
   "source": [
    "### Custom functions"
   ]
  },
  {
   "cell_type": "code",
   "execution_count": 2,
   "id": "terminal-orange",
   "metadata": {
    "execution": {
     "iopub.execute_input": "2021-02-18T22:11:25.901932Z",
     "iopub.status.busy": "2021-02-18T22:11:25.901932Z",
     "iopub.status.idle": "2021-02-18T22:11:25.906917Z",
     "shell.execute_reply": "2021-02-18T22:11:25.906917Z",
     "shell.execute_reply.started": "2021-02-18T22:11:25.901932Z"
    }
   },
   "outputs": [],
   "source": [
    "#Custom .py file\n",
    "#from PrasadParkIndex import *\n",
    "from res_index import *"
   ]
  },
  {
   "cell_type": "markdown",
   "id": "following-spare",
   "metadata": {},
   "source": [
    "### PyTorch and PyG"
   ]
  },
  {
   "cell_type": "code",
   "execution_count": 3,
   "id": "legislative-investigation",
   "metadata": {
    "execution": {
     "iopub.execute_input": "2021-02-18T22:11:25.908912Z",
     "iopub.status.busy": "2021-02-18T22:11:25.907915Z",
     "iopub.status.idle": "2021-02-18T22:11:27.883033Z",
     "shell.execute_reply": "2021-02-18T22:11:27.883033Z",
     "shell.execute_reply.started": "2021-02-18T22:11:25.907915Z"
    }
   },
   "outputs": [
    {
     "name": "stderr",
     "output_type": "stream",
     "text": [
      "C:\\Programs\\Anaconda3\\envs\\PyTorch_Env\\lib\\site-packages\\torch\\cuda\\__init__.py:52: UserWarning: CUDA initialization: Found no NVIDIA driver on your system. Please check that you have an NVIDIA GPU and installed a driver from http://www.nvidia.com/Download/index.aspx (Triggered internally at  ..\\c10\\cuda\\CUDAFunctions.cpp:100.)\n",
      "  return torch._C._cuda_getDeviceCount() > 0\n"
     ]
    }
   ],
   "source": [
    "import torch\n",
    "from torch_geometric.data import Data\n",
    "from torch_geometric.utils import convert\n",
    "#from torch_geometric.datasets import TUDataset"
   ]
  },
  {
   "cell_type": "markdown",
   "id": "elegant-decrease",
   "metadata": {},
   "source": [
    "### DeepSNAP"
   ]
  },
  {
   "cell_type": "code",
   "execution_count": 4,
   "id": "expired-future",
   "metadata": {
    "execution": {
     "iopub.execute_input": "2021-02-18T22:11:27.884004Z",
     "iopub.status.busy": "2021-02-18T22:11:27.884004Z",
     "iopub.status.idle": "2021-02-18T22:11:27.887995Z",
     "shell.execute_reply": "2021-02-18T22:11:27.886998Z",
     "shell.execute_reply.started": "2021-02-18T22:11:27.884004Z"
    }
   },
   "outputs": [],
   "source": [
    "# from deepsnap.graph import Graph as dSNAP_Graph\n",
    "# from deepsnap.dataset import GraphDataset as dSNAP_GraphDS"
   ]
  },
  {
   "cell_type": "markdown",
   "id": "ceramic-serve",
   "metadata": {},
   "source": [
    "### Plotly"
   ]
  },
  {
   "cell_type": "code",
   "execution_count": 5,
   "id": "confused-premium",
   "metadata": {
    "execution": {
     "iopub.execute_input": "2021-02-18T22:11:27.888992Z",
     "iopub.status.busy": "2021-02-18T22:11:27.888992Z",
     "iopub.status.idle": "2021-02-18T22:11:27.894977Z",
     "shell.execute_reply": "2021-02-18T22:11:27.894977Z",
     "shell.execute_reply.started": "2021-02-18T22:11:27.888992Z"
    }
   },
   "outputs": [],
   "source": [
    "import plotly.graph_objects as go"
   ]
  },
  {
   "cell_type": "markdown",
   "id": "reduced-leather",
   "metadata": {},
   "source": [
    "## Loading inp file"
   ]
  },
  {
   "cell_type": "code",
   "execution_count": 6,
   "id": "proprietary-blackberry",
   "metadata": {
    "execution": {
     "iopub.execute_input": "2021-02-18T22:11:27.895974Z",
     "iopub.status.busy": "2021-02-18T22:11:27.895974Z",
     "iopub.status.idle": "2021-02-18T22:11:27.902954Z",
     "shell.execute_reply": "2021-02-18T22:11:27.901957Z",
     "shell.execute_reply.started": "2021-02-18T22:11:27.895974Z"
    }
   },
   "outputs": [],
   "source": [
    "# Create a water network model\n",
    "def load_inp(inp_file_path):\n",
    "    wn_WDS = wntr.network.WaterNetworkModel(inp_file_path)\n",
    "\n",
    "    # Plot the network\n",
    "    wntr.graphics.plot_network(wn_WDS, title=wn_WDS.name)\n",
    "\n",
    "    # Simulate hydraulics\n",
    "    sim_WDS = wntr.sim.EpanetSimulator(wn_WDS)\n",
    "    results_WDS = sim_WDS.run_sim()\n",
    "    \n",
    "    return(wn_WDS, sim_WDS, results_WDS)"
   ]
  },
  {
   "cell_type": "markdown",
   "id": "reported-fetish",
   "metadata": {},
   "source": [
    "### Name of the Network "
   ]
  },
  {
   "cell_type": "markdown",
   "id": "plain-graphic",
   "metadata": {},
   "source": [
    "Choices:\n",
    "\\['BAK', 'BIN', 'BLA', 'FOS', 'HAN', 'MOD', 'NYT', 'PES', 'TLN', 'TRN']"
   ]
  },
  {
   "cell_type": "code",
   "execution_count": 7,
   "id": "mature-extraction",
   "metadata": {
    "execution": {
     "iopub.execute_input": "2021-02-18T22:11:31.344821Z",
     "iopub.status.busy": "2021-02-18T22:11:31.344821Z",
     "iopub.status.idle": "2021-02-18T22:11:31.359780Z",
     "shell.execute_reply": "2021-02-18T22:11:31.359780Z",
     "shell.execute_reply.started": "2021-02-18T22:11:31.344821Z"
    }
   },
   "outputs": [
    {
     "data": {
      "text/html": [
       "<div>\n",
       "<style scoped>\n",
       "    .dataframe tbody tr th:only-of-type {\n",
       "        vertical-align: middle;\n",
       "    }\n",
       "\n",
       "    .dataframe tbody tr th {\n",
       "        vertical-align: top;\n",
       "    }\n",
       "\n",
       "    .dataframe thead th {\n",
       "        text-align: right;\n",
       "    }\n",
       "</style>\n",
       "<table border=\"1\" class=\"dataframe\">\n",
       "  <thead>\n",
       "    <tr style=\"text-align: right;\">\n",
       "      <th></th>\n",
       "      <th>D</th>\n",
       "      <th>Cost</th>\n",
       "      <th>NodeID</th>\n",
       "      <th>MinPressure_m</th>\n",
       "      <th>UNITS_TO_M</th>\n",
       "    </tr>\n",
       "  </thead>\n",
       "  <tbody>\n",
       "    <tr>\n",
       "      <th>0</th>\n",
       "      <td>0.152</td>\n",
       "      <td>49.54</td>\n",
       "      <td>2</td>\n",
       "      <td>28.18</td>\n",
       "      <td>1.0</td>\n",
       "    </tr>\n",
       "    <tr>\n",
       "      <th>1</th>\n",
       "      <td>0.203</td>\n",
       "      <td>63.32</td>\n",
       "      <td>3</td>\n",
       "      <td>17.61</td>\n",
       "      <td>NaN</td>\n",
       "    </tr>\n",
       "    <tr>\n",
       "      <th>2</th>\n",
       "      <td>0.254</td>\n",
       "      <td>94.82</td>\n",
       "      <td>4</td>\n",
       "      <td>35.22</td>\n",
       "      <td>NaN</td>\n",
       "    </tr>\n",
       "    <tr>\n",
       "      <th>3</th>\n",
       "      <td>0.305</td>\n",
       "      <td>132.87</td>\n",
       "      <td>6</td>\n",
       "      <td>35.22</td>\n",
       "      <td>NaN</td>\n",
       "    </tr>\n",
       "    <tr>\n",
       "      <th>4</th>\n",
       "      <td>0.356</td>\n",
       "      <td>170.93</td>\n",
       "      <td>7</td>\n",
       "      <td>35.22</td>\n",
       "      <td>NaN</td>\n",
       "    </tr>\n",
       "  </tbody>\n",
       "</table>\n",
       "</div>"
      ],
      "text/plain": [
       "       D    Cost NodeID  MinPressure_m  UNITS_TO_M\n",
       "0  0.152   49.54      2          28.18         1.0\n",
       "1  0.203   63.32      3          17.61         NaN\n",
       "2  0.254   94.82      4          35.22         NaN\n",
       "3  0.305  132.87      6          35.22         NaN\n",
       "4  0.356  170.93      7          35.22         NaN"
      ]
     },
     "execution_count": 7,
     "metadata": {},
     "output_type": "execute_result"
    }
   ],
   "source": [
    "name_WDS = 'TRN'\n",
    "\n",
    "#Read the Network info\n",
    "WDS_info = pd.read_csv('./networks/Exeter/'+name_WDS+'_info.csv', dtype = {'NodeID': str} )\n",
    "\n",
    "WDS_info.head()"
   ]
  },
  {
   "cell_type": "code",
   "execution_count": 8,
   "id": "exclusive-facial",
   "metadata": {
    "execution": {
     "iopub.execute_input": "2021-02-18T22:11:31.778664Z",
     "iopub.status.busy": "2021-02-18T22:11:31.778664Z",
     "iopub.status.idle": "2021-02-18T22:11:31.786642Z",
     "shell.execute_reply": "2021-02-18T22:11:31.786642Z",
     "shell.execute_reply.started": "2021-02-18T22:11:31.778664Z"
    }
   },
   "outputs": [],
   "source": [
    "#Transform the min. pressure of the nodes into a pandas dataframe\n",
    "min_pres = WDS_info[['NodeID', 'MinPressure_m']].dropna()\n",
    "min_pres = min_pres.set_index('NodeID')\n",
    "\n",
    "#Obtain the conversion factor for the diameters (Some are given in inches, meters, or mm)\n",
    "UNIT_TO_M = WDS_info['UNITS_TO_M'].dropna().item()"
   ]
  },
  {
   "cell_type": "markdown",
   "id": "defined-hygiene",
   "metadata": {},
   "source": [
    "### Load the inp file"
   ]
  },
  {
   "cell_type": "code",
   "execution_count": 9,
   "id": "received-estimate",
   "metadata": {
    "execution": {
     "iopub.execute_input": "2021-02-18T22:11:33.229237Z",
     "iopub.status.busy": "2021-02-18T22:11:33.229237Z",
     "iopub.status.idle": "2021-02-18T22:11:33.322985Z",
     "shell.execute_reply": "2021-02-18T22:11:33.322985Z",
     "shell.execute_reply.started": "2021-02-18T22:11:33.229237Z"
    }
   },
   "outputs": [
    {
     "data": {
      "image/png": "[encoded data removed]",
      "text/plain": [
       "<Figure size 432x288 with 1 Axes>"
      ]
     },
     "metadata": {},
     "output_type": "display_data"
    }
   ],
   "source": [
    "path= 'networks/Exeter/'+name_WDS+'.inp'\n",
    "wn_WDS, _, _ = load_inp(path)\n",
    "#wn_WDS = wntr.network.WaterNetworkModel(path)"
   ]
  },
  {
   "cell_type": "code",
   "execution_count": 10,
   "id": "unique-resolution",
   "metadata": {
    "execution": {
     "iopub.execute_input": "2021-02-18T22:11:33.995606Z",
     "iopub.status.busy": "2021-02-18T22:11:33.995606Z",
     "iopub.status.idle": "2021-02-18T22:11:34.000558Z",
     "shell.execute_reply": "2021-02-18T22:11:34.000558Z",
     "shell.execute_reply.started": "2021-02-18T22:11:33.995606Z"
    }
   },
   "outputs": [],
   "source": [
    "names = ['BAK', 'BIN', 'BLA', 'FOS', 'HAN', 'MOD', 'NYT', 'PES', 'TLN', 'TRN']\n",
    "seeds = [132, 65464, 8754, 465542, 13211, 9874545, 12, 9872, 6781, 978888]\n",
    "dict_seeds =dict(zip(names, seeds))\n",
    "\n",
    "num_pipes = wn_WDS.num_pipes\n",
    "\n",
    "avail_diams = list(WDS_info.D.dropna()) #[6, 8, 10, 12, 14] #inches\n",
    "pipe_names = wn_WDS.link_name_list\n",
    "\n",
    "seed = dict_seeds[name_WDS] #Trial seed: 4345\n",
    "np.random.seed(seed)\n",
    "\n"
   ]
  },
  {
   "cell_type": "code",
   "execution_count": 11,
   "id": "editorial-luther",
   "metadata": {
    "execution": {
     "iopub.execute_input": "2021-02-18T22:11:34.682229Z",
     "iopub.status.busy": "2021-02-18T22:11:34.682229Z",
     "iopub.status.idle": "2021-02-18T22:11:34.687217Z",
     "shell.execute_reply": "2021-02-18T22:11:34.687217Z",
     "shell.execute_reply.started": "2021-02-18T22:11:34.682229Z"
    },
    "scrolled": true
   },
   "outputs": [
    {
     "data": {
      "text/plain": [
       "[0.152, 0.203, 0.254, 0.305, 0.356, 0.407, 0.458, 0.509]"
      ]
     },
     "execution_count": 11,
     "metadata": {},
     "output_type": "execute_result"
    }
   ],
   "source": [
    "avail_diams"
   ]
  },
  {
   "cell_type": "markdown",
   "id": "alone-quick",
   "metadata": {},
   "source": [
    "## Dataset Creation"
   ]
  },
  {
   "cell_type": "markdown",
   "id": "pharmaceutical-clinic",
   "metadata": {},
   "source": [
    "### NetworkX representation\n"
   ]
  },
  {
   "cell_type": "markdown",
   "id": "rocky-hydrogen",
   "metadata": {},
   "source": [
    "Information on nodes and edges"
   ]
  },
  {
   "cell_type": "code",
   "execution_count": 12,
   "id": "unavailable-warren",
   "metadata": {
    "execution": {
     "iopub.execute_input": "2021-02-18T22:11:36.052574Z",
     "iopub.status.busy": "2021-02-18T22:11:36.052574Z",
     "iopub.status.idle": "2021-02-18T22:11:36.062547Z",
     "shell.execute_reply": "2021-02-18T22:11:36.062547Z",
     "shell.execute_reply.started": "2021-02-18T22:11:36.052574Z"
    }
   },
   "outputs": [],
   "source": [
    "def from_wntr_to_nx(wn):\n",
    "    wn_links = list(wn.links())\n",
    "    wn_nodes = list(wn.nodes())\n",
    "    \n",
    "    G_WDS = wn.get_graph() # directed multigraph\n",
    "    uG_WDS = G_WDS.to_undirected() # undirected\n",
    "    sG_WDS = nx.Graph(uG_WDS) #Simple graph  \n",
    "    \n",
    "    i=0\n",
    "    for (u, v, wt) in sG_WDS.edges.data():\n",
    "        assert isinstance(wn_links[i][1], wntr.network.elements.Pipe), \"The link is not a pipe\"\n",
    "        sG_WDS[u][v]['diameter'] =  wn_links[i][1].diameter\n",
    "        sG_WDS[u][v]['length'] =    wn_links[i][1].length\n",
    "        sG_WDS[u][v]['roughness'] = wn_links[i][1].roughness\n",
    "        i+=1\n",
    "    \n",
    "    i=0\n",
    "    for u in sG_WDS.nodes:\n",
    "        \n",
    "        if sG_WDS.nodes[u]['type'] == 'Junction': \n",
    "            sG_WDS.nodes[u]['ID'] =          wn_nodes[i][1].name\n",
    "            sG_WDS.nodes[u]['type_1H'] =     0\n",
    "            sG_WDS.nodes[u]['base_demand'] = list(wn_nodes[i][1].demand_timeseries_list)[0].base_value\n",
    "            sG_WDS.nodes[u]['elevation'] =   wn_nodes[i][1].elevation\n",
    "            sG_WDS.nodes[u]['base_head'] =   0\n",
    "            \n",
    "            \n",
    "        elif sG_WDS.nodes[u]['type'] == 'Reservoir':\n",
    "            sG_WDS.nodes[u]['ID'] =          wn_nodes[i][1].name\n",
    "            sG_WDS.nodes[u]['type_1H'] =     1\n",
    "            sG_WDS.nodes[u]['base_demand'] = 0\n",
    "            sG_WDS.nodes[u]['elevation'] =   0\n",
    "            sG_WDS.nodes[u]['base_head'] =   wn_nodes[i][1].base_head\n",
    "        else:\n",
    "            print(u)\n",
    "            raise Exception('Only Junctions and Reservoirs so far')\n",
    "            break\n",
    "            \n",
    "        i+=1\n",
    "\n",
    "    return sG_WDS #df_nodes, df_links, sG_WDS\n",
    "\n"
   ]
  },
  {
   "cell_type": "code",
   "execution_count": 13,
   "id": "valued-tutorial",
   "metadata": {
    "execution": {
     "iopub.execute_input": "2021-02-18T22:11:36.633544Z",
     "iopub.status.busy": "2021-02-18T22:11:36.633544Z",
     "iopub.status.idle": "2021-02-18T22:11:36.637498Z",
     "shell.execute_reply": "2021-02-18T22:11:36.637498Z",
     "shell.execute_reply.started": "2021-02-18T22:11:36.633544Z"
    }
   },
   "outputs": [],
   "source": [
    "#b = convert.from_networkx(a)"
   ]
  },
  {
   "cell_type": "code",
   "execution_count": 14,
   "id": "acting-place",
   "metadata": {
    "execution": {
     "iopub.execute_input": "2021-02-18T22:11:37.187703Z",
     "iopub.status.busy": "2021-02-18T22:11:37.187703Z",
     "iopub.status.idle": "2021-02-18T22:11:37.191692Z",
     "shell.execute_reply": "2021-02-18T22:11:37.191692Z",
     "shell.execute_reply.started": "2021-02-18T22:11:37.187703Z"
    }
   },
   "outputs": [],
   "source": [
    "# def from_wntr_to_geometric(wn):      \n",
    "#     df_nodes, df_links, sG_WDS = from_wntr_to_pandas(wn)   # get pandas dataframes\n",
    "\n",
    "#     # create torch data \n",
    "#     x = torch.tensor(df_nodes[['node_type','base_demand','elevation','base_head']].astype(float).values, dtype=torch.float)\n",
    "#     pos = torch.tensor(df_nodes['coords'], dtype=torch.float)\n",
    "#     pg_sG_WDS = convert.from_networkx(sG_WDS)\n",
    "    \n",
    "#     #edge_index = torch.tensor(COO_edges, dtype=torch.long)\n",
    "#     edge_attr = torch.tensor(df_links[['length','diameter','roughness']].astype(float).values, dtype=torch.float)\n",
    "#     data = Data(x=x, pos=pos, edge_index=edge_index, edge_attr=edge_attr)\n",
    "\n",
    "#     return data, df_nodes, df_links"
   ]
  },
  {
   "cell_type": "code",
   "execution_count": 15,
   "id": "attempted-marker",
   "metadata": {
    "execution": {
     "iopub.execute_input": "2021-02-18T22:11:37.772145Z",
     "iopub.status.busy": "2021-02-18T22:11:37.772145Z",
     "iopub.status.idle": "2021-02-18T22:11:37.775173Z",
     "shell.execute_reply": "2021-02-18T22:11:37.775173Z",
     "shell.execute_reply.started": "2021-02-18T22:11:37.772145Z"
    }
   },
   "outputs": [],
   "source": [
    "#data, df_nodes, df_links = from_wntr_to_geometric(wn_WDS)"
   ]
  },
  {
   "cell_type": "code",
   "execution_count": 16,
   "id": "undefined-feature",
   "metadata": {
    "execution": {
     "iopub.execute_input": "2021-02-18T22:11:38.305902Z",
     "iopub.status.busy": "2021-02-18T22:11:38.305902Z",
     "iopub.status.idle": "2021-02-18T22:11:38.308926Z",
     "shell.execute_reply": "2021-02-18T22:11:38.308926Z",
     "shell.execute_reply.started": "2021-02-18T22:11:38.305902Z"
    }
   },
   "outputs": [],
   "source": [
    "#results_WDS.node['pressure']"
   ]
  },
  {
   "cell_type": "code",
   "execution_count": 17,
   "id": "skilled-numbers",
   "metadata": {
    "execution": {
     "iopub.execute_input": "2021-02-18T22:11:38.661111Z",
     "iopub.status.busy": "2021-02-18T22:11:38.661111Z",
     "iopub.status.idle": "2021-02-18T22:11:38.665066Z",
     "shell.execute_reply": "2021-02-18T22:11:38.665066Z",
     "shell.execute_reply.started": "2021-02-18T22:11:38.661111Z"
    }
   },
   "outputs": [],
   "source": [
    "# print(res_index(results_WDS.node['head'], results_WDS.node['pressure'], results_WDS.node['demand'], flowrate, wn_WDS, min_pres, indx = 'Todini'))"
   ]
  },
  {
   "cell_type": "code",
   "execution_count": 18,
   "id": "informed-factory",
   "metadata": {
    "execution": {
     "iopub.execute_input": "2021-02-18T22:11:38.799744Z",
     "iopub.status.busy": "2021-02-18T22:11:38.799744Z",
     "iopub.status.idle": "2021-02-18T22:11:38.803695Z",
     "shell.execute_reply": "2021-02-18T22:11:38.803695Z",
     "shell.execute_reply.started": "2021-02-18T22:11:38.799744Z"
    }
   },
   "outputs": [],
   "source": [
    "p = [(i+1)/len(avail_diams) for i in range(len(avail_diams))]\n",
    "p = [p[i]/sum(p) for i in range(len(p))]"
   ]
  },
  {
   "cell_type": "markdown",
   "id": "serious-rotation",
   "metadata": {},
   "source": [
    "### Loop for database generation"
   ]
  },
  {
   "cell_type": "code",
   "execution_count": 19,
   "id": "minimal-console",
   "metadata": {
    "execution": {
     "iopub.execute_input": "2021-02-18T22:11:39.720601Z",
     "iopub.status.busy": "2021-02-18T22:11:39.720601Z",
     "iopub.status.idle": "2021-02-18T22:14:11.551620Z",
     "shell.execute_reply": "2021-02-18T22:14:11.550660Z",
     "shell.execute_reply.started": "2021-02-18T22:11:39.720601Z"
    },
    "scrolled": true
   },
   "outputs": [
    {
     "name": "stdout",
     "output_type": "stream",
     "text": [
      "iter: 0\n",
      "iter: 50\n",
      "iter: 100\n",
      "iter: 150\n",
      "iter: 200\n",
      "iter: 250\n",
      "iter: 300\n",
      "iter: 350\n",
      "iter: 400\n",
      "iter: 450\n",
      "iter: 500\n",
      "iter: 550\n",
      "iter: 600\n",
      "iter: 650\n",
      "iter: 700\n",
      "iter: 750\n",
      "iter: 800\n",
      "iter: 850\n",
      "iter: 900\n",
      "iter: 950\n",
      "iter: 1000\n",
      "iter: 1050\n",
      "iter: 1100\n",
      "iter: 1150\n",
      "iter: 1200\n",
      "iter: 1250\n",
      "iter: 1300\n",
      "iter: 1350\n",
      "iter: 1400\n",
      "iter: 1450\n",
      "iter: 1500\n",
      "iter: 1550\n",
      "iter: 1600\n",
      "iter: 1650\n",
      "iter: 1700\n",
      "iter: 1750\n",
      "iter: 1800\n",
      "iter: 1850\n",
      "iter: 1900\n",
      "iter: 1950\n",
      "iter: 2000\n",
      "iter: 2050\n",
      "iter: 2100\n",
      "iter: 2150\n",
      "iter: 2200\n",
      "iter: 2250\n",
      "iter: 2300\n",
      "iter: 2350\n",
      "iter: 2400\n",
      "iter: 2450\n",
      "iter: 2500\n",
      "iter: 2550\n",
      "iter: 2600\n",
      "iter: 2650\n",
      "iter: 2700\n",
      "iter: 2750\n",
      "iter: 2800\n",
      "iter: 2850\n",
      "iter: 2900\n",
      "iter: 2950\n",
      "iter: 3000\n",
      "iter: 3050\n",
      "iter: 3100\n",
      "iter: 3150\n",
      "iter: 3200\n",
      "iter: 3250\n",
      "iter: 3300\n",
      "iter: 3350\n",
      "iter: 3400\n",
      "iter: 3450\n",
      "iter: 3500\n",
      "iter: 3550\n",
      "iter: 3600\n",
      "iter: 3650\n",
      "iter: 3700\n",
      "iter: 3750\n",
      "iter: 3800\n",
      "iter: 3850\n",
      "iter: 3900\n",
      "iter: 3950\n",
      "iter: 4000\n",
      "iter: 4050\n",
      "iter: 4100\n",
      "iter: 4150\n",
      "iter: 4200\n",
      "iter: 4250\n",
      "iter: 4300\n",
      "iter: 4350\n",
      "iter: 4400\n",
      "iter: 4450\n",
      "iter: 4500\n",
      "iter: 4550\n",
      "iter: 4600\n",
      "iter: 4650\n",
      "iter: 4700\n",
      "iter: 4750\n",
      "iter: 4800\n",
      "iter: 4850\n",
      "iter: 4900\n",
      "iter: 4950\n",
      "iter: 4999\n"
     ]
    }
   ],
   "source": [
    "#first_DB = []\n",
    "np.random.seed(seed)\n",
    "\n",
    "all_geom_data = [] # geometric data\n",
    "fail_DB = []\n",
    "N_iter = 5000\n",
    "sim=0\n",
    "while len(all_geom_data)<N_iter and len(fail_DB)<N_iter:\n",
    "    # echo on screen\n",
    "    if sim % 50 == 0 or sim == N_iter-1:\n",
    "        print(f'iter: {sim}')\n",
    "  \n",
    "    # assign diameters    \n",
    "    new_diams = np.random.choice(avail_diams, num_pipes, replace= True, p = p)\n",
    "    new_diams = new_diams * UNIT_TO_M\n",
    "    \n",
    "    for i in range(num_pipes):\n",
    "        c_pipe = wn_WDS.get_link(pipe_names[i])\n",
    "        c_pipe.diameter = new_diams[i]\n",
    "    \n",
    "    # run the simulation\n",
    "    try:\n",
    "    # Simulate hydraulics\n",
    "        sim_WDS = wntr.sim.EpanetSimulator(wn_WDS)\n",
    "        results_WDS = sim_WDS.run_sim()\n",
    "        flowrate = 0 #There are no pumps\n",
    "        \n",
    "        # get resilience indexes  \n",
    "        RI_PP = res_index(results_WDS.node['head'], results_WDS.node['pressure'], results_WDS.node['demand'], flowrate, wn_WDS, min_pres, indx = 'PP')\n",
    "        RI_Todini = res_index(results_WDS.node['head'], results_WDS.node['pressure'], results_WDS.node['demand'], flowrate, wn_WDS, min_pres, indx = 'Todini')\n",
    "\n",
    "\n",
    "        # create Geometric Data \n",
    "        data = convert.from_networkx(from_wntr_to_nx(wn_WDS))\n",
    "\n",
    "        \n",
    "        #Add resilience indexes\n",
    "        data.res_Todini = torch.tensor(RI_Todini)\n",
    "        data.res_PP = torch.tensor(RI_PP)\n",
    "        all_geom_data.append(data)\n",
    "    \n",
    "    except Exception as e:\n",
    "        fail_row = [sim]\n",
    "        fail_row.append(np.round(new_diams/UNIT_TO_M, 0))\n",
    "        fail_row.append(wn_WDS)\n",
    "        fail_row.append(e)\n",
    "        print(e)\n",
    "        fail_DB.append(fail_row)\n",
    "    sim+=1\n",
    "    "
   ]
  },
  {
   "cell_type": "code",
   "execution_count": 20,
   "id": "confused-invasion",
   "metadata": {
    "execution": {
     "iopub.execute_input": "2021-02-18T22:14:12.419306Z",
     "iopub.status.busy": "2021-02-18T22:14:12.419306Z",
     "iopub.status.idle": "2021-02-18T22:14:12.425291Z",
     "shell.execute_reply": "2021-02-18T22:14:12.424295Z",
     "shell.execute_reply.started": "2021-02-18T22:14:12.419306Z"
    }
   },
   "outputs": [
    {
     "name": "stdout",
     "output_type": "stream",
     "text": [
      "5000 0\n"
     ]
    }
   ],
   "source": [
    "print(len(all_geom_data), len(fail_DB))"
   ]
  },
  {
   "cell_type": "code",
   "execution_count": 21,
   "id": "hazardous-piece",
   "metadata": {
    "execution": {
     "iopub.execute_input": "2021-02-18T22:14:12.427285Z",
     "iopub.status.busy": "2021-02-18T22:14:12.427285Z",
     "iopub.status.idle": "2021-02-18T22:14:12.435264Z",
     "shell.execute_reply": "2021-02-18T22:14:12.434301Z",
     "shell.execute_reply.started": "2021-02-18T22:14:12.427285Z"
    }
   },
   "outputs": [
    {
     "data": {
      "text/plain": [
       "Data(ID=[12], base_demand=[12], base_head=[12], diameter=[28], edge_index=[2, 28], elevation=[12], length=[28], pos=[12, 2], res_PP=[1], res_Todini=[1], roughness=[28], type=[28], type_1H=[12])"
      ]
     },
     "execution_count": 21,
     "metadata": {},
     "output_type": "execute_result"
    }
   ],
   "source": [
    "all_geom_data[-1]"
   ]
  },
  {
   "cell_type": "code",
   "execution_count": 22,
   "id": "roman-replication",
   "metadata": {
    "execution": {
     "iopub.execute_input": "2021-02-18T22:14:12.436261Z",
     "iopub.status.busy": "2021-02-18T22:14:12.436261Z",
     "iopub.status.idle": "2021-02-18T22:14:12.939952Z",
     "shell.execute_reply": "2021-02-18T22:14:12.939952Z",
     "shell.execute_reply.started": "2021-02-18T22:14:12.436261Z"
    }
   },
   "outputs": [],
   "source": [
    "winsound.Beep(1000, 500)"
   ]
  },
  {
   "cell_type": "code",
   "execution_count": 23,
   "id": "solar-designation",
   "metadata": {
    "execution": {
     "iopub.execute_input": "2021-02-18T22:14:12.941913Z",
     "iopub.status.busy": "2021-02-18T22:14:12.941913Z",
     "iopub.status.idle": "2021-02-18T22:14:12.947897Z",
     "shell.execute_reply": "2021-02-18T22:14:12.946900Z",
     "shell.execute_reply.started": "2021-02-18T22:14:12.941913Z"
    }
   },
   "outputs": [
    {
     "name": "stdout",
     "output_type": "stream",
     "text": [
      "C:\\Users\\agarzondiaz\\surfdrive\\Year 1\\AnyTown Database\\AnyTown_DB\\TRN_Geom_DB_5000\n"
     ]
    }
   ],
   "source": [
    "# folder\n",
    "dir_path = os.getcwd()+'\\{name}_Geom_DB_{num_iter}'.format(name = name_WDS, num_iter = N_iter)\n",
    "print(dir_path)"
   ]
  },
  {
   "cell_type": "code",
   "execution_count": 24,
   "id": "valued-familiar",
   "metadata": {
    "execution": {
     "iopub.execute_input": "2021-02-18T22:14:12.949891Z",
     "iopub.status.busy": "2021-02-18T22:14:12.948894Z",
     "iopub.status.idle": "2021-02-18T22:14:12.954877Z",
     "shell.execute_reply": "2021-02-18T22:14:12.953880Z",
     "shell.execute_reply.started": "2021-02-18T22:14:12.949891Z"
    }
   },
   "outputs": [],
   "source": [
    "dataset = {}\n",
    "dataset['info'] = 'Dataset for graph regression to compute '+name_WDS+' resilience index. Edge_attr = [Length, diameter, roughness] of every pipe, x =[Node type(junction 0, reservoir 1), Base demand (0 for reservoirs), elevation, base head(0 for junctions)]'\n",
    "dataset['ngraphs'] = len(all_geom_data)\n",
    "dataset['data'] = all_geom_data"
   ]
  },
  {
   "cell_type": "code",
   "execution_count": 25,
   "id": "sharing-facial",
   "metadata": {
    "execution": {
     "iopub.execute_input": "2021-02-18T22:14:12.957870Z",
     "iopub.status.busy": "2021-02-18T22:14:12.956873Z",
     "iopub.status.idle": "2021-02-18T22:14:15.415499Z",
     "shell.execute_reply": "2021-02-18T22:14:15.415499Z",
     "shell.execute_reply.started": "2021-02-18T22:14:12.957870Z"
    }
   },
   "outputs": [
    {
     "name": "stdout",
     "output_type": "stream",
     "text": [
      "Successfully created the directory C:\\Users\\agarzondiaz\\surfdrive\\Year 1\\AnyTown Database\\AnyTown_DB\\TRN_Geom_DB_5000 \n"
     ]
    }
   ],
   "source": [
    "# save\n",
    "try:\n",
    "    os.mkdir(dir_path)    \n",
    "    pickle.dump(dataset,open(f\"{dir_path}/{name_WDS}_dataset.p\", \"wb\" ))\n",
    "except OSError:\n",
    "    print (\"Creation of the directory %s failed\" % dir_path)\n",
    "else:\n",
    "    print (\"Successfully created the directory %s \" % dir_path)"
   ]
  },
  {
   "cell_type": "code",
   "execution_count": 26,
   "id": "through-atlanta",
   "metadata": {
    "execution": {
     "iopub.execute_input": "2021-02-18T22:14:15.416495Z",
     "iopub.status.busy": "2021-02-18T22:14:15.416495Z",
     "iopub.status.idle": "2021-02-18T22:14:15.420486Z",
     "shell.execute_reply": "2021-02-18T22:14:15.420486Z",
     "shell.execute_reply.started": "2021-02-18T22:14:15.416495Z"
    }
   },
   "outputs": [],
   "source": [
    "# save\n",
    "# try:\n",
    "#     #os.mkdir(dir_path)    \n",
    "#     pickle.dump(dataset,open(f\"{dir_path}/{name_WDS}_dataset2.p\", \"wb\" ))\n",
    "# except OSError:\n",
    "#     print (\"Creation of the directory %s failed\" % dir_path)\n",
    "# else:\n",
    "#     print (\"Successfully created the directory %s \" % dir_path)"
   ]
  },
  {
   "cell_type": "code",
   "execution_count": 27,
   "id": "serial-century",
   "metadata": {
    "execution": {
     "iopub.execute_input": "2021-02-18T22:14:15.421482Z",
     "iopub.status.busy": "2021-02-18T22:14:15.421482Z",
     "iopub.status.idle": "2021-02-18T22:14:15.426498Z",
     "shell.execute_reply": "2021-02-18T22:14:15.426498Z",
     "shell.execute_reply.started": "2021-02-18T22:14:15.421482Z"
    }
   },
   "outputs": [],
   "source": [
    "#pickle.dump(dataset,open(f\"{dir_path}/{name_WDS}_dataset.p\", \"wb\" ))"
   ]
  },
  {
   "cell_type": "code",
   "execution_count": 28,
   "id": "executive-spectacular",
   "metadata": {
    "execution": {
     "iopub.execute_input": "2021-02-18T22:14:15.427466Z",
     "iopub.status.busy": "2021-02-18T22:14:15.427466Z",
     "iopub.status.idle": "2021-02-18T22:14:15.431456Z",
     "shell.execute_reply": "2021-02-18T22:14:15.431456Z",
     "shell.execute_reply.started": "2021-02-18T22:14:15.427466Z"
    }
   },
   "outputs": [],
   "source": [
    "#prueba = pickle.load(open(r'C:\\Users\\agarzondiaz\\surfdrive\\Year 1\\AnyTown Database\\AnyTown_DB\\BIN_Geom_DB_5000\\BIN_dataset.p', 'rb'))"
   ]
  },
  {
   "cell_type": "code",
   "execution_count": 29,
   "id": "breeding-albuquerque",
   "metadata": {
    "execution": {
     "iopub.execute_input": "2021-02-18T22:14:56.733822Z",
     "iopub.status.busy": "2021-02-18T22:14:56.733822Z",
     "iopub.status.idle": "2021-02-18T22:14:58.773413Z",
     "shell.execute_reply": "2021-02-18T22:14:58.773413Z",
     "shell.execute_reply.started": "2021-02-18T22:14:56.733822Z"
    }
   },
   "outputs": [],
   "source": [
    "prueba = pickle.load(open(f'{dir_path}/{name_WDS}_dataset.p', 'rb'))"
   ]
  },
  {
   "cell_type": "code",
   "execution_count": 30,
   "id": "rocky-target",
   "metadata": {
    "execution": {
     "iopub.execute_input": "2021-02-18T22:15:00.671343Z",
     "iopub.status.busy": "2021-02-18T22:15:00.671343Z",
     "iopub.status.idle": "2021-02-18T22:15:00.676305Z",
     "shell.execute_reply": "2021-02-18T22:15:00.676305Z",
     "shell.execute_reply.started": "2021-02-18T22:15:00.671343Z"
    }
   },
   "outputs": [
    {
     "data": {
      "text/plain": [
       "5000"
      ]
     },
     "execution_count": 30,
     "metadata": {},
     "output_type": "execute_result"
    }
   ],
   "source": [
    "len(prueba['data'])"
   ]
  },
  {
   "cell_type": "code",
   "execution_count": 31,
   "id": "artificial-bosnia",
   "metadata": {
    "execution": {
     "iopub.execute_input": "2021-02-18T22:15:00.678301Z",
     "iopub.status.busy": "2021-02-18T22:15:00.678301Z",
     "iopub.status.idle": "2021-02-18T22:15:00.766066Z",
     "shell.execute_reply": "2021-02-18T22:15:00.766066Z",
     "shell.execute_reply.started": "2021-02-18T22:15:00.678301Z"
    },
    "scrolled": true
   },
   "outputs": [],
   "source": [
    "res = []\n",
    "neg =0\n",
    "pos =0\n",
    "for i in range(len(prueba['data'])):\n",
    "    valueRes = prueba['data'][i].res_PP\n",
    "    res.append(valueRes)\n",
    "    if valueRes <0:\n",
    "        neg+=1\n",
    "    else:\n",
    "        pos+=1\n",
    "    "
   ]
  },
  {
   "cell_type": "code",
   "execution_count": 33,
   "id": "altered-principle",
   "metadata": {
    "execution": {
     "iopub.execute_input": "2021-02-18T22:15:16.190912Z",
     "iopub.status.busy": "2021-02-18T22:15:16.190912Z",
     "iopub.status.idle": "2021-02-18T22:15:16.196896Z",
     "shell.execute_reply": "2021-02-18T22:15:16.196896Z",
     "shell.execute_reply.started": "2021-02-18T22:15:16.190912Z"
    }
   },
   "outputs": [
    {
     "data": {
      "text/plain": [
       "(4996, 4)"
      ]
     },
     "execution_count": 33,
     "metadata": {},
     "output_type": "execute_result"
    }
   ],
   "source": [
    "pos, neg"
   ]
  },
  {
   "cell_type": "code",
   "execution_count": 34,
   "id": "addressed-cleveland",
   "metadata": {
    "execution": {
     "iopub.execute_input": "2021-02-18T22:15:16.198891Z",
     "iopub.status.busy": "2021-02-18T22:15:16.197894Z",
     "iopub.status.idle": "2021-02-18T22:15:16.201883Z",
     "shell.execute_reply": "2021-02-18T22:15:16.201883Z",
     "shell.execute_reply.started": "2021-02-18T22:15:16.198891Z"
    }
   },
   "outputs": [],
   "source": [
    "#RI_PP_new = res_index(results_WDS.node['head'], results_WDS.node['pressure'], results_WDS.node['demand'], flowrate, wn_WDS, min_pres, indx = 'PP')\n",
    "#RI_Todini_new = res_index(results_WDS.node['head'], results_WDS.node['pressure'], results_WDS.node['demand'], flowrate, wn_WDS, min_pres, indx = 'Todini')\n",
    "    \n",
    "#RI_PP_old = PP_index(results_WDS.node['head'], results_WDS.node['pressure'], results_WDS.node['demand'], flowrate, wn_WDS, 30)\n",
    "#RI_Todini_old = wntr.metrics.hydraulic.todini_index(results_WDS.node['head'], results_WDS.node['pressure'], results_WDS.node['demand'], flowrate, wn_WDS, 30)"
   ]
  },
  {
   "cell_type": "code",
   "execution_count": 35,
   "id": "understood-parcel",
   "metadata": {
    "execution": {
     "iopub.execute_input": "2021-02-18T22:15:16.203878Z",
     "iopub.status.busy": "2021-02-18T22:15:16.202880Z",
     "iopub.status.idle": "2021-02-18T22:15:16.207868Z",
     "shell.execute_reply": "2021-02-18T22:15:16.206870Z",
     "shell.execute_reply.started": "2021-02-18T22:15:16.203878Z"
    }
   },
   "outputs": [],
   "source": [
    "#RI_Todini_new, RI_PP_old"
   ]
  },
  {
   "cell_type": "code",
   "execution_count": 36,
   "id": "nominated-quality",
   "metadata": {
    "execution": {
     "iopub.execute_input": "2021-02-18T22:15:16.209862Z",
     "iopub.status.busy": "2021-02-18T22:15:16.208865Z",
     "iopub.status.idle": "2021-02-18T22:15:16.274690Z",
     "shell.execute_reply": "2021-02-18T22:15:16.274690Z",
     "shell.execute_reply.started": "2021-02-18T22:15:16.209862Z"
    }
   },
   "outputs": [
    {
     "data": {
      "text/plain": [
       "(0.6304261328608232, -0.1365811470703154)"
      ]
     },
     "execution_count": 36,
     "metadata": {},
     "output_type": "execute_result"
    }
   ],
   "source": [
    "np.array(res).max(), np.array(res).min()"
   ]
  },
  {
   "cell_type": "code",
   "execution_count": 37,
   "id": "phantom-bouquet",
   "metadata": {
    "execution": {
     "iopub.execute_input": "2021-02-18T22:15:45.502308Z",
     "iopub.status.busy": "2021-02-18T22:15:45.502308Z",
     "iopub.status.idle": "2021-02-18T22:15:45.505292Z",
     "shell.execute_reply": "2021-02-18T22:15:45.505292Z",
     "shell.execute_reply.started": "2021-02-18T22:15:45.502308Z"
    }
   },
   "outputs": [],
   "source": [
    "#RI_PP_old"
   ]
  },
  {
   "cell_type": "code",
   "execution_count": 38,
   "id": "trying-swiss",
   "metadata": {
    "execution": {
     "iopub.execute_input": "2021-02-18T22:15:51.060508Z",
     "iopub.status.busy": "2021-02-18T22:15:51.060508Z",
     "iopub.status.idle": "2021-02-18T22:15:51.065451Z",
     "shell.execute_reply": "2021-02-18T22:15:51.064453Z",
     "shell.execute_reply.started": "2021-02-18T22:15:51.060508Z"
    }
   },
   "outputs": [],
   "source": [
    "#RI_PP_new"
   ]
  },
  {
   "cell_type": "code",
   "execution_count": 39,
   "id": "systematic-implementation",
   "metadata": {
    "execution": {
     "iopub.execute_input": "2021-02-18T22:15:51.066449Z",
     "iopub.status.busy": "2021-02-18T22:15:51.066449Z",
     "iopub.status.idle": "2021-02-18T22:15:51.072432Z",
     "shell.execute_reply": "2021-02-18T22:15:51.071474Z",
     "shell.execute_reply.started": "2021-02-18T22:15:51.066449Z"
    }
   },
   "outputs": [],
   "source": [
    "#     RI_PP = res_index(results_WDS.node['head'], results_WDS.node['pressure'], results_WDS.node['demand'], flowrate, wn_WDS, min_pres, indx = 'PP')\n",
    "#     RI_Todini = res_index(results_WDS.node['head'], results_WDS.node['pressure'], results_WDS.node['demand'], flowrate, wn_WDS, min_pres, indx = 'Todini')\n",
    "    \n",
    "    #RI_PP = PP_index(results_WDS.node['head'], results_WDS.node['pressure'], results_WDS.node['demand'], flowrate, wn_WDS, PMIN_WDS)\n",
    "    #RI_Todini = wntr.metrics.hydraulic.todini_index(results_WDS.node['head'], results_WDS.node['pressure'], results_WDS.node['demand'], flowrate, wn_WDS, PMIN_WDS)"
   ]
  },
  {
   "cell_type": "code",
   "execution_count": 40,
   "id": "assumed-flush",
   "metadata": {
    "execution": {
     "iopub.execute_input": "2021-02-18T22:15:51.073428Z",
     "iopub.status.busy": "2021-02-18T22:15:51.073428Z",
     "iopub.status.idle": "2021-02-18T22:15:51.082409Z",
     "shell.execute_reply": "2021-02-18T22:15:51.081409Z",
     "shell.execute_reply.started": "2021-02-18T22:15:51.073428Z"
    }
   },
   "outputs": [
    {
     "data": {
      "text/plain": [
       "[tensor([0.3111], dtype=torch.float64),\n",
       " tensor([0.3955], dtype=torch.float64),\n",
       " tensor([0.3077], dtype=torch.float64),\n",
       " tensor([0.3386], dtype=torch.float64),\n",
       " tensor([0.4957], dtype=torch.float64),\n",
       " tensor([0.2374], dtype=torch.float64),\n",
       " tensor([0.3236], dtype=torch.float64),\n",
       " tensor([0.2477], dtype=torch.float64),\n",
       " tensor([0.0541], dtype=torch.float64),\n",
       " tensor([0.4595], dtype=torch.float64)]"
      ]
     },
     "execution_count": 40,
     "metadata": {},
     "output_type": "execute_result"
    }
   ],
   "source": [
    "res[0:10]"
   ]
  },
  {
   "cell_type": "code",
   "execution_count": 41,
   "id": "abstract-vietnam",
   "metadata": {
    "execution": {
     "iopub.execute_input": "2021-02-18T22:15:51.083402Z",
     "iopub.status.busy": "2021-02-18T22:15:51.083402Z",
     "iopub.status.idle": "2021-02-18T22:15:51.090384Z",
     "shell.execute_reply": "2021-02-18T22:15:51.089385Z",
     "shell.execute_reply.started": "2021-02-18T22:15:51.083402Z"
    }
   },
   "outputs": [
    {
     "data": {
      "text/plain": [
       "tensor([0.5090, 0.4070, 0.5090, 0.4070, 0.3560, 0.3560, 0.2030, 0.4580, 0.5090,\n",
       "        0.3560, 0.4580, 0.3560, 0.4070, 0.5090, 0.2030, 0.5090, 0.3050, 0.4580,\n",
       "        0.4580, 0.4070, 0.4580, 0.4580, 0.3050, 0.4580, 0.3050, 0.3050, 0.5090,\n",
       "        0.4580], dtype=torch.float64)"
      ]
     },
     "execution_count": 41,
     "metadata": {},
     "output_type": "execute_result"
    }
   ],
   "source": [
    "prueba['data'][4997].diameter #Diameters"
   ]
  },
  {
   "cell_type": "code",
   "execution_count": 42,
   "id": "unusual-circle",
   "metadata": {
    "execution": {
     "iopub.execute_input": "2021-02-18T22:15:51.092380Z",
     "iopub.status.busy": "2021-02-18T22:15:51.091386Z",
     "iopub.status.idle": "2021-02-18T22:15:51.098363Z",
     "shell.execute_reply": "2021-02-18T22:15:51.098363Z",
     "shell.execute_reply.started": "2021-02-18T22:15:51.092380Z"
    }
   },
   "outputs": [
    {
     "data": {
      "text/plain": [
       "tensor([0.4070, 0.4580, 0.4070, 0.4580, 0.4070, 0.4070, 0.5090, 0.3050, 0.4070,\n",
       "        0.5090, 0.5090, 0.5090, 0.3050, 0.5090, 0.5090, 0.5090, 0.3560, 0.5090,\n",
       "        0.5090, 0.3050, 0.5090, 0.5090, 0.3560, 0.5090, 0.2540, 0.2540, 0.4070,\n",
       "        0.3050], dtype=torch.float64)"
      ]
     },
     "execution_count": 42,
     "metadata": {},
     "output_type": "execute_result"
    }
   ],
   "source": [
    "prueba['data'][0].diameter/ UNIT_TO_M #Diameters"
   ]
  },
  {
   "cell_type": "code",
   "execution_count": null,
   "id": "extensive-least",
   "metadata": {},
   "outputs": [],
   "source": []
  },
  {
   "cell_type": "code",
   "execution_count": null,
   "id": "binding-vector",
   "metadata": {},
   "outputs": [],
   "source": []
  }
 ],
 "metadata": {
  "kernelspec": {
   "display_name": "Python 3",
   "language": "python",
   "name": "python3"
  },
  "language_info": {
   "codemirror_mode": {
    "name": "ipython",
    "version": 3
   },
   "file_extension": ".py",
   "mimetype": "text/x-python",
   "name": "python",
   "nbconvert_exporter": "python",
   "pygments_lexer": "ipython3",
   "version": "3.8.5"
  },
  "toc-autonumbering": true
 },
 "nbformat": 4,
 "nbformat_minor": 5
}
