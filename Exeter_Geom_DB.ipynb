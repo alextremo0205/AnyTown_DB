{
 "cells": [
  {
   "cell_type": "markdown",
   "id": "atmospheric-semester",
   "metadata": {},
   "source": [
    "# Geometric Datasets: Exeter"
   ]
  },
  {
   "cell_type": "markdown",
   "id": "warming-thompson",
   "metadata": {},
   "source": [
    "Improved version:\n",
    "* F"
   ]
  },
  {
   "cell_type": "markdown",
   "id": "anonymous-california",
   "metadata": {},
   "source": [
    "## Description"
   ]
  },
  {
   "cell_type": "markdown",
   "id": "effective-feature",
   "metadata": {},
   "source": [
    "Code for creating the geometric datasets for the Two-Objective Design/Resilience networks from [Exeter Benchmarks](https://emps.exeter.ac.uk/engineering/research/cws/resources/benchmarks/design-resiliance-pareto-fronts/) \n",
    "\n",
    "*Small Problems*\n",
    "* Two-Reservoir Network\n",
    "* Two-Loop Network\n",
    "* BakRyan Network\n",
    "\n",
    "*Medium Problems*\n",
    "* New York Tunnel Network\n",
    "* Blacksburg Network\n",
    "* Hanoi Network\n",
    "\n",
    "*Intemediate Problems*\n",
    "* Fossolo Network\n",
    "* Pescara Network\n",
    "\n",
    "*Large Problems*\n",
    "* Modena Network\n",
    "* Balerma Irrigation Network\n",
    "\n",
    "*GoYang Network and Exeter Network were excluded because they had accessories (Pumps and valves) not yet contemplated for the extent of this exercise. \n"
   ]
  },
  {
   "cell_type": "markdown",
   "id": "measured-emperor",
   "metadata": {},
   "source": [
    "## Imports"
   ]
  },
  {
   "cell_type": "markdown",
   "id": "hungarian-killing",
   "metadata": {},
   "source": [
    "### Basic"
   ]
  },
  {
   "cell_type": "code",
   "execution_count": 1,
   "id": "superior-klein",
   "metadata": {
    "execution": {
     "iopub.execute_input": "2021-03-07T13:34:05.156825Z",
     "iopub.status.busy": "2021-03-07T13:34:05.156825Z",
     "iopub.status.idle": "2021-03-07T13:34:08.159360Z",
     "shell.execute_reply": "2021-03-07T13:34:08.159360Z",
     "shell.execute_reply.started": "2021-03-07T13:34:05.156825Z"
    }
   },
   "outputs": [],
   "source": [
    "import os\n",
    "import wntr\n",
    "import pandas as pd\n",
    "import numpy as np\n",
    "import pickle\n",
    "import networkx as nx\n",
    "import winsound"
   ]
  },
  {
   "cell_type": "markdown",
   "id": "alike-double",
   "metadata": {},
   "source": [
    "### Custom functions"
   ]
  },
  {
   "cell_type": "code",
   "execution_count": 2,
   "id": "finnish-cyprus",
   "metadata": {
    "execution": {
     "iopub.execute_input": "2021-03-07T13:34:08.160361Z",
     "iopub.status.busy": "2021-03-07T13:34:08.160361Z",
     "iopub.status.idle": "2021-03-07T13:34:08.166376Z",
     "shell.execute_reply": "2021-03-07T13:34:08.166376Z",
     "shell.execute_reply.started": "2021-03-07T13:34:08.160361Z"
    }
   },
   "outputs": [],
   "source": [
    "#Custom .py file\n",
    "#from PrasadParkIndex import *\n",
    "from res_index import *\n",
    "from PrasadParkIndex import *"
   ]
  },
  {
   "cell_type": "markdown",
   "id": "promising-eight",
   "metadata": {},
   "source": [
    "### PyTorch and PyG"
   ]
  },
  {
   "cell_type": "code",
   "execution_count": 3,
   "id": "strange-wages",
   "metadata": {
    "execution": {
     "iopub.execute_input": "2021-03-07T13:34:08.167301Z",
     "iopub.status.busy": "2021-03-07T13:34:08.167301Z",
     "iopub.status.idle": "2021-03-07T13:34:15.041985Z",
     "shell.execute_reply": "2021-03-07T13:34:15.041985Z",
     "shell.execute_reply.started": "2021-03-07T13:34:08.167301Z"
    }
   },
   "outputs": [
    {
     "name": "stderr",
     "output_type": "stream",
     "text": [
      "C:\\Programs\\Anaconda3\\envs\\PyTorch_Env\\lib\\site-packages\\torch\\cuda\\__init__.py:52: UserWarning: CUDA initialization: Found no NVIDIA driver on your system. Please check that you have an NVIDIA GPU and installed a driver from http://www.nvidia.com/Download/index.aspx (Triggered internally at  ..\\c10\\cuda\\CUDAFunctions.cpp:100.)\n",
      "  return torch._C._cuda_getDeviceCount() > 0\n"
     ]
    }
   ],
   "source": [
    "import torch\n",
    "from torch_geometric.data import Data\n",
    "from torch_geometric.utils import convert\n",
    "#from torch_geometric.datasets import TUDataset"
   ]
  },
  {
   "cell_type": "markdown",
   "id": "speaking-moment",
   "metadata": {},
   "source": [
    "### DeepSNAP"
   ]
  },
  {
   "cell_type": "code",
   "execution_count": 4,
   "id": "earlier-angola",
   "metadata": {
    "execution": {
     "iopub.execute_input": "2021-03-07T13:34:15.042859Z",
     "iopub.status.busy": "2021-03-07T13:34:15.042859Z",
     "iopub.status.idle": "2021-03-07T13:34:15.045852Z",
     "shell.execute_reply": "2021-03-07T13:34:15.045852Z",
     "shell.execute_reply.started": "2021-03-07T13:34:15.042859Z"
    }
   },
   "outputs": [],
   "source": [
    "# from deepsnap.graph import Graph as dSNAP_Graph\n",
    "# from deepsnap.dataset import GraphDataset as dSNAP_GraphDS"
   ]
  },
  {
   "cell_type": "markdown",
   "id": "departmental-papua",
   "metadata": {},
   "source": [
    "### Plotly"
   ]
  },
  {
   "cell_type": "code",
   "execution_count": 5,
   "id": "continuous-carpet",
   "metadata": {
    "execution": {
     "iopub.execute_input": "2021-03-07T13:34:15.046850Z",
     "iopub.status.busy": "2021-03-07T13:34:15.046850Z",
     "iopub.status.idle": "2021-03-07T13:34:15.055858Z",
     "shell.execute_reply": "2021-03-07T13:34:15.055858Z",
     "shell.execute_reply.started": "2021-03-07T13:34:15.046850Z"
    }
   },
   "outputs": [],
   "source": [
    "import plotly.graph_objects as go"
   ]
  },
  {
   "cell_type": "markdown",
   "id": "specialized-paper",
   "metadata": {},
   "source": [
    "## Loading inp file"
   ]
  },
  {
   "cell_type": "code",
   "execution_count": 6,
   "id": "residential-first",
   "metadata": {
    "execution": {
     "iopub.execute_input": "2021-03-07T13:34:15.056822Z",
     "iopub.status.busy": "2021-03-07T13:34:15.056822Z",
     "iopub.status.idle": "2021-03-07T13:34:15.060813Z",
     "shell.execute_reply": "2021-03-07T13:34:15.060813Z",
     "shell.execute_reply.started": "2021-03-07T13:34:15.056822Z"
    }
   },
   "outputs": [],
   "source": [
    "# Create a water network model\n",
    "def load_inp(inp_file_path):\n",
    "    wn_WDS = wntr.network.WaterNetworkModel(inp_file_path)\n",
    "\n",
    "    # Plot the network\n",
    "    wntr.graphics.plot_network(wn_WDS, title=wn_WDS.name)\n",
    "\n",
    "    # Simulate hydraulics\n",
    "    sim_WDS = wntr.sim.EpanetSimulator(wn_WDS)\n",
    "    results_WDS = sim_WDS.run_sim()\n",
    "    \n",
    "    return(wn_WDS, sim_WDS, results_WDS)"
   ]
  },
  {
   "cell_type": "markdown",
   "id": "wound-royal",
   "metadata": {},
   "source": [
    "### Name of the Network "
   ]
  },
  {
   "cell_type": "markdown",
   "id": "immune-intellectual",
   "metadata": {},
   "source": [
    "Choices:\n",
    "\\['BAK', 'BIN', 'BLA', 'FOS', 'HAN', 'MOD', 'NYT', 'PES', 'TLN', 'TRN']"
   ]
  },
  {
   "cell_type": "code",
   "execution_count": 7,
   "id": "modular-roller",
   "metadata": {
    "execution": {
     "iopub.execute_input": "2021-03-07T13:34:15.061809Z",
     "iopub.status.busy": "2021-03-07T13:34:15.061809Z",
     "iopub.status.idle": "2021-03-07T13:34:15.089248Z",
     "shell.execute_reply": "2021-03-07T13:34:15.089248Z",
     "shell.execute_reply.started": "2021-03-07T13:34:15.061809Z"
    }
   },
   "outputs": [
    {
     "data": {
      "text/html": [
       "<div>\n",
       "<style scoped>\n",
       "    .dataframe tbody tr th:only-of-type {\n",
       "        vertical-align: middle;\n",
       "    }\n",
       "\n",
       "    .dataframe tbody tr th {\n",
       "        vertical-align: top;\n",
       "    }\n",
       "\n",
       "    .dataframe thead th {\n",
       "        text-align: right;\n",
       "    }\n",
       "</style>\n",
       "<table border=\"1\" class=\"dataframe\">\n",
       "  <thead>\n",
       "    <tr style=\"text-align: right;\">\n",
       "      <th></th>\n",
       "      <th>D</th>\n",
       "      <th>Cost</th>\n",
       "      <th>NodeID</th>\n",
       "      <th>MinPressure_m</th>\n",
       "      <th>UNITS_TO_M</th>\n",
       "    </tr>\n",
       "  </thead>\n",
       "  <tbody>\n",
       "    <tr>\n",
       "      <th>0</th>\n",
       "      <td>6.0</td>\n",
       "      <td>0.0</td>\n",
       "      <td>20</td>\n",
       "      <td>28.1236</td>\n",
       "      <td>0.0254</td>\n",
       "    </tr>\n",
       "    <tr>\n",
       "      <th>1</th>\n",
       "      <td>8.0</td>\n",
       "      <td>0.0</td>\n",
       "      <td>30</td>\n",
       "      <td>28.1236</td>\n",
       "      <td>NaN</td>\n",
       "    </tr>\n",
       "    <tr>\n",
       "      <th>2</th>\n",
       "      <td>10.0</td>\n",
       "      <td>0.0</td>\n",
       "      <td>40</td>\n",
       "      <td>28.1236</td>\n",
       "      <td>NaN</td>\n",
       "    </tr>\n",
       "    <tr>\n",
       "      <th>3</th>\n",
       "      <td>12.0</td>\n",
       "      <td>0.0</td>\n",
       "      <td>50</td>\n",
       "      <td>28.1236</td>\n",
       "      <td>NaN</td>\n",
       "    </tr>\n",
       "    <tr>\n",
       "      <th>4</th>\n",
       "      <td>14.0</td>\n",
       "      <td>0.0</td>\n",
       "      <td>55</td>\n",
       "      <td>28.1236</td>\n",
       "      <td>NaN</td>\n",
       "    </tr>\n",
       "  </tbody>\n",
       "</table>\n",
       "</div>"
      ],
      "text/plain": [
       "      D  Cost NodeID  MinPressure_m  UNITS_TO_M\n",
       "0   6.0   0.0     20        28.1236      0.0254\n",
       "1   8.0   0.0     30        28.1236         NaN\n",
       "2  10.0   0.0     40        28.1236         NaN\n",
       "3  12.0   0.0     50        28.1236         NaN\n",
       "4  14.0   0.0     55        28.1236         NaN"
      ]
     },
     "execution_count": 7,
     "metadata": {},
     "output_type": "execute_result"
    }
   ],
   "source": [
    "name_WDS = 'Mod_Anytown'\n",
    "\n",
    "#Read the Network info\n",
    "WDS_info = pd.read_csv('./networks/Exeter/'+name_WDS+'_info.csv', dtype = {'NodeID': str} )\n",
    "\n",
    "WDS_info.head()"
   ]
  },
  {
   "cell_type": "code",
   "execution_count": 8,
   "id": "injured-baseline",
   "metadata": {
    "execution": {
     "iopub.execute_input": "2021-03-07T13:34:15.090245Z",
     "iopub.status.busy": "2021-03-07T13:34:15.090245Z",
     "iopub.status.idle": "2021-03-07T13:34:15.103210Z",
     "shell.execute_reply": "2021-03-07T13:34:15.101223Z",
     "shell.execute_reply.started": "2021-03-07T13:34:15.090245Z"
    }
   },
   "outputs": [],
   "source": [
    "#Transform the min. pressure of the nodes into a pandas dataframe\n",
    "min_pres = WDS_info[['NodeID', 'MinPressure_m']].dropna()\n",
    "min_pres = min_pres.set_index('NodeID')\n",
    "\n",
    "#Obtain the conversion factor for the diameters (Some are given in inches, meters, or mm)\n",
    "UNIT_TO_M = WDS_info['UNITS_TO_M'].dropna().item()"
   ]
  },
  {
   "cell_type": "markdown",
   "id": "angry-verse",
   "metadata": {},
   "source": [
    "### Load the inp file"
   ]
  },
  {
   "cell_type": "code",
   "execution_count": 9,
   "id": "whole-andrews",
   "metadata": {
    "execution": {
     "iopub.execute_input": "2021-03-07T13:34:15.106212Z",
     "iopub.status.busy": "2021-03-07T13:34:15.105204Z",
     "iopub.status.idle": "2021-03-07T13:34:15.556429Z",
     "shell.execute_reply": "2021-03-07T13:34:15.556429Z",
     "shell.execute_reply.started": "2021-03-07T13:34:15.106212Z"
    }
   },
   "outputs": [
    {
     "data": {
      "image/png": "[encoded data removed]",
      "text/plain": [
       "<Figure size 432x288 with 1 Axes>"
      ]
     },
     "metadata": {},
     "output_type": "display_data"
    }
   ],
   "source": [
    "path= 'networks/Exeter/'+name_WDS+'.inp'\n",
    "wn_WDS, _, _ = load_inp(path)\n",
    "#wn_WDS = wntr.network.WaterNetworkModel(path)"
   ]
  },
  {
   "cell_type": "code",
   "execution_count": 10,
   "id": "proof-christopher",
   "metadata": {
    "execution": {
     "iopub.execute_input": "2021-03-07T13:34:15.558394Z",
     "iopub.status.busy": "2021-03-07T13:34:15.558394Z",
     "iopub.status.idle": "2021-03-07T13:34:15.565403Z",
     "shell.execute_reply": "2021-03-07T13:34:15.565403Z",
     "shell.execute_reply.started": "2021-03-07T13:34:15.558394Z"
    }
   },
   "outputs": [],
   "source": [
    "names = ['BAK', 'BIN', 'BLA', 'FOS', 'HAN', 'MOD', 'NYT', 'PES', 'TLN', 'TRN', 'Mod_Anytown']\n",
    "seeds = [132, 65464, 8754, 465542, 13211, 9874545, 12, 9872, 6781, 978888, 24124214]\n",
    "dict_seeds =dict(zip(names, seeds))\n",
    "\n",
    "num_pipes = wn_WDS.num_pipes\n",
    "\n",
    "avail_diams = list(WDS_info.D.dropna()) #[6, 8, 10, 12, 14] #inches\n",
    "pipe_names = wn_WDS.link_name_list\n",
    "\n",
    "seed = dict_seeds[name_WDS] #Trial seed: 4345\n",
    "np.random.seed(seed)\n",
    "\n"
   ]
  },
  {
   "cell_type": "code",
   "execution_count": 11,
   "id": "ethical-hungary",
   "metadata": {
    "execution": {
     "iopub.execute_input": "2021-03-07T13:34:15.566372Z",
     "iopub.status.busy": "2021-03-07T13:34:15.566372Z",
     "iopub.status.idle": "2021-03-07T13:34:15.573363Z",
     "shell.execute_reply": "2021-03-07T13:34:15.573363Z",
     "shell.execute_reply.started": "2021-03-07T13:34:15.566372Z"
    },
    "scrolled": true
   },
   "outputs": [
    {
     "data": {
      "text/plain": [
       "[6.0, 8.0, 10.0, 12.0, 14.0]"
      ]
     },
     "execution_count": 11,
     "metadata": {},
     "output_type": "execute_result"
    }
   ],
   "source": [
    "avail_diams"
   ]
  },
  {
   "cell_type": "markdown",
   "id": "floating-lancaster",
   "metadata": {},
   "source": [
    "## Dataset Creation"
   ]
  },
  {
   "cell_type": "markdown",
   "id": "accompanied-tooth",
   "metadata": {},
   "source": [
    "### NetworkX representation\n"
   ]
  },
  {
   "cell_type": "markdown",
   "id": "presidential-stable",
   "metadata": {},
   "source": [
    "Information on nodes and edges"
   ]
  },
  {
   "cell_type": "code",
   "execution_count": 12,
   "id": "aquatic-digest",
   "metadata": {
    "execution": {
     "iopub.execute_input": "2021-03-07T13:34:15.574351Z",
     "iopub.status.busy": "2021-03-07T13:34:15.574351Z",
     "iopub.status.idle": "2021-03-07T13:34:15.583327Z",
     "shell.execute_reply": "2021-03-07T13:34:15.583327Z",
     "shell.execute_reply.started": "2021-03-07T13:34:15.574351Z"
    }
   },
   "outputs": [],
   "source": [
    "def from_wntr_to_nx(wn):\n",
    "    wn_links = list(wn.links())\n",
    "    wn_nodes = list(wn.nodes())\n",
    "    \n",
    "    G_WDS = wn.get_graph() # directed multigraph\n",
    "    uG_WDS = G_WDS.to_undirected() # undirected\n",
    "    sG_WDS = nx.Graph(uG_WDS) #Simple graph  \n",
    "    \n",
    "    i=0\n",
    "    for (u, v, wt) in sG_WDS.edges.data():\n",
    "        assert isinstance(wn_links[i][1], wntr.network.elements.Pipe), \"The link is not a pipe\"\n",
    "        sG_WDS[u][v]['diameter'] =  wn_links[i][1].diameter\n",
    "        sG_WDS[u][v]['length'] =    wn_links[i][1].length\n",
    "        sG_WDS[u][v]['roughness'] = wn_links[i][1].roughness\n",
    "        i+=1\n",
    "    \n",
    "    i=0\n",
    "    for u in sG_WDS.nodes:\n",
    "        \n",
    "        if sG_WDS.nodes[u]['type'] == 'Junction': \n",
    "            sG_WDS.nodes[u]['ID'] =          wn_nodes[i][1].name\n",
    "            sG_WDS.nodes[u]['type_1H'] =     0\n",
    "            sG_WDS.nodes[u]['base_demand'] = list(wn_nodes[i][1].demand_timeseries_list)[0].base_value\n",
    "            sG_WDS.nodes[u]['elevation'] =   wn_nodes[i][1].elevation\n",
    "            sG_WDS.nodes[u]['base_head'] =   0\n",
    "            \n",
    "            \n",
    "        elif sG_WDS.nodes[u]['type'] == 'Reservoir':\n",
    "            sG_WDS.nodes[u]['ID'] =          wn_nodes[i][1].name\n",
    "            sG_WDS.nodes[u]['type_1H'] =     1\n",
    "            sG_WDS.nodes[u]['base_demand'] = 0\n",
    "            sG_WDS.nodes[u]['elevation'] =   0\n",
    "            sG_WDS.nodes[u]['base_head'] =   wn_nodes[i][1].base_head\n",
    "        else:\n",
    "            print(u)\n",
    "            raise Exception('Only Junctions and Reservoirs so far')\n",
    "            break\n",
    "            \n",
    "        i+=1\n",
    "\n",
    "    return sG_WDS #df_nodes, df_links, sG_WDS\n",
    "\n"
   ]
  },
  {
   "cell_type": "code",
   "execution_count": 13,
   "id": "cheap-backing",
   "metadata": {
    "execution": {
     "iopub.execute_input": "2021-03-07T13:34:15.584324Z",
     "iopub.status.busy": "2021-03-07T13:34:15.584324Z",
     "iopub.status.idle": "2021-03-07T13:34:15.587344Z",
     "shell.execute_reply": "2021-03-07T13:34:15.587344Z",
     "shell.execute_reply.started": "2021-03-07T13:34:15.584324Z"
    }
   },
   "outputs": [],
   "source": [
    "#b = convert.from_networkx(a)"
   ]
  },
  {
   "cell_type": "code",
   "execution_count": 14,
   "id": "bacterial-signature",
   "metadata": {
    "execution": {
     "iopub.execute_input": "2021-03-07T13:34:15.588313Z",
     "iopub.status.busy": "2021-03-07T13:34:15.588313Z",
     "iopub.status.idle": "2021-03-07T13:34:15.594298Z",
     "shell.execute_reply": "2021-03-07T13:34:15.593301Z",
     "shell.execute_reply.started": "2021-03-07T13:34:15.588313Z"
    }
   },
   "outputs": [],
   "source": [
    "# def from_wntr_to_geometric(wn):      \n",
    "#     df_nodes, df_links, sG_WDS = from_wntr_to_pandas(wn)   # get pandas dataframes\n",
    "\n",
    "#     # create torch data \n",
    "#     x = torch.tensor(df_nodes[['node_type','base_demand','elevation','base_head']].astype(float).values, dtype=torch.float)\n",
    "#     pos = torch.tensor(df_nodes['coords'], dtype=torch.float)\n",
    "#     pg_sG_WDS = convert.from_networkx(sG_WDS)\n",
    "    \n",
    "#     #edge_index = torch.tensor(COO_edges, dtype=torch.long)\n",
    "#     edge_attr = torch.tensor(df_links[['length','diameter','roughness']].astype(float).values, dtype=torch.float)\n",
    "#     data = Data(x=x, pos=pos, edge_index=edge_index, edge_attr=edge_attr)\n",
    "\n",
    "#     return data, df_nodes, df_links"
   ]
  },
  {
   "cell_type": "code",
   "execution_count": 15,
   "id": "known-compound",
   "metadata": {
    "execution": {
     "iopub.execute_input": "2021-03-07T13:34:15.597323Z",
     "iopub.status.busy": "2021-03-07T13:34:15.596295Z",
     "iopub.status.idle": "2021-03-07T13:34:15.601947Z",
     "shell.execute_reply": "2021-03-07T13:34:15.600953Z",
     "shell.execute_reply.started": "2021-03-07T13:34:15.597323Z"
    }
   },
   "outputs": [],
   "source": [
    "#data, df_nodes, df_links = from_wntr_to_geometric(wn_WDS)"
   ]
  },
  {
   "cell_type": "code",
   "execution_count": 16,
   "id": "cultural-columbia",
   "metadata": {
    "execution": {
     "iopub.execute_input": "2021-03-07T13:34:15.602940Z",
     "iopub.status.busy": "2021-03-07T13:34:15.602940Z",
     "iopub.status.idle": "2021-03-07T13:34:15.607927Z",
     "shell.execute_reply": "2021-03-07T13:34:15.607927Z",
     "shell.execute_reply.started": "2021-03-07T13:34:15.602940Z"
    }
   },
   "outputs": [],
   "source": [
    "#results_WDS.node['pressure']"
   ]
  },
  {
   "cell_type": "code",
   "execution_count": 17,
   "id": "embedded-channels",
   "metadata": {
    "execution": {
     "iopub.execute_input": "2021-03-07T13:34:15.608925Z",
     "iopub.status.busy": "2021-03-07T13:34:15.608925Z",
     "iopub.status.idle": "2021-03-07T13:34:15.614908Z",
     "shell.execute_reply": "2021-03-07T13:34:15.614908Z",
     "shell.execute_reply.started": "2021-03-07T13:34:15.608925Z"
    }
   },
   "outputs": [],
   "source": [
    "# print(res_index(results_WDS.node['head'], results_WDS.node['pressure'], results_WDS.node['demand'], flowrate, wn_WDS, min_pres, indx = 'Todini'))"
   ]
  },
  {
   "cell_type": "code",
   "execution_count": 18,
   "id": "rapid-party",
   "metadata": {
    "execution": {
     "iopub.execute_input": "2021-03-07T13:34:15.616903Z",
     "iopub.status.busy": "2021-03-07T13:34:15.615905Z",
     "iopub.status.idle": "2021-03-07T13:34:15.623885Z",
     "shell.execute_reply": "2021-03-07T13:34:15.623885Z",
     "shell.execute_reply.started": "2021-03-07T13:34:15.616903Z"
    }
   },
   "outputs": [],
   "source": [
    "p = [(i+1)/len(avail_diams) for i in range(len(avail_diams))]\n",
    "p = [p[i]/sum(p) for i in range(len(p))]"
   ]
  },
  {
   "cell_type": "markdown",
   "id": "textile-reference",
   "metadata": {},
   "source": [
    "### Loop for database generation"
   ]
  },
  {
   "cell_type": "code",
   "execution_count": 19,
   "id": "higher-planning",
   "metadata": {
    "execution": {
     "iopub.execute_input": "2021-03-07T13:34:15.625879Z",
     "iopub.status.busy": "2021-03-07T13:34:15.624882Z",
     "iopub.status.idle": "2021-03-07T13:36:04.524184Z",
     "shell.execute_reply": "2021-03-07T13:36:04.524184Z",
     "shell.execute_reply.started": "2021-03-07T13:34:15.625879Z"
    },
    "scrolled": true
   },
   "outputs": [
    {
     "name": "stdout",
     "output_type": "stream",
     "text": [
      "iter: 0\n",
      "iter: 50\n",
      "iter: 100\n",
      "iter: 150\n",
      "iter: 200\n",
      "iter: 250\n",
      "iter: 300\n",
      "iter: 350\n",
      "iter: 400\n",
      "iter: 450\n",
      "iter: 500\n",
      "iter: 550\n",
      "iter: 600\n",
      "iter: 650\n",
      "iter: 700\n",
      "iter: 750\n",
      "iter: 800\n",
      "iter: 850\n",
      "iter: 900\n",
      "iter: 950\n",
      "iter: 1000\n",
      "iter: 1050\n",
      "iter: 1100\n",
      "iter: 1150\n",
      "iter: 1200\n",
      "iter: 1250\n",
      "iter: 1300\n",
      "iter: 1350\n",
      "iter: 1400\n",
      "iter: 1450\n",
      "iter: 1500\n",
      "iter: 1550\n",
      "iter: 1600\n",
      "iter: 1650\n",
      "iter: 1700\n",
      "iter: 1750\n",
      "iter: 1800\n",
      "iter: 1850\n",
      "iter: 1900\n",
      "iter: 1950\n",
      "iter: 2000\n",
      "iter: 2050\n",
      "iter: 2100\n",
      "iter: 2150\n",
      "iter: 2200\n",
      "iter: 2250\n",
      "iter: 2300\n",
      "iter: 2350\n",
      "iter: 2400\n",
      "iter: 2450\n",
      "iter: 2500\n",
      "iter: 2550\n",
      "iter: 2600\n",
      "iter: 2650\n",
      "iter: 2700\n",
      "iter: 2750\n",
      "iter: 2800\n",
      "iter: 2850\n",
      "iter: 2900\n",
      "iter: 2950\n",
      "iter: 3000\n",
      "iter: 3050\n",
      "iter: 3100\n",
      "iter: 3150\n",
      "iter: 3200\n",
      "iter: 3250\n",
      "iter: 3300\n",
      "iter: 3350\n",
      "iter: 3400\n",
      "iter: 3450\n",
      "iter: 3500\n",
      "iter: 3550\n",
      "iter: 3600\n",
      "iter: 3650\n",
      "iter: 3700\n",
      "iter: 3750\n",
      "iter: 3800\n",
      "iter: 3850\n",
      "iter: 3900\n",
      "iter: 3950\n",
      "iter: 4000\n",
      "iter: 4050\n",
      "iter: 4100\n",
      "iter: 4150\n",
      "iter: 4200\n",
      "iter: 4250\n",
      "iter: 4300\n",
      "iter: 4350\n",
      "iter: 4400\n",
      "iter: 4450\n",
      "iter: 4500\n",
      "iter: 4550\n",
      "iter: 4600\n",
      "iter: 4650\n",
      "iter: 4700\n",
      "iter: 4750\n",
      "iter: 4800\n",
      "iter: 4850\n",
      "iter: 4900\n",
      "iter: 4950\n",
      "iter: 4999\n"
     ]
    }
   ],
   "source": [
    "#first_DB = []\n",
    "np.random.seed(seed)\n",
    "\n",
    "all_geom_data = [] # geometric data\n",
    "fail_DB = []\n",
    "N_iter = 5000\n",
    "sim=0\n",
    "while len(all_geom_data)<N_iter and len(fail_DB)<N_iter:\n",
    "    # echo on screen\n",
    "    if sim % 50 == 0 or sim == N_iter-1:\n",
    "        print(f'iter: {sim}')\n",
    "  \n",
    "    # assign diameters    \n",
    "    new_diams = np.random.choice(avail_diams, num_pipes, replace= True)#, p = p)\n",
    "    new_diams = new_diams * UNIT_TO_M\n",
    "    \n",
    "    for i in range(num_pipes):\n",
    "        c_pipe = wn_WDS.get_link(pipe_names[i])\n",
    "        c_pipe.diameter = new_diams[i]\n",
    "    \n",
    "    # run the simulation\n",
    "    try:\n",
    "    # Simulate hydraulics\n",
    "        sim_WDS = wntr.sim.EpanetSimulator(wn_WDS)\n",
    "        results_WDS = sim_WDS.run_sim()\n",
    "        flowrate = 0 #There are no pumps\n",
    "        \n",
    "        # get resilience indexes  \n",
    "        #RI_PP = res_index(results_WDS.node['head'], results_WDS.node['pressure'], results_WDS.node['demand'], flowrate, wn_WDS, min_pres, indx = 'PP')\n",
    "        #RI_Todini = res_index(results_WDS.node['head'], results_WDS.node['pressure'], results_WDS.node['demand'], flowrate, wn_WDS, min_pres, indx = 'Todini')\n",
    "\n",
    "        \n",
    "        RI_PP = PP_index(results_WDS.node['head'], results_WDS.node['pressure'], results_WDS.node['demand'], flowrate, wn_WDS, 28.1236)\n",
    "        RI_Todini = wntr.metrics.hydraulic.todini_index(results_WDS.node['head'], results_WDS.node['pressure'], results_WDS.node['demand'], flowrate, wn_WDS, 28.1236)\n",
    "\n",
    "        # create Geometric Data \n",
    "        data = convert.from_networkx(from_wntr_to_nx(wn_WDS))\n",
    "\n",
    "        \n",
    "        #Add resilience indexes\n",
    "        data.res_Todini = torch.tensor(RI_Todini[64800])\n",
    "        data.res_PP = torch.tensor(RI_PP[64800])\n",
    "        data.pressure = torch.tensor(results_WDS.node['pressure'].loc[64800].values)\n",
    "        data.demand = torch.tensor(results_WDS.node['demand'].loc[64800].values)\n",
    "        all_geom_data.append(data)\n",
    "    \n",
    "    except Exception as e:\n",
    "        fail_row = [sim]\n",
    "        fail_row.append(np.round(new_diams/UNIT_TO_M, 0))\n",
    "        fail_row.append(wn_WDS)\n",
    "        fail_row.append(e)\n",
    "        print(e)\n",
    "        fail_DB.append(fail_row)\n",
    "    sim+=1\n",
    "    "
   ]
  },
  {
   "cell_type": "code",
   "execution_count": 67,
   "id": "complex-drilling",
   "metadata": {
    "execution": {
     "iopub.execute_input": "2021-03-07T13:25:07.984353Z",
     "iopub.status.busy": "2021-03-07T13:25:07.984353Z",
     "iopub.status.idle": "2021-03-07T13:25:08.045191Z",
     "shell.execute_reply": "2021-03-07T13:25:08.044192Z",
     "shell.execute_reply.started": "2021-03-07T13:25:07.984353Z"
    }
   },
   "outputs": [
    {
     "data": {
      "text/plain": [
       "name\n",
       "20     55.509441\n",
       "30     46.620064\n",
       "40     46.651100\n",
       "50     46.687775\n",
       "55     37.721390\n",
       "60     46.706280\n",
       "70     46.610741\n",
       "75     37.899002\n",
       "80     46.703655\n",
       "90     46.649727\n",
       "100    46.694271\n",
       "110    46.986267\n",
       "115    38.007923\n",
       "120    26.848700\n",
       "130    26.901445\n",
       "140    38.023033\n",
       "150    25.485159\n",
       "160    27.047098\n",
       "170    26.612459\n",
       "65      0.000000\n",
       "165     0.000000\n",
       "Name: 64800, dtype: float32"
      ]
     },
     "execution_count": 67,
     "metadata": {},
     "output_type": "execute_result"
    }
   ],
   "source": [
    "results_WDS.node['pressure'].loc[64800]"
   ]
  },
  {
   "cell_type": "code",
   "execution_count": 20,
   "id": "herbal-subject",
   "metadata": {
    "execution": {
     "iopub.execute_input": "2021-03-07T13:36:24.338434Z",
     "iopub.status.busy": "2021-03-07T13:36:24.338434Z",
     "iopub.status.idle": "2021-03-07T13:36:24.342426Z",
     "shell.execute_reply": "2021-03-07T13:36:24.342426Z",
     "shell.execute_reply.started": "2021-03-07T13:36:24.338434Z"
    }
   },
   "outputs": [
    {
     "name": "stdout",
     "output_type": "stream",
     "text": [
      "5000 0\n"
     ]
    }
   ],
   "source": [
    "print(len(all_geom_data), len(fail_DB))"
   ]
  },
  {
   "cell_type": "code",
   "execution_count": 21,
   "id": "perceived-newsletter",
   "metadata": {
    "execution": {
     "iopub.execute_input": "2021-03-07T13:36:28.912121Z",
     "iopub.status.busy": "2021-03-07T13:36:28.912121Z",
     "iopub.status.idle": "2021-03-07T13:36:28.916092Z",
     "shell.execute_reply": "2021-03-07T13:36:28.916092Z",
     "shell.execute_reply.started": "2021-03-07T13:36:28.912121Z"
    }
   },
   "outputs": [
    {
     "data": {
      "text/plain": [
       "Data(ID=[21], base_demand=[21], base_head=[21], demand=[21], diameter=[80], edge_index=[2, 80], elevation=[21], length=[80], pos=[21, 2], pressure=[21], res_PP=-0.14412716031074524, res_Todini=-0.3321572542190552, roughness=[80], type=[80], type_1H=[21])"
      ]
     },
     "execution_count": 21,
     "metadata": {},
     "output_type": "execute_result"
    }
   ],
   "source": [
    "all_geom_data[-1]"
   ]
  },
  {
   "cell_type": "code",
   "execution_count": 34,
   "id": "thousand-theory",
   "metadata": {
    "execution": {
     "iopub.execute_input": "2021-03-07T13:41:21.321128Z",
     "iopub.status.busy": "2021-03-07T13:41:21.321128Z",
     "iopub.status.idle": "2021-03-07T13:41:21.326115Z",
     "shell.execute_reply": "2021-03-07T13:41:21.326115Z",
     "shell.execute_reply.started": "2021-03-07T13:41:21.321128Z"
    }
   },
   "outputs": [],
   "source": [
    "a = pd.DataFrame((all_geom_data[-1].base_demand.numpy(), all_geom_data[-1].demand.numpy()))\n"
   ]
  },
  {
   "cell_type": "code",
   "execution_count": 38,
   "id": "pressed-final",
   "metadata": {
    "execution": {
     "iopub.execute_input": "2021-03-07T13:56:51.261508Z",
     "iopub.status.busy": "2021-03-07T13:56:51.261508Z",
     "iopub.status.idle": "2021-03-07T13:56:51.269462Z",
     "shell.execute_reply": "2021-03-07T13:56:51.269462Z",
     "shell.execute_reply.started": "2021-03-07T13:56:51.261508Z"
    }
   },
   "outputs": [
    {
     "data": {
      "text/plain": [
       "0    -0.00000\n",
       "1     0.00000\n",
       "2     0.00000\n",
       "3     0.00000\n",
       "4     0.00000\n",
       "5    -0.00000\n",
       "6    -0.00000\n",
       "7     0.00000\n",
       "8    -0.00000\n",
       "9    -0.00000\n",
       "10   -0.00000\n",
       "11   -0.00000\n",
       "12    0.00000\n",
       "13    0.00000\n",
       "14    0.00000\n",
       "15    0.00000\n",
       "16    0.00000\n",
       "17    0.00000\n",
       "18    0.00000\n",
       "19    0.20099\n",
       "20    0.20279\n",
       "dtype: float64"
      ]
     },
     "execution_count": 38,
     "metadata": {},
     "output_type": "execute_result"
    }
   ],
   "source": [
    "np.round(a.iloc[0, :] - a.iloc[1, :], 5)"
   ]
  },
  {
   "cell_type": "code",
   "execution_count": 39,
   "id": "critical-childhood",
   "metadata": {
    "execution": {
     "iopub.execute_input": "2021-03-07T13:56:51.485299Z",
     "iopub.status.busy": "2021-03-07T13:56:51.485299Z",
     "iopub.status.idle": "2021-03-07T13:56:51.991511Z",
     "shell.execute_reply": "2021-03-07T13:56:51.991511Z",
     "shell.execute_reply.started": "2021-03-07T13:56:51.485299Z"
    }
   },
   "outputs": [],
   "source": [
    "winsound.Beep(1000, 500)"
   ]
  },
  {
   "cell_type": "code",
   "execution_count": 44,
   "id": "proof-textbook",
   "metadata": {
    "execution": {
     "iopub.execute_input": "2021-03-07T13:58:51.079562Z",
     "iopub.status.busy": "2021-03-07T13:58:51.079562Z",
     "iopub.status.idle": "2021-03-07T13:58:51.083552Z",
     "shell.execute_reply": "2021-03-07T13:58:51.083552Z",
     "shell.execute_reply.started": "2021-03-07T13:58:51.079562Z"
    }
   },
   "outputs": [
    {
     "name": "stdout",
     "output_type": "stream",
     "text": [
      "C:\\Users\\agarzondiaz\\surfdrive\\Year 1\\AnyTown Database\\AnyTown_DB\\Mod_Anytown_Geom_DB_5000\n"
     ]
    }
   ],
   "source": [
    "# folder\n",
    "dir_path = os.getcwd()+'\\{name}_Geom_DB_{num_iter}'.format(name = name_WDS, num_iter = N_iter)\n",
    "print(dir_path)"
   ]
  },
  {
   "cell_type": "code",
   "execution_count": 45,
   "id": "final-muslim",
   "metadata": {
    "execution": {
     "iopub.execute_input": "2021-03-07T13:58:52.128284Z",
     "iopub.status.busy": "2021-03-07T13:58:52.128284Z",
     "iopub.status.idle": "2021-03-07T13:58:52.132272Z",
     "shell.execute_reply": "2021-03-07T13:58:52.132272Z",
     "shell.execute_reply.started": "2021-03-07T13:58:52.128284Z"
    }
   },
   "outputs": [],
   "source": [
    "dataset = {}\n",
    "dataset['info'] = 'Dataset for graph regression to compute '+name_WDS+' resilience index. Edge_attr = [Length, diameter, roughness] of every pipe, x =[Node type(junction 0, reservoir 1), Base demand (0 for reservoirs), elevation, base head(0 for junctions)]'\n",
    "dataset['ngraphs'] = len(all_geom_data)\n",
    "dataset['data'] = all_geom_data"
   ]
  },
  {
   "cell_type": "code",
   "execution_count": 46,
   "id": "raising-personality",
   "metadata": {
    "execution": {
     "iopub.execute_input": "2021-03-07T13:58:52.133270Z",
     "iopub.status.busy": "2021-03-07T13:58:52.133270Z",
     "iopub.status.idle": "2021-03-07T13:58:54.438005Z",
     "shell.execute_reply": "2021-03-07T13:58:54.438005Z",
     "shell.execute_reply.started": "2021-03-07T13:58:52.133270Z"
    }
   },
   "outputs": [
    {
     "name": "stdout",
     "output_type": "stream",
     "text": [
      "Successfully created the directory C:\\Users\\agarzondiaz\\surfdrive\\Year 1\\AnyTown Database\\AnyTown_DB\\Mod_Anytown_Geom_DB_5000 \n"
     ]
    }
   ],
   "source": [
    "# save\n",
    "try:\n",
    "    os.mkdir(dir_path)    \n",
    "    pickle.dump(dataset,open(f\"{dir_path}/{name_WDS}_dataset.p\", \"wb\" ))\n",
    "except OSError:\n",
    "    print (\"Creation of the directory %s failed\" % dir_path)\n",
    "else:\n",
    "    print (\"Successfully created the directory %s \" % dir_path)"
   ]
  },
  {
   "cell_type": "code",
   "execution_count": 47,
   "id": "liable-barrier",
   "metadata": {
    "execution": {
     "iopub.execute_input": "2021-03-07T13:59:05.137309Z",
     "iopub.status.busy": "2021-03-07T13:59:05.137309Z",
     "iopub.status.idle": "2021-03-07T13:59:07.848279Z",
     "shell.execute_reply": "2021-03-07T13:59:07.848279Z",
     "shell.execute_reply.started": "2021-03-07T13:59:05.137309Z"
    }
   },
   "outputs": [],
   "source": [
    "prueba = pickle.load(open(f'{dir_path}/{name_WDS}_dataset.p', 'rb'))"
   ]
  },
  {
   "cell_type": "code",
   "execution_count": 48,
   "id": "southeast-cathedral",
   "metadata": {
    "execution": {
     "iopub.execute_input": "2021-03-07T13:59:10.320158Z",
     "iopub.status.busy": "2021-03-07T13:59:10.320158Z",
     "iopub.status.idle": "2021-03-07T13:59:10.325148Z",
     "shell.execute_reply": "2021-03-07T13:59:10.325148Z",
     "shell.execute_reply.started": "2021-03-07T13:59:10.320158Z"
    }
   },
   "outputs": [
    {
     "data": {
      "text/plain": [
       "5000"
      ]
     },
     "execution_count": 48,
     "metadata": {},
     "output_type": "execute_result"
    }
   ],
   "source": [
    "len(prueba['data'])"
   ]
  },
  {
   "cell_type": "code",
   "execution_count": 50,
   "id": "handed-voltage",
   "metadata": {
    "execution": {
     "iopub.execute_input": "2021-03-07T13:59:17.495399Z",
     "iopub.status.busy": "2021-03-07T13:59:17.495399Z",
     "iopub.status.idle": "2021-03-07T13:59:17.570200Z",
     "shell.execute_reply": "2021-03-07T13:59:17.569393Z",
     "shell.execute_reply.started": "2021-03-07T13:59:17.495399Z"
    },
    "scrolled": true
   },
   "outputs": [],
   "source": [
    "res = []\n",
    "neg =0\n",
    "pos =0\n",
    "for i in range(len(prueba['data'])):\n",
    "    valueRes = prueba['data'][i].res_PP\n",
    "    res.append(valueRes)\n",
    "    if valueRes <0:\n",
    "        neg+=1\n",
    "    else:\n",
    "        pos+=1\n",
    "    "
   ]
  },
  {
   "cell_type": "code",
   "execution_count": 51,
   "id": "economic-figure",
   "metadata": {
    "execution": {
     "iopub.execute_input": "2021-03-07T13:59:17.571196Z",
     "iopub.status.busy": "2021-03-07T13:59:17.571196Z",
     "iopub.status.idle": "2021-03-07T13:59:17.575186Z",
     "shell.execute_reply": "2021-03-07T13:59:17.575186Z",
     "shell.execute_reply.started": "2021-03-07T13:59:17.571196Z"
    }
   },
   "outputs": [
    {
     "data": {
      "text/plain": [
       "(4788, 212)"
      ]
     },
     "execution_count": 51,
     "metadata": {},
     "output_type": "execute_result"
    }
   ],
   "source": [
    "pos, neg"
   ]
  },
  {
   "cell_type": "code",
   "execution_count": 52,
   "id": "narrow-press",
   "metadata": {
    "execution": {
     "iopub.execute_input": "2021-03-07T13:59:27.100104Z",
     "iopub.status.busy": "2021-03-07T13:59:27.099076Z",
     "iopub.status.idle": "2021-03-07T13:59:27.149939Z",
     "shell.execute_reply": "2021-03-07T13:59:27.149939Z",
     "shell.execute_reply.started": "2021-03-07T13:59:27.099076Z"
    }
   },
   "outputs": [
    {
     "data": {
      "text/plain": [
       "(0.6151123046875, -0.24405470490455627)"
      ]
     },
     "execution_count": 52,
     "metadata": {},
     "output_type": "execute_result"
    }
   ],
   "source": [
    "np.array(res).max(), np.array(res).min()"
   ]
  },
  {
   "cell_type": "code",
   "execution_count": 55,
   "id": "mexican-compensation",
   "metadata": {
    "execution": {
     "iopub.execute_input": "2021-03-07T14:00:36.265198Z",
     "iopub.status.busy": "2021-03-07T14:00:36.265198Z",
     "iopub.status.idle": "2021-03-07T14:00:36.270183Z",
     "shell.execute_reply": "2021-03-07T14:00:36.270183Z",
     "shell.execute_reply.started": "2021-03-07T14:00:36.265198Z"
    }
   },
   "outputs": [
    {
     "data": {
      "text/plain": [
       "tensor([ 0.0315,  0.0126,  0.0126,  0.0126,  0.0000,  0.0315,  0.0315,  0.0000,\n",
       "         0.0315,  0.0631,  0.0315,  0.0315,  0.0000,  0.0126,  0.0126,  0.0126,\n",
       "         0.0126,  0.0505,  0.0126, -0.2590, -0.1448])"
      ]
     },
     "execution_count": 55,
     "metadata": {},
     "output_type": "execute_result"
    }
   ],
   "source": [
    "prueba['data'][0].demand"
   ]
  },
  {
   "cell_type": "code",
   "execution_count": 56,
   "id": "leading-recording",
   "metadata": {
    "execution": {
     "iopub.execute_input": "2021-03-07T14:00:40.935902Z",
     "iopub.status.busy": "2021-03-07T14:00:40.935902Z",
     "iopub.status.idle": "2021-03-07T14:00:40.943469Z",
     "shell.execute_reply": "2021-03-07T14:00:40.943469Z",
     "shell.execute_reply.started": "2021-03-07T14:00:40.935902Z"
    }
   },
   "outputs": [
    {
     "data": {
      "text/plain": [
       "[tensor(0.1193, dtype=torch.float64),\n",
       " tensor(0.2368, dtype=torch.float64),\n",
       " tensor(0.3855, dtype=torch.float64),\n",
       " tensor(0.3823, dtype=torch.float64),\n",
       " tensor(0.3390, dtype=torch.float64),\n",
       " tensor(0.3414, dtype=torch.float64),\n",
       " tensor(0.4295, dtype=torch.float64),\n",
       " tensor(0.4045, dtype=torch.float64),\n",
       " tensor(0.4581, dtype=torch.float64),\n",
       " tensor(0.4723, dtype=torch.float64)]"
      ]
     },
     "execution_count": 56,
     "metadata": {},
     "output_type": "execute_result"
    }
   ],
   "source": [
    "res[0:10]"
   ]
  },
  {
   "cell_type": "code",
   "execution_count": 57,
   "id": "further-fellowship",
   "metadata": {
    "execution": {
     "iopub.execute_input": "2021-03-07T14:00:40.945463Z",
     "iopub.status.busy": "2021-03-07T14:00:40.945463Z",
     "iopub.status.idle": "2021-03-07T14:00:40.952397Z",
     "shell.execute_reply": "2021-03-07T14:00:40.951406Z",
     "shell.execute_reply.started": "2021-03-07T14:00:40.945463Z"
    }
   },
   "outputs": [
    {
     "data": {
      "text/plain": [
       "tensor([0.3048, 0.2540, 0.3556, 0.2540, 0.1524, 0.3556, 0.1524, 0.2032, 0.1524,\n",
       "        0.2032, 0.3556, 0.2032, 0.3556, 0.2032, 0.2540, 0.2540, 0.3556, 0.1524,\n",
       "        0.3556, 0.2540, 0.2540, 0.3556, 0.3048, 0.2032, 0.2540, 0.2032, 0.1524,\n",
       "        0.3556, 0.2032, 0.3048, 0.3556, 0.3556, 0.1524, 0.2540, 0.3048, 0.3556,\n",
       "        0.1524, 0.2540, 0.3556, 0.2540, 0.2032, 0.2540, 0.3556, 0.3048, 0.3556,\n",
       "        0.3556, 0.3556, 0.2032, 0.1524, 0.2032, 0.3556, 0.1524, 0.2540, 0.2032,\n",
       "        0.2032, 0.2540, 0.2032, 0.2032, 0.3048, 0.1524, 0.3556, 0.3048, 0.1524,\n",
       "        0.1524, 0.3048, 0.3556, 0.3556, 0.3048, 0.2032, 0.3048, 0.2032, 0.2540,\n",
       "        0.2540, 0.1524, 0.2032, 0.2032, 0.2032, 0.1524, 0.2540, 0.2032],\n",
       "       dtype=torch.float64)"
      ]
     },
     "execution_count": 57,
     "metadata": {},
     "output_type": "execute_result"
    }
   ],
   "source": [
    "prueba['data'][4997].diameter #Diameters"
   ]
  },
  {
   "cell_type": "code",
   "execution_count": null,
   "id": "pleasant-breakdown",
   "metadata": {},
   "outputs": [],
   "source": [
    "prueba['data'][0].diameter/ UNIT_TO_M #Diameters"
   ]
  },
  {
   "cell_type": "code",
   "execution_count": 26,
   "id": "optional-settle",
   "metadata": {
    "execution": {
     "iopub.execute_input": "2021-02-18T22:14:15.416495Z",
     "iopub.status.busy": "2021-02-18T22:14:15.416495Z",
     "iopub.status.idle": "2021-02-18T22:14:15.420486Z",
     "shell.execute_reply": "2021-02-18T22:14:15.420486Z",
     "shell.execute_reply.started": "2021-02-18T22:14:15.416495Z"
    }
   },
   "outputs": [],
   "source": [
    "# save\n",
    "# try:\n",
    "#     #os.mkdir(dir_path)    \n",
    "#     pickle.dump(dataset,open(f\"{dir_path}/{name_WDS}_dataset2.p\", \"wb\" ))\n",
    "# except OSError:\n",
    "#     print (\"Creation of the directory %s failed\" % dir_path)\n",
    "# else:\n",
    "#     print (\"Successfully created the directory %s \" % dir_path)"
   ]
  },
  {
   "cell_type": "code",
   "execution_count": 27,
   "id": "above-occupation",
   "metadata": {
    "execution": {
     "iopub.execute_input": "2021-02-18T22:14:15.421482Z",
     "iopub.status.busy": "2021-02-18T22:14:15.421482Z",
     "iopub.status.idle": "2021-02-18T22:14:15.426498Z",
     "shell.execute_reply": "2021-02-18T22:14:15.426498Z",
     "shell.execute_reply.started": "2021-02-18T22:14:15.421482Z"
    }
   },
   "outputs": [],
   "source": [
    "#pickle.dump(dataset,open(f\"{dir_path}/{name_WDS}_dataset.p\", \"wb\" ))"
   ]
  },
  {
   "cell_type": "code",
   "execution_count": 28,
   "id": "running-compression",
   "metadata": {
    "execution": {
     "iopub.execute_input": "2021-02-18T22:14:15.427466Z",
     "iopub.status.busy": "2021-02-18T22:14:15.427466Z",
     "iopub.status.idle": "2021-02-18T22:14:15.431456Z",
     "shell.execute_reply": "2021-02-18T22:14:15.431456Z",
     "shell.execute_reply.started": "2021-02-18T22:14:15.427466Z"
    }
   },
   "outputs": [],
   "source": [
    "#prueba = pickle.load(open(r'C:\\Users\\agarzondiaz\\surfdrive\\Year 1\\AnyTown Database\\AnyTown_DB\\BIN_Geom_DB_5000\\BIN_dataset.p', 'rb'))"
   ]
  },
  {
   "cell_type": "code",
   "execution_count": 40,
   "id": "humanitarian-edition",
   "metadata": {
    "execution": {
     "iopub.execute_input": "2021-02-19T13:54:54.983677Z",
     "iopub.status.busy": "2021-02-19T13:54:54.983677Z",
     "iopub.status.idle": "2021-02-19T13:54:57.901107Z",
     "shell.execute_reply": "2021-02-19T13:54:57.901107Z",
     "shell.execute_reply.started": "2021-02-19T13:54:54.983677Z"
    }
   },
   "outputs": [],
   "source": [
    "#prueba = pickle.load(open(r'C:\\Users\\agarzondiaz\\surfdrive\\Year 1\\AnyTown Database\\AnyTown_DB\\MOD_Geom_DB_5000\\MOD_dataset.p', 'rb'))"
   ]
  },
  {
   "cell_type": "code",
   "execution_count": 30,
   "id": "floppy-jackson",
   "metadata": {
    "execution": {
     "iopub.execute_input": "2021-02-19T13:51:09.398250Z",
     "iopub.status.busy": "2021-02-19T13:51:09.398250Z",
     "iopub.status.idle": "2021-02-19T13:51:09.403237Z",
     "shell.execute_reply": "2021-02-19T13:51:09.402240Z",
     "shell.execute_reply.started": "2021-02-19T13:51:09.398250Z"
    }
   },
   "outputs": [],
   "source": [
    "#RI_PP_new = res_index(results_WDS.node['head'], results_WDS.node['pressure'], results_WDS.node['demand'], flowrate, wn_WDS, min_pres, indx = 'PP')\n",
    "#RI_Todini_new = res_index(results_WDS.node['head'], results_WDS.node['pressure'], results_WDS.node['demand'], flowrate, wn_WDS, min_pres, indx = 'Todini')\n",
    "    \n",
    "#RI_PP_old = PP_index(results_WDS.node['head'], results_WDS.node['pressure'], results_WDS.node['demand'], flowrate, wn_WDS, 30)\n",
    "#RI_Todini_old = wntr.metrics.hydraulic.todini_index(results_WDS.node['head'], results_WDS.node['pressure'], results_WDS.node['demand'], flowrate, wn_WDS, 30)"
   ]
  },
  {
   "cell_type": "code",
   "execution_count": 31,
   "id": "increasing-daily",
   "metadata": {
    "execution": {
     "iopub.execute_input": "2021-02-19T13:51:09.404234Z",
     "iopub.status.busy": "2021-02-19T13:51:09.404234Z",
     "iopub.status.idle": "2021-02-19T13:51:09.408223Z",
     "shell.execute_reply": "2021-02-19T13:51:09.408223Z",
     "shell.execute_reply.started": "2021-02-19T13:51:09.404234Z"
    }
   },
   "outputs": [],
   "source": [
    "#RI_Todini_new, RI_PP_old"
   ]
  },
  {
   "cell_type": "code",
   "execution_count": 33,
   "id": "hearing-hanging",
   "metadata": {
    "execution": {
     "iopub.execute_input": "2021-02-19T13:51:22.557049Z",
     "iopub.status.busy": "2021-02-19T13:51:22.556064Z",
     "iopub.status.idle": "2021-02-19T13:51:22.560042Z",
     "shell.execute_reply": "2021-02-19T13:51:22.560042Z",
     "shell.execute_reply.started": "2021-02-19T13:51:22.557049Z"
    }
   },
   "outputs": [],
   "source": [
    "#RI_PP_old"
   ]
  },
  {
   "cell_type": "code",
   "execution_count": 34,
   "id": "political-scheme",
   "metadata": {
    "execution": {
     "iopub.execute_input": "2021-02-19T13:51:22.561039Z",
     "iopub.status.busy": "2021-02-19T13:51:22.561039Z",
     "iopub.status.idle": "2021-02-19T13:51:22.567023Z",
     "shell.execute_reply": "2021-02-19T13:51:22.567023Z",
     "shell.execute_reply.started": "2021-02-19T13:51:22.561039Z"
    }
   },
   "outputs": [],
   "source": [
    "#RI_PP_new"
   ]
  },
  {
   "cell_type": "code",
   "execution_count": 35,
   "id": "internal-tsunami",
   "metadata": {
    "execution": {
     "iopub.execute_input": "2021-02-19T13:51:22.569020Z",
     "iopub.status.busy": "2021-02-19T13:51:22.568021Z",
     "iopub.status.idle": "2021-02-19T13:51:22.574008Z",
     "shell.execute_reply": "2021-02-19T13:51:22.573021Z",
     "shell.execute_reply.started": "2021-02-19T13:51:22.569020Z"
    }
   },
   "outputs": [],
   "source": [
    "#     RI_PP = res_index(results_WDS.node['head'], results_WDS.node['pressure'], results_WDS.node['demand'], flowrate, wn_WDS, min_pres, indx = 'PP')\n",
    "#     RI_Todini = res_index(results_WDS.node['head'], results_WDS.node['pressure'], results_WDS.node['demand'], flowrate, wn_WDS, min_pres, indx = 'Todini')\n",
    "    \n",
    "    #RI_PP = PP_index(results_WDS.node['head'], results_WDS.node['pressure'], results_WDS.node['demand'], flowrate, wn_WDS, PMIN_WDS)\n",
    "    #RI_Todini = wntr.metrics.hydraulic.todini_index(results_WDS.node['head'], results_WDS.node['pressure'], results_WDS.node['demand'], flowrate, wn_WDS, PMIN_WDS)"
   ]
  },
  {
   "cell_type": "code",
   "execution_count": null,
   "id": "about-production",
   "metadata": {},
   "outputs": [],
   "source": []
  },
  {
   "cell_type": "code",
   "execution_count": null,
   "id": "western-onion",
   "metadata": {},
   "outputs": [],
   "source": []
  }
 ],
 "metadata": {
  "kernelspec": {
   "display_name": "Python 3",
   "language": "python",
   "name": "python3"
  },
  "language_info": {
   "codemirror_mode": {
    "name": "ipython",
    "version": 3
   },
   "file_extension": ".py",
   "mimetype": "text/x-python",
   "name": "python",
   "nbconvert_exporter": "python",
   "pygments_lexer": "ipython3",
   "version": "3.8.5"
  },
  "toc-autonumbering": true
 },
 "nbformat": 4,
 "nbformat_minor": 5
}
