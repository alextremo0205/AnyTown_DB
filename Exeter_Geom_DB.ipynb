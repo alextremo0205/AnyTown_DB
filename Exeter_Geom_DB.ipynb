{
 "cells": [
  {
   "cell_type": "markdown",
   "id": "wooden-formation",
   "metadata": {},
   "source": [
    "# Geometric Datasets: Exeter"
   ]
  },
  {
   "cell_type": "markdown",
   "id": "neutral-crazy",
   "metadata": {
    "collapsed": "true"
   },
   "source": [
    "## Description"
   ]
  },
  {
   "cell_type": "markdown",
   "id": "miniature-prompt",
   "metadata": {},
   "source": [
    "Code for creating the geometric datasets for the Two-Objective Design/Resilience networks from [Exeter Benchmarks](https://emps.exeter.ac.uk/engineering/research/cws/resources/benchmarks/design-resiliance-pareto-fronts/) \n",
    "\n",
    "*Small Problems*\n",
    "* Two-Reservoir Network\n",
    "* Two-Loop Network\n",
    "* BakRyan Network\n",
    "\n",
    "*Medium Problems*\n",
    "* New York Tunnel Network\n",
    "* Blacksburg Network\n",
    "* Hanoi Network\n",
    "\n",
    "*Intemediate Problems*\n",
    "* Fossolo Network\n",
    "* Pescara Network\n",
    "\n",
    "*Large Problems*\n",
    "* Modena Network\n",
    "* Balerma Irrigation Network\n",
    "\n",
    "*GoYang Network and Exeter Network were excluded because they had accessories (Pumps and valves) not yet contemplated for the extent of this exercise. \n"
   ]
  },
  {
   "cell_type": "markdown",
   "id": "unlimited-country",
   "metadata": {},
   "source": [
    "## Imports"
   ]
  },
  {
   "cell_type": "markdown",
   "id": "behind-feedback",
   "metadata": {},
   "source": [
    "### Basic"
   ]
  },
  {
   "cell_type": "code",
   "execution_count": 51,
   "id": "sporting-design",
   "metadata": {},
   "outputs": [],
   "source": [
    "import os\n",
    "import wntr\n",
    "import pandas as pd\n",
    "import numpy as np\n",
    "import pickle\n",
    "import networkx as nx\n",
    "\n",
    "#Custom .py file\n",
    "from PrasadParkIndex import *\n",
    "from res_index import *"
   ]
  },
  {
   "cell_type": "markdown",
   "id": "selected-custom",
   "metadata": {
    "collapsed": "true"
   },
   "source": [
    "### PyTorch and PyG"
   ]
  },
  {
   "cell_type": "code",
   "execution_count": 7,
   "id": "third-southwest",
   "metadata": {},
   "outputs": [
    {
     "name": "stderr",
     "output_type": "stream",
     "text": [
      "C:\\Programs\\Anaconda3\\envs\\PyTorch_Env\\lib\\site-packages\\torch\\cuda\\__init__.py:52: UserWarning: CUDA initialization: Found no NVIDIA driver on your system. Please check that you have an NVIDIA GPU and installed a driver from http://www.nvidia.com/Download/index.aspx (Triggered internally at  ..\\c10\\cuda\\CUDAFunctions.cpp:100.)\n",
      "  return torch._C._cuda_getDeviceCount() > 0\n"
     ]
    }
   ],
   "source": [
    "import torch\n",
    "from torch_geometric.data import Data\n",
    "\n",
    "#from torch_geometric.datasets import TUDataset"
   ]
  },
  {
   "cell_type": "markdown",
   "id": "restricted-louisiana",
   "metadata": {
    "collapsed": "true"
   },
   "source": [
    "### DeepSNAP"
   ]
  },
  {
   "cell_type": "code",
   "execution_count": 8,
   "id": "disturbed-jesus",
   "metadata": {},
   "outputs": [],
   "source": [
    "# from deepsnap.graph import Graph as dSNAP_Graph\n",
    "# from deepsnap.dataset import GraphDataset as dSNAP_GraphDS"
   ]
  },
  {
   "cell_type": "markdown",
   "id": "peripheral-lloyd",
   "metadata": {},
   "source": [
    "## Loading inp file"
   ]
  },
  {
   "cell_type": "code",
   "execution_count": 9,
   "id": "foreign-copying",
   "metadata": {},
   "outputs": [],
   "source": [
    "# Create a water network model\n",
    "def load_inp(inp_file_path):\n",
    "    wn_WDS = wntr.network.WaterNetworkModel(inp_file_path)\n",
    "\n",
    "    # Plot the network\n",
    "    wntr.graphics.plot_network(wn_WDS, title=wn_WDS.name)\n",
    "\n",
    "    # Simulate hydraulics\n",
    "    sim_WDS = wntr.sim.EpanetSimulator(wn_WDS)\n",
    "    results_WDS = sim_WDS.run_sim()\n",
    "    \n",
    "    return(wn_WDS, sim_WDS, results_WDS)"
   ]
  },
  {
   "cell_type": "markdown",
   "id": "latin-receiver",
   "metadata": {},
   "source": [
    "### Name of the Network "
   ]
  },
  {
   "cell_type": "markdown",
   "id": "signal-tracker",
   "metadata": {},
   "source": [
    "Choices:\n",
    "\\['BAK', 'BIN', 'BLA', 'FOS', 'HAN', 'MOD', 'NYT', 'PES', 'TLN', 'TRN']"
   ]
  },
  {
   "cell_type": "code",
   "execution_count": 10,
   "id": "military-sapphire",
   "metadata": {},
   "outputs": [],
   "source": [
    "name_WDS = 'BLA'"
   ]
  },
  {
   "cell_type": "code",
   "execution_count": 11,
   "id": "greek-azerbaijan",
   "metadata": {},
   "outputs": [],
   "source": [
    "#Read the Network info\n",
    "WDS_info = pd.read_csv('./networks/Exeter/'+name_WDS+'_info.csv', dtype = {'NodeID': str} )"
   ]
  },
  {
   "cell_type": "code",
   "execution_count": 12,
   "id": "adopted-gazette",
   "metadata": {
    "scrolled": true
   },
   "outputs": [
    {
     "data": {
      "text/html": [
       "<div>\n",
       "<style scoped>\n",
       "    .dataframe tbody tr th:only-of-type {\n",
       "        vertical-align: middle;\n",
       "    }\n",
       "\n",
       "    .dataframe tbody tr th {\n",
       "        vertical-align: top;\n",
       "    }\n",
       "\n",
       "    .dataframe thead th {\n",
       "        text-align: right;\n",
       "    }\n",
       "</style>\n",
       "<table border=\"1\" class=\"dataframe\">\n",
       "  <thead>\n",
       "    <tr style=\"text-align: right;\">\n",
       "      <th></th>\n",
       "      <th>D</th>\n",
       "      <th>Cost</th>\n",
       "      <th>NodeID</th>\n",
       "      <th>MinPressure_m</th>\n",
       "      <th>UNITS_TO_M</th>\n",
       "    </tr>\n",
       "  </thead>\n",
       "  <tbody>\n",
       "    <tr>\n",
       "      <th>0</th>\n",
       "      <td>25.4</td>\n",
       "      <td>0.52</td>\n",
       "      <td>1</td>\n",
       "      <td>30</td>\n",
       "      <td>0.001</td>\n",
       "    </tr>\n",
       "    <tr>\n",
       "      <th>1</th>\n",
       "      <td>50.8</td>\n",
       "      <td>2.10</td>\n",
       "      <td>2</td>\n",
       "      <td>30</td>\n",
       "      <td>NaN</td>\n",
       "    </tr>\n",
       "    <tr>\n",
       "      <th>2</th>\n",
       "      <td>76.2</td>\n",
       "      <td>4.72</td>\n",
       "      <td>3</td>\n",
       "      <td>30</td>\n",
       "      <td>NaN</td>\n",
       "    </tr>\n",
       "    <tr>\n",
       "      <th>3</th>\n",
       "      <td>101.6</td>\n",
       "      <td>8.40</td>\n",
       "      <td>4</td>\n",
       "      <td>30</td>\n",
       "      <td>NaN</td>\n",
       "    </tr>\n",
       "    <tr>\n",
       "      <th>4</th>\n",
       "      <td>152.4</td>\n",
       "      <td>18.90</td>\n",
       "      <td>5</td>\n",
       "      <td>30</td>\n",
       "      <td>NaN</td>\n",
       "    </tr>\n",
       "  </tbody>\n",
       "</table>\n",
       "</div>"
      ],
      "text/plain": [
       "       D   Cost NodeID  MinPressure_m  UNITS_TO_M\n",
       "0   25.4   0.52      1             30       0.001\n",
       "1   50.8   2.10      2             30         NaN\n",
       "2   76.2   4.72      3             30         NaN\n",
       "3  101.6   8.40      4             30         NaN\n",
       "4  152.4  18.90      5             30         NaN"
      ]
     },
     "execution_count": 12,
     "metadata": {},
     "output_type": "execute_result"
    }
   ],
   "source": [
    "WDS_info.head()"
   ]
  },
  {
   "cell_type": "code",
   "execution_count": 13,
   "id": "similar-volume",
   "metadata": {},
   "outputs": [],
   "source": [
    "#Transform the min. pressure of the nodes into a pandas dataframe\n",
    "min_pres = WDS_info[['NodeID', 'MinPressure_m']].dropna()\n",
    "min_pres = min_pres.set_index('NodeID')\n",
    "\n",
    "#Obtain the conversion factor for the diameters (Some are given in inches, meters, or mm)\n",
    "UNIT_TO_M = WDS_info['UNITS_TO_M'].dropna().item()"
   ]
  },
  {
   "cell_type": "markdown",
   "id": "continued-ability",
   "metadata": {},
   "source": [
    "### Load the inp file"
   ]
  },
  {
   "cell_type": "code",
   "execution_count": 14,
   "id": "irish-conflict",
   "metadata": {},
   "outputs": [
    {
     "data": {
      "image/png": "[encoded data removed]",
      "text/plain": [
       "<Figure size 432x288 with 1 Axes>"
      ]
     },
     "metadata": {},
     "output_type": "display_data"
    }
   ],
   "source": [
    "path= 'networks/Exeter/'+name_WDS+'.inp'\n",
    "wn_WDS, _, _ = load_inp(path)\n",
    "#wn_WDS = wntr.network.WaterNetworkModel(path)"
   ]
  },
  {
   "cell_type": "code",
   "execution_count": 15,
   "id": "solid-father",
   "metadata": {},
   "outputs": [],
   "source": [
    "# a = pd.DataFrame(wn_WDS.node_name_list)\n",
    "# a.to_clipboard()"
   ]
  },
  {
   "cell_type": "code",
   "execution_count": 16,
   "id": "tutorial-intersection",
   "metadata": {},
   "outputs": [],
   "source": [
    "names = ['BAK', 'BIN', 'BLA', 'FOS', 'HAN', 'MOD', 'NYT', 'PES', 'TLN', 'TRN']\n",
    "seeds = [132, 65464, 8754, 465542, 13211, 9874545, 12, 9872, 6781, 978888]\n",
    "dict_seeds =dict(zip(names, seeds))\n"
   ]
  },
  {
   "cell_type": "code",
   "execution_count": 17,
   "id": "killing-kidney",
   "metadata": {},
   "outputs": [],
   "source": [
    "num_pipes = wn_WDS.num_pipes\n",
    "\n",
    "avail_diams = list(WDS_info.D.dropna()) #[6, 8, 10, 12, 14] #inches\n",
    "pipe_names = wn_WDS.link_name_list\n",
    "\n",
    "seed = dict_seeds[name_WDS] #Trial seed: 4345\n",
    "np.random.seed(seed)\n",
    "\n",
    "N_iter = 5000"
   ]
  },
  {
   "cell_type": "code",
   "execution_count": 18,
   "id": "treated-silver",
   "metadata": {},
   "outputs": [
    {
     "data": {
      "text/plain": [
       "[25.4,\n",
       " 50.8,\n",
       " 76.2,\n",
       " 101.6,\n",
       " 152.4,\n",
       " 203.2,\n",
       " 254.0,\n",
       " 304.8,\n",
       " 355.6,\n",
       " 406.4,\n",
       " 457.2,\n",
       " 508.0,\n",
       " 558.8,\n",
       " 609.6]"
      ]
     },
     "execution_count": 18,
     "metadata": {},
     "output_type": "execute_result"
    }
   ],
   "source": [
    "avail_diams"
   ]
  },
  {
   "cell_type": "markdown",
   "id": "proprietary-airline",
   "metadata": {},
   "source": [
    "## Dataset Creation"
   ]
  },
  {
   "cell_type": "code",
   "execution_count": 19,
   "id": "portuguese-jefferson",
   "metadata": {},
   "outputs": [],
   "source": [
    "node_attributes = ['node_id','node_type','base_demand','elevation','base_head','coords']\n",
    "edge_attributes = ['link_id','length','diameter','roughness']"
   ]
  },
  {
   "cell_type": "code",
   "execution_count": 20,
   "id": "civil-better",
   "metadata": {},
   "outputs": [],
   "source": [
    "def from_wntr_to_pandas(wn):\n",
    "  # node features and coordinates\n",
    "  df_nodes = pd.DataFrame(columns=node_attributes)\n",
    "  for i, node_id in enumerate(wn.nodes):    \n",
    "    this_node = wn.get_node(node_id)\n",
    "    if this_node.node_type == 'Junction':\n",
    "      df_nodes.loc[i,:] = (node_id, 0, this_node.base_demand, this_node.elevation, 0, this_node.coordinates)      \n",
    "    elif this_node.node_type == 'Reservoir':\n",
    "      df_nodes.loc[i,:] = (node_id, 1, 0, 0, this_node.base_head, this_node.coordinates)      \n",
    "    else:\n",
    "      print('Only Junctions and Reservoirs so far')      \n",
    "      break\n",
    "      \n",
    "  # link features\n",
    "  df_links = pd.DataFrame(columns=edge_attributes)\n",
    "  for i, link_id in enumerate(wn.links):    \n",
    "    this_link = wn.get_link(link_id)\n",
    "    if this_link.link_type == 'Pipe':\n",
    "      df_links.loc[i,:] = (link_id, this_link.length, this_link.diameter, this_link.roughness)      \n",
    "    else:\n",
    "      print('Only Pipes so far')      \n",
    "      break\n",
    "\n",
    "  # edge indexes\n",
    "  G = wn.get_graph()\n",
    "  #COO_edges =0  \n",
    "  COO_edges = np.array(nx.to_scipy_sparse_matrix(G,format='coo').nonzero())\n",
    "\n",
    "  return df_nodes, df_links, COO_edges\n",
    "\n"
   ]
  },
  {
   "cell_type": "code",
   "execution_count": 21,
   "id": "prompt-course",
   "metadata": {},
   "outputs": [],
   "source": [
    "def from_wntr_to_geometric(wn):      \n",
    "  df_nodes, df_links, COO_edges = from_wntr_to_pandas(wn)   # get pandas dataframes\n",
    "  \n",
    "  # create torch data \n",
    "  x = torch.tensor(df_nodes[['node_type','base_demand','elevation','base_head']].astype(float).values, dtype=torch.float)\n",
    "  pos = torch.tensor(df_nodes['coords'], dtype=torch.float)\n",
    "  edge_index = torch.tensor(COO_edges, dtype=torch.long)\n",
    "  edge_attr = torch.tensor(df_links[['length','diameter','roughness']].astype(float).values, dtype=torch.float)\n",
    "  data = Data(x=x, pos=pos, edge_index=edge_index, edge_attr=edge_attr)\n",
    "\n",
    "  return data, df_nodes, df_links"
   ]
  },
  {
   "cell_type": "code",
   "execution_count": 22,
   "id": "minor-offense",
   "metadata": {},
   "outputs": [],
   "source": [
    "#data, df_nodes, df_links = from_wntr_to_geometric(wn_WDS)"
   ]
  },
  {
   "cell_type": "code",
   "execution_count": 23,
   "id": "employed-script",
   "metadata": {},
   "outputs": [],
   "source": [
    "#results_WDS.node['pressure']"
   ]
  },
  {
   "cell_type": "code",
   "execution_count": 24,
   "id": "included-economy",
   "metadata": {},
   "outputs": [],
   "source": [
    "# print(res_index(results_WDS.node['head'], results_WDS.node['pressure'], results_WDS.node['demand'], flowrate, wn_WDS, min_pres, indx = 'Todini'))"
   ]
  },
  {
   "cell_type": "code",
   "execution_count": 25,
   "id": "mental-orbit",
   "metadata": {
    "scrolled": true
   },
   "outputs": [
    {
     "name": "stdout",
     "output_type": "stream",
     "text": [
      "iter: 0\n"
     ]
    },
    {
     "name": "stderr",
     "output_type": "stream",
     "text": [
      "C:\\Programs\\Anaconda3\\envs\\PyTorch_Env\\lib\\site-packages\\pandas\\core\\internals\\blocks.py:983: VisibleDeprecationWarning: Creating an ndarray from ragged nested sequences (which is a list-or-tuple of lists-or-tuples-or ndarrays with different lengths or shapes) is deprecated. If you meant to do this, you must specify 'dtype=object' when creating the ndarray\n",
      "  arr_value = np.array(value)\n"
     ]
    },
    {
     "name": "stdout",
     "output_type": "stream",
     "text": [
      "iter: 50\n",
      "iter: 100\n",
      "iter: 150\n",
      "iter: 200\n",
      "iter: 250\n",
      "iter: 300\n",
      "iter: 350\n",
      "iter: 400\n",
      "iter: 450\n",
      "iter: 500\n",
      "iter: 550\n",
      "iter: 600\n",
      "iter: 650\n",
      "iter: 700\n",
      "iter: 750\n",
      "iter: 800\n",
      "iter: 850\n",
      "iter: 900\n",
      "iter: 950\n",
      "iter: 1000\n",
      "iter: 1050\n",
      "iter: 1100\n",
      "iter: 1150\n",
      "iter: 1200\n",
      "iter: 1250\n",
      "iter: 1300\n",
      "iter: 1350\n",
      "iter: 1400\n",
      "iter: 1450\n",
      "iter: 1500\n",
      "iter: 1550\n",
      "iter: 1600\n",
      "iter: 1650\n",
      "iter: 1700\n",
      "iter: 1750\n",
      "iter: 1800\n",
      "iter: 1850\n",
      "iter: 1900\n",
      "iter: 1950\n",
      "iter: 2000\n",
      "iter: 2050\n",
      "iter: 2100\n",
      "iter: 2150\n",
      "iter: 2200\n",
      "iter: 2250\n",
      "iter: 2300\n",
      "iter: 2350\n",
      "iter: 2400\n",
      "iter: 2450\n",
      "iter: 2500\n",
      "iter: 2550\n",
      "iter: 2600\n",
      "iter: 2650\n",
      "iter: 2700\n",
      "iter: 2750\n",
      "iter: 2800\n",
      "iter: 2850\n",
      "iter: 2900\n",
      "iter: 2950\n",
      "iter: 3000\n",
      "iter: 3050\n",
      "iter: 3100\n",
      "iter: 3150\n",
      "iter: 3200\n",
      "iter: 3250\n",
      "iter: 3300\n",
      "iter: 3350\n",
      "iter: 3400\n",
      "iter: 3450\n",
      "iter: 3500\n",
      "iter: 3550\n",
      "iter: 3600\n",
      "iter: 3650\n",
      "iter: 3700\n",
      "iter: 3750\n",
      "iter: 3800\n",
      "iter: 3850\n",
      "iter: 3900\n",
      "iter: 3950\n",
      "iter: 4000\n",
      "iter: 4050\n",
      "iter: 4100\n",
      "iter: 4150\n",
      "iter: 4200\n",
      "iter: 4250\n",
      "iter: 4300\n",
      "iter: 4350\n",
      "iter: 4400\n",
      "iter: 4450\n",
      "iter: 4500\n",
      "iter: 4550\n",
      "iter: 4600\n",
      "iter: 4650\n",
      "iter: 4700\n",
      "iter: 4750\n",
      "iter: 4800\n",
      "iter: 4850\n",
      "iter: 4900\n",
      "iter: 4950\n",
      "iter: 4999\n"
     ]
    }
   ],
   "source": [
    "first_DB = []\n",
    "fail_DB = []\n",
    "\n",
    "all_geom_data = [] # geometric data\n",
    "\n",
    "for sim in range(N_iter):\n",
    "  DB_row = []  # y data\n",
    "  # echo on screen\n",
    "  if sim % 50 == 0 or sim == N_iter-1:\n",
    "    print(f'iter: {sim}')\n",
    "    #print(flowrate)\n",
    "  \n",
    "  # assign diameters    \n",
    "  new_diams = np.random.choice(avail_diams, num_pipes)\n",
    "  new_diams = new_diams * UNIT_TO_M\n",
    "  for i in range(num_pipes):\n",
    "      c_pipe = wn_WDS.get_link(pipe_names[i])\n",
    "      c_pipe.diameter = new_diams[i]\n",
    "  \n",
    "  # run the simulation\n",
    "  try:\n",
    "    # Simulate hydraulics\n",
    "    sim_WDS = wntr.sim.EpanetSimulator(wn_WDS)\n",
    "    results_WDS = sim_WDS.run_sim()\n",
    "    \n",
    "    try:\n",
    "      flowrate = pd.DataFrame(results_AnyT.link['flowrate']['82']) #FLowrate at the link with the pump\n",
    "    except Exception as e1:\n",
    "      flowrate = 0\n",
    "    \n",
    "    # get resilience indexes  \n",
    "    RI_PP = res_index(results_WDS.node['head'], results_WDS.node['pressure'], results_WDS.node['demand'], flowrate, wn_WDS, min_pres, indx = 'PP')\n",
    "    RI_Todini = res_index(results_WDS.node['head'], results_WDS.node['pressure'], results_WDS.node['demand'], flowrate, wn_WDS, min_pres, indx = 'Todini')\n",
    "    \n",
    "    #RI_PP = PP_index(results_WDS.node['head'], results_WDS.node['pressure'], results_WDS.node['demand'], flowrate, wn_WDS, PMIN_WDS)\n",
    "    #RI_Todini = wntr.metrics.hydraulic.todini_index(results_WDS.node['head'], results_WDS.node['pressure'], results_WDS.node['demand'], flowrate, wn_WDS, PMIN_WDS)\n",
    "    \n",
    "    DB_row.append(RI_PP)\n",
    "    DB_row.append(RI_Todini)\n",
    "    \n",
    "    first_DB.append(DB_row)\n",
    "    \n",
    "    # create Geometric Data \n",
    "    data, _, _ = from_wntr_to_geometric(wn_WDS)\n",
    "    data.res_Todini = torch.tensor(RI_Todini)\n",
    "    data.res_PP = torch.tensor(RI_PP)\n",
    "    all_geom_data.append(data)\n",
    "      \n",
    "  except Exception as e:\n",
    "    fail_row = [sim]\n",
    "    fail_row.append(np.round(new_diams/UNIT_TO_M, 0))\n",
    "    fail_row.append(wn_WDS)\n",
    "    fail_row.append(e)\n",
    "    print(e)\n",
    "    fail_DB.append(fail_row)\n",
    "    #wn_WDS.write_inpfile('Failed files/' + 'fail_' + heading+'_'+str(sim)+ '.inp', version=2.2)"
   ]
  },
  {
   "cell_type": "code",
   "execution_count": 59,
   "id": "faced-virgin",
   "metadata": {},
   "outputs": [
    {
     "data": {
      "text/plain": [
       "[0    0.052351\n",
       " dtype: float64,\n",
       " 0    0.568696\n",
       " dtype: float64]"
      ]
     },
     "execution_count": 59,
     "metadata": {},
     "output_type": "execute_result"
    }
   ],
   "source": [
    "DB_row"
   ]
  },
  {
   "cell_type": "code",
   "execution_count": 60,
   "id": "black-enforcement",
   "metadata": {},
   "outputs": [
    {
     "data": {
      "text/plain": [
       "tensor([0.5687], dtype=torch.float64)"
      ]
     },
     "execution_count": 60,
     "metadata": {},
     "output_type": "execute_result"
    }
   ],
   "source": [
    "torch.tensor(RI_Todini)"
   ]
  },
  {
   "cell_type": "code",
   "execution_count": 26,
   "id": "accomplished-emerald",
   "metadata": {},
   "outputs": [
    {
     "name": "stdout",
     "output_type": "stream",
     "text": [
      "5000 0\n"
     ]
    }
   ],
   "source": [
    "print(len(all_geom_data), len(fail_DB))"
   ]
  },
  {
   "cell_type": "code",
   "execution_count": 27,
   "id": "southwest-indonesia",
   "metadata": {},
   "outputs": [
    {
     "data": {
      "text/plain": [
       "tensor([[0.0000e+00, 3.2900e-03, 6.5258e+02, 0.0000e+00],\n",
       "        [0.0000e+00, 3.1900e-03, 6.4984e+02, 0.0000e+00],\n",
       "        [0.0000e+00, 1.6300e-03, 6.4648e+02, 0.0000e+00],\n",
       "        [0.0000e+00, 8.7000e-04, 6.5639e+02, 0.0000e+00],\n",
       "        [0.0000e+00, 3.3800e-03, 6.5273e+02, 0.0000e+00]])"
      ]
     },
     "execution_count": 27,
     "metadata": {},
     "output_type": "execute_result"
    }
   ],
   "source": [
    "all_geom_data[0].x[0:5]"
   ]
  },
  {
   "cell_type": "code",
   "execution_count": 23,
   "id": "impaired-aluminum",
   "metadata": {},
   "outputs": [
    {
     "data": {
      "text/plain": [
       "tensor([[6.5000e+01, 1.4460e-01, 2.5000e-03],\n",
       "        [2.6000e+02, 1.4460e-01, 2.5000e-03],\n",
       "        [1.6400e+02, 5.8180e-01, 2.5000e-03],\n",
       "        [2.5000e+02, 4.5220e-01, 2.5000e-03],\n",
       "        [1.0000e+02, 4.5220e-01, 2.5000e-03]])"
      ]
     },
     "execution_count": 23,
     "metadata": {},
     "output_type": "execute_result"
    }
   ],
   "source": [
    "all_geom_data[0].edge_attr[0:5]"
   ]
  },
  {
   "cell_type": "code",
   "execution_count": 28,
   "id": "sealed-allowance",
   "metadata": {},
   "outputs": [
    {
     "name": "stdout",
     "output_type": "stream",
     "text": [
      "C:\\Users\\agarzondiaz\\surfdrive\\Year 1\\AnyTown Database\\AnyTown_DB\\BLA_Geom_DB_5000\n"
     ]
    }
   ],
   "source": [
    "# folder\n",
    "dir_path = os.getcwd()+'\\{name}_Geom_DB_{num_iter}'.format(name = name_WDS, num_iter = N_iter)\n",
    "print(dir_path)"
   ]
  },
  {
   "cell_type": "code",
   "execution_count": 29,
   "id": "elementary-internet",
   "metadata": {},
   "outputs": [],
   "source": [
    "dataset = {}\n",
    "dataset['info'] = 'Dataset for graph regression to compute '+name_WDS+' resilience index. Edge_attr = [Length, diameter, roughness] of every pipe, x =[Node type(junction 0, reservoir 1), Base demand (0 for reservoirs), elevation, base head(0 for junctions)]'\n",
    "dataset['ngraphs'] = len(all_geom_data)\n",
    "dataset['data'] = all_geom_data"
   ]
  },
  {
   "cell_type": "code",
   "execution_count": 30,
   "id": "tribal-escape",
   "metadata": {},
   "outputs": [
    {
     "name": "stdout",
     "output_type": "stream",
     "text": [
      "Successfully created the directory C:\\Users\\agarzondiaz\\surfdrive\\Year 1\\AnyTown Database\\AnyTown_DB\\BLA_Geom_DB_5000 \n"
     ]
    }
   ],
   "source": [
    "# save\n",
    "try:\n",
    "    os.mkdir(dir_path)    \n",
    "    pickle.dump(dataset,open(f\"{dir_path}/{name_WDS}_dataset.p\", \"wb\" ))\n",
    "except OSError:\n",
    "    print (\"Creation of the directory %s failed\" % dir_path)\n",
    "else:\n",
    "    print (\"Successfully created the directory %s \" % dir_path)"
   ]
  },
  {
   "cell_type": "code",
   "execution_count": 41,
   "id": "environmental-glory",
   "metadata": {},
   "outputs": [],
   "source": [
    "pickle.dump(dataset,open(f\"{dir_path}/{name_WDS}_dataset.p\", \"wb\" ))"
   ]
  },
  {
   "cell_type": "code",
   "execution_count": 31,
   "id": "agricultural-marking",
   "metadata": {},
   "outputs": [],
   "source": [
    "prueba = pickle.load(open(r'C:\\Users\\agarzondiaz\\surfdrive\\Year 1\\AnyTown Database\\AnyTown_DB\\BIN_Geom_DB_5000\\BIN_dataset.p', 'rb'))"
   ]
  },
  {
   "cell_type": "code",
   "execution_count": null,
   "id": "bored-devon",
   "metadata": {},
   "outputs": [],
   "source": [
    "prueba = pickle.load(open(f'{dir_path}/{name_WDS}_dataset.p', 'rb'))"
   ]
  },
  {
   "cell_type": "code",
   "execution_count": 36,
   "id": "normal-infrastructure",
   "metadata": {},
   "outputs": [
    {
     "data": {
      "text/plain": [
       "4998"
      ]
     },
     "execution_count": 36,
     "metadata": {},
     "output_type": "execute_result"
    }
   ],
   "source": [
    "len(prueba['data'])"
   ]
  },
  {
   "cell_type": "code",
   "execution_count": 47,
   "id": "yellow-pressure",
   "metadata": {
    "scrolled": true
   },
   "outputs": [],
   "source": [
    "res = []\n",
    "for i in range(len(prueba['data'])):\n",
    "    res.append(prueba['data'][i].res_Todini)"
   ]
  },
  {
   "cell_type": "code",
   "execution_count": 52,
   "id": "acquired-civilization",
   "metadata": {},
   "outputs": [],
   "source": [
    "RI_PP_new = res_index(results_WDS.node['head'], results_WDS.node['pressure'], results_WDS.node['demand'], flowrate, wn_WDS, min_pres, indx = 'PP')\n",
    "RI_Todini_new = res_index(results_WDS.node['head'], results_WDS.node['pressure'], results_WDS.node['demand'], flowrate, wn_WDS, min_pres, indx = 'Todini')\n",
    "    \n",
    "RI_PP_old = PP_index(results_WDS.node['head'], results_WDS.node['pressure'], results_WDS.node['demand'], flowrate, wn_WDS, 30)\n",
    "RI_Todini_old = wntr.metrics.hydraulic.todini_index(results_WDS.node['head'], results_WDS.node['pressure'], results_WDS.node['demand'], flowrate, wn_WDS, 30)"
   ]
  },
  {
   "cell_type": "code",
   "execution_count": 55,
   "id": "another-aruba",
   "metadata": {},
   "outputs": [
    {
     "data": {
      "text/plain": [
       "(0    0.568696\n",
       " dtype: float64,\n",
       " 0    0.052351\n",
       " dtype: float64)"
      ]
     },
     "execution_count": 55,
     "metadata": {},
     "output_type": "execute_result"
    }
   ],
   "source": [
    "RI_Todini_new, RI_PP_old"
   ]
  },
  {
   "cell_type": "code",
   "execution_count": 58,
   "id": "analyzed-timer",
   "metadata": {},
   "outputs": [
    {
     "data": {
      "text/plain": [
       "-0.6706771259737744"
      ]
     },
     "execution_count": 58,
     "metadata": {},
     "output_type": "execute_result"
    }
   ],
   "source": [
    "np.array(res).max()"
   ]
  },
  {
   "cell_type": "code",
   "execution_count": 54,
   "id": "scientific-accreditation",
   "metadata": {},
   "outputs": [
    {
     "data": {
      "text/plain": [
       "0    0.052351\n",
       "dtype: float64"
      ]
     },
     "execution_count": 54,
     "metadata": {},
     "output_type": "execute_result"
    }
   ],
   "source": [
    "RI_PP_old"
   ]
  },
  {
   "cell_type": "code",
   "execution_count": 53,
   "id": "innocent-bulletin",
   "metadata": {},
   "outputs": [
    {
     "data": {
      "text/plain": [
       "0    0.052351\n",
       "dtype: float64"
      ]
     },
     "execution_count": 53,
     "metadata": {},
     "output_type": "execute_result"
    }
   ],
   "source": [
    "RI_PP_new"
   ]
  },
  {
   "cell_type": "code",
   "execution_count": null,
   "id": "usual-studio",
   "metadata": {},
   "outputs": [],
   "source": [
    "    RI_PP = res_index(results_WDS.node['head'], results_WDS.node['pressure'], results_WDS.node['demand'], flowrate, wn_WDS, min_pres, indx = 'PP')\n",
    "    RI_Todini = res_index(results_WDS.node['head'], results_WDS.node['pressure'], results_WDS.node['demand'], flowrate, wn_WDS, min_pres, indx = 'Todini')\n",
    "    \n",
    "    #RI_PP = PP_index(results_WDS.node['head'], results_WDS.node['pressure'], results_WDS.node['demand'], flowrate, wn_WDS, PMIN_WDS)\n",
    "    #RI_Todini = wntr.metrics.hydraulic.todini_index(results_WDS.node['head'], results_WDS.node['pressure'], results_WDS.node['demand'], flowrate, wn_WDS, PMIN_WDS)"
   ]
  },
  {
   "cell_type": "code",
   "execution_count": 48,
   "id": "imported-institution",
   "metadata": {},
   "outputs": [
    {
     "data": {
      "text/plain": [
       "[tensor([-3.4319], dtype=torch.float64),\n",
       " tensor([-25.8657], dtype=torch.float64),\n",
       " tensor([-10.3895], dtype=torch.float64),\n",
       " tensor([-17.6857], dtype=torch.float64),\n",
       " tensor([-11.7860], dtype=torch.float64),\n",
       " tensor([-27.7821], dtype=torch.float64),\n",
       " tensor([-19.3101], dtype=torch.float64),\n",
       " tensor([-16.8624], dtype=torch.float64),\n",
       " tensor([-4.9324], dtype=torch.float64),\n",
       " tensor([-3.0717], dtype=torch.float64),\n",
       " tensor([-9.5332], dtype=torch.float64),\n",
       " tensor([-6.3338], dtype=torch.float64),\n",
       " tensor([-9.9293], dtype=torch.float64),\n",
       " tensor([-4.2703], dtype=torch.float64),\n",
       " tensor([-4.1880], dtype=torch.float64),\n",
       " tensor([-21.0340], dtype=torch.float64),\n",
       " tensor([-23.3149], dtype=torch.float64),\n",
       " tensor([-3.6466], dtype=torch.float64),\n",
       " tensor([-8.1259], dtype=torch.float64),\n",
       " tensor([-14.6266], dtype=torch.float64),\n",
       " tensor([-17.6442], dtype=torch.float64),\n",
       " tensor([-5.8021], dtype=torch.float64),\n",
       " tensor([-8.9788], dtype=torch.float64),\n",
       " tensor([-11.9491], dtype=torch.float64),\n",
       " tensor([-6.3668], dtype=torch.float64),\n",
       " tensor([-10.2159], dtype=torch.float64),\n",
       " tensor([-4.8213], dtype=torch.float64),\n",
       " tensor([-17.7635], dtype=torch.float64),\n",
       " tensor([-17.4166], dtype=torch.float64),\n",
       " tensor([-11.3521], dtype=torch.float64),\n",
       " tensor([-17.9185], dtype=torch.float64),\n",
       " tensor([-8.4325], dtype=torch.float64),\n",
       " tensor([-14.7474], dtype=torch.float64),\n",
       " tensor([-11.1557], dtype=torch.float64),\n",
       " tensor([-15.3258], dtype=torch.float64),\n",
       " tensor([-6.3275], dtype=torch.float64),\n",
       " tensor([-11.7462], dtype=torch.float64),\n",
       " tensor([-24.6047], dtype=torch.float64),\n",
       " tensor([-14.6881], dtype=torch.float64),\n",
       " tensor([-7.2323], dtype=torch.float64),\n",
       " tensor([-10.1155], dtype=torch.float64),\n",
       " tensor([-16.9642], dtype=torch.float64),\n",
       " tensor([-10.7913], dtype=torch.float64),\n",
       " tensor([-2.9246], dtype=torch.float64),\n",
       " tensor([-20.5652], dtype=torch.float64),\n",
       " tensor([-8.4898], dtype=torch.float64),\n",
       " tensor([-10.2384], dtype=torch.float64),\n",
       " tensor([-11.0191], dtype=torch.float64),\n",
       " tensor([-6.0624], dtype=torch.float64),\n",
       " tensor([-8.3386], dtype=torch.float64),\n",
       " tensor([-4.4216], dtype=torch.float64),\n",
       " tensor([-22.7288], dtype=torch.float64),\n",
       " tensor([-13.1443], dtype=torch.float64),\n",
       " tensor([-6.1522], dtype=torch.float64),\n",
       " tensor([-5.4929], dtype=torch.float64),\n",
       " tensor([-12.7537], dtype=torch.float64),\n",
       " tensor([-7.6779], dtype=torch.float64),\n",
       " tensor([-15.3127], dtype=torch.float64),\n",
       " tensor([-8.7907], dtype=torch.float64),\n",
       " tensor([-18.4166], dtype=torch.float64),\n",
       " tensor([-4.0069], dtype=torch.float64),\n",
       " tensor([-7.7560], dtype=torch.float64),\n",
       " tensor([-17.7352], dtype=torch.float64),\n",
       " tensor([-17.4826], dtype=torch.float64),\n",
       " tensor([-16.9093], dtype=torch.float64),\n",
       " tensor([-8.7759], dtype=torch.float64),\n",
       " tensor([-15.8408], dtype=torch.float64),\n",
       " tensor([-15.2538], dtype=torch.float64),\n",
       " tensor([-12.5646], dtype=torch.float64),\n",
       " tensor([-16.3637], dtype=torch.float64),\n",
       " tensor([-16.8447], dtype=torch.float64),\n",
       " tensor([-14.4722], dtype=torch.float64),\n",
       " tensor([-5.9018], dtype=torch.float64),\n",
       " tensor([-13.9536], dtype=torch.float64),\n",
       " tensor([-7.5060], dtype=torch.float64),\n",
       " tensor([-8.0088], dtype=torch.float64),\n",
       " tensor([-3.6807], dtype=torch.float64),\n",
       " tensor([-19.5156], dtype=torch.float64),\n",
       " tensor([-15.5599], dtype=torch.float64),\n",
       " tensor([-9.6615], dtype=torch.float64),\n",
       " tensor([-8.3827], dtype=torch.float64),\n",
       " tensor([-17.5153], dtype=torch.float64),\n",
       " tensor([-20.7069], dtype=torch.float64),\n",
       " tensor([-30.6140], dtype=torch.float64),\n",
       " tensor([-22.8942], dtype=torch.float64),\n",
       " tensor([-14.6419], dtype=torch.float64),\n",
       " tensor([-11.4630], dtype=torch.float64),\n",
       " tensor([-9.1544], dtype=torch.float64),\n",
       " tensor([-9.6447], dtype=torch.float64),\n",
       " tensor([-16.3268], dtype=torch.float64),\n",
       " tensor([-28.7715], dtype=torch.float64),\n",
       " tensor([-8.1578], dtype=torch.float64),\n",
       " tensor([-10.5525], dtype=torch.float64),\n",
       " tensor([-18.4499], dtype=torch.float64),\n",
       " tensor([-11.6602], dtype=torch.float64),\n",
       " tensor([-8.1344], dtype=torch.float64),\n",
       " tensor([-6.6632], dtype=torch.float64),\n",
       " tensor([-9.3007], dtype=torch.float64),\n",
       " tensor([-9.1387], dtype=torch.float64),\n",
       " tensor([-14.8742], dtype=torch.float64)]"
      ]
     },
     "execution_count": 48,
     "metadata": {},
     "output_type": "execute_result"
    }
   ],
   "source": [
    "res[0:100]"
   ]
  },
  {
   "cell_type": "code",
   "execution_count": 37,
   "id": "willing-handle",
   "metadata": {},
   "outputs": [
    {
     "data": {
      "text/plain": [
       "tensor([0.1130, 0.1808, 0.4522, 0.5818, 0.2262, 0.1628, 0.5818, 0.1808, 0.1130,\n",
       "        0.1266, 0.1266, 0.5818, 0.1130, 0.1446, 0.1266, 0.4522, 0.4522, 0.1808,\n",
       "        0.1130, 0.2262, 0.1130, 0.2850, 0.1808, 0.1266, 0.1266, 0.1808, 0.1446,\n",
       "        0.1130, 0.1808, 0.2262, 0.2262, 0.2850, 0.3618, 0.2850, 0.1446, 0.1130,\n",
       "        0.3618, 0.2262, 0.1628, 0.1130, 0.2262, 0.3618, 0.1266, 0.2262, 0.4522,\n",
       "        0.1628, 0.1628, 0.5818, 0.3618, 0.4522, 0.1266, 0.1628, 0.3618, 0.1628,\n",
       "        0.1266, 0.1628, 0.1628, 0.4522, 0.3618, 0.1130, 0.4522, 0.1808, 0.2850,\n",
       "        0.1628, 0.2262, 0.1446, 0.5818, 0.1628, 0.3618, 0.1266, 0.5818, 0.1628,\n",
       "        0.1446, 0.1130, 0.1808, 0.1628, 0.2850, 0.1266, 0.3618, 0.3618, 0.2262,\n",
       "        0.2850, 0.1628, 0.5818, 0.2850, 0.4522, 0.1130, 0.1266, 0.4522, 0.2850,\n",
       "        0.2850, 0.1446, 0.2850, 0.1808, 0.5818, 0.1266, 0.3618, 0.5818, 0.2850,\n",
       "        0.1130, 0.3618, 0.1808, 0.1130, 0.5818, 0.1628, 0.5818, 0.2850, 0.3618,\n",
       "        0.1130, 0.2850, 0.1266, 0.1628, 0.1808, 0.2850, 0.5818, 0.1808, 0.1808,\n",
       "        0.1808, 0.5818, 0.2262, 0.1628, 0.2262, 0.1266, 0.2850, 0.1446, 0.5818,\n",
       "        0.4522, 0.1446, 0.1446, 0.1266, 0.1446, 0.5818, 0.4522, 0.1266, 0.1266,\n",
       "        0.2850, 0.1628, 0.2262, 0.2262, 0.1266, 0.1130, 0.4522, 0.1628, 0.2850,\n",
       "        0.1808, 0.1130, 0.1446, 0.1446, 0.1266, 0.3618, 0.2850, 0.2262, 0.2850,\n",
       "        0.1628, 0.2262, 0.5818, 0.2262, 0.1266, 0.3618, 0.1628, 0.2262, 0.4522,\n",
       "        0.1628, 0.1628, 0.4522, 0.5818, 0.1628, 0.2850, 0.1628, 0.2850, 0.2262,\n",
       "        0.1446, 0.1808, 0.1130, 0.4522, 0.5818, 0.1446, 0.1130, 0.1446, 0.2850,\n",
       "        0.2262, 0.3618, 0.2850, 0.4522, 0.1446, 0.5818, 0.1628, 0.3618, 0.4522,\n",
       "        0.5818, 0.2262, 0.5818, 0.1808, 0.1808, 0.5818, 0.2262, 0.5818, 0.1266,\n",
       "        0.4522, 0.2850, 0.1130, 0.5818, 0.2850, 0.3618, 0.1266, 0.1130, 0.3618,\n",
       "        0.2850, 0.3618, 0.2850, 0.2262, 0.1266, 0.1130, 0.1808, 0.1628, 0.2850,\n",
       "        0.1446, 0.1808, 0.2262, 0.3618, 0.1808, 0.2262, 0.1628, 0.1808, 0.1130,\n",
       "        0.1446, 0.1446, 0.1266, 0.1628, 0.1130, 0.3618, 0.4522, 0.1628, 0.4522,\n",
       "        0.2262, 0.4522, 0.2262, 0.3618, 0.1808, 0.2262, 0.1266, 0.5818, 0.2262,\n",
       "        0.1628, 0.1808, 0.1808, 0.3618, 0.1266, 0.1446, 0.3618, 0.2850, 0.2262,\n",
       "        0.2850, 0.1446, 0.5818, 0.1628, 0.2850, 0.1628, 0.4522, 0.2850, 0.1446,\n",
       "        0.1446, 0.2850, 0.4522, 0.1130, 0.2262, 0.2850, 0.1130, 0.4522, 0.2850,\n",
       "        0.3618, 0.1130, 0.1628, 0.1628, 0.4522, 0.4522, 0.3618, 0.2850, 0.1266,\n",
       "        0.1266, 0.1808, 0.3618, 0.1130, 0.1628, 0.1808, 0.1130, 0.1446, 0.2262,\n",
       "        0.3618, 0.1266, 0.4522, 0.1446, 0.2850, 0.2850, 0.1446, 0.1628, 0.4522,\n",
       "        0.1628, 0.2262, 0.1808, 0.5818, 0.1130, 0.5818, 0.1628, 0.1628, 0.4522,\n",
       "        0.2850, 0.1130, 0.4522, 0.1628, 0.2850, 0.1808, 0.5818, 0.2262, 0.2262,\n",
       "        0.5818, 0.3618, 0.3618, 0.1628, 0.2850, 0.3618, 0.1808, 0.2262, 0.1808,\n",
       "        0.2262, 0.1446, 0.1266, 0.5818, 0.1808, 0.1130, 0.1808, 0.5818, 0.4522,\n",
       "        0.1446, 0.1446, 0.1266, 0.1266, 0.1628, 0.1808, 0.5818, 0.1808, 0.2850,\n",
       "        0.1266, 0.5818, 0.3618, 0.1628, 0.1130, 0.2262, 0.4522, 0.1808, 0.5818,\n",
       "        0.1628, 0.1808, 0.1628, 0.2850, 0.1130, 0.1266, 0.1266, 0.4522, 0.1808,\n",
       "        0.2850, 0.4522, 0.4522, 0.5818, 0.4522, 0.4522, 0.5818, 0.1628, 0.1266,\n",
       "        0.5818, 0.1266, 0.1266, 0.4522, 0.1446, 0.5818, 0.1266, 0.4522, 0.1446,\n",
       "        0.3618, 0.1446, 0.1130, 0.3618, 0.1628, 0.2262, 0.1808, 0.1808, 0.3618,\n",
       "        0.1130, 0.5818, 0.2850, 0.1130, 0.2262, 0.1808, 0.2262, 0.3618, 0.2850,\n",
       "        0.2850, 0.1266, 0.3618, 0.4522, 0.1130, 0.1266, 0.1130, 0.4522, 0.2262,\n",
       "        0.1628, 0.1266, 0.1446, 0.3618, 0.3618, 0.5818, 0.3618, 0.1266, 0.3618,\n",
       "        0.1628, 0.2262, 0.4522, 0.2262, 0.3618, 0.2262, 0.1130, 0.2850, 0.2850,\n",
       "        0.2850, 0.5818, 0.2850, 0.1446, 0.1446, 0.1628, 0.1130, 0.2262, 0.1266,\n",
       "        0.1808, 0.1130, 0.3618, 0.1808, 0.5818, 0.1266, 0.1628, 0.1266, 0.3618,\n",
       "        0.2850, 0.1628, 0.4522, 0.2850, 0.1266, 0.5818, 0.2850, 0.1266, 0.1446,\n",
       "        0.1808, 0.2262, 0.1808, 0.4522])"
      ]
     },
     "execution_count": 37,
     "metadata": {},
     "output_type": "execute_result"
    }
   ],
   "source": [
    "prueba['data'][4997].edge_attr[:,1] #Diameters"
   ]
  },
  {
   "cell_type": "code",
   "execution_count": 34,
   "id": "smoking-pencil",
   "metadata": {},
   "outputs": [
    {
     "data": {
      "text/plain": [
       "tensor([144.6000, 144.6000, 581.7999, 452.2000, 452.2000, 126.6000, 581.7999,\n",
       "        126.6000, 180.8000, 361.8000, 226.2000, 144.6000, 361.8000, 285.0000,\n",
       "        180.8000, 180.8000, 144.6000, 113.0000, 126.6000, 361.8000, 285.0000,\n",
       "        113.0000, 285.0000, 126.6000, 144.6000, 126.6000, 162.8000, 285.0000,\n",
       "        452.2000, 452.2000, 162.8000, 113.0000, 162.8000, 113.0000, 162.8000,\n",
       "        162.8000, 144.6000, 180.8000, 285.0000, 285.0000, 144.6000, 180.8000,\n",
       "        226.2000, 226.2000, 180.8000, 452.2000, 285.0000, 180.8000, 452.2000,\n",
       "        581.7999, 126.6000, 144.6000, 581.7999, 144.6000, 162.8000, 285.0000,\n",
       "        162.8000, 361.8000, 581.7999, 126.6000, 581.7999, 113.0000, 126.6000,\n",
       "        581.7999, 144.6000, 452.2000, 113.0000, 113.0000, 180.8000, 180.8000,\n",
       "        226.2000, 226.2000, 361.8000, 126.6000, 180.8000, 452.2000, 113.0000,\n",
       "        113.0000, 226.2000, 581.7999, 144.6000, 126.6000, 144.6000, 581.7999,\n",
       "        581.7999, 113.0000, 144.6000, 162.8000, 144.6000, 144.6000, 144.6000,\n",
       "        144.6000, 581.7999, 126.6000, 126.6000, 113.0000, 226.2000, 162.8000,\n",
       "        113.0000, 162.8000, 452.2000, 285.0000, 581.7999, 226.2000, 162.8000,\n",
       "        126.6000, 361.8000, 162.8000, 452.2000, 361.8000, 361.8000, 361.8000,\n",
       "        113.0000, 162.8000, 162.8000, 144.6000, 162.8000, 285.0000, 452.2000,\n",
       "        581.7999, 361.8000, 126.6000, 113.0000, 361.8000, 361.8000, 361.8000,\n",
       "        162.8000, 226.2000, 361.8000, 361.8000, 452.2000, 226.2000, 361.8000,\n",
       "        361.8000, 581.7999, 126.6000, 361.8000, 361.8000, 581.7999, 581.7999,\n",
       "        452.2000, 581.7999, 113.0000, 144.6000, 226.2000, 226.2000, 361.8000,\n",
       "        144.6000, 452.2000, 180.8000, 180.8000, 162.8000, 113.0000, 452.2000,\n",
       "        361.8000, 126.6000, 113.0000, 361.8000, 144.6000, 226.2000, 452.2000,\n",
       "        581.7999, 452.2000, 162.8000, 581.7999, 581.7999, 180.8000, 452.2000,\n",
       "        226.2000, 452.2000, 581.7999, 581.7999, 180.8000, 113.0000, 452.2000,\n",
       "        361.8000, 113.0000, 162.8000, 126.6000, 226.2000, 581.7999, 113.0000,\n",
       "        226.2000, 180.8000, 126.6000, 452.2000, 285.0000, 162.8000, 452.2000,\n",
       "        144.6000, 180.8000, 226.2000, 180.8000, 113.0000, 226.2000, 162.8000,\n",
       "        226.2000, 452.2000, 126.6000, 144.6000, 162.8000, 126.6000, 581.7999,\n",
       "        162.8000, 361.8000, 126.6000, 581.7999, 162.8000, 162.8000, 285.0000,\n",
       "        126.6000, 361.8000, 361.8000, 226.2000, 126.6000, 180.8000, 452.2000,\n",
       "        162.8000, 113.0000, 162.8000, 226.2000, 285.0000, 452.2000, 361.8000,\n",
       "        285.0000, 581.7999, 180.8000, 285.0000, 126.6000, 180.8000, 162.8000,\n",
       "        162.8000, 361.8000, 162.8000, 126.6000, 180.8000, 285.0000, 113.0000,\n",
       "        180.8000, 452.2000, 180.8000, 226.2000, 581.7999, 581.7999, 452.2000,\n",
       "        452.2000, 285.0000, 113.0000, 361.8000, 113.0000, 126.6000, 226.2000,\n",
       "        361.8000, 126.6000, 361.8000, 361.8000, 180.8000, 144.6000, 285.0000,\n",
       "        162.8000, 180.8000, 180.8000, 285.0000, 226.2000, 126.6000, 226.2000,\n",
       "        144.6000, 581.7999, 581.7999, 452.2000, 162.8000, 126.6000, 452.2000,\n",
       "        144.6000, 581.7999, 162.8000, 361.8000, 452.2000, 144.6000, 113.0000,\n",
       "        126.6000, 113.0000, 126.6000, 361.8000, 113.0000, 126.6000, 113.0000,\n",
       "        126.6000, 144.6000, 285.0000, 285.0000, 285.0000, 452.2000, 581.7999,\n",
       "        361.8000, 285.0000, 180.8000, 162.8000, 226.2000, 162.8000, 285.0000,\n",
       "        581.7999, 452.2000, 126.6000, 581.7999, 162.8000, 144.6000, 361.8000,\n",
       "        113.0000, 162.8000, 162.8000, 162.8000, 226.2000, 162.8000, 361.8000,\n",
       "        113.0000, 361.8000, 285.0000, 180.8000, 162.8000, 285.0000, 226.2000,\n",
       "        452.2000, 126.6000, 285.0000, 452.2000, 162.8000, 581.7999, 180.8000,\n",
       "        361.8000, 126.6000, 285.0000, 581.7999, 452.2000, 126.6000, 180.8000,\n",
       "        113.0000, 162.8000, 581.7999, 452.2000, 285.0000, 126.6000, 361.8000,\n",
       "        226.2000, 452.2000, 126.6000, 144.6000, 285.0000, 113.0000, 180.8000,\n",
       "        113.0000, 180.8000, 162.8000, 581.7999, 113.0000, 144.6000, 144.6000,\n",
       "        180.8000, 361.8000, 285.0000, 126.6000, 361.8000, 162.8000, 581.7999,\n",
       "        285.0000, 226.2000, 361.8000, 126.6000, 285.0000, 113.0000, 361.8000,\n",
       "        452.2000, 180.8000, 162.8000, 226.2000, 180.8000, 226.2000, 226.2000,\n",
       "        180.8000, 180.8000, 162.8000, 144.6000, 162.8000, 581.7999, 226.2000,\n",
       "        285.0000, 126.6000, 452.2000, 285.0000, 581.7999, 126.6000, 452.2000,\n",
       "        361.8000, 162.8000, 144.6000, 226.2000, 126.6000, 452.2000, 452.2000,\n",
       "        285.0000, 226.2000, 285.0000, 361.8000, 285.0000, 452.2000, 226.2000,\n",
       "        581.7999, 180.8000, 285.0000, 162.8000, 361.8000, 126.6000, 126.6000,\n",
       "        144.6000, 226.2000, 162.8000, 581.7999, 581.7999, 452.2000, 285.0000,\n",
       "        581.7999, 452.2000, 581.7999, 581.7999, 226.2000, 180.8000, 180.8000,\n",
       "        285.0000, 226.2000, 162.8000, 126.6000, 126.6000, 180.8000, 126.6000,\n",
       "        581.7999, 162.8000, 226.2000, 361.8000, 144.6000, 581.7999, 180.8000,\n",
       "        226.2000, 144.6000, 113.0000, 144.6000, 285.0000, 361.8000, 144.6000,\n",
       "        285.0000, 452.2000, 162.8000, 180.8000, 180.8000, 361.8000])"
      ]
     },
     "execution_count": 34,
     "metadata": {},
     "output_type": "execute_result"
    }
   ],
   "source": [
    "prueba['data'][0].edge_attr[:,1]/ UNIT_TO_M #Diameters"
   ]
  },
  {
   "cell_type": "code",
   "execution_count": null,
   "id": "visible-cherry",
   "metadata": {},
   "outputs": [],
   "source": []
  }
 ],
 "metadata": {
  "kernelspec": {
   "display_name": "Python 3",
   "language": "python",
   "name": "python3"
  },
  "language_info": {
   "codemirror_mode": {
    "name": "ipython",
    "version": 3
   },
   "file_extension": ".py",
   "mimetype": "text/x-python",
   "name": "python",
   "nbconvert_exporter": "python",
   "pygments_lexer": "ipython3",
   "version": "3.8.5"
  },
  "toc-autonumbering": true
 },
 "nbformat": 4,
 "nbformat_minor": 5
}
