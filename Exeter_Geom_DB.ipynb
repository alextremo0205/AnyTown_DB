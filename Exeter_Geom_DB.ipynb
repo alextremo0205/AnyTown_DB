{
 "cells": [
  {
   "cell_type": "markdown",
   "id": "difficult-humanitarian",
   "metadata": {},
   "source": [
    "# Geometric Datasets: Exeter"
   ]
  },
  {
   "cell_type": "markdown",
   "id": "opponent-africa",
   "metadata": {},
   "source": [
    "Improved version:\n",
    "* F"
   ]
  },
  {
   "cell_type": "markdown",
   "id": "mineral-pierce",
   "metadata": {},
   "source": [
    "## Description"
   ]
  },
  {
   "cell_type": "markdown",
   "id": "dressed-footage",
   "metadata": {},
   "source": [
    "Code for creating the geometric datasets for the Two-Objective Design/Resilience networks from [Exeter Benchmarks](https://emps.exeter.ac.uk/engineering/research/cws/resources/benchmarks/design-resiliance-pareto-fronts/) \n",
    "\n",
    "*Small Problems*\n",
    "* Two-Reservoir Network\n",
    "* Two-Loop Network\n",
    "* BakRyan Network\n",
    "\n",
    "*Medium Problems*\n",
    "* New York Tunnel Network\n",
    "* Blacksburg Network\n",
    "* Hanoi Network\n",
    "\n",
    "*Intemediate Problems*\n",
    "* Fossolo Network\n",
    "* Pescara Network\n",
    "\n",
    "*Large Problems*\n",
    "* Modena Network\n",
    "* Balerma Irrigation Network\n",
    "\n",
    "*GoYang Network and Exeter Network were excluded because they had accessories (Pumps and valves) not yet contemplated for the extent of this exercise. \n"
   ]
  },
  {
   "cell_type": "markdown",
   "id": "geographic-admission",
   "metadata": {},
   "source": [
    "## Imports"
   ]
  },
  {
   "cell_type": "markdown",
   "id": "spoken-hampshire",
   "metadata": {},
   "source": [
    "### Basic"
   ]
  },
  {
   "cell_type": "code",
   "execution_count": 1,
   "id": "framed-girlfriend",
   "metadata": {
    "execution": {
     "iopub.execute_input": "2021-02-19T09:47:11.927604Z",
     "iopub.status.busy": "2021-02-19T09:47:11.926671Z",
     "iopub.status.idle": "2021-02-19T09:47:16.461595Z",
     "shell.execute_reply": "2021-02-19T09:47:16.460652Z",
     "shell.execute_reply.started": "2021-02-19T09:47:11.926671Z"
    }
   },
   "outputs": [],
   "source": [
    "import os\n",
    "import wntr\n",
    "import pandas as pd\n",
    "import numpy as np\n",
    "import pickle\n",
    "import networkx as nx\n",
    "import winsound"
   ]
  },
  {
   "cell_type": "markdown",
   "id": "announced-documentary",
   "metadata": {},
   "source": [
    "### Custom functions"
   ]
  },
  {
   "cell_type": "code",
   "execution_count": 2,
   "id": "criminal-links",
   "metadata": {
    "execution": {
     "iopub.execute_input": "2021-02-19T09:47:16.465585Z",
     "iopub.status.busy": "2021-02-19T09:47:16.465585Z",
     "iopub.status.idle": "2021-02-19T09:47:16.476558Z",
     "shell.execute_reply": "2021-02-19T09:47:16.474563Z",
     "shell.execute_reply.started": "2021-02-19T09:47:16.465585Z"
    }
   },
   "outputs": [],
   "source": [
    "#Custom .py file\n",
    "#from PrasadParkIndex import *\n",
    "from res_index import *"
   ]
  },
  {
   "cell_type": "markdown",
   "id": "reliable-parameter",
   "metadata": {},
   "source": [
    "### PyTorch and PyG"
   ]
  },
  {
   "cell_type": "code",
   "execution_count": 3,
   "id": "floppy-august",
   "metadata": {
    "execution": {
     "iopub.execute_input": "2021-02-19T09:47:16.479639Z",
     "iopub.status.busy": "2021-02-19T09:47:16.478551Z",
     "iopub.status.idle": "2021-02-19T09:47:28.869933Z",
     "shell.execute_reply": "2021-02-19T09:47:28.869933Z",
     "shell.execute_reply.started": "2021-02-19T09:47:16.479639Z"
    }
   },
   "outputs": [
    {
     "name": "stderr",
     "output_type": "stream",
     "text": [
      "C:\\Programs\\Anaconda3\\envs\\PyTorch_Env\\lib\\site-packages\\torch\\cuda\\__init__.py:52: UserWarning: CUDA initialization: Found no NVIDIA driver on your system. Please check that you have an NVIDIA GPU and installed a driver from http://www.nvidia.com/Download/index.aspx (Triggered internally at  ..\\c10\\cuda\\CUDAFunctions.cpp:100.)\n",
      "  return torch._C._cuda_getDeviceCount() > 0\n"
     ]
    }
   ],
   "source": [
    "import torch\n",
    "from torch_geometric.data import Data\n",
    "from torch_geometric.utils import convert\n",
    "#from torch_geometric.datasets import TUDataset"
   ]
  },
  {
   "cell_type": "markdown",
   "id": "higher-tissue",
   "metadata": {},
   "source": [
    "### DeepSNAP"
   ]
  },
  {
   "cell_type": "code",
   "execution_count": 4,
   "id": "blank-decline",
   "metadata": {
    "execution": {
     "iopub.execute_input": "2021-02-19T09:47:28.872026Z",
     "iopub.status.busy": "2021-02-19T09:47:28.870930Z",
     "iopub.status.idle": "2021-02-19T09:47:28.875916Z",
     "shell.execute_reply": "2021-02-19T09:47:28.874933Z",
     "shell.execute_reply.started": "2021-02-19T09:47:28.871927Z"
    }
   },
   "outputs": [],
   "source": [
    "# from deepsnap.graph import Graph as dSNAP_Graph\n",
    "# from deepsnap.dataset import GraphDataset as dSNAP_GraphDS"
   ]
  },
  {
   "cell_type": "markdown",
   "id": "earlier-truck",
   "metadata": {},
   "source": [
    "### Plotly"
   ]
  },
  {
   "cell_type": "code",
   "execution_count": 5,
   "id": "healthy-chile",
   "metadata": {
    "execution": {
     "iopub.execute_input": "2021-02-19T09:47:28.876914Z",
     "iopub.status.busy": "2021-02-19T09:47:28.876914Z",
     "iopub.status.idle": "2021-02-19T09:47:28.886528Z",
     "shell.execute_reply": "2021-02-19T09:47:28.885890Z",
     "shell.execute_reply.started": "2021-02-19T09:47:28.876914Z"
    }
   },
   "outputs": [],
   "source": [
    "import plotly.graph_objects as go"
   ]
  },
  {
   "cell_type": "markdown",
   "id": "accessory-trash",
   "metadata": {},
   "source": [
    "## Loading inp file"
   ]
  },
  {
   "cell_type": "code",
   "execution_count": 6,
   "id": "stone-chassis",
   "metadata": {
    "execution": {
     "iopub.execute_input": "2021-02-19T09:47:28.887897Z",
     "iopub.status.busy": "2021-02-19T09:47:28.887829Z",
     "iopub.status.idle": "2021-02-19T09:47:28.893868Z",
     "shell.execute_reply": "2021-02-19T09:47:28.892872Z",
     "shell.execute_reply.started": "2021-02-19T09:47:28.887897Z"
    }
   },
   "outputs": [],
   "source": [
    "# Create a water network model\n",
    "def load_inp(inp_file_path):\n",
    "    wn_WDS = wntr.network.WaterNetworkModel(inp_file_path)\n",
    "\n",
    "    # Plot the network\n",
    "    wntr.graphics.plot_network(wn_WDS, title=wn_WDS.name)\n",
    "\n",
    "    # Simulate hydraulics\n",
    "    sim_WDS = wntr.sim.EpanetSimulator(wn_WDS)\n",
    "    results_WDS = sim_WDS.run_sim()\n",
    "    \n",
    "    return(wn_WDS, sim_WDS, results_WDS)"
   ]
  },
  {
   "cell_type": "markdown",
   "id": "ranging-collectible",
   "metadata": {},
   "source": [
    "### Name of the Network "
   ]
  },
  {
   "cell_type": "markdown",
   "id": "governing-treasure",
   "metadata": {},
   "source": [
    "Choices:\n",
    "\\['BAK', 'BIN', 'BLA', 'FOS', 'HAN', 'MOD', 'NYT', 'PES', 'TLN', 'TRN']"
   ]
  },
  {
   "cell_type": "code",
   "execution_count": 7,
   "id": "cathedral-visit",
   "metadata": {
    "execution": {
     "iopub.execute_input": "2021-02-19T09:47:28.904856Z",
     "iopub.status.busy": "2021-02-19T09:47:28.903842Z",
     "iopub.status.idle": "2021-02-19T09:47:28.928793Z",
     "shell.execute_reply": "2021-02-19T09:47:28.928189Z",
     "shell.execute_reply.started": "2021-02-19T09:47:28.903842Z"
    }
   },
   "outputs": [
    {
     "data": {
      "text/html": [
       "<div>\n",
       "<style scoped>\n",
       "    .dataframe tbody tr th:only-of-type {\n",
       "        vertical-align: middle;\n",
       "    }\n",
       "\n",
       "    .dataframe tbody tr th {\n",
       "        vertical-align: top;\n",
       "    }\n",
       "\n",
       "    .dataframe thead th {\n",
       "        text-align: right;\n",
       "    }\n",
       "</style>\n",
       "<table border=\"1\" class=\"dataframe\">\n",
       "  <thead>\n",
       "    <tr style=\"text-align: right;\">\n",
       "      <th></th>\n",
       "      <th>D</th>\n",
       "      <th>Cost</th>\n",
       "      <th>NodeID</th>\n",
       "      <th>MinPressure_m</th>\n",
       "      <th>UNITS_TO_M</th>\n",
       "    </tr>\n",
       "  </thead>\n",
       "  <tbody>\n",
       "    <tr>\n",
       "      <th>0</th>\n",
       "      <td>113.0</td>\n",
       "      <td>7.22</td>\n",
       "      <td>179001</td>\n",
       "      <td>20</td>\n",
       "      <td>0.001</td>\n",
       "    </tr>\n",
       "    <tr>\n",
       "      <th>1</th>\n",
       "      <td>126.6</td>\n",
       "      <td>9.10</td>\n",
       "      <td>179</td>\n",
       "      <td>20</td>\n",
       "      <td>NaN</td>\n",
       "    </tr>\n",
       "    <tr>\n",
       "      <th>2</th>\n",
       "      <td>144.6</td>\n",
       "      <td>11.92</td>\n",
       "      <td>177</td>\n",
       "      <td>20</td>\n",
       "      <td>NaN</td>\n",
       "    </tr>\n",
       "    <tr>\n",
       "      <th>3</th>\n",
       "      <td>162.8</td>\n",
       "      <td>14.84</td>\n",
       "      <td>174</td>\n",
       "      <td>20</td>\n",
       "      <td>NaN</td>\n",
       "    </tr>\n",
       "    <tr>\n",
       "      <th>4</th>\n",
       "      <td>180.8</td>\n",
       "      <td>18.38</td>\n",
       "      <td>173</td>\n",
       "      <td>20</td>\n",
       "      <td>NaN</td>\n",
       "    </tr>\n",
       "  </tbody>\n",
       "</table>\n",
       "</div>"
      ],
      "text/plain": [
       "       D   Cost  NodeID  MinPressure_m  UNITS_TO_M\n",
       "0  113.0   7.22  179001             20       0.001\n",
       "1  126.6   9.10     179             20         NaN\n",
       "2  144.6  11.92     177             20         NaN\n",
       "3  162.8  14.84     174             20         NaN\n",
       "4  180.8  18.38     173             20         NaN"
      ]
     },
     "execution_count": 7,
     "metadata": {},
     "output_type": "execute_result"
    }
   ],
   "source": [
    "name_WDS = 'BIN'\n",
    "\n",
    "#Read the Network info\n",
    "WDS_info = pd.read_csv('./networks/Exeter/'+name_WDS+'_info.csv', dtype = {'NodeID': str} )\n",
    "\n",
    "WDS_info.head()"
   ]
  },
  {
   "cell_type": "code",
   "execution_count": 8,
   "id": "electrical-dance",
   "metadata": {
    "execution": {
     "iopub.execute_input": "2021-02-19T09:47:28.929895Z",
     "iopub.status.busy": "2021-02-19T09:47:28.928793Z",
     "iopub.status.idle": "2021-02-19T09:47:28.944892Z",
     "shell.execute_reply": "2021-02-19T09:47:28.943754Z",
     "shell.execute_reply.started": "2021-02-19T09:47:28.929895Z"
    }
   },
   "outputs": [],
   "source": [
    "#Transform the min. pressure of the nodes into a pandas dataframe\n",
    "min_pres = WDS_info[['NodeID', 'MinPressure_m']].dropna()\n",
    "min_pres = min_pres.set_index('NodeID')\n",
    "\n",
    "#Obtain the conversion factor for the diameters (Some are given in inches, meters, or mm)\n",
    "UNIT_TO_M = WDS_info['UNITS_TO_M'].dropna().item()"
   ]
  },
  {
   "cell_type": "markdown",
   "id": "trained-administrator",
   "metadata": {},
   "source": [
    "### Load the inp file"
   ]
  },
  {
   "cell_type": "code",
   "execution_count": 9,
   "id": "martial-happiness",
   "metadata": {
    "execution": {
     "iopub.execute_input": "2021-02-19T09:47:30.161471Z",
     "iopub.status.busy": "2021-02-19T09:47:30.160473Z",
     "iopub.status.idle": "2021-02-19T09:47:31.294474Z",
     "shell.execute_reply": "2021-02-19T09:47:31.293468Z",
     "shell.execute_reply.started": "2021-02-19T09:47:30.161471Z"
    }
   },
   "outputs": [
    {
     "data": {
      "image/png": "[encoded data removed]",
      "text/plain": [
       "<Figure size 432x288 with 1 Axes>"
      ]
     },
     "metadata": {},
     "output_type": "display_data"
    }
   ],
   "source": [
    "path= 'networks/Exeter/'+name_WDS+'.inp'\n",
    "wn_WDS, _, _ = load_inp(path)\n",
    "#wn_WDS = wntr.network.WaterNetworkModel(path)"
   ]
  },
  {
   "cell_type": "code",
   "execution_count": 10,
   "id": "single-original",
   "metadata": {
    "execution": {
     "iopub.execute_input": "2021-02-19T09:47:32.011524Z",
     "iopub.status.busy": "2021-02-19T09:47:32.011524Z",
     "iopub.status.idle": "2021-02-19T09:47:32.022494Z",
     "shell.execute_reply": "2021-02-19T09:47:32.021497Z",
     "shell.execute_reply.started": "2021-02-19T09:47:32.011524Z"
    }
   },
   "outputs": [],
   "source": [
    "names = ['BAK', 'BIN', 'BLA', 'FOS', 'HAN', 'MOD', 'NYT', 'PES', 'TLN', 'TRN']\n",
    "seeds = [132, 65464, 8754, 465542, 13211, 9874545, 12, 9872, 6781, 978888]\n",
    "dict_seeds =dict(zip(names, seeds))\n",
    "\n",
    "num_pipes = wn_WDS.num_pipes\n",
    "\n",
    "avail_diams = list(WDS_info.D.dropna()) #[6, 8, 10, 12, 14] #inches\n",
    "pipe_names = wn_WDS.link_name_list\n",
    "\n",
    "seed = dict_seeds[name_WDS] #Trial seed: 4345\n",
    "np.random.seed(seed)\n",
    "\n"
   ]
  },
  {
   "cell_type": "code",
   "execution_count": 11,
   "id": "engaging-jenny",
   "metadata": {
    "execution": {
     "iopub.execute_input": "2021-02-19T09:47:32.587610Z",
     "iopub.status.busy": "2021-02-19T09:47:32.586613Z",
     "iopub.status.idle": "2021-02-19T09:47:32.593594Z",
     "shell.execute_reply": "2021-02-19T09:47:32.592596Z",
     "shell.execute_reply.started": "2021-02-19T09:47:32.587610Z"
    },
    "scrolled": true
   },
   "outputs": [
    {
     "data": {
      "text/plain": [
       "[113.0, 126.6, 144.6, 162.8, 180.8, 226.2, 285.0, 361.8, 452.2, 581.8]"
      ]
     },
     "execution_count": 11,
     "metadata": {},
     "output_type": "execute_result"
    }
   ],
   "source": [
    "avail_diams"
   ]
  },
  {
   "cell_type": "markdown",
   "id": "postal-disposal",
   "metadata": {},
   "source": [
    "## Dataset Creation"
   ]
  },
  {
   "cell_type": "markdown",
   "id": "mature-dynamics",
   "metadata": {},
   "source": [
    "### NetworkX representation\n"
   ]
  },
  {
   "cell_type": "markdown",
   "id": "promising-eleven",
   "metadata": {},
   "source": [
    "Information on nodes and edges"
   ]
  },
  {
   "cell_type": "code",
   "execution_count": 12,
   "id": "recognized-contrast",
   "metadata": {
    "execution": {
     "iopub.execute_input": "2021-02-19T09:47:34.888858Z",
     "iopub.status.busy": "2021-02-19T09:47:34.888396Z",
     "iopub.status.idle": "2021-02-19T09:47:34.899113Z",
     "shell.execute_reply": "2021-02-19T09:47:34.898116Z",
     "shell.execute_reply.started": "2021-02-19T09:47:34.888858Z"
    }
   },
   "outputs": [],
   "source": [
    "def from_wntr_to_nx(wn):\n",
    "    wn_links = list(wn.links())\n",
    "    wn_nodes = list(wn.nodes())\n",
    "    \n",
    "    G_WDS = wn.get_graph() # directed multigraph\n",
    "    uG_WDS = G_WDS.to_undirected() # undirected\n",
    "    sG_WDS = nx.Graph(uG_WDS) #Simple graph  \n",
    "    \n",
    "    i=0\n",
    "    for (u, v, wt) in sG_WDS.edges.data():\n",
    "        assert isinstance(wn_links[i][1], wntr.network.elements.Pipe), \"The link is not a pipe\"\n",
    "        sG_WDS[u][v]['diameter'] =  wn_links[i][1].diameter\n",
    "        sG_WDS[u][v]['length'] =    wn_links[i][1].length\n",
    "        sG_WDS[u][v]['roughness'] = wn_links[i][1].roughness\n",
    "        i+=1\n",
    "    \n",
    "    i=0\n",
    "    for u in sG_WDS.nodes:\n",
    "        \n",
    "        if sG_WDS.nodes[u]['type'] == 'Junction': \n",
    "            sG_WDS.nodes[u]['ID'] =          wn_nodes[i][1].name\n",
    "            sG_WDS.nodes[u]['type_1H'] =     0\n",
    "            sG_WDS.nodes[u]['base_demand'] = list(wn_nodes[i][1].demand_timeseries_list)[0].base_value\n",
    "            sG_WDS.nodes[u]['elevation'] =   wn_nodes[i][1].elevation\n",
    "            sG_WDS.nodes[u]['base_head'] =   0\n",
    "            \n",
    "            \n",
    "        elif sG_WDS.nodes[u]['type'] == 'Reservoir':\n",
    "            sG_WDS.nodes[u]['ID'] =          wn_nodes[i][1].name\n",
    "            sG_WDS.nodes[u]['type_1H'] =     1\n",
    "            sG_WDS.nodes[u]['base_demand'] = 0\n",
    "            sG_WDS.nodes[u]['elevation'] =   0\n",
    "            sG_WDS.nodes[u]['base_head'] =   wn_nodes[i][1].base_head\n",
    "        else:\n",
    "            print(u)\n",
    "            raise Exception('Only Junctions and Reservoirs so far')\n",
    "            break\n",
    "            \n",
    "        i+=1\n",
    "\n",
    "    return sG_WDS #df_nodes, df_links, sG_WDS\n",
    "\n"
   ]
  },
  {
   "cell_type": "code",
   "execution_count": 13,
   "id": "empty-worst",
   "metadata": {
    "execution": {
     "iopub.execute_input": "2021-02-19T09:47:35.870358Z",
     "iopub.status.busy": "2021-02-19T09:47:35.869279Z",
     "iopub.status.idle": "2021-02-19T09:47:35.876260Z",
     "shell.execute_reply": "2021-02-19T09:47:35.875266Z",
     "shell.execute_reply.started": "2021-02-19T09:47:35.870358Z"
    }
   },
   "outputs": [],
   "source": [
    "#b = convert.from_networkx(a)"
   ]
  },
  {
   "cell_type": "code",
   "execution_count": 14,
   "id": "initial-practice",
   "metadata": {
    "execution": {
     "iopub.execute_input": "2021-02-19T09:47:36.302056Z",
     "iopub.status.busy": "2021-02-19T09:47:36.301070Z",
     "iopub.status.idle": "2021-02-19T09:47:36.307043Z",
     "shell.execute_reply": "2021-02-19T09:47:36.306045Z",
     "shell.execute_reply.started": "2021-02-19T09:47:36.302056Z"
    }
   },
   "outputs": [],
   "source": [
    "# def from_wntr_to_geometric(wn):      \n",
    "#     df_nodes, df_links, sG_WDS = from_wntr_to_pandas(wn)   # get pandas dataframes\n",
    "\n",
    "#     # create torch data \n",
    "#     x = torch.tensor(df_nodes[['node_type','base_demand','elevation','base_head']].astype(float).values, dtype=torch.float)\n",
    "#     pos = torch.tensor(df_nodes['coords'], dtype=torch.float)\n",
    "#     pg_sG_WDS = convert.from_networkx(sG_WDS)\n",
    "    \n",
    "#     #edge_index = torch.tensor(COO_edges, dtype=torch.long)\n",
    "#     edge_attr = torch.tensor(df_links[['length','diameter','roughness']].astype(float).values, dtype=torch.float)\n",
    "#     data = Data(x=x, pos=pos, edge_index=edge_index, edge_attr=edge_attr)\n",
    "\n",
    "#     return data, df_nodes, df_links"
   ]
  },
  {
   "cell_type": "code",
   "execution_count": 15,
   "id": "lined-trade",
   "metadata": {
    "execution": {
     "iopub.execute_input": "2021-02-19T09:47:36.841143Z",
     "iopub.status.busy": "2021-02-19T09:47:36.841143Z",
     "iopub.status.idle": "2021-02-19T09:47:36.845137Z",
     "shell.execute_reply": "2021-02-19T09:47:36.844137Z",
     "shell.execute_reply.started": "2021-02-19T09:47:36.841143Z"
    }
   },
   "outputs": [],
   "source": [
    "#data, df_nodes, df_links = from_wntr_to_geometric(wn_WDS)"
   ]
  },
  {
   "cell_type": "code",
   "execution_count": 16,
   "id": "worst-galaxy",
   "metadata": {
    "execution": {
     "iopub.execute_input": "2021-02-19T09:47:37.077398Z",
     "iopub.status.busy": "2021-02-19T09:47:37.077398Z",
     "iopub.status.idle": "2021-02-19T09:47:37.083380Z",
     "shell.execute_reply": "2021-02-19T09:47:37.082383Z",
     "shell.execute_reply.started": "2021-02-19T09:47:37.077398Z"
    }
   },
   "outputs": [],
   "source": [
    "#results_WDS.node['pressure']"
   ]
  },
  {
   "cell_type": "code",
   "execution_count": 17,
   "id": "solid-doubt",
   "metadata": {
    "execution": {
     "iopub.execute_input": "2021-02-19T09:47:37.389617Z",
     "iopub.status.busy": "2021-02-19T09:47:37.388620Z",
     "iopub.status.idle": "2021-02-19T09:47:37.394603Z",
     "shell.execute_reply": "2021-02-19T09:47:37.393606Z",
     "shell.execute_reply.started": "2021-02-19T09:47:37.389617Z"
    }
   },
   "outputs": [],
   "source": [
    "# print(res_index(results_WDS.node['head'], results_WDS.node['pressure'], results_WDS.node['demand'], flowrate, wn_WDS, min_pres, indx = 'Todini'))"
   ]
  },
  {
   "cell_type": "code",
   "execution_count": 18,
   "id": "baking-touch",
   "metadata": {
    "execution": {
     "iopub.execute_input": "2021-02-19T09:47:37.752158Z",
     "iopub.status.busy": "2021-02-19T09:47:37.751161Z",
     "iopub.status.idle": "2021-02-19T09:47:37.761136Z",
     "shell.execute_reply": "2021-02-19T09:47:37.760140Z",
     "shell.execute_reply.started": "2021-02-19T09:47:37.752158Z"
    }
   },
   "outputs": [],
   "source": [
    "p = [(i+1)/len(avail_diams) for i in range(len(avail_diams))]\n",
    "p = [p[i]/sum(p) for i in range(len(p))]"
   ]
  },
  {
   "cell_type": "markdown",
   "id": "composite-ceramic",
   "metadata": {},
   "source": [
    "### Loop for database generation"
   ]
  },
  {
   "cell_type": "code",
   "execution_count": 19,
   "id": "looking-obligation",
   "metadata": {
    "execution": {
     "iopub.execute_input": "2021-02-19T09:47:38.499079Z",
     "iopub.status.busy": "2021-02-19T09:47:38.499079Z",
     "iopub.status.idle": "2021-02-19T13:50:04.358717Z",
     "shell.execute_reply": "2021-02-19T13:50:04.356481Z",
     "shell.execute_reply.started": "2021-02-19T09:47:38.499079Z"
    },
    "scrolled": true
   },
   "outputs": [
    {
     "name": "stdout",
     "output_type": "stream",
     "text": [
      "iter: 0\n",
      "iter: 50\n",
      "iter: 100\n",
      "iter: 150\n",
      "iter: 200\n",
      "iter: 250\n",
      "iter: 300\n",
      "iter: 350\n",
      "iter: 400\n",
      "iter: 450\n",
      "iter: 500\n",
      "iter: 550\n",
      "iter: 600\n",
      "iter: 650\n",
      "iter: 700\n",
      "iter: 750\n",
      "iter: 800\n",
      "iter: 850\n",
      "iter: 900\n",
      "iter: 950\n",
      "iter: 1000\n",
      "iter: 1050\n",
      "iter: 1100\n",
      "iter: 1150\n",
      "iter: 1200\n",
      "iter: 1250\n",
      "iter: 1300\n",
      "iter: 1350\n",
      "iter: 1400\n",
      "iter: 1450\n",
      "iter: 1500\n",
      "iter: 1550\n",
      "iter: 1600\n",
      "iter: 1650\n",
      "iter: 1700\n",
      "iter: 1750\n",
      "iter: 1800\n",
      "iter: 1850\n",
      "iter: 1900\n",
      "iter: 1950\n",
      "iter: 2000\n",
      "iter: 2050\n",
      "iter: 2100\n",
      "iter: 2150\n",
      "iter: 2200\n",
      "iter: 2250\n",
      "iter: 2300\n",
      "iter: 2350\n",
      "iter: 2400\n",
      "iter: 2450\n",
      "iter: 2500\n",
      "iter: 2550\n",
      "iter: 2600\n",
      "iter: 2650\n",
      "iter: 2700\n",
      "iter: 2750\n",
      "iter: 2800\n",
      "iter: 2850\n",
      "iter: 2900\n",
      "iter: 2950\n",
      "iter: 3000\n",
      "iter: 3050\n",
      "iter: 3100\n",
      "iter: 3150\n",
      "iter: 3200\n",
      "iter: 3250\n",
      "iter: 3300\n",
      "iter: 3350\n",
      "iter: 3400\n",
      "iter: 3450\n",
      "iter: 3500\n",
      "iter: 3550\n",
      "iter: 3600\n",
      "iter: 3650\n",
      "iter: 3700\n",
      "iter: 3750\n",
      "iter: 3800\n",
      "iter: 3850\n",
      "iter: 3900\n",
      "iter: 3950\n",
      "iter: 4000\n",
      "iter: 4050\n",
      "iter: 4100\n",
      "iter: 4150\n",
      "iter: 4200\n",
      "iter: 4250\n",
      "iter: 4300\n",
      "iter: 4350\n",
      "iter: 4400\n",
      "iter: 4450\n",
      "iter: 4500\n",
      "iter: 4550\n",
      "iter: 4600\n",
      "iter: 4650\n",
      "iter: 4700\n",
      "iter: 4750\n",
      "iter: 4800\n",
      "iter: 4850\n",
      "iter: 4900\n",
      "iter: 4950\n",
      "iter: 4999\n"
     ]
    }
   ],
   "source": [
    "#first_DB = []\n",
    "np.random.seed(seed)\n",
    "\n",
    "all_geom_data = [] # geometric data\n",
    "fail_DB = []\n",
    "N_iter = 5000\n",
    "sim=0\n",
    "while len(all_geom_data)<N_iter and len(fail_DB)<N_iter:\n",
    "    # echo on screen\n",
    "    if sim % 50 == 0 or sim == N_iter-1:\n",
    "        print(f'iter: {sim}')\n",
    "  \n",
    "    # assign diameters    \n",
    "    new_diams = np.random.choice(avail_diams, num_pipes, replace= True, p = p)\n",
    "    new_diams = new_diams * UNIT_TO_M\n",
    "    \n",
    "    for i in range(num_pipes):\n",
    "        c_pipe = wn_WDS.get_link(pipe_names[i])\n",
    "        c_pipe.diameter = new_diams[i]\n",
    "    \n",
    "    # run the simulation\n",
    "    try:\n",
    "    # Simulate hydraulics\n",
    "        sim_WDS = wntr.sim.EpanetSimulator(wn_WDS)\n",
    "        results_WDS = sim_WDS.run_sim()\n",
    "        flowrate = 0 #There are no pumps\n",
    "        \n",
    "        # get resilience indexes  \n",
    "        RI_PP = res_index(results_WDS.node['head'], results_WDS.node['pressure'], results_WDS.node['demand'], flowrate, wn_WDS, min_pres, indx = 'PP')\n",
    "        RI_Todini = res_index(results_WDS.node['head'], results_WDS.node['pressure'], results_WDS.node['demand'], flowrate, wn_WDS, min_pres, indx = 'Todini')\n",
    "\n",
    "\n",
    "        # create Geometric Data \n",
    "        data = convert.from_networkx(from_wntr_to_nx(wn_WDS))\n",
    "\n",
    "        \n",
    "        #Add resilience indexes\n",
    "        data.res_Todini = torch.tensor(RI_Todini)\n",
    "        data.res_PP = torch.tensor(RI_PP)\n",
    "        all_geom_data.append(data)\n",
    "    \n",
    "    except Exception as e:\n",
    "        fail_row = [sim]\n",
    "        fail_row.append(np.round(new_diams/UNIT_TO_M, 0))\n",
    "        fail_row.append(wn_WDS)\n",
    "        fail_row.append(e)\n",
    "        print(e)\n",
    "        fail_DB.append(fail_row)\n",
    "    sim+=1\n",
    "    "
   ]
  },
  {
   "cell_type": "code",
   "execution_count": 20,
   "id": "dress-investment",
   "metadata": {
    "execution": {
     "iopub.execute_input": "2021-02-19T13:50:05.035450Z",
     "iopub.status.busy": "2021-02-19T13:50:05.034452Z",
     "iopub.status.idle": "2021-02-19T13:50:05.040436Z",
     "shell.execute_reply": "2021-02-19T13:50:05.040436Z",
     "shell.execute_reply.started": "2021-02-19T13:50:05.035450Z"
    }
   },
   "outputs": [
    {
     "name": "stdout",
     "output_type": "stream",
     "text": [
      "5000 0\n"
     ]
    }
   ],
   "source": [
    "print(len(all_geom_data), len(fail_DB))"
   ]
  },
  {
   "cell_type": "code",
   "execution_count": 21,
   "id": "collaborative-orchestra",
   "metadata": {
    "execution": {
     "iopub.execute_input": "2021-02-19T13:50:05.043429Z",
     "iopub.status.busy": "2021-02-19T13:50:05.043429Z",
     "iopub.status.idle": "2021-02-19T13:50:05.049444Z",
     "shell.execute_reply": "2021-02-19T13:50:05.049444Z",
     "shell.execute_reply.started": "2021-02-19T13:50:05.043429Z"
    }
   },
   "outputs": [
    {
     "data": {
      "text/plain": [
       "Data(ID=[447], base_demand=[447], base_head=[447], diameter=[908], edge_index=[2, 908], elevation=[447], length=[908], pos=[447, 2], res_PP=[1], res_Todini=[1], roughness=[908], type=[908], type_1H=[447])"
      ]
     },
     "execution_count": 21,
     "metadata": {},
     "output_type": "execute_result"
    }
   ],
   "source": [
    "all_geom_data[-1]"
   ]
  },
  {
   "cell_type": "code",
   "execution_count": 22,
   "id": "previous-mother",
   "metadata": {
    "execution": {
     "iopub.execute_input": "2021-02-19T13:50:05.050410Z",
     "iopub.status.busy": "2021-02-19T13:50:05.050410Z",
     "iopub.status.idle": "2021-02-19T13:50:05.557072Z",
     "shell.execute_reply": "2021-02-19T13:50:05.556603Z",
     "shell.execute_reply.started": "2021-02-19T13:50:05.050410Z"
    }
   },
   "outputs": [],
   "source": [
    "winsound.Beep(1000, 500)"
   ]
  },
  {
   "cell_type": "code",
   "execution_count": 23,
   "id": "invisible-solomon",
   "metadata": {
    "execution": {
     "iopub.execute_input": "2021-02-19T13:50:05.558072Z",
     "iopub.status.busy": "2021-02-19T13:50:05.558072Z",
     "iopub.status.idle": "2021-02-19T13:50:05.563060Z",
     "shell.execute_reply": "2021-02-19T13:50:05.562061Z",
     "shell.execute_reply.started": "2021-02-19T13:50:05.558072Z"
    }
   },
   "outputs": [
    {
     "name": "stdout",
     "output_type": "stream",
     "text": [
      "C:\\Users\\agarzondiaz\\surfdrive\\Year 1\\AnyTown Database\\AnyTown_DB\\BIN_Geom_DB_5000\n"
     ]
    }
   ],
   "source": [
    "# folder\n",
    "dir_path = os.getcwd()+'\\{name}_Geom_DB_{num_iter}'.format(name = name_WDS, num_iter = N_iter)\n",
    "print(dir_path)"
   ]
  },
  {
   "cell_type": "code",
   "execution_count": 24,
   "id": "forward-brave",
   "metadata": {
    "execution": {
     "iopub.execute_input": "2021-02-19T13:50:05.564056Z",
     "iopub.status.busy": "2021-02-19T13:50:05.564056Z",
     "iopub.status.idle": "2021-02-19T13:50:05.570041Z",
     "shell.execute_reply": "2021-02-19T13:50:05.569043Z",
     "shell.execute_reply.started": "2021-02-19T13:50:05.564056Z"
    }
   },
   "outputs": [],
   "source": [
    "dataset = {}\n",
    "dataset['info'] = 'Dataset for graph regression to compute '+name_WDS+' resilience index. Edge_attr = [Length, diameter, roughness] of every pipe, x =[Node type(junction 0, reservoir 1), Base demand (0 for reservoirs), elevation, base head(0 for junctions)]'\n",
    "dataset['ngraphs'] = len(all_geom_data)\n",
    "dataset['data'] = all_geom_data"
   ]
  },
  {
   "cell_type": "code",
   "execution_count": 25,
   "id": "honest-cisco",
   "metadata": {
    "execution": {
     "iopub.execute_input": "2021-02-19T13:50:05.573033Z",
     "iopub.status.busy": "2021-02-19T13:50:05.573033Z",
     "iopub.status.idle": "2021-02-19T13:50:08.422739Z",
     "shell.execute_reply": "2021-02-19T13:50:08.422739Z",
     "shell.execute_reply.started": "2021-02-19T13:50:05.573033Z"
    }
   },
   "outputs": [
    {
     "name": "stdout",
     "output_type": "stream",
     "text": [
      "Successfully created the directory C:\\Users\\agarzondiaz\\surfdrive\\Year 1\\AnyTown Database\\AnyTown_DB\\BIN_Geom_DB_5000 \n"
     ]
    }
   ],
   "source": [
    "# save\n",
    "try:\n",
    "    os.mkdir(dir_path)    \n",
    "    pickle.dump(dataset,open(f\"{dir_path}/{name_WDS}_dataset.p\", \"wb\" ))\n",
    "except OSError:\n",
    "    print (\"Creation of the directory %s failed\" % dir_path)\n",
    "else:\n",
    "    print (\"Successfully created the directory %s \" % dir_path)"
   ]
  },
  {
   "cell_type": "code",
   "execution_count": 26,
   "id": "musical-victory",
   "metadata": {
    "execution": {
     "iopub.execute_input": "2021-02-19T13:50:54.118986Z",
     "iopub.status.busy": "2021-02-19T13:50:54.117960Z",
     "iopub.status.idle": "2021-02-19T13:50:56.727583Z",
     "shell.execute_reply": "2021-02-19T13:50:56.727583Z",
     "shell.execute_reply.started": "2021-02-19T13:50:54.118986Z"
    }
   },
   "outputs": [],
   "source": [
    "prueba = pickle.load(open(f'{dir_path}/{name_WDS}_dataset.p', 'rb'))"
   ]
  },
  {
   "cell_type": "code",
   "execution_count": 41,
   "id": "fresh-continuity",
   "metadata": {
    "execution": {
     "iopub.execute_input": "2021-02-19T13:55:02.013441Z",
     "iopub.status.busy": "2021-02-19T13:55:02.013441Z",
     "iopub.status.idle": "2021-02-19T13:55:02.017426Z",
     "shell.execute_reply": "2021-02-19T13:55:02.017426Z",
     "shell.execute_reply.started": "2021-02-19T13:55:02.013441Z"
    }
   },
   "outputs": [
    {
     "data": {
      "text/plain": [
       "5000"
      ]
     },
     "execution_count": 41,
     "metadata": {},
     "output_type": "execute_result"
    }
   ],
   "source": [
    "len(prueba['data'])"
   ]
  },
  {
   "cell_type": "code",
   "execution_count": 42,
   "id": "painted-geneva",
   "metadata": {
    "execution": {
     "iopub.execute_input": "2021-02-19T13:55:06.149406Z",
     "iopub.status.busy": "2021-02-19T13:55:06.149406Z",
     "iopub.status.idle": "2021-02-19T13:55:06.243233Z",
     "shell.execute_reply": "2021-02-19T13:55:06.243233Z",
     "shell.execute_reply.started": "2021-02-19T13:55:06.149406Z"
    },
    "scrolled": true
   },
   "outputs": [],
   "source": [
    "res = []\n",
    "neg =0\n",
    "pos =0\n",
    "for i in range(len(prueba['data'])):\n",
    "    valueRes = prueba['data'][i].res_PP\n",
    "    res.append(valueRes)\n",
    "    if valueRes <0:\n",
    "        neg+=1\n",
    "    else:\n",
    "        pos+=1\n",
    "    "
   ]
  },
  {
   "cell_type": "code",
   "execution_count": 43,
   "id": "african-liability",
   "metadata": {
    "execution": {
     "iopub.execute_input": "2021-02-19T13:55:10.480912Z",
     "iopub.status.busy": "2021-02-19T13:55:10.480912Z",
     "iopub.status.idle": "2021-02-19T13:55:10.485868Z",
     "shell.execute_reply": "2021-02-19T13:55:10.485868Z",
     "shell.execute_reply.started": "2021-02-19T13:55:10.480912Z"
    }
   },
   "outputs": [
    {
     "data": {
      "text/plain": [
       "(5000, 0)"
      ]
     },
     "execution_count": 43,
     "metadata": {},
     "output_type": "execute_result"
    }
   ],
   "source": [
    "pos, neg"
   ]
  },
  {
   "cell_type": "code",
   "execution_count": 44,
   "id": "attached-hayes",
   "metadata": {
    "execution": {
     "iopub.execute_input": "2021-02-19T13:55:20.201847Z",
     "iopub.status.busy": "2021-02-19T13:55:20.200882Z",
     "iopub.status.idle": "2021-02-19T13:55:20.248721Z",
     "shell.execute_reply": "2021-02-19T13:55:20.248721Z",
     "shell.execute_reply.started": "2021-02-19T13:55:20.200882Z"
    }
   },
   "outputs": [
    {
     "data": {
      "text/plain": [
       "(0.49562709228449847, 0.1009374098993823)"
      ]
     },
     "execution_count": 44,
     "metadata": {},
     "output_type": "execute_result"
    }
   ],
   "source": [
    "np.array(res).max(), np.array(res).min()"
   ]
  },
  {
   "cell_type": "code",
   "execution_count": 36,
   "id": "annual-arrangement",
   "metadata": {
    "execution": {
     "iopub.execute_input": "2021-02-19T13:51:22.575004Z",
     "iopub.status.busy": "2021-02-19T13:51:22.575004Z",
     "iopub.status.idle": "2021-02-19T13:51:22.582982Z",
     "shell.execute_reply": "2021-02-19T13:51:22.582982Z",
     "shell.execute_reply.started": "2021-02-19T13:51:22.575004Z"
    }
   },
   "outputs": [
    {
     "data": {
      "text/plain": [
       "[tensor([-1.6078], dtype=torch.float64),\n",
       " tensor([-1.7287], dtype=torch.float64),\n",
       " tensor([-1.8844], dtype=torch.float64),\n",
       " tensor([-1.0076], dtype=torch.float64),\n",
       " tensor([-2.3665], dtype=torch.float64),\n",
       " tensor([-0.7318], dtype=torch.float64),\n",
       " tensor([-1.2279], dtype=torch.float64),\n",
       " tensor([-1.5031], dtype=torch.float64),\n",
       " tensor([-2.1007], dtype=torch.float64),\n",
       " tensor([-0.7821], dtype=torch.float64)]"
      ]
     },
     "execution_count": 36,
     "metadata": {},
     "output_type": "execute_result"
    }
   ],
   "source": [
    "res[0:10]"
   ]
  },
  {
   "cell_type": "code",
   "execution_count": null,
   "id": "biological-genealogy",
   "metadata": {},
   "outputs": [],
   "source": [
    "prueba['data'][4997].diameter #Diameters"
   ]
  },
  {
   "cell_type": "code",
   "execution_count": null,
   "id": "current-cheese",
   "metadata": {},
   "outputs": [],
   "source": [
    "prueba['data'][0].diameter/ UNIT_TO_M #Diameters"
   ]
  },
  {
   "cell_type": "code",
   "execution_count": 26,
   "id": "mexican-underwear",
   "metadata": {
    "execution": {
     "iopub.execute_input": "2021-02-18T22:14:15.416495Z",
     "iopub.status.busy": "2021-02-18T22:14:15.416495Z",
     "iopub.status.idle": "2021-02-18T22:14:15.420486Z",
     "shell.execute_reply": "2021-02-18T22:14:15.420486Z",
     "shell.execute_reply.started": "2021-02-18T22:14:15.416495Z"
    }
   },
   "outputs": [],
   "source": [
    "# save\n",
    "# try:\n",
    "#     #os.mkdir(dir_path)    \n",
    "#     pickle.dump(dataset,open(f\"{dir_path}/{name_WDS}_dataset2.p\", \"wb\" ))\n",
    "# except OSError:\n",
    "#     print (\"Creation of the directory %s failed\" % dir_path)\n",
    "# else:\n",
    "#     print (\"Successfully created the directory %s \" % dir_path)"
   ]
  },
  {
   "cell_type": "code",
   "execution_count": 27,
   "id": "central-bread",
   "metadata": {
    "execution": {
     "iopub.execute_input": "2021-02-18T22:14:15.421482Z",
     "iopub.status.busy": "2021-02-18T22:14:15.421482Z",
     "iopub.status.idle": "2021-02-18T22:14:15.426498Z",
     "shell.execute_reply": "2021-02-18T22:14:15.426498Z",
     "shell.execute_reply.started": "2021-02-18T22:14:15.421482Z"
    }
   },
   "outputs": [],
   "source": [
    "#pickle.dump(dataset,open(f\"{dir_path}/{name_WDS}_dataset.p\", \"wb\" ))"
   ]
  },
  {
   "cell_type": "code",
   "execution_count": 28,
   "id": "advanced-horizontal",
   "metadata": {
    "execution": {
     "iopub.execute_input": "2021-02-18T22:14:15.427466Z",
     "iopub.status.busy": "2021-02-18T22:14:15.427466Z",
     "iopub.status.idle": "2021-02-18T22:14:15.431456Z",
     "shell.execute_reply": "2021-02-18T22:14:15.431456Z",
     "shell.execute_reply.started": "2021-02-18T22:14:15.427466Z"
    }
   },
   "outputs": [],
   "source": [
    "#prueba = pickle.load(open(r'C:\\Users\\agarzondiaz\\surfdrive\\Year 1\\AnyTown Database\\AnyTown_DB\\BIN_Geom_DB_5000\\BIN_dataset.p', 'rb'))"
   ]
  },
  {
   "cell_type": "code",
   "execution_count": 40,
   "id": "destroyed-korea",
   "metadata": {
    "execution": {
     "iopub.execute_input": "2021-02-19T13:54:54.983677Z",
     "iopub.status.busy": "2021-02-19T13:54:54.983677Z",
     "iopub.status.idle": "2021-02-19T13:54:57.901107Z",
     "shell.execute_reply": "2021-02-19T13:54:57.901107Z",
     "shell.execute_reply.started": "2021-02-19T13:54:54.983677Z"
    }
   },
   "outputs": [],
   "source": [
    "#prueba = pickle.load(open(r'C:\\Users\\agarzondiaz\\surfdrive\\Year 1\\AnyTown Database\\AnyTown_DB\\MOD_Geom_DB_5000\\MOD_dataset.p', 'rb'))"
   ]
  },
  {
   "cell_type": "code",
   "execution_count": 30,
   "id": "atmospheric-treaty",
   "metadata": {
    "execution": {
     "iopub.execute_input": "2021-02-19T13:51:09.398250Z",
     "iopub.status.busy": "2021-02-19T13:51:09.398250Z",
     "iopub.status.idle": "2021-02-19T13:51:09.403237Z",
     "shell.execute_reply": "2021-02-19T13:51:09.402240Z",
     "shell.execute_reply.started": "2021-02-19T13:51:09.398250Z"
    }
   },
   "outputs": [],
   "source": [
    "#RI_PP_new = res_index(results_WDS.node['head'], results_WDS.node['pressure'], results_WDS.node['demand'], flowrate, wn_WDS, min_pres, indx = 'PP')\n",
    "#RI_Todini_new = res_index(results_WDS.node['head'], results_WDS.node['pressure'], results_WDS.node['demand'], flowrate, wn_WDS, min_pres, indx = 'Todini')\n",
    "    \n",
    "#RI_PP_old = PP_index(results_WDS.node['head'], results_WDS.node['pressure'], results_WDS.node['demand'], flowrate, wn_WDS, 30)\n",
    "#RI_Todini_old = wntr.metrics.hydraulic.todini_index(results_WDS.node['head'], results_WDS.node['pressure'], results_WDS.node['demand'], flowrate, wn_WDS, 30)"
   ]
  },
  {
   "cell_type": "code",
   "execution_count": 31,
   "id": "innocent-string",
   "metadata": {
    "execution": {
     "iopub.execute_input": "2021-02-19T13:51:09.404234Z",
     "iopub.status.busy": "2021-02-19T13:51:09.404234Z",
     "iopub.status.idle": "2021-02-19T13:51:09.408223Z",
     "shell.execute_reply": "2021-02-19T13:51:09.408223Z",
     "shell.execute_reply.started": "2021-02-19T13:51:09.404234Z"
    }
   },
   "outputs": [],
   "source": [
    "#RI_Todini_new, RI_PP_old"
   ]
  },
  {
   "cell_type": "code",
   "execution_count": 33,
   "id": "electrical-needle",
   "metadata": {
    "execution": {
     "iopub.execute_input": "2021-02-19T13:51:22.557049Z",
     "iopub.status.busy": "2021-02-19T13:51:22.556064Z",
     "iopub.status.idle": "2021-02-19T13:51:22.560042Z",
     "shell.execute_reply": "2021-02-19T13:51:22.560042Z",
     "shell.execute_reply.started": "2021-02-19T13:51:22.557049Z"
    }
   },
   "outputs": [],
   "source": [
    "#RI_PP_old"
   ]
  },
  {
   "cell_type": "code",
   "execution_count": 34,
   "id": "celtic-protest",
   "metadata": {
    "execution": {
     "iopub.execute_input": "2021-02-19T13:51:22.561039Z",
     "iopub.status.busy": "2021-02-19T13:51:22.561039Z",
     "iopub.status.idle": "2021-02-19T13:51:22.567023Z",
     "shell.execute_reply": "2021-02-19T13:51:22.567023Z",
     "shell.execute_reply.started": "2021-02-19T13:51:22.561039Z"
    }
   },
   "outputs": [],
   "source": [
    "#RI_PP_new"
   ]
  },
  {
   "cell_type": "code",
   "execution_count": 35,
   "id": "patent-homeless",
   "metadata": {
    "execution": {
     "iopub.execute_input": "2021-02-19T13:51:22.569020Z",
     "iopub.status.busy": "2021-02-19T13:51:22.568021Z",
     "iopub.status.idle": "2021-02-19T13:51:22.574008Z",
     "shell.execute_reply": "2021-02-19T13:51:22.573021Z",
     "shell.execute_reply.started": "2021-02-19T13:51:22.569020Z"
    }
   },
   "outputs": [],
   "source": [
    "#     RI_PP = res_index(results_WDS.node['head'], results_WDS.node['pressure'], results_WDS.node['demand'], flowrate, wn_WDS, min_pres, indx = 'PP')\n",
    "#     RI_Todini = res_index(results_WDS.node['head'], results_WDS.node['pressure'], results_WDS.node['demand'], flowrate, wn_WDS, min_pres, indx = 'Todini')\n",
    "    \n",
    "    #RI_PP = PP_index(results_WDS.node['head'], results_WDS.node['pressure'], results_WDS.node['demand'], flowrate, wn_WDS, PMIN_WDS)\n",
    "    #RI_Todini = wntr.metrics.hydraulic.todini_index(results_WDS.node['head'], results_WDS.node['pressure'], results_WDS.node['demand'], flowrate, wn_WDS, PMIN_WDS)"
   ]
  },
  {
   "cell_type": "code",
   "execution_count": null,
   "id": "eight-captain",
   "metadata": {},
   "outputs": [],
   "source": []
  },
  {
   "cell_type": "code",
   "execution_count": null,
   "id": "statewide-christian",
   "metadata": {},
   "outputs": [],
   "source": []
  }
 ],
 "metadata": {
  "kernelspec": {
   "display_name": "Python 3",
   "language": "python",
   "name": "python3"
  },
  "language_info": {
   "codemirror_mode": {
    "name": "ipython",
    "version": 3
   },
   "file_extension": ".py",
   "mimetype": "text/x-python",
   "name": "python",
   "nbconvert_exporter": "python",
   "pygments_lexer": "ipython3",
   "version": "3.8.5"
  },
  "toc-autonumbering": true
 },
 "nbformat": 4,
 "nbformat_minor": 5
}
