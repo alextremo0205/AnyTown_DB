{
 "cells": [
  {
   "cell_type": "markdown",
   "metadata": {},
   "source": [
    "# GNN with PyG \n",
    "#### Generic GNN model for any WDS\n",
    "-Custom layer for Graph Neural Networks using PyTorch Geometric"
   ]
  },
  {
   "cell_type": "markdown",
   "metadata": {
    "collapsed": "true"
   },
   "source": [
    "## Imports"
   ]
  },
  {
   "cell_type": "markdown",
   "metadata": {
    "collapsed": "true"
   },
   "source": [
    "### Basic"
   ]
  },
  {
   "cell_type": "code",
   "execution_count": 1,
   "metadata": {
    "execution": {
     "iopub.execute_input": "2021-03-05T15:47:55.768283Z",
     "iopub.status.busy": "2021-03-05T15:47:55.767286Z",
     "iopub.status.idle": "2021-03-05T15:47:57.978831Z",
     "shell.execute_reply": "2021-03-05T15:47:57.977834Z",
     "shell.execute_reply.started": "2021-03-05T15:47:55.768283Z"
    }
   },
   "outputs": [],
   "source": [
    "import wntr\n",
    "import pandas as pd\n",
    "import numpy as np\n",
    "import networkx as nx\n",
    "import pickle\n",
    "import time\n",
    "import winsound"
   ]
  },
  {
   "cell_type": "markdown",
   "metadata": {
    "collapsed": "true"
   },
   "source": [
    "### PyTorch"
   ]
  },
  {
   "cell_type": "code",
   "execution_count": 2,
   "metadata": {
    "execution": {
     "iopub.execute_input": "2021-03-05T15:47:57.978831Z",
     "iopub.status.busy": "2021-03-05T15:47:57.978831Z",
     "iopub.status.idle": "2021-03-05T15:47:59.362623Z",
     "shell.execute_reply": "2021-03-05T15:47:59.362623Z",
     "shell.execute_reply.started": "2021-03-05T15:47:57.978831Z"
    }
   },
   "outputs": [],
   "source": [
    "import torch\n",
    "import torch.nn.functional as F\n",
    "import torch.nn as nn\n",
    "from torch import Tensor\n",
    "#from torch.nn import Sequential, Linear, ReLU"
   ]
  },
  {
   "cell_type": "code",
   "execution_count": 3,
   "metadata": {
    "execution": {
     "iopub.execute_input": "2021-03-05T15:47:59.363621Z",
     "iopub.status.busy": "2021-03-05T15:47:59.363621Z",
     "iopub.status.idle": "2021-03-05T15:47:59.369605Z",
     "shell.execute_reply": "2021-03-05T15:47:59.369605Z",
     "shell.execute_reply.started": "2021-03-05T15:47:59.363621Z"
    }
   },
   "outputs": [
    {
     "name": "stdout",
     "output_type": "stream",
     "text": [
      "1.7.1\n"
     ]
    }
   ],
   "source": [
    "print(torch.__version__) #Hopefully 1.7.1"
   ]
  },
  {
   "cell_type": "markdown",
   "metadata": {
    "collapsed": "true"
   },
   "source": [
    "### PyTorch Geometric"
   ]
  },
  {
   "cell_type": "code",
   "execution_count": 4,
   "metadata": {
    "execution": {
     "iopub.execute_input": "2021-03-05T15:47:59.370604Z",
     "iopub.status.busy": "2021-03-05T15:47:59.370604Z",
     "iopub.status.idle": "2021-03-05T15:48:02.967874Z",
     "shell.execute_reply": "2021-03-05T15:48:02.967115Z",
     "shell.execute_reply.started": "2021-03-05T15:47:59.370604Z"
    }
   },
   "outputs": [
    {
     "name": "stderr",
     "output_type": "stream",
     "text": [
      "C:\\Programs\\Anaconda3\\envs\\PyTorch_Env\\lib\\site-packages\\torch\\cuda\\__init__.py:52: UserWarning: CUDA initialization: Found no NVIDIA driver on your system. Please check that you have an NVIDIA GPU and installed a driver from http://www.nvidia.com/Download/index.aspx (Triggered internally at  ..\\c10\\cuda\\CUDAFunctions.cpp:100.)\n",
      "  return torch._C._cuda_getDeviceCount() > 0\n"
     ]
    }
   ],
   "source": [
    "#message passing\n",
    "from torch_geometric.nn import MessagePassing, EdgeConv\n",
    "from torch_geometric.nn import GCNConv, NNConv\n",
    "\n",
    "import torch_geometric\n",
    "\n",
    "from torch_geometric.data import Data\n",
    "\n",
    "\n",
    "from torch_geometric.utils import convert, get_laplacian, to_dense_adj #, add_self_loops, degree,\n",
    "\n",
    "from torch_geometric.typing import Adj#, Union#, Size, OptTensor\n",
    "\n",
    "from torch_sparse import matmul, SparseTensor\n",
    "\n",
    "from torch_geometric.nn import global_mean_pool\n",
    "\n",
    "\n"
   ]
  },
  {
   "cell_type": "markdown",
   "metadata": {
    "collapsed": "true"
   },
   "source": [
    "### RunBuilder and RunManager"
   ]
  },
  {
   "cell_type": "code",
   "execution_count": 5,
   "metadata": {
    "execution": {
     "iopub.execute_input": "2021-03-05T15:48:02.969906Z",
     "iopub.status.busy": "2021-03-05T15:48:02.968870Z",
     "iopub.status.idle": "2021-03-05T15:48:02.972859Z",
     "shell.execute_reply": "2021-03-05T15:48:02.972859Z",
     "shell.execute_reply.started": "2021-03-05T15:48:02.969906Z"
    }
   },
   "outputs": [],
   "source": [
    "from collections import OrderedDict\n",
    "from collections import namedtuple\n",
    "from itertools import product\n",
    "\n",
    "from torch.utils.data import DataLoader\n",
    "#from torch.utils.tensorboard import SummaryWriter"
   ]
  },
  {
   "cell_type": "markdown",
   "metadata": {
    "collapsed": "true"
   },
   "source": [
    "### Scikit-Learn"
   ]
  },
  {
   "cell_type": "code",
   "execution_count": 6,
   "metadata": {
    "execution": {
     "iopub.execute_input": "2021-03-05T15:48:02.974854Z",
     "iopub.status.busy": "2021-03-05T15:48:02.974854Z",
     "iopub.status.idle": "2021-03-05T15:48:02.978845Z",
     "shell.execute_reply": "2021-03-05T15:48:02.978845Z",
     "shell.execute_reply.started": "2021-03-05T15:48:02.974854Z"
    }
   },
   "outputs": [],
   "source": [
    "from sklearn.model_selection import train_test_split\n",
    "from sklearn.metrics import r2_score"
   ]
  },
  {
   "cell_type": "markdown",
   "metadata": {
    "collapsed": "true"
   },
   "source": [
    "### Performance"
   ]
  },
  {
   "cell_type": "code",
   "execution_count": 7,
   "metadata": {
    "execution": {
     "iopub.execute_input": "2021-03-05T15:48:02.979841Z",
     "iopub.status.busy": "2021-03-05T15:48:02.979841Z",
     "iopub.status.idle": "2021-03-05T15:48:02.983830Z",
     "shell.execute_reply": "2021-03-05T15:48:02.983830Z",
     "shell.execute_reply.started": "2021-03-05T15:48:02.979841Z"
    }
   },
   "outputs": [],
   "source": [
    "# from joblib import Parallel, delayed"
   ]
  },
  {
   "cell_type": "markdown",
   "metadata": {
    "collapsed": "true"
   },
   "source": [
    "### Visualization"
   ]
  },
  {
   "cell_type": "code",
   "execution_count": 8,
   "metadata": {
    "execution": {
     "iopub.execute_input": "2021-03-05T15:48:02.984829Z",
     "iopub.status.busy": "2021-03-05T15:48:02.984829Z",
     "iopub.status.idle": "2021-03-05T15:48:02.993803Z",
     "shell.execute_reply": "2021-03-05T15:48:02.992806Z",
     "shell.execute_reply.started": "2021-03-05T15:48:02.984829Z"
    }
   },
   "outputs": [],
   "source": [
    "import ipywidgets as widgets\n",
    "from IPython.display import clear_output, display\n",
    "import plotly.graph_objects as go"
   ]
  },
  {
   "cell_type": "markdown",
   "metadata": {
    "collapsed": "true"
   },
   "source": [
    "### Custom"
   ]
  },
  {
   "cell_type": "code",
   "execution_count": 9,
   "metadata": {
    "execution": {
     "iopub.execute_input": "2021-03-05T15:48:02.994801Z",
     "iopub.status.busy": "2021-03-05T15:48:02.994801Z",
     "iopub.status.idle": "2021-03-05T15:48:03.003778Z",
     "shell.execute_reply": "2021-03-05T15:48:03.002781Z",
     "shell.execute_reply.started": "2021-03-05T15:48:02.994801Z"
    }
   },
   "outputs": [],
   "source": [
    "from wntr_to_nx import from_wntr_to_nx\n",
    "from Models.G_filter_K import G_filter_K"
   ]
  },
  {
   "cell_type": "markdown",
   "metadata": {},
   "source": [
    "## Utilities"
   ]
  },
  {
   "cell_type": "markdown",
   "metadata": {
    "collapsed": "true"
   },
   "source": [
    "### Scaler"
   ]
  },
  {
   "cell_type": "code",
   "execution_count": 10,
   "metadata": {
    "execution": {
     "iopub.execute_input": "2021-03-05T15:48:03.004774Z",
     "iopub.status.busy": "2021-03-05T15:48:03.004774Z",
     "iopub.status.idle": "2021-03-05T15:48:03.015745Z",
     "shell.execute_reply": "2021-03-05T15:48:03.015745Z",
     "shell.execute_reply.started": "2021-03-05T15:48:03.004774Z"
    }
   },
   "outputs": [],
   "source": [
    "class Scaler():\n",
    "    def __init__(self, type_norm, par1=None, par2=None):\n",
    "        self.par1 = par1\n",
    "        self.par2 = par2\n",
    "        assert type_norm in ['Linear', 'Gaussian'], 'Linear or Gaussian?'\n",
    "        self.type_norm = type_norm\n",
    "        \n",
    "        \n",
    "    def scale(self, list_of_values):\n",
    "        \n",
    "        if self.type_norm == 'Linear':\n",
    "            if self.par1 is None:\n",
    "                minT = min(list_of_values)\n",
    "                self.par1 = minT\n",
    "            else:\n",
    "                minT= self.par1\n",
    "            \n",
    "            if self.par2 is None:\n",
    "                maxT = max(list_of_values)\n",
    "                self.par2 = maxT\n",
    "            else:\n",
    "                maxT= self.par2    \n",
    "            assert maxT-minT != 0, 'Max and min values are equal'\n",
    "            normalized_data = (list_of_values - minT)/(maxT - minT)\n",
    "        else:\n",
    "            if self.par1 ==None and self.par2 ==None:\n",
    "                means = list_of_values.mean()#dim=0, keepdim=True)\n",
    "                self.par1 = means\n",
    "                stds = list_of_values.std()#dim=0, keepdim=True)\n",
    "                self.par2 = stds\n",
    "            else:\n",
    "                means = self.par1\n",
    "                stds = self.par2\n",
    "            assert stds != 0, 'Standard deviation is zero'\n",
    "            normalized_data = (list_of_values - means) / stds\n",
    "        \n",
    "        return normalized_data\n",
    "\n",
    "\n",
    "    def rescale(self, scaledList):\n",
    "        if self.type_norm == 'Linear':\n",
    "            ans = (scaledList)*(self.par2 - self.par1) + self.par1\n",
    "        else:\n",
    "            ans = scaledList*self.par2 + self.par1\n",
    "        return ans"
   ]
  },
  {
   "cell_type": "markdown",
   "metadata": {
    "collapsed": "true"
   },
   "source": [
    "### RunBuilder"
   ]
  },
  {
   "cell_type": "code",
   "execution_count": 11,
   "metadata": {
    "execution": {
     "iopub.execute_input": "2021-03-05T15:48:03.016742Z",
     "iopub.status.busy": "2021-03-05T15:48:03.016742Z",
     "iopub.status.idle": "2021-03-05T15:48:03.021760Z",
     "shell.execute_reply": "2021-03-05T15:48:03.021760Z",
     "shell.execute_reply.started": "2021-03-05T15:48:03.016742Z"
    }
   },
   "outputs": [],
   "source": [
    "class RunBuilder():\n",
    "    @staticmethod\n",
    "    def get_runs(params):\n",
    "\n",
    "        Run = namedtuple('Run', params.keys())\n",
    "\n",
    "        runs = []\n",
    "        for v in product(*params.values()):\n",
    "            runs.append(Run(*v))\n",
    "\n",
    "        return runs"
   ]
  },
  {
   "cell_type": "markdown",
   "metadata": {
    "collapsed": "true"
   },
   "source": [
    "### Loading bar"
   ]
  },
  {
   "cell_type": "code",
   "execution_count": 12,
   "metadata": {
    "execution": {
     "iopub.execute_input": "2021-03-05T15:48:03.022726Z",
     "iopub.status.busy": "2021-03-05T15:48:03.022726Z",
     "iopub.status.idle": "2021-03-05T15:48:03.033712Z",
     "shell.execute_reply": "2021-03-05T15:48:03.033712Z",
     "shell.execute_reply.started": "2021-03-05T15:48:03.022726Z"
    }
   },
   "outputs": [],
   "source": [
    "f = widgets.IntProgress(\n",
    "    value=7,\n",
    "    min=0,\n",
    "    max=10,\n",
    "    step=1,\n",
    "    description='Loading:',\n",
    "    bar_style='', # 'success', 'info', 'warning', 'danger' or ''\n",
    "    orientation='horizontal'\n",
    ")"
   ]
  },
  {
   "cell_type": "markdown",
   "metadata": {},
   "source": [
    "### Graph R2"
   ]
  },
  {
   "cell_type": "markdown",
   "metadata": {},
   "source": [
    "*Further improvements required"
   ]
  },
  {
   "cell_type": "code",
   "execution_count": 114,
   "metadata": {
    "execution": {
     "iopub.execute_input": "2021-03-05T16:14:26.305992Z",
     "iopub.status.busy": "2021-03-05T16:14:26.305992Z",
     "iopub.status.idle": "2021-03-05T16:14:26.309981Z",
     "shell.execute_reply": "2021-03-05T16:14:26.309981Z",
     "shell.execute_reply.started": "2021-03-05T16:14:26.305992Z"
    }
   },
   "outputs": [],
   "source": [
    "def graph_r2(model,graphs):\n",
    "#     preds =[]\n",
    "#     y = []\n",
    "#     for g in graphs:\n",
    "#         preds.append(model(g).detach().numpy())\n",
    "#         y.append(g.y.detach().numpy())\n",
    "    #print(preds, y)\n",
    "    preds = model(graphs)\n",
    "    y = graphs.y\n",
    "    #print(preds, y)\n",
    "    \n",
    "    r_squared = r2_score( np.array(y).flatten() , np.array(preds.detach()).flatten() )\n",
    "    return(r_squared)"
   ]
  },
  {
   "cell_type": "markdown",
   "metadata": {
    "collapsed": "true"
   },
   "source": [
    "### Model Preds and Targets"
   ]
  },
  {
   "cell_type": "code",
   "execution_count": 14,
   "metadata": {
    "execution": {
     "iopub.execute_input": "2021-03-05T15:48:03.042675Z",
     "iopub.status.busy": "2021-03-05T15:48:03.042675Z",
     "iopub.status.idle": "2021-03-05T15:48:03.046663Z",
     "shell.execute_reply": "2021-03-05T15:48:03.046663Z",
     "shell.execute_reply.started": "2021-03-05T15:48:03.042675Z"
    }
   },
   "outputs": [],
   "source": [
    "def res_and_tar(model,graphs):\n",
    "    preds =[]\n",
    "    y = []\n",
    "    for g in graphs:\n",
    "        preds.append(model(g).mean().detach().numpy())\n",
    "        y.append(g.y.detach().numpy())\n",
    "    #print(preds, y)\n",
    "    #r_squared = r2_score( np.array(y).flatten() , np.array(preds).flatten() )\n",
    "    return(np.array(preds).flatten(), np.array(y).flatten())"
   ]
  },
  {
   "cell_type": "markdown",
   "metadata": {
    "collapsed": "true"
   },
   "source": [
    "### Graph -results"
   ]
  },
  {
   "cell_type": "code",
   "execution_count": 15,
   "metadata": {
    "execution": {
     "iopub.execute_input": "2021-03-05T15:48:03.048657Z",
     "iopub.status.busy": "2021-03-05T15:48:03.047661Z",
     "iopub.status.idle": "2021-03-05T15:48:03.056637Z",
     "shell.execute_reply": "2021-03-05T15:48:03.056637Z",
     "shell.execute_reply.started": "2021-03-05T15:48:03.048657Z"
    }
   },
   "outputs": [],
   "source": [
    "def pred_vs_y_plotly(x_real_values_train, y_pred_values_train, x_real_values_test, y_pred_values_test):\n",
    "    fig = go.FigureWidget(data=go.Scatter(x=x_real_values_train, y=y_pred_values_train,  line={'dash': 'dash'}, name = 'Train'))\n",
    "\n",
    "    fig.add_trace(go.Scatter(x=x_real_values_test, y=y_pred_values_test,  line={'dash': 'dash'}, name='Test'))\n",
    "    #fig.add_trace(go.Scatter(x=x_axis, y=first_DB_pd['minPrPa'],  line={'dash': 'dash'}, name='Min. Res.'))\n",
    "\n",
    "\n",
    "    fig.update_traces(mode='markers',  marker_size=3)\n",
    "    fig.update_layout(title='Pred. vs Actual - Prasad & Park Resilience Index',\n",
    "                        xaxis_title=\"Real Index\",\n",
    "                        yaxis_title=\"Pred. Index\",\n",
    "                        legend_title=\"Legend\",\n",
    "                        legend= {'itemsizing': 'constant'},\n",
    "                        autosize=False,\n",
    "                        width=800,\n",
    "                        height=500,\n",
    "                        font=dict(\n",
    "                            #family=\"Courier New, monospace\",\n",
    "                            size=18,\n",
    "        ))\n",
    "    #yaxis_zeroline=False, xaxis_zeroline=False)\n",
    "    fig.update_layout(shapes=[\n",
    "    dict(\n",
    "      type= 'line',\n",
    "      yref= 'y', y0= -0.30, y1= 1,   # adding a horizontal line at Y = 1\n",
    "      xref= 'x', x0= -0.30, x1= 1\n",
    "         ) \n",
    "    ])\n",
    "\n",
    "    fig.update_xaxes(range=[-0.3, 1])\n",
    "    fig.update_yaxes(range=[-0.3, 1])\n",
    "    \n",
    "    return fig"
   ]
  },
  {
   "cell_type": "markdown",
   "metadata": {
    "collapsed": "true"
   },
   "source": [
    "## Dataset "
   ]
  },
  {
   "cell_type": "markdown",
   "metadata": {
    "collapsed": "true"
   },
   "source": [
    "### Loading inp and database"
   ]
  },
  {
   "cell_type": "code",
   "execution_count": 16,
   "metadata": {
    "execution": {
     "iopub.execute_input": "2021-03-05T15:48:03.057632Z",
     "iopub.status.busy": "2021-03-05T15:48:03.057632Z",
     "iopub.status.idle": "2021-03-05T15:48:03.077580Z",
     "shell.execute_reply": "2021-03-05T15:48:03.077580Z",
     "shell.execute_reply.started": "2021-03-05T15:48:03.057632Z"
    }
   },
   "outputs": [
    {
     "name": "stdout",
     "output_type": "stream",
     "text": [
      "C:\\Users\\agarzondiaz\\surfdrive\\Year 1\\AnyTown Database\\AnyTown_DB\\GNN code\n"
     ]
    }
   ],
   "source": [
    "!cd "
   ]
  },
  {
   "cell_type": "code",
   "execution_count": 17,
   "metadata": {
    "execution": {
     "iopub.execute_input": "2021-03-05T15:48:03.079577Z",
     "iopub.status.busy": "2021-03-05T15:48:03.078578Z",
     "iopub.status.idle": "2021-03-05T15:48:03.330904Z",
     "shell.execute_reply": "2021-03-05T15:48:03.330904Z",
     "shell.execute_reply.started": "2021-03-05T15:48:03.079577Z"
    }
   },
   "outputs": [
    {
     "data": {
      "text/plain": [
       "(<matplotlib.collections.PathCollection at 0x1dedfdcaf10>,\n",
       " <matplotlib.collections.LineCollection at 0x1dedfdca400>)"
      ]
     },
     "execution_count": 17,
     "metadata": {},
     "output_type": "execute_result"
    },
    {
     "data": {
      "image/png": "[encoded data removed]",
      "text/plain": [
       "<Figure size 432x288 with 1 Axes>"
      ]
     },
     "metadata": {},
     "output_type": "display_data"
    }
   ],
   "source": [
    "# Create a water network model\n",
    "inp_file = 'Exeter/BLA.inp'\n",
    "wn_WDS = wntr.network.WaterNetworkModel(inp_file)\n",
    "\n",
    "# Graph the network\n",
    "wntr.graphics.plot_network(wn_WDS, title=wn_WDS.name)\n",
    "\n",
    "# Simulate hydraulics\n",
    "# sim_WDS = wntr.sim.EpanetSimulator(wn_WDS)\n",
    "# results_WDS = sim_WDS.run_sim()"
   ]
  },
  {
   "cell_type": "code",
   "execution_count": 18,
   "metadata": {
    "execution": {
     "iopub.execute_input": "2021-03-05T15:48:03.331901Z",
     "iopub.status.busy": "2021-03-05T15:48:03.331901Z",
     "iopub.status.idle": "2021-03-05T15:48:03.334895Z",
     "shell.execute_reply": "2021-03-05T15:48:03.334895Z",
     "shell.execute_reply.started": "2021-03-05T15:48:03.331901Z"
    }
   },
   "outputs": [],
   "source": [
    "#del database"
   ]
  },
  {
   "cell_type": "code",
   "execution_count": 19,
   "metadata": {
    "execution": {
     "iopub.execute_input": "2021-03-05T15:48:03.335892Z",
     "iopub.status.busy": "2021-03-05T15:48:03.335892Z",
     "iopub.status.idle": "2021-03-05T15:48:05.589129Z",
     "shell.execute_reply": "2021-03-05T15:48:05.588279Z",
     "shell.execute_reply.started": "2021-03-05T15:48:03.335892Z"
    }
   },
   "outputs": [],
   "source": [
    "# Import database: contains information for all the simulations run\n",
    "try:\n",
    "    print(database is None)\n",
    "except:\n",
    "    database = pickle.load( open( \"Datasets/BLA_dataset.p\", \"rb\" ))"
   ]
  },
  {
   "cell_type": "code",
   "execution_count": 20,
   "metadata": {
    "execution": {
     "iopub.execute_input": "2021-03-05T15:48:05.592117Z",
     "iopub.status.busy": "2021-03-05T15:48:05.592117Z",
     "iopub.status.idle": "2021-03-05T15:48:05.595109Z",
     "shell.execute_reply": "2021-03-05T15:48:05.595109Z",
     "shell.execute_reply.started": "2021-03-05T15:48:05.592117Z"
    }
   },
   "outputs": [],
   "source": [
    "database = database['data']"
   ]
  },
  {
   "cell_type": "code",
   "execution_count": 21,
   "metadata": {
    "execution": {
     "iopub.execute_input": "2021-03-05T15:48:05.598101Z",
     "iopub.status.busy": "2021-03-05T15:48:05.597104Z",
     "iopub.status.idle": "2021-03-05T15:48:05.605083Z",
     "shell.execute_reply": "2021-03-05T15:48:05.604084Z",
     "shell.execute_reply.started": "2021-03-05T15:48:05.598101Z"
    }
   },
   "outputs": [
    {
     "data": {
      "text/plain": [
       "Data(ID=[31], base_demand=[31], base_head=[31], diameter=[70], edge_index=[2, 70], elevation=[31], length=[70], pos=[31, 2], res_PP=[1], res_Todini=[1], roughness=[70], type=[70], type_1H=[31])"
      ]
     },
     "execution_count": 21,
     "metadata": {},
     "output_type": "execute_result"
    }
   ],
   "source": [
    "database[0]"
   ]
  },
  {
   "cell_type": "markdown",
   "metadata": {
    "collapsed": "true"
   },
   "source": [
    "### Geometric Dataset"
   ]
  },
  {
   "cell_type": "markdown",
   "metadata": {},
   "source": [
    "Organize and normalize the dataset "
   ]
  },
  {
   "cell_type": "code",
   "execution_count": 22,
   "metadata": {
    "execution": {
     "iopub.execute_input": "2021-03-05T15:48:05.606079Z",
     "iopub.status.busy": "2021-03-05T15:48:05.605083Z",
     "iopub.status.idle": "2021-03-05T15:48:05.610068Z",
     "shell.execute_reply": "2021-03-05T15:48:05.610068Z",
     "shell.execute_reply.started": "2021-03-05T15:48:05.606079Z"
    }
   },
   "outputs": [],
   "source": [
    "torch.set_default_dtype(torch.float64)"
   ]
  },
  {
   "cell_type": "markdown",
   "metadata": {
    "collapsed": "true"
   },
   "source": [
    "#### Scalers"
   ]
  },
  {
   "cell_type": "code",
   "execution_count": 23,
   "metadata": {
    "execution": {
     "iopub.execute_input": "2021-03-05T15:48:05.611066Z",
     "iopub.status.busy": "2021-03-05T15:48:05.611066Z",
     "iopub.status.idle": "2021-03-05T15:48:05.616053Z",
     "shell.execute_reply": "2021-03-05T15:48:05.615079Z",
     "shell.execute_reply.started": "2021-03-05T15:48:05.611066Z"
    }
   },
   "outputs": [],
   "source": [
    "elev_and_head = torch.cat((database[0].elevation, database[0].base_head))"
   ]
  },
  {
   "cell_type": "code",
   "execution_count": 24,
   "metadata": {
    "execution": {
     "iopub.execute_input": "2021-03-05T15:48:05.617050Z",
     "iopub.status.busy": "2021-03-05T15:48:05.617050Z",
     "iopub.status.idle": "2021-03-05T15:48:05.625061Z",
     "shell.execute_reply": "2021-03-05T15:48:05.625061Z",
     "shell.execute_reply.started": "2021-03-05T15:48:05.617050Z"
    }
   },
   "outputs": [],
   "source": [
    "sc_base_dem  = Scaler(type_norm='Gaussian')\n",
    "sc_head_elev = Scaler(type_norm='Linear', par1 = min(elev_and_head), par2 =max(elev_and_head) )\n",
    "\n",
    "sc_diameter  = Scaler(type_norm='Linear', par1 = 0, par2 = 1)\n",
    "sc_length    = Scaler(type_norm='Gaussian')\n",
    "sc_roughness = Scaler(type_norm='Linear', par1=80, par2=150)\n"
   ]
  },
  {
   "cell_type": "markdown",
   "metadata": {
    "collapsed": "true"
   },
   "source": [
    "#### Creating the final graphs\n",
    "These graphs contain the information in the nodes (x), edges (edge_attr), and the target (res_PP)"
   ]
  },
  {
   "cell_type": "code",
   "execution_count": 25,
   "metadata": {
    "execution": {
     "iopub.execute_input": "2021-03-05T15:48:05.626026Z",
     "iopub.status.busy": "2021-03-05T15:48:05.626026Z",
     "iopub.status.idle": "2021-03-05T15:48:07.074013Z",
     "shell.execute_reply": "2021-03-05T15:48:07.073090Z",
     "shell.execute_reply.started": "2021-03-05T15:48:05.626026Z"
    }
   },
   "outputs": [],
   "source": [
    "graphs = []\n",
    "for i in database:\n",
    "    if i.res_PP>0:\n",
    "        current = Data()\n",
    "        current.edge_index = i.edge_index\n",
    "        current.ID =  i.ID\n",
    "        current.pos = i.pos\n",
    "\n",
    "        current.x = torch.cat(( i.type_1H.view(-1,1),      #Already normalized\n",
    "                                sc_base_dem.scale(i.base_demand).view(-1,1),  #\n",
    "                                sc_head_elev.scale(i.base_head).view(-1,1),\n",
    "                                sc_head_elev.scale(i.elevation).view(-1,1)), 1).double()\n",
    "\n",
    "        current.edge_attr = torch.cat(( \n",
    "                            sc_diameter.scale(i.diameter).view(-1,1),\n",
    "                            sc_length.scale(i.length).view(-1,1), \n",
    "                            sc_roughness.scale(i.roughness).view(-1,1))\n",
    "                            , 1).double()\n",
    "\n",
    "        current.y = i.res_PP\n",
    "\n",
    "        graphs.append(current)\n",
    "    "
   ]
  },
  {
   "cell_type": "code",
   "execution_count": 26,
   "metadata": {
    "execution": {
     "iopub.execute_input": "2021-03-05T15:48:07.074013Z",
     "iopub.status.busy": "2021-03-05T15:48:07.074013Z",
     "iopub.status.idle": "2021-03-05T15:48:07.077009Z",
     "shell.execute_reply": "2021-03-05T15:48:07.077009Z",
     "shell.execute_reply.started": "2021-03-05T15:48:07.074013Z"
    },
    "scrolled": true
   },
   "outputs": [],
   "source": [
    "#Example of the normalized weights in the adjacency matrix (as edge index and edge weight)\n",
    "#graphs[3].weight.t(), graphs[3].edge_index\n",
    "#graphs[3].diams_n.t(), graphs[3].edge_index"
   ]
  },
  {
   "cell_type": "code",
   "execution_count": 27,
   "metadata": {
    "execution": {
     "iopub.execute_input": "2021-03-05T15:48:07.078000Z",
     "iopub.status.busy": "2021-03-05T15:48:07.078000Z",
     "iopub.status.idle": "2021-03-05T15:48:07.083998Z",
     "shell.execute_reply": "2021-03-05T15:48:07.083998Z",
     "shell.execute_reply.started": "2021-03-05T15:48:07.078000Z"
    }
   },
   "outputs": [],
   "source": [
    "#graphs[3].base_head"
   ]
  },
  {
   "cell_type": "code",
   "execution_count": 28,
   "metadata": {
    "execution": {
     "iopub.execute_input": "2021-03-05T15:48:07.084982Z",
     "iopub.status.busy": "2021-03-05T15:48:07.084982Z",
     "iopub.status.idle": "2021-03-05T15:48:07.089969Z",
     "shell.execute_reply": "2021-03-05T15:48:07.089969Z",
     "shell.execute_reply.started": "2021-03-05T15:48:07.084982Z"
    }
   },
   "outputs": [
    {
     "data": {
      "text/plain": [
       "4418"
      ]
     },
     "execution_count": 28,
     "metadata": {},
     "output_type": "execute_result"
    }
   ],
   "source": [
    "len(graphs)"
   ]
  },
  {
   "cell_type": "code",
   "execution_count": 29,
   "metadata": {
    "execution": {
     "iopub.execute_input": "2021-03-05T15:48:07.090966Z",
     "iopub.status.busy": "2021-03-05T15:48:07.090966Z",
     "iopub.status.idle": "2021-03-05T15:48:07.097946Z",
     "shell.execute_reply": "2021-03-05T15:48:07.097946Z",
     "shell.execute_reply.started": "2021-03-05T15:48:07.090966Z"
    }
   },
   "outputs": [
    {
     "data": {
      "text/plain": [
       "tensor([0.1255])"
      ]
     },
     "execution_count": 29,
     "metadata": {},
     "output_type": "execute_result"
    }
   ],
   "source": [
    "graphs[3].y"
   ]
  },
  {
   "cell_type": "markdown",
   "metadata": {},
   "source": [
    "### Data split"
   ]
  },
  {
   "cell_type": "code",
   "execution_count": 30,
   "metadata": {
    "execution": {
     "iopub.execute_input": "2021-03-05T15:48:07.099942Z",
     "iopub.status.busy": "2021-03-05T15:48:07.099942Z",
     "iopub.status.idle": "2021-03-05T15:48:07.103930Z",
     "shell.execute_reply": "2021-03-05T15:48:07.103930Z",
     "shell.execute_reply.started": "2021-03-05T15:48:07.099942Z"
    }
   },
   "outputs": [],
   "source": [
    "# create dataset\n",
    "#split_ix = 3000\n",
    "seed = 1135\n",
    "batch_size = 64\n",
    "split_ix = int(0.8 * len(graphs))\n",
    "#val_size = int(0.2 * len(graphs))\n",
    "train_loader = torch_geometric.data.DataLoader(graphs[:split_ix], batch_size=batch_size, shuffle=True)\n",
    "valid_loader = torch_geometric.data.DataLoader(graphs[split_ix:], batch_size=batch_size, shuffle=True)"
   ]
  },
  {
   "cell_type": "code",
   "execution_count": 31,
   "metadata": {
    "execution": {
     "iopub.execute_input": "2021-03-05T15:48:07.104928Z",
     "iopub.status.busy": "2021-03-05T15:48:07.104928Z",
     "iopub.status.idle": "2021-03-05T15:48:07.109916Z",
     "shell.execute_reply": "2021-03-05T15:48:07.108925Z",
     "shell.execute_reply.started": "2021-03-05T15:48:07.104928Z"
    },
    "scrolled": true
   },
   "outputs": [],
   "source": [
    "# for step, data in enumerate(train_loader):\n",
    "#     print(f'Step {step + 1}:')\n",
    "#     print('=======')\n",
    "#     print(f'Number of graphs in the current batch: {data.num_graphs}')\n",
    "#     print(data)\n",
    "#     print()"
   ]
  },
  {
   "cell_type": "code",
   "execution_count": 32,
   "metadata": {
    "execution": {
     "iopub.execute_input": "2021-03-05T15:48:07.110914Z",
     "iopub.status.busy": "2021-03-05T15:48:07.110914Z",
     "iopub.status.idle": "2021-03-05T15:48:07.116897Z",
     "shell.execute_reply": "2021-03-05T15:48:07.116897Z",
     "shell.execute_reply.started": "2021-03-05T15:48:07.110914Z"
    }
   },
   "outputs": [],
   "source": [
    "#seed = 1135\n",
    "#train_size = int(0.8 * len(graphs))\n",
    "#val_size = int(0.1 * len(graphs))\n",
    "#test_size = len(graphs) -val_size - train_size\n",
    "#train_dataset, val_dataset, test_dataset = torch.utils.data.random_split(graphs, [train_size, val_size, test_size],generator=torch.Generator().manual_seed(seed))"
   ]
  },
  {
   "cell_type": "markdown",
   "metadata": {},
   "source": [
    "## **Message Passing**"
   ]
  },
  {
   "cell_type": "markdown",
   "metadata": {},
   "source": [
    "**MessagePassing(aggr=\"add\", flow=\"source_to_target\", node_dim=-2):** \\\n",
    "Defines the aggregation scheme to use (\"add\", \"mean\" or \"max\") and the flow direction of message passing (either \"source_to_target\" or \"target_to_source\"). Furthermore, the node_dim attribute indicates along which axis to propagate."
   ]
  },
  {
   "cell_type": "markdown",
   "metadata": {},
   "source": [
    "$${\\huge \\mathbf{x}_i^{\\prime} = \\gamma_{\\mathbf{\\Theta}} \\left( \\mathbf{x}_i,\n",
    "\\square_{j \\in \\mathcal{N}(i)} \\, \\phi_{\\mathbf{\\Theta}}\n",
    "\\left(\\mathbf{x}_i, \\mathbf{x}_j,\\mathbf{e}_{j,i}\\right) \\right) }$$ \n",
    "\n",
    "where $\\square$ denotes a differentiable, permutation invariant function, e.g., sum, mean or max, and $\\gamma_{\\mathbf{\\Theta}}$ and $ \\phi_{\\mathbf{\\Theta}}$ denote differentiable functions such as MLPs.\n",
    "Source: [PyTorch Geometric](https://pytorch-geometric.readthedocs.io/en/latest/notes/create_gnn.html)"
   ]
  },
  {
   "cell_type": "markdown",
   "metadata": {},
   "source": [
    "### Layer definition"
   ]
  },
  {
   "cell_type": "markdown",
   "metadata": {},
   "source": [
    "#### Graph filter"
   ]
  },
  {
   "cell_type": "markdown",
   "metadata": {},
   "source": [
    "### Model definition"
   ]
  },
  {
   "cell_type": "code",
   "execution_count": 47,
   "metadata": {
    "execution": {
     "iopub.execute_input": "2021-03-05T15:53:19.925107Z",
     "iopub.status.busy": "2021-03-05T15:53:19.924109Z",
     "iopub.status.idle": "2021-03-05T15:53:19.934082Z",
     "shell.execute_reply": "2021-03-05T15:53:19.934082Z",
     "shell.execute_reply.started": "2021-03-05T15:53:19.924109Z"
    }
   },
   "outputs": [
    {
     "data": {
      "text/plain": [
       "Batch(ID=[64], batch=[1984], edge_attr=[4480, 3], edge_index=[2, 4480], pos=[1984, 2], x=[1984, 4], y=[64])"
      ]
     },
     "execution_count": 47,
     "metadata": {},
     "output_type": "execute_result"
    }
   ],
   "source": [
    "next(iter(train_loader))"
   ]
  },
  {
   "cell_type": "code",
   "execution_count": 57,
   "metadata": {
    "execution": {
     "iopub.execute_input": "2021-03-05T15:55:36.602042Z",
     "iopub.status.busy": "2021-03-05T15:55:36.602042Z",
     "iopub.status.idle": "2021-03-05T15:55:36.607000Z",
     "shell.execute_reply": "2021-03-05T15:55:36.607000Z",
     "shell.execute_reply.started": "2021-03-05T15:55:36.602042Z"
    }
   },
   "outputs": [
    {
     "data": {
      "text/plain": [
       "tensor([1, 1, 1, 1, 1, 1, 1, 1, 1, 1, 1, 1, 1, 1, 1, 1, 1, 1, 1, 1, 1, 1, 1, 1,\n",
       "        1, 1, 1, 1, 1, 1, 1])"
      ]
     },
     "execution_count": 57,
     "metadata": {},
     "output_type": "execute_result"
    }
   ],
   "source": [
    "torch.ones(len(graphs[0].x), dtype = torch.int64)"
   ]
  },
  {
   "cell_type": "code",
   "execution_count": 178,
   "metadata": {
    "execution": {
     "iopub.execute_input": "2021-03-05T16:42:08.963780Z",
     "iopub.status.busy": "2021-03-05T16:42:08.963780Z",
     "iopub.status.idle": "2021-03-05T16:42:08.974751Z",
     "shell.execute_reply": "2021-03-05T16:42:08.973754Z",
     "shell.execute_reply.started": "2021-03-05T16:42:08.963780Z"
    }
   },
   "outputs": [],
   "source": [
    "class Net(nn.Module):\n",
    "    def __init__(self, hid_units, K):\n",
    "        super(Net, self).__init__()\n",
    "        self.K = K\n",
    "        self.hid_units = hid_units\n",
    "        self.conv1 = G_filter_K(units = [1, self.hid_units], aggr ='add', K = self.K)\n",
    "        self.conv2 = G_filter_K(units = [self.hid_units, self.hid_units], aggr ='add', K = self.K)\n",
    "        #self.conv3 = G_filter_K(units = [self.hid_units, self.hid_units], aggr ='add', K = self.K)\n",
    "        self.fc1 = nn.Linear(self.hid_units,1)\n",
    "#         self.fc2 = nn.Linear(int(self.hid_units/2),1)\n",
    "\n",
    "    def forward(self, data, prt=False):\n",
    "        edge_attr  = data.edge_attr[:,0]\n",
    "        edge_index = data.edge_index\n",
    "        #print(data)\n",
    "        \n",
    "        try:\n",
    "            batch = data.batch\n",
    "        except:\n",
    "            batch = torch.zeros(len(data.x), dtype = torch.int64)\n",
    "        \n",
    "        x = data.x[:,1].view(-1, 1)\n",
    "        \n",
    "        x = self.conv1(x, edge_attr, edge_index)\n",
    "        x = torch.sigmoid(x)\n",
    "\n",
    "#         x = self.conv2(x, edge_attr, edge_index)\n",
    "#         x = torch.sigmoid(x)\n",
    "        \n",
    "#         x = self.conv3(x, edge_attr, edge_index)\n",
    "#         x = torch.sigmoid(x)\n",
    "        \n",
    "        x = self.fc1(x)\n",
    "        x = torch.sigmoid(x)\n",
    "        \n",
    "        if prt == True:\n",
    "            print(x)\n",
    "        \n",
    "#         x = self.fc2(x)\n",
    "#         x = torch.sigmoid(x)\n",
    "        \n",
    "        x = global_mean_pool(x, batch)\n",
    "        \n",
    "        \n",
    "        return x  #, x\n",
    "    \n",
    "    # Calculates the number of parameters for each layer (weights and biases are summed together)\n",
    "    def N_parameters(self):\n",
    "        self.num_params = []\n",
    "#         i = 0\n",
    "        \n",
    "        for parameter in self.parameters():\n",
    "            self.num_params.append(torch.numel(parameter))\n",
    "\n",
    "        return self.num_params"
   ]
  },
  {
   "cell_type": "markdown",
   "metadata": {},
   "source": [
    "## Training"
   ]
  },
  {
   "cell_type": "markdown",
   "metadata": {},
   "source": [
    "### Hyperparameters"
   ]
  },
  {
   "cell_type": "code",
   "execution_count": 184,
   "metadata": {
    "execution": {
     "iopub.execute_input": "2021-03-05T16:42:23.344593Z",
     "iopub.status.busy": "2021-03-05T16:42:23.344593Z",
     "iopub.status.idle": "2021-03-05T16:42:23.350579Z",
     "shell.execute_reply": "2021-03-05T16:42:23.349580Z",
     "shell.execute_reply.started": "2021-03-05T16:42:23.344593Z"
    }
   },
   "outputs": [],
   "source": [
    "#N_epochs = 1000\n",
    "params = OrderedDict(\n",
    "    lr = [1e-5]\n",
    "    ,weight_decay=[0]\n",
    "    ,N_epochs = [20]\n",
    "    ,hid_units = [32, 64]\n",
    "    ,K = [2]\n",
    "    #,batch_size = [50] #T.B.I\n",
    ")\n",
    "\n",
    "report_freq=5"
   ]
  },
  {
   "cell_type": "code",
   "execution_count": 185,
   "metadata": {
    "execution": {
     "iopub.execute_input": "2021-03-05T16:42:25.408370Z",
     "iopub.status.busy": "2021-03-05T16:42:25.408370Z",
     "iopub.status.idle": "2021-03-05T16:42:25.414354Z",
     "shell.execute_reply": "2021-03-05T16:42:25.413357Z",
     "shell.execute_reply.started": "2021-03-05T16:42:25.408370Z"
    }
   },
   "outputs": [],
   "source": [
    "runs = RunBuilder.get_runs(params)"
   ]
  },
  {
   "cell_type": "code",
   "execution_count": 186,
   "metadata": {
    "execution": {
     "iopub.execute_input": "2021-03-05T16:42:25.417346Z",
     "iopub.status.busy": "2021-03-05T16:42:25.416349Z",
     "iopub.status.idle": "2021-03-05T16:42:25.423330Z",
     "shell.execute_reply": "2021-03-05T16:42:25.422333Z",
     "shell.execute_reply.started": "2021-03-05T16:42:25.417346Z"
    }
   },
   "outputs": [
    {
     "data": {
      "text/plain": [
       "[Run(lr=1e-05, weight_decay=0, N_epochs=20, hid_units=32, K=2),\n",
       " Run(lr=1e-05, weight_decay=0, N_epochs=20, hid_units=64, K=2)]"
      ]
     },
     "execution_count": 186,
     "metadata": {},
     "output_type": "execute_result"
    }
   ],
   "source": [
    "runs"
   ]
  },
  {
   "cell_type": "markdown",
   "metadata": {},
   "source": [
    "### Forward and Backpropagation"
   ]
  },
  {
   "cell_type": "markdown",
   "metadata": {},
   "source": [
    "#### Batch training"
   ]
  },
  {
   "cell_type": "code",
   "execution_count": 187,
   "metadata": {
    "execution": {
     "iopub.execute_input": "2021-03-05T16:42:25.425325Z",
     "iopub.status.busy": "2021-03-05T16:42:25.424328Z",
     "iopub.status.idle": "2021-03-05T16:42:25.429314Z",
     "shell.execute_reply": "2021-03-05T16:42:25.428347Z",
     "shell.execute_reply.started": "2021-03-05T16:42:25.425325Z"
    }
   },
   "outputs": [],
   "source": [
    "#len(model(next(iter(train_loader))))"
   ]
  },
  {
   "cell_type": "code",
   "execution_count": 188,
   "metadata": {
    "execution": {
     "iopub.execute_input": "2021-03-05T16:42:25.430312Z",
     "iopub.status.busy": "2021-03-05T16:42:25.430312Z",
     "iopub.status.idle": "2021-03-05T16:42:25.452253Z",
     "shell.execute_reply": "2021-03-05T16:42:25.451288Z",
     "shell.execute_reply.started": "2021-03-05T16:42:25.430312Z"
    }
   },
   "outputs": [
    {
     "data": {
      "text/plain": [
       "Batch(ID=[64], batch=[1984], edge_attr=[4480, 3], edge_index=[2, 4480], pos=[1984, 2], x=[1984, 4], y=[64])"
      ]
     },
     "execution_count": 188,
     "metadata": {},
     "output_type": "execute_result"
    }
   ],
   "source": [
    "next(iter(train_loader))"
   ]
  },
  {
   "cell_type": "code",
   "execution_count": 189,
   "metadata": {
    "execution": {
     "iopub.execute_input": "2021-03-05T16:42:25.454248Z",
     "iopub.status.busy": "2021-03-05T16:42:25.453251Z",
     "iopub.status.idle": "2021-03-05T16:42:59.348750Z",
     "shell.execute_reply": "2021-03-05T16:42:59.347752Z",
     "shell.execute_reply.started": "2021-03-05T16:42:25.453251Z"
    },
    "scrolled": true
   },
   "outputs": [
    {
     "data": {
      "application/vnd.jupyter.widget-view+json": {
       "model_id": "8503df7e82804f428e93fdeb9694aa7c",
       "version_major": 2,
       "version_minor": 0
      },
      "text/plain": [
       "IntProgress(value=20, description='Loading...', max=20)"
      ]
     },
     "metadata": {},
     "output_type": "display_data"
    },
    {
     "name": "stdout",
     "output_type": "stream",
     "text": [
      "-------------------New configuration-------------------\n"
     ]
    },
    {
     "name": "stderr",
     "output_type": "stream",
     "text": [
      "C:\\Programs\\Anaconda3\\envs\\PyTorch_Env\\lib\\site-packages\\torch\\nn\\modules\\container.py:435: UserWarning: Setting attributes on ParameterList is not supported.\n",
      "  warnings.warn(\"Setting attributes on ParameterList is not supported.\")\n"
     ]
    },
    {
     "name": "stdout",
     "output_type": "stream",
     "text": [
      "\t epoch  0 \t  total loss:   3.9513 \t R2:  -53.4374\n",
      "\t epoch  5 \t  total loss:   3.6387 \t R2:  -59.0581\n",
      "\t epoch  10 \t  total loss:   3.3229 \t R2:  -32.9053\n",
      "\t epoch  15 \t  total loss:   3.0469 \t R2:  -42.1422\n",
      "\t epoch  19 \t  total loss:   2.8445 \t R2:  -17.8989\n",
      "-Run(lr=1e-05, weight_decay=0, N_epochs=20, hid_units=32, K=2) 16.8 seconds\n",
      "Total parameters: \t 3201 \n",
      "\n",
      "-------------------New configuration-------------------\n"
     ]
    },
    {
     "name": "stderr",
     "output_type": "stream",
     "text": [
      "C:\\Programs\\Anaconda3\\envs\\PyTorch_Env\\lib\\site-packages\\torch\\nn\\modules\\container.py:435: UserWarning: Setting attributes on ParameterList is not supported.\n",
      "  warnings.warn(\"Setting attributes on ParameterList is not supported.\")\n"
     ]
    },
    {
     "name": "stdout",
     "output_type": "stream",
     "text": [
      "\t epoch  0 \t  total loss:   4.5256 \t R2:  -52.0904\n",
      "\t epoch  5 \t  total loss:   3.8566 \t R2:  -63.9496\n",
      "\t epoch  10 \t  total loss:   3.2841 \t R2:  -24.2461\n",
      "\t epoch  15 \t  total loss:   2.781 \t R2:  -39.2413\n",
      "\t epoch  19 \t  total loss:   2.4333 \t R2:  -19.8991\n",
      "-Run(lr=1e-05, weight_decay=0, N_epochs=20, hid_units=64, K=2) 16.96 seconds\n",
      "Total parameters: \t 12545 \n",
      "\n"
     ]
    }
   ],
   "source": [
    "f.description = 'Loading...'\n",
    "display(f)\n",
    "device = torch.device('cuda' if torch.cuda.is_available() else 'cpu')\n",
    "\n",
    "for run in RunBuilder.get_runs(params):\n",
    "    print(\"-------------------New configuration-------------------\")\n",
    "    model = Net(hid_units = run.hid_units, K=run.K).to(device)\n",
    "    start_time = time.time()\n",
    "    optimizer = torch.optim.Adam(model.parameters(), lr=run.lr, weight_decay=run.weight_decay)\n",
    "    f.value = 0\n",
    "    f.max = run.N_epochs\n",
    "    model.train()\n",
    "    for epoch in range(run.N_epochs):\n",
    "        total_loss= 0\n",
    "        \n",
    "        for training_graph in train_loader:\n",
    "            pred = model(training_graph)#[0]\n",
    "            target = training_graph.y\n",
    "            loss = F.mse_loss(pred.view(-1,1), target.view(-1,1))  \n",
    "            #print(pred, target)\n",
    "            loss.to(torch.float32)\n",
    "            total_loss += loss\n",
    "        \n",
    "            #total_loss /= len(train_dataset)\n",
    "            #total_loss = total_loss.to(torch.float32)\n",
    "            optimizer.zero_grad()\n",
    "            loss.backward()\n",
    "            optimizer.step()\n",
    "        \n",
    "        f.value += 1\n",
    "        f.description = 'Epoch {}/{}'.format(epoch+1,f.max)\n",
    "        if epoch%report_freq == 0 or epoch == run.N_epochs-1:\n",
    "            #print(model.conv1.H[0])\n",
    "            r2 = np.round(graph_r2(model, training_graph), 4)\n",
    "            print('\\t', \"epoch \", epoch, '\\t',\" total loss:  \", np.round(total_loss.item(),4), '\\t', 'R2: ', r2)\n",
    "            \n",
    "    comment = f'-{run}'\n",
    "    execution_time=np.round((time.time() - start_time), 2)\n",
    "    print(comment, execution_time, 'seconds')\n",
    "    print('Total parameters:','\\t', np.array(model.N_parameters()).sum(), \"\\n\")\n",
    "    \n",
    "winsound.Beep(1000, 100) #Ending sound\n"
   ]
  },
  {
   "cell_type": "code",
   "execution_count": 190,
   "metadata": {
    "execution": {
     "iopub.execute_input": "2021-03-05T16:44:49.764795Z",
     "iopub.status.busy": "2021-03-05T16:44:49.764795Z",
     "iopub.status.idle": "2021-03-05T16:44:49.775739Z",
     "shell.execute_reply": "2021-03-05T16:44:49.775739Z",
     "shell.execute_reply.started": "2021-03-05T16:44:49.764795Z"
    }
   },
   "outputs": [
    {
     "name": "stdout",
     "output_type": "stream",
     "text": [
      "tensor([[0.3383],\n",
      "        [0.4015],\n",
      "        [0.3210],\n",
      "        [0.3133],\n",
      "        [0.3556],\n",
      "        [0.4034],\n",
      "        [0.4377],\n",
      "        [0.3624],\n",
      "        [0.3177],\n",
      "        [0.3319],\n",
      "        [0.3988],\n",
      "        [0.3459],\n",
      "        [0.3995],\n",
      "        [0.3477],\n",
      "        [0.3682],\n",
      "        [0.3616],\n",
      "        [0.3135],\n",
      "        [0.4169],\n",
      "        [0.4018],\n",
      "        [0.3220],\n",
      "        [0.3307],\n",
      "        [0.3264],\n",
      "        [0.3204],\n",
      "        [0.4173],\n",
      "        [0.3476],\n",
      "        [0.3223],\n",
      "        [0.3606],\n",
      "        [0.3349],\n",
      "        [0.3802],\n",
      "        [0.3296],\n",
      "        [0.3085]], grad_fn=<SigmoidBackward>)\n"
     ]
    },
    {
     "data": {
      "text/plain": [
       "tensor([[0.3560]], grad_fn=<DivBackward0>)"
      ]
     },
     "execution_count": 190,
     "metadata": {},
     "output_type": "execute_result"
    }
   ],
   "source": [
    "model(graphs[0], prt = True) #, graphs[0].y"
   ]
  },
  {
   "cell_type": "code",
   "execution_count": 192,
   "metadata": {
    "execution": {
     "iopub.execute_input": "2021-03-05T16:45:11.625239Z",
     "iopub.status.busy": "2021-03-05T16:45:11.624241Z",
     "iopub.status.idle": "2021-03-05T16:45:11.632219Z",
     "shell.execute_reply": "2021-03-05T16:45:11.631221Z",
     "shell.execute_reply.started": "2021-03-05T16:45:11.625239Z"
    }
   },
   "outputs": [
    {
     "data": {
      "text/plain": [
       "tensor([0.1612])"
      ]
     },
     "execution_count": 192,
     "metadata": {},
     "output_type": "execute_result"
    }
   ],
   "source": [
    "graphs[0].y"
   ]
  },
  {
   "cell_type": "code",
   "execution_count": 193,
   "metadata": {
    "execution": {
     "iopub.execute_input": "2021-03-05T16:45:13.549114Z",
     "iopub.status.busy": "2021-03-05T16:45:13.549114Z",
     "iopub.status.idle": "2021-03-05T16:45:13.574047Z",
     "shell.execute_reply": "2021-03-05T16:45:13.573049Z",
     "shell.execute_reply.started": "2021-03-05T16:45:13.549114Z"
    }
   },
   "outputs": [
    {
     "name": "stdout",
     "output_type": "stream",
     "text": [
      "tensor([[0.3560]], grad_fn=<DivBackward0>)\n",
      "tensor([[0.3566]], grad_fn=<DivBackward0>)\n",
      "tensor([[0.3572]], grad_fn=<DivBackward0>)\n",
      "tensor([[0.3581]], grad_fn=<DivBackward0>)\n",
      "tensor([[0.3563]], grad_fn=<DivBackward0>)\n",
      "tensor([[0.3574]], grad_fn=<DivBackward0>)\n",
      "tensor([[0.3570]], grad_fn=<DivBackward0>)\n",
      "tensor([[0.3564]], grad_fn=<DivBackward0>)\n",
      "tensor([[0.3573]], grad_fn=<DivBackward0>)\n",
      "tensor([[0.3577]], grad_fn=<DivBackward0>)\n"
     ]
    }
   ],
   "source": [
    "for i in range(10):\n",
    "    print(model(graphs[i]))"
   ]
  },
  {
   "cell_type": "code",
   "execution_count": 232,
   "metadata": {
    "execution": {
     "iopub.execute_input": "2021-02-26T11:34:19.976782Z",
     "iopub.status.busy": "2021-02-26T11:34:19.975809Z",
     "iopub.status.idle": "2021-02-26T11:34:19.981769Z",
     "shell.execute_reply": "2021-02-26T11:34:19.981769Z",
     "shell.execute_reply.started": "2021-02-26T11:34:19.976782Z"
    }
   },
   "outputs": [],
   "source": [
    "a, b = model(graphs[-1])[0], model(graphs[-1])[1].detach().numpy()"
   ]
  },
  {
   "cell_type": "code",
   "execution_count": 233,
   "metadata": {
    "execution": {
     "iopub.execute_input": "2021-02-26T11:34:23.348985Z",
     "iopub.status.busy": "2021-02-26T11:34:23.348985Z",
     "iopub.status.idle": "2021-02-26T11:34:23.353004Z",
     "shell.execute_reply": "2021-02-26T11:34:23.353004Z",
     "shell.execute_reply.started": "2021-02-26T11:34:23.348985Z"
    }
   },
   "outputs": [
    {
     "data": {
      "text/plain": [
       "tensor(0.6622, grad_fn=<MeanBackward0>)"
      ]
     },
     "execution_count": 233,
     "metadata": {},
     "output_type": "execute_result"
    }
   ],
   "source": [
    "a"
   ]
  },
  {
   "cell_type": "code",
   "execution_count": null,
   "metadata": {},
   "outputs": [],
   "source": []
  },
  {
   "cell_type": "code",
   "execution_count": 183,
   "metadata": {
    "execution": {
     "iopub.execute_input": "2021-02-26T11:17:05.986707Z",
     "iopub.status.busy": "2021-02-26T11:17:05.986707Z",
     "iopub.status.idle": "2021-02-26T11:17:05.990696Z",
     "shell.execute_reply": "2021-02-26T11:17:05.990696Z",
     "shell.execute_reply.started": "2021-02-26T11:17:05.986707Z"
    }
   },
   "outputs": [
    {
     "name": "stdout",
     "output_type": "stream",
     "text": [
      "0.7371584\n",
      "0.57573164\n",
      "0.88126034\n",
      "0.5991537\n",
      "0.8161363\n",
      "0.5977639\n",
      "0.6336391\n",
      "0.5693125\n",
      "0.70629174\n",
      "0.702073\n",
      "0.62919104\n",
      "0.64857864\n",
      "0.84823895\n",
      "0.74637103\n",
      "0.6388566\n",
      "0.5704113\n",
      "0.76099145\n",
      "0.51795447\n",
      "0.83995485\n",
      "0.0025988976\n",
      "0.8848422\n"
     ]
    }
   ],
   "source": [
    "for i in b:\n",
    "    print(i[0])"
   ]
  },
  {
   "cell_type": "code",
   "execution_count": 186,
   "metadata": {
    "execution": {
     "iopub.execute_input": "2021-02-26T11:17:49.815467Z",
     "iopub.status.busy": "2021-02-26T11:17:49.814445Z",
     "iopub.status.idle": "2021-02-26T11:17:49.819430Z",
     "shell.execute_reply": "2021-02-26T11:17:49.819430Z",
     "shell.execute_reply.started": "2021-02-26T11:17:49.815467Z"
    }
   },
   "outputs": [
    {
     "name": "stdout",
     "output_type": "stream",
     "text": [
      "20\n",
      "30\n",
      "40\n",
      "50\n",
      "55\n",
      "60\n",
      "70\n",
      "75\n",
      "80\n",
      "90\n",
      "100\n",
      "110\n",
      "115\n",
      "120\n",
      "130\n",
      "140\n",
      "150\n",
      "160\n",
      "170\n",
      "65\n",
      "165\n"
     ]
    }
   ],
   "source": [
    "for i in wn_WDS.node_name_list:\n",
    "    print(i)"
   ]
  },
  {
   "cell_type": "code",
   "execution_count": 194,
   "metadata": {
    "execution": {
     "iopub.execute_input": "2021-02-26T11:20:34.498705Z",
     "iopub.status.busy": "2021-02-26T11:20:34.497707Z",
     "iopub.status.idle": "2021-02-26T11:20:34.502694Z",
     "shell.execute_reply": "2021-02-26T11:20:34.501697Z",
     "shell.execute_reply.started": "2021-02-26T11:20:34.498705Z"
    }
   },
   "outputs": [],
   "source": [
    "a = database.iloc[-1].wntrModel"
   ]
  },
  {
   "cell_type": "code",
   "execution_count": 224,
   "metadata": {
    "execution": {
     "iopub.execute_input": "2021-02-26T11:32:07.763334Z",
     "iopub.status.busy": "2021-02-26T11:32:07.763334Z",
     "iopub.status.idle": "2021-02-26T11:32:07.766328Z",
     "shell.execute_reply": "2021-02-26T11:32:07.766328Z",
     "shell.execute_reply.started": "2021-02-26T11:32:07.763334Z"
    }
   },
   "outputs": [],
   "source": [
    "b = a.get_links_for_node('65')"
   ]
  },
  {
   "cell_type": "code",
   "execution_count": 225,
   "metadata": {
    "execution": {
     "iopub.execute_input": "2021-02-26T11:32:08.213125Z",
     "iopub.status.busy": "2021-02-26T11:32:08.212102Z",
     "iopub.status.idle": "2021-02-26T11:32:08.225098Z",
     "shell.execute_reply": "2021-02-26T11:32:08.225098Z",
     "shell.execute_reply.started": "2021-02-26T11:32:08.213125Z"
    }
   },
   "outputs": [
    {
     "ename": "TypeError",
     "evalue": "write() missing 1 required positional argument: 'wn'",
     "output_type": "error",
     "traceback": [
      "\u001b[1;31m---------------------------------------------------------------------------\u001b[0m",
      "\u001b[1;31mTypeError\u001b[0m                                 Traceback (most recent call last)",
      "\u001b[1;32m<ipython-input-225-7eaa1f6e2351>\u001b[0m in \u001b[0;36m<module>\u001b[1;34m\u001b[0m\n\u001b[1;32m----> 1\u001b[1;33m \u001b[0mwntr\u001b[0m\u001b[1;33m.\u001b[0m\u001b[0mepanet\u001b[0m\u001b[1;33m.\u001b[0m\u001b[0mio\u001b[0m\u001b[1;33m.\u001b[0m\u001b[0mInpFile\u001b[0m\u001b[1;33m.\u001b[0m\u001b[0mwrite\u001b[0m\u001b[1;33m(\u001b[0m\u001b[1;34m'trial_local.inp'\u001b[0m\u001b[1;33m,\u001b[0m \u001b[0ma\u001b[0m\u001b[1;33m)\u001b[0m\u001b[1;33m\u001b[0m\u001b[1;33m\u001b[0m\u001b[0m\n\u001b[0m",
      "\u001b[1;31mTypeError\u001b[0m: write() missing 1 required positional argument: 'wn'"
     ]
    }
   ],
   "source": [
    "wntr.epanet.io.InpFile.write('trial_local.inp', a)"
   ]
  },
  {
   "cell_type": "code",
   "execution_count": 226,
   "metadata": {
    "execution": {
     "iopub.execute_input": "2021-02-26T11:32:11.924922Z",
     "iopub.status.busy": "2021-02-26T11:32:11.923892Z",
     "iopub.status.idle": "2021-02-26T11:32:11.930875Z",
     "shell.execute_reply": "2021-02-26T11:32:11.929877Z",
     "shell.execute_reply.started": "2021-02-26T11:32:11.924922Z"
    },
    "scrolled": true
   },
   "outputs": [
    {
     "name": "stdout",
     "output_type": "stream",
     "text": [
      "('2', <Pipe '2' from '20' to '70', length=3657.6000000000004, diameter=0.30479999999999996, roughness=70.0, minor_loss=0.0, check_valve=False, status=Open>)\n",
      "('4', <Pipe '4' from '20' to '30', length=3657.6000000000004, diameter=0.35559999999999997, roughness=120.0, minor_loss=0.0, check_valve=False, status=Open>)\n",
      "('6', <Pipe '6' from '20' to '110', length=3657.6000000000004, diameter=0.15239999999999998, roughness=70.0, minor_loss=0.0, check_valve=False, status=Open>)\n",
      "('8', <Pipe '8' from '70' to '30', length=2743.2000000000003, diameter=0.2032, roughness=70.0, minor_loss=0.0, check_valve=False, status=Open>)\n",
      "('10', <Pipe '10' from '70' to '100', length=182.88, diameter=0.2032, roughness=70.0, minor_loss=0.0, check_valve=False, status=Open>)\n",
      "('12', <Pipe '12' from '70' to '90', length=182.88, diameter=0.35559999999999997, roughness=70.0, minor_loss=0.0, check_valve=False, status=Open>)\n",
      "('14', <Pipe '14' from '70' to '60', length=182.88, diameter=0.254, roughness=70.0, minor_loss=0.0, check_valve=False, status=Open>)\n",
      "('16', <Pipe '16' from '90' to '60', length=182.88, diameter=0.2032, roughness=70.0, minor_loss=0.0, check_valve=False, status=Open>)\n",
      "('18', <Pipe '18' from '60' to '80', length=182.88, diameter=0.35559999999999997, roughness=70.0, minor_loss=0.0, check_valve=False, status=Open>)\n",
      "('20', <Pipe '20' from '90' to '80', length=182.88, diameter=0.254, roughness=70.0, minor_loss=0.0, check_valve=False, status=Open>)\n",
      "('22', <Pipe '22' from '90' to '150', length=182.88, diameter=0.15239999999999998, roughness=70.0, minor_loss=0.0, check_valve=False, status=Open>)\n",
      "('24', <Pipe '24' from '90' to '100', length=182.88, diameter=0.35559999999999997, roughness=70.0, minor_loss=0.0, check_valve=False, status=Open>)\n",
      "('26', <Pipe '26' from '100' to '150', length=182.88, diameter=0.2032, roughness=70.0, minor_loss=0.0, check_valve=False, status=Open>)\n",
      "('28', <Pipe '28' from '150' to '80', length=182.88, diameter=0.35559999999999997, roughness=70.0, minor_loss=0.0, check_valve=False, status=Open>)\n",
      "('30', <Pipe '30' from '60' to '30', length=182.88, diameter=0.254, roughness=120.0, minor_loss=0.0, check_valve=False, status=Open>)\n",
      "('32', <Pipe '32' from '30' to '40', length=182.88, diameter=0.254, roughness=120.0, minor_loss=0.0, check_valve=False, status=Open>)\n",
      "('34', <Pipe '34' from '30' to '50', length=182.88, diameter=0.35559999999999997, roughness=120.0, minor_loss=0.0, check_valve=False, status=Open>)\n",
      "('36', <Pipe '36' from '40' to '50', length=182.88, diameter=0.30479999999999996, roughness=120.0, minor_loss=0.0, check_valve=False, status=Open>)\n",
      "('38', <Pipe '38' from '50' to '80', length=182.88, diameter=0.30479999999999996, roughness=120.0, minor_loss=0.0, check_valve=False, status=Open>)\n",
      "('40', <Pipe '40' from '80' to '140', length=182.88, diameter=0.15239999999999998, roughness=120.0, minor_loss=0.0, check_valve=False, status=Open>)\n",
      "('42', <Pipe '42' from '150' to '140', length=182.88, diameter=0.254, roughness=120.0, minor_loss=0.0, check_valve=False, status=Open>)\n",
      "('44', <Pipe '44' from '150' to '160', length=182.88, diameter=0.15239999999999998, roughness=120.0, minor_loss=0.0, check_valve=False, status=Open>)\n",
      "('46', <Pipe '46' from '100' to '160', length=182.88, diameter=0.254, roughness=120.0, minor_loss=0.0, check_valve=False, status=Open>)\n",
      "('48', <Pipe '48' from '100' to '110', length=182.88, diameter=0.30479999999999996, roughness=70.0, minor_loss=0.0, check_valve=False, status=Open>)\n",
      "('50', <Pipe '50' from '110' to '160', length=182.88, diameter=0.2032, roughness=120.0, minor_loss=0.0, check_valve=False, status=Open>)\n",
      "('52', <Pipe '52' from '110' to '120', length=182.88, diameter=0.15239999999999998, roughness=120.0, minor_loss=0.0, check_valve=False, status=Open>)\n",
      "('54', <Pipe '54' from '120' to '160', length=182.88, diameter=0.2032, roughness=130.0, minor_loss=0.0, check_valve=False, status=Open>)\n",
      "('56', <Pipe '56' from '120' to '130', length=182.88, diameter=0.2032, roughness=120.0, minor_loss=0.0, check_valve=False, status=Open>)\n",
      "('58', <Pipe '58' from '130' to '160', length=182.88, diameter=0.2032, roughness=120.0, minor_loss=0.0, check_valve=False, status=Open>)\n",
      "('60', <Pipe '60' from '130' to '170', length=182.88, diameter=0.2032, roughness=120.0, minor_loss=0.0, check_valve=False, status=Open>)\n",
      "('62', <Pipe '62' from '160' to '140', length=182.88, diameter=0.15239999999999998, roughness=120.0, minor_loss=0.0, check_valve=False, status=Open>)\n",
      "('64', <Pipe '64' from '170' to '140', length=3657.6000000000004, diameter=0.30479999999999996, roughness=120.0, minor_loss=0.0, check_valve=False, status=Open>)\n",
      "('66', <Pipe '66' from '50' to '140', length=3657.6000000000004, diameter=0.35559999999999997, roughness=120.0, minor_loss=0.0, check_valve=False, status=Open>)\n",
      "('68', <Pipe '68' from '140' to '115', length=1828.8000000000002, diameter=0.30479999999999996, roughness=130.0, minor_loss=0.0, check_valve=False, status=Open>)\n",
      "('70', <Pipe '70' from '140' to '75', length=1828.8000000000002, diameter=0.15239999999999998, roughness=130.0, minor_loss=0.0, check_valve=False, status=Open>)\n",
      "('72', <Pipe '72' from '115' to '75', length=1828.8000000000002, diameter=0.2032, roughness=130.0, minor_loss=0.0, check_valve=False, status=Open>)\n",
      "('74', <Pipe '74' from '50' to '55', length=1828.8000000000002, diameter=0.15239999999999998, roughness=130.0, minor_loss=0.0, check_valve=False, status=Open>)\n",
      "('76', <Pipe '76' from '55' to '75', length=1828.8000000000002, diameter=0.30479999999999996, roughness=130.0, minor_loss=0.0, check_valve=False, status=Open>)\n",
      "('78', <Pipe '78' from '60' to '65', length=30.48, diameter=0.15239999999999998, roughness=120.0, minor_loss=0.0, check_valve=False, status=Open>)\n",
      "('80', <Pipe '80' from '165' to '160', length=30.48, diameter=0.254, roughness=120.0, minor_loss=0.0, check_valve=False, status=Open>)\n"
     ]
    }
   ],
   "source": [
    "for i in a.pipes():\n",
    "    print(i)"
   ]
  },
  {
   "cell_type": "code",
   "execution_count": 228,
   "metadata": {
    "execution": {
     "iopub.execute_input": "2021-02-26T11:32:16.425281Z",
     "iopub.status.busy": "2021-02-26T11:32:16.424282Z",
     "iopub.status.idle": "2021-02-26T11:32:16.429272Z",
     "shell.execute_reply": "2021-02-26T11:32:16.429272Z",
     "shell.execute_reply.started": "2021-02-26T11:32:16.424282Z"
    }
   },
   "outputs": [
    {
     "data": {
      "text/plain": [
       "['78']"
      ]
     },
     "execution_count": 228,
     "metadata": {},
     "output_type": "execute_result"
    }
   ],
   "source": [
    "b"
   ]
  },
  {
   "cell_type": "code",
   "execution_count": 231,
   "metadata": {
    "execution": {
     "iopub.execute_input": "2021-02-26T11:32:59.541556Z",
     "iopub.status.busy": "2021-02-26T11:32:59.541556Z",
     "iopub.status.idle": "2021-02-26T11:32:59.545517Z",
     "shell.execute_reply": "2021-02-26T11:32:59.545517Z",
     "shell.execute_reply.started": "2021-02-26T11:32:59.541556Z"
    }
   },
   "outputs": [
    {
     "data": {
      "text/plain": [
       "array([3.048])"
      ]
     },
     "execution_count": 231,
     "metadata": {},
     "output_type": "execute_result"
    }
   ],
   "source": [
    "c=np.array([0.15239])\n",
    "rescale(c, minT=0, maxT=20)#*0.254"
   ]
  },
  {
   "cell_type": "markdown",
   "metadata": {},
   "source": [
    "#### Joblib implementation - Update: Failed, it's slower"
   ]
  },
  {
   "cell_type": "code",
   "execution_count": 207,
   "metadata": {},
   "outputs": [],
   "source": [
    "# def fun(training_graph):\n",
    "#     pred = model(training_graph).mean()\n",
    "#     target = training_graph.y\n",
    "#     loss = F.mse_loss(pred.reshape(-1,1), target.reshape(-1,1))            \n",
    "#     #loss.to(torch.float32)\n",
    "    \n",
    "#     return loss"
   ]
  },
  {
   "cell_type": "code",
   "execution_count": 220,
   "metadata": {},
   "outputs": [
    {
     "data": {
      "application/vnd.jupyter.widget-view+json": {
       "model_id": "",
       "version_major": 2,
       "version_minor": 0
      },
      "text/plain": [
       "IntProgress(value=51, description='Loading:', max=51)"
      ]
     },
     "metadata": {},
     "output_type": "display_data"
    },
    {
     "name": "stdout",
     "output_type": "stream",
     "text": [
      "epoch  0  total loss   tensor(0.1603, grad_fn=<MeanBackward0>)\n",
      "epoch  10  total loss   tensor(0.1563, grad_fn=<MeanBackward0>)\n",
      "epoch  20  total loss   tensor(0.1522, grad_fn=<MeanBackward0>)\n",
      "epoch  30  total loss   tensor(0.1482, grad_fn=<MeanBackward0>)\n",
      "epoch  40  total loss   tensor(0.1443, grad_fn=<MeanBackward0>)\n",
      "epoch  50  total loss   tensor(0.1404, grad_fn=<MeanBackward0>)\n",
      "-Run(lr=0.001, weight_decay=0.0005, N_epochs=51) 206.75 seconds\n"
     ]
    }
   ],
   "source": [
    "# for run in RunBuilder.get_runs(params):\n",
    "#     display(f)\n",
    "#     start_time = time.time()\n",
    "#     optimizer = torch.optim.Adam(model.parameters(), lr=run.lr, weight_decay=run.weight_decay)\n",
    "#     f.value = 0\n",
    "#     f.max = run.N_epochs\n",
    "#     model.train()\n",
    "#     for epoch in range(run.N_epochs):\n",
    "#         total_loss= 0\n",
    "#         losses = Parallel(n_jobs=-1)(delayed(fun)(training_graph) for training_graph in train_dataset)\n",
    "#         total_loss = torch.tensor(losses, requires_grad=True).mean()\n",
    "#         #total_loss.requires_grad = True\n",
    "#         #print(total_loss)\n",
    "#         #total_loss /= len(train_dataset)\n",
    "#         #total_loss = total_loss.to(torch.float32)\n",
    "#         optimizer.zero_grad()\n",
    "#         total_loss.backward()\n",
    "#         optimizer.step()\n",
    "        \n",
    "#         f.value += 1\n",
    "#         if epoch%10 == 0:\n",
    "#             print(\"epoch \", epoch, \" total loss  \", total_loss )\n",
    "# #             clear_output(wait=True)\n",
    "# #             display(f)\n",
    "            \n",
    "#     comment = f'-{run}'\n",
    "#     execution_time=np.round((time.time() - start_time),2)\n",
    "#     print(comment, execution_time, 'seconds')"
   ]
  },
  {
   "cell_type": "markdown",
   "metadata": {},
   "source": [
    "## Testing\n",
    "*To be further implemented"
   ]
  },
  {
   "cell_type": "code",
   "execution_count": 34,
   "metadata": {},
   "outputs": [
    {
     "name": "stdout",
     "output_type": "stream",
     "text": [
      "Training R2: \t 0.57\n",
      "Validation R2: \t 0.5604\n"
     ]
    }
   ],
   "source": [
    "print('Training R2: \\t', np.round(graph_r2(model, train_dataset), 4))\n",
    "print('Validation R2: \\t', np.round(graph_r2(model, val_dataset), 4))"
   ]
  },
  {
   "cell_type": "code",
   "execution_count": 35,
   "metadata": {
    "scrolled": true
   },
   "outputs": [
    {
     "name": "stdout",
     "output_type": "stream",
     "text": [
      "Actual \t Pred\n",
      "0.3997 \t 0.3106\n",
      "0.4345 \t 0.3918\n",
      "0.4562 \t 0.4173\n",
      "0.3883 \t 0.3733\n",
      "0.4384 \t 0.4189\n",
      "0.3341 \t 0.3261\n",
      "0.476 \t 0.475\n",
      "0.2792 \t 0.2975\n",
      "0.4296 \t 0.3763\n",
      "0.3782 \t 0.3918\n"
     ]
    }
   ],
   "source": [
    "#Simple test\n",
    "print('Actual \\t',  'Pred')\n",
    "for i in range(10):\n",
    "    print(np.round(rescale(graphs[i].y.item(),-1,1),4), '\\t', np.round(rescale(model(graphs[i]).item(), -1,1),4) )"
   ]
  },
  {
   "cell_type": "code",
   "execution_count": 36,
   "metadata": {},
   "outputs": [],
   "source": [
    "preds_train, y_train = res_and_tar(model,train_dataset)\n",
    "preds_val, y_val = res_and_tar(model,val_dataset)"
   ]
  },
  {
   "cell_type": "code",
   "execution_count": 37,
   "metadata": {},
   "outputs": [],
   "source": [
    "x_real_values_train = rescale(y_train, minT = -1, maxT=1)\n",
    "y_pred_values_train = rescale(preds_train, minT = -1, maxT=1)\n",
    "\n",
    "x_real_values_test = rescale(y_val, minT=-1, maxT=1)\n",
    "y_pred_values_test = rescale(preds_val, minT=-1, maxT=1)"
   ]
  },
  {
   "cell_type": "code",
   "execution_count": 38,
   "metadata": {},
   "outputs": [
    {
     "data": {
      "application/vnd.jupyter.widget-view+json": {
       "model_id": "c2027b1dfd514a6bbfd6e2d7aeaced33",
       "version_major": 2,
       "version_minor": 0
      },
      "text/plain": [
       "FigureWidget({\n",
       "    'data': [{'line': {'dash': 'dash'},\n",
       "              'marker': {'size': 3},\n",
       "              'mod…"
      ]
     },
     "metadata": {},
     "output_type": "display_data"
    }
   ],
   "source": [
    "fig = pred_vs_y_plotly(x_real_values_train, y_pred_values_train, x_real_values_test, y_pred_values_test)\n",
    "fig"
   ]
  }
 ],
 "metadata": {
  "kernelspec": {
   "display_name": "Python 3",
   "language": "python",
   "name": "python3"
  },
  "language_info": {
   "codemirror_mode": {
    "name": "ipython",
    "version": 3
   },
   "file_extension": ".py",
   "mimetype": "text/x-python",
   "name": "python",
   "nbconvert_exporter": "python",
   "pygments_lexer": "ipython3",
   "version": "3.8.5"
  },
  "toc-autonumbering": true,
  "toc-showcode": false,
  "toc-showmarkdowntxt": false,
  "toc-showtags": false
 },
 "nbformat": 4,
 "nbformat_minor": 4
}
