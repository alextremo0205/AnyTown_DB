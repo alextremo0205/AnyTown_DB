{
 "cells": [
  {
   "cell_type": "markdown",
   "metadata": {},
   "source": [
    "# GNN with PyG \n",
    "#### Generic GNN model for any WDS\n",
    "-Custom layer for Graph Neural Networks using PyTorch Geometric"
   ]
  },
  {
   "cell_type": "markdown",
   "metadata": {},
   "source": [
    "## Imports"
   ]
  },
  {
   "cell_type": "markdown",
   "metadata": {},
   "source": [
    "### Basic"
   ]
  },
  {
   "cell_type": "code",
   "execution_count": 1,
   "metadata": {
    "execution": {
     "iopub.execute_input": "2021-03-07T14:01:52.286112Z",
     "iopub.status.busy": "2021-03-07T14:01:52.286112Z",
     "iopub.status.idle": "2021-03-07T14:01:56.268387Z",
     "shell.execute_reply": "2021-03-07T14:01:56.268387Z",
     "shell.execute_reply.started": "2021-03-07T14:01:52.286112Z"
    }
   },
   "outputs": [],
   "source": [
    "import wntr\n",
    "import pandas as pd\n",
    "import numpy as np\n",
    "import networkx as nx\n",
    "import pickle\n",
    "import time\n",
    "import winsound"
   ]
  },
  {
   "cell_type": "markdown",
   "metadata": {},
   "source": [
    "### PyTorch"
   ]
  },
  {
   "cell_type": "code",
   "execution_count": 2,
   "metadata": {
    "execution": {
     "iopub.execute_input": "2021-03-07T14:01:56.271375Z",
     "iopub.status.busy": "2021-03-07T14:01:56.271375Z",
     "iopub.status.idle": "2021-03-07T14:01:57.066641Z",
     "shell.execute_reply": "2021-03-07T14:01:57.066641Z",
     "shell.execute_reply.started": "2021-03-07T14:01:56.271375Z"
    }
   },
   "outputs": [],
   "source": [
    "import torch\n",
    "import torch.nn.functional as F\n",
    "import torch.nn as nn\n",
    "from torch import Tensor\n",
    "#from torch.nn import Sequential, Linear, ReLU"
   ]
  },
  {
   "cell_type": "code",
   "execution_count": 3,
   "metadata": {
    "execution": {
     "iopub.execute_input": "2021-03-07T14:01:57.068605Z",
     "iopub.status.busy": "2021-03-07T14:01:57.068605Z",
     "iopub.status.idle": "2021-03-07T14:01:57.079575Z",
     "shell.execute_reply": "2021-03-07T14:01:57.077585Z",
     "shell.execute_reply.started": "2021-03-07T14:01:57.068605Z"
    }
   },
   "outputs": [
    {
     "name": "stdout",
     "output_type": "stream",
     "text": [
      "1.7.1\n"
     ]
    }
   ],
   "source": [
    "print(torch.__version__) #Hopefully 1.7.1"
   ]
  },
  {
   "cell_type": "markdown",
   "metadata": {},
   "source": [
    "### PyTorch Geometric"
   ]
  },
  {
   "cell_type": "code",
   "execution_count": 4,
   "metadata": {
    "execution": {
     "iopub.execute_input": "2021-03-07T14:01:57.081570Z",
     "iopub.status.busy": "2021-03-07T14:01:57.080572Z",
     "iopub.status.idle": "2021-03-07T14:01:59.059667Z",
     "shell.execute_reply": "2021-03-07T14:01:59.059667Z",
     "shell.execute_reply.started": "2021-03-07T14:01:57.081570Z"
    }
   },
   "outputs": [
    {
     "name": "stderr",
     "output_type": "stream",
     "text": [
      "C:\\Programs\\Anaconda3\\envs\\PyTorch_Env\\lib\\site-packages\\torch\\cuda\\__init__.py:52: UserWarning: CUDA initialization: Found no NVIDIA driver on your system. Please check that you have an NVIDIA GPU and installed a driver from http://www.nvidia.com/Download/index.aspx (Triggered internally at  ..\\c10\\cuda\\CUDAFunctions.cpp:100.)\n",
      "  return torch._C._cuda_getDeviceCount() > 0\n"
     ]
    }
   ],
   "source": [
    "#message passing\n",
    "from torch_geometric.nn import MessagePassing, EdgeConv\n",
    "from torch_geometric.nn import GCNConv, NNConv\n",
    "\n",
    "import torch_geometric\n",
    "\n",
    "from torch_geometric.data import Data\n",
    "\n",
    "\n",
    "from torch_geometric.utils import convert, get_laplacian, to_dense_adj #, add_self_loops, degree,\n",
    "\n",
    "from torch_geometric.typing import Adj#, Union#, Size, OptTensor\n",
    "\n",
    "from torch_sparse import matmul, SparseTensor\n",
    "\n",
    "from torch_geometric.nn import global_mean_pool\n",
    "\n",
    "\n"
   ]
  },
  {
   "cell_type": "markdown",
   "metadata": {},
   "source": [
    "### RunBuilder and RunManager"
   ]
  },
  {
   "cell_type": "code",
   "execution_count": 5,
   "metadata": {
    "execution": {
     "iopub.execute_input": "2021-03-07T14:01:59.060664Z",
     "iopub.status.busy": "2021-03-07T14:01:59.060664Z",
     "iopub.status.idle": "2021-03-07T14:01:59.063656Z",
     "shell.execute_reply": "2021-03-07T14:01:59.063656Z",
     "shell.execute_reply.started": "2021-03-07T14:01:59.060664Z"
    }
   },
   "outputs": [],
   "source": [
    "from collections import OrderedDict\n",
    "from collections import namedtuple\n",
    "from itertools import product\n",
    "\n",
    "from torch.utils.data import DataLoader\n",
    "#from torch.utils.tensorboard import SummaryWriter"
   ]
  },
  {
   "cell_type": "markdown",
   "metadata": {},
   "source": [
    "### Scikit-Learn"
   ]
  },
  {
   "cell_type": "code",
   "execution_count": 6,
   "metadata": {
    "execution": {
     "iopub.execute_input": "2021-03-07T14:01:59.064653Z",
     "iopub.status.busy": "2021-03-07T14:01:59.064653Z",
     "iopub.status.idle": "2021-03-07T14:01:59.069641Z",
     "shell.execute_reply": "2021-03-07T14:01:59.069641Z",
     "shell.execute_reply.started": "2021-03-07T14:01:59.064653Z"
    }
   },
   "outputs": [],
   "source": [
    "from sklearn.model_selection import train_test_split\n",
    "from sklearn.metrics import r2_score"
   ]
  },
  {
   "cell_type": "markdown",
   "metadata": {},
   "source": [
    "### Performance"
   ]
  },
  {
   "cell_type": "code",
   "execution_count": 7,
   "metadata": {
    "execution": {
     "iopub.execute_input": "2021-03-07T14:01:59.070638Z",
     "iopub.status.busy": "2021-03-07T14:01:59.070638Z",
     "iopub.status.idle": "2021-03-07T14:01:59.074626Z",
     "shell.execute_reply": "2021-03-07T14:01:59.074626Z",
     "shell.execute_reply.started": "2021-03-07T14:01:59.070638Z"
    }
   },
   "outputs": [],
   "source": [
    "# from joblib import Parallel, delayed"
   ]
  },
  {
   "cell_type": "markdown",
   "metadata": {},
   "source": [
    "### Visualization"
   ]
  },
  {
   "cell_type": "code",
   "execution_count": 8,
   "metadata": {
    "execution": {
     "iopub.execute_input": "2021-03-07T14:01:59.076621Z",
     "iopub.status.busy": "2021-03-07T14:01:59.076621Z",
     "iopub.status.idle": "2021-03-07T14:01:59.082606Z",
     "shell.execute_reply": "2021-03-07T14:01:59.082606Z",
     "shell.execute_reply.started": "2021-03-07T14:01:59.076621Z"
    }
   },
   "outputs": [],
   "source": [
    "import ipywidgets as widgets\n",
    "from IPython.display import clear_output, display\n",
    "import plotly.graph_objects as go"
   ]
  },
  {
   "cell_type": "markdown",
   "metadata": {},
   "source": [
    "### Custom"
   ]
  },
  {
   "cell_type": "code",
   "execution_count": 9,
   "metadata": {
    "execution": {
     "iopub.execute_input": "2021-03-07T14:01:59.084601Z",
     "iopub.status.busy": "2021-03-07T14:01:59.083603Z",
     "iopub.status.idle": "2021-03-07T14:01:59.091582Z",
     "shell.execute_reply": "2021-03-07T14:01:59.091582Z",
     "shell.execute_reply.started": "2021-03-07T14:01:59.084601Z"
    }
   },
   "outputs": [],
   "source": [
    "from wntr_to_nx import from_wntr_to_nx\n",
    "from Models.G_filter_K import G_filter_K"
   ]
  },
  {
   "cell_type": "markdown",
   "metadata": {},
   "source": [
    "## Utilities"
   ]
  },
  {
   "cell_type": "markdown",
   "metadata": {},
   "source": [
    "### Scaler"
   ]
  },
  {
   "cell_type": "code",
   "execution_count": 10,
   "metadata": {
    "execution": {
     "iopub.execute_input": "2021-03-07T14:01:59.092580Z",
     "iopub.status.busy": "2021-03-07T14:01:59.092580Z",
     "iopub.status.idle": "2021-03-07T14:01:59.100559Z",
     "shell.execute_reply": "2021-03-07T14:01:59.100559Z",
     "shell.execute_reply.started": "2021-03-07T14:01:59.092580Z"
    }
   },
   "outputs": [],
   "source": [
    "class Scaler():\n",
    "    def __init__(self, type_norm, par1=None, par2=None):\n",
    "        self.par1 = par1\n",
    "        self.par2 = par2\n",
    "        assert type_norm in ['Linear', 'Gaussian'], 'Linear or Gaussian?'\n",
    "        self.type_norm = type_norm\n",
    "        \n",
    "        \n",
    "    def scale(self, list_of_values):\n",
    "        \n",
    "        if self.type_norm == 'Linear':\n",
    "            if self.par1 is None:\n",
    "                minT = min(list_of_values)\n",
    "                self.par1 = minT\n",
    "            else:\n",
    "                minT= self.par1\n",
    "            \n",
    "            if self.par2 is None:\n",
    "                maxT = max(list_of_values)\n",
    "                self.par2 = maxT\n",
    "            else:\n",
    "                maxT= self.par2    \n",
    "            assert maxT-minT != 0, 'Max and min values are equal'\n",
    "            normalized_data = (list_of_values - minT)/(maxT - minT)\n",
    "        else:\n",
    "            if self.par1 ==None and self.par2 ==None:\n",
    "                means = list_of_values.mean()#dim=0, keepdim=True)\n",
    "                self.par1 = means\n",
    "                stds = list_of_values.std()#dim=0, keepdim=True)\n",
    "                self.par2 = stds\n",
    "            else:\n",
    "                means = self.par1\n",
    "                stds = self.par2\n",
    "            assert stds != 0, 'Standard deviation is zero'\n",
    "            normalized_data = (list_of_values - means) / stds\n",
    "        \n",
    "        return normalized_data\n",
    "\n",
    "\n",
    "    def rescale(self, scaledList):\n",
    "        if self.type_norm == 'Linear':\n",
    "            ans = (scaledList)*(self.par2 - self.par1) + self.par1\n",
    "        else:\n",
    "            ans = scaledList*self.par2 + self.par1\n",
    "        return ans"
   ]
  },
  {
   "cell_type": "markdown",
   "metadata": {},
   "source": [
    "### RunBuilder"
   ]
  },
  {
   "cell_type": "code",
   "execution_count": 11,
   "metadata": {
    "execution": {
     "iopub.execute_input": "2021-03-07T14:01:59.102555Z",
     "iopub.status.busy": "2021-03-07T14:01:59.101555Z",
     "iopub.status.idle": "2021-03-07T14:01:59.107539Z",
     "shell.execute_reply": "2021-03-07T14:01:59.106542Z",
     "shell.execute_reply.started": "2021-03-07T14:01:59.102555Z"
    }
   },
   "outputs": [],
   "source": [
    "class RunBuilder():\n",
    "    @staticmethod\n",
    "    def get_runs(params):\n",
    "\n",
    "        Run = namedtuple('Run', params.keys())\n",
    "\n",
    "        runs = []\n",
    "        for v in product(*params.values()):\n",
    "            runs.append(Run(*v))\n",
    "\n",
    "        return runs"
   ]
  },
  {
   "cell_type": "markdown",
   "metadata": {},
   "source": [
    "### Loading bar"
   ]
  },
  {
   "cell_type": "code",
   "execution_count": 12,
   "metadata": {
    "execution": {
     "iopub.execute_input": "2021-03-07T14:01:59.108538Z",
     "iopub.status.busy": "2021-03-07T14:01:59.108538Z",
     "iopub.status.idle": "2021-03-07T14:01:59.125492Z",
     "shell.execute_reply": "2021-03-07T14:01:59.124494Z",
     "shell.execute_reply.started": "2021-03-07T14:01:59.108538Z"
    }
   },
   "outputs": [],
   "source": [
    "f = widgets.IntProgress(\n",
    "    value=7,\n",
    "    min=0,\n",
    "    max=10,\n",
    "    step=1,\n",
    "    description='Loading:',\n",
    "    bar_style='', # 'success', 'info', 'warning', 'danger' or ''\n",
    "    orientation='horizontal'\n",
    ")"
   ]
  },
  {
   "cell_type": "markdown",
   "metadata": {},
   "source": [
    "### Graph R2"
   ]
  },
  {
   "cell_type": "markdown",
   "metadata": {},
   "source": [
    "*Further improvements required"
   ]
  },
  {
   "cell_type": "code",
   "execution_count": 13,
   "metadata": {
    "execution": {
     "iopub.execute_input": "2021-03-07T14:01:59.127486Z",
     "iopub.status.busy": "2021-03-07T14:01:59.126489Z",
     "iopub.status.idle": "2021-03-07T14:01:59.131475Z",
     "shell.execute_reply": "2021-03-07T14:01:59.131475Z",
     "shell.execute_reply.started": "2021-03-07T14:01:59.127486Z"
    }
   },
   "outputs": [],
   "source": [
    "def graph_r2(model,graphs):\n",
    "#     preds =[]\n",
    "#     y = []\n",
    "#     for g in graphs:\n",
    "#         preds.append(model(g).detach().numpy())\n",
    "#         y.append(g.y.detach().numpy())\n",
    "    #print(preds, y)\n",
    "    preds = model(graphs)\n",
    "    y = graphs.y\n",
    "    #print(preds, y)\n",
    "    \n",
    "    r_squared = r2_score( np.array(y).flatten() , np.array(preds.detach()).flatten() )\n",
    "    return(r_squared)"
   ]
  },
  {
   "cell_type": "markdown",
   "metadata": {},
   "source": [
    "### Model Preds and Targets"
   ]
  },
  {
   "cell_type": "code",
   "execution_count": 159,
   "metadata": {
    "execution": {
     "iopub.execute_input": "2021-03-07T14:38:27.539827Z",
     "iopub.status.busy": "2021-03-07T14:38:27.539827Z",
     "iopub.status.idle": "2021-03-07T14:38:27.542820Z",
     "shell.execute_reply": "2021-03-07T14:38:27.542820Z",
     "shell.execute_reply.started": "2021-03-07T14:38:27.539827Z"
    }
   },
   "outputs": [],
   "source": [
    "# def res_and_tar(model,graphs):\n",
    "#     preds =[]\n",
    "#     y = []\n",
    "#     for g in graphs:\n",
    "#         preds.append(model(g).mean().detach().numpy())\n",
    "#         y.append(g.y.detach().numpy())\n",
    "#     #print(preds, y)\n",
    "#     #r_squared = r2_score( np.array(y).flatten() , np.array(preds).flatten() )\n",
    "#     return(np.array(preds).flatten(), np.array(y).flatten())"
   ]
  },
  {
   "cell_type": "markdown",
   "metadata": {},
   "source": [
    "### Graph -results"
   ]
  },
  {
   "cell_type": "code",
   "execution_count": 15,
   "metadata": {
    "execution": {
     "iopub.execute_input": "2021-03-07T14:01:59.137459Z",
     "iopub.status.busy": "2021-03-07T14:01:59.137459Z",
     "iopub.status.idle": "2021-03-07T14:01:59.143443Z",
     "shell.execute_reply": "2021-03-07T14:01:59.143443Z",
     "shell.execute_reply.started": "2021-03-07T14:01:59.137459Z"
    }
   },
   "outputs": [],
   "source": [
    "def pred_vs_y_plotly(x_real_values_train, y_pred_values_train, x_real_values_test, y_pred_values_test):\n",
    "    fig = go.FigureWidget(data=go.Scatter(x=x_real_values_train, y=y_pred_values_train,  line={'dash': 'dash'}, name = 'Train'))\n",
    "\n",
    "    fig.add_trace(go.Scatter(x=x_real_values_test, y=y_pred_values_test,  line={'dash': 'dash'}, name='Test'))\n",
    "    #fig.add_trace(go.Scatter(x=x_axis, y=first_DB_pd['minPrPa'],  line={'dash': 'dash'}, name='Min. Res.'))\n",
    "\n",
    "\n",
    "    fig.update_traces(mode='markers',  marker_size=3)\n",
    "    fig.update_layout(title='Pred. vs Actual - Prasad & Park Resilience Index',\n",
    "                        xaxis_title=\"Real Index\",\n",
    "                        yaxis_title=\"Pred. Index\",\n",
    "                        legend_title=\"Legend\",\n",
    "                        legend= {'itemsizing': 'constant'},\n",
    "                        autosize=False,\n",
    "                        width=800,\n",
    "                        height=500,\n",
    "                        font=dict(\n",
    "                            #family=\"Courier New, monospace\",\n",
    "                            size=18,\n",
    "        ))\n",
    "    #yaxis_zeroline=False, xaxis_zeroline=False)\n",
    "    fig.update_layout(shapes=[\n",
    "    dict(\n",
    "      type= 'line',\n",
    "      yref= 'y', y0= -0.30, y1= 1,   # adding a horizontal line at Y = 1\n",
    "      xref= 'x', x0= -0.30, x1= 1\n",
    "         ) \n",
    "    ])\n",
    "\n",
    "    fig.update_xaxes(range=[-0.3, 1])\n",
    "    fig.update_yaxes(range=[-0.3, 1])\n",
    "    \n",
    "    return fig"
   ]
  },
  {
   "cell_type": "markdown",
   "metadata": {},
   "source": [
    "## Dataset "
   ]
  },
  {
   "cell_type": "markdown",
   "metadata": {},
   "source": [
    "### Loading inp and database"
   ]
  },
  {
   "cell_type": "code",
   "execution_count": 16,
   "metadata": {
    "execution": {
     "iopub.execute_input": "2021-03-07T14:01:59.144441Z",
     "iopub.status.busy": "2021-03-07T14:01:59.144441Z",
     "iopub.status.idle": "2021-03-07T14:01:59.164418Z",
     "shell.execute_reply": "2021-03-07T14:01:59.164418Z",
     "shell.execute_reply.started": "2021-03-07T14:01:59.144441Z"
    }
   },
   "outputs": [
    {
     "name": "stdout",
     "output_type": "stream",
     "text": [
      "C:\\Users\\agarzondiaz\\surfdrive\\Year 1\\AnyTown Database\\AnyTown_DB\\GNN code\n"
     ]
    }
   ],
   "source": [
    "!cd "
   ]
  },
  {
   "cell_type": "code",
   "execution_count": 17,
   "metadata": {
    "execution": {
     "iopub.execute_input": "2021-03-07T14:01:59.165384Z",
     "iopub.status.busy": "2021-03-07T14:01:59.165384Z",
     "iopub.status.idle": "2021-03-07T14:01:59.464688Z",
     "shell.execute_reply": "2021-03-07T14:01:59.464688Z",
     "shell.execute_reply.started": "2021-03-07T14:01:59.165384Z"
    }
   },
   "outputs": [
    {
     "data": {
      "text/plain": [
       "(<matplotlib.collections.PathCollection at 0x1c721a62ac0>,\n",
       " <matplotlib.collections.LineCollection at 0x1c721a3be80>)"
      ]
     },
     "execution_count": 17,
     "metadata": {},
     "output_type": "execute_result"
    },
    {
     "data": {
      "image/png": "[encoded data removed]",
      "text/plain": [
       "<Figure size 432x288 with 1 Axes>"
      ]
     },
     "metadata": {},
     "output_type": "display_data"
    }
   ],
   "source": [
    "# Create a water network model\n",
    "#inp_file = 'Exeter/BLA.inp'\n",
    "inp_file =r'C:\\Users\\agarzondiaz\\surfdrive\\Year 1\\AnyTown Database\\AnyTown_DB\\networks\\Mod_Anytown.inp' \n",
    "wn_WDS = wntr.network.WaterNetworkModel(inp_file)\n",
    "\n",
    "# Graph the network\n",
    "wntr.graphics.plot_network(wn_WDS, title=wn_WDS.name)\n",
    "\n",
    "# Simulate hydraulics\n",
    "# sim_WDS = wntr.sim.EpanetSimulator(wn_WDS)\n",
    "# results_WDS = sim_WDS.run_sim()"
   ]
  },
  {
   "cell_type": "code",
   "execution_count": 18,
   "metadata": {
    "execution": {
     "iopub.execute_input": "2021-03-07T14:01:59.465685Z",
     "iopub.status.busy": "2021-03-07T14:01:59.465685Z",
     "iopub.status.idle": "2021-03-07T14:01:59.468706Z",
     "shell.execute_reply": "2021-03-07T14:01:59.468706Z",
     "shell.execute_reply.started": "2021-03-07T14:01:59.465685Z"
    }
   },
   "outputs": [],
   "source": [
    "#del database"
   ]
  },
  {
   "cell_type": "code",
   "execution_count": 20,
   "metadata": {
    "execution": {
     "iopub.execute_input": "2021-03-07T14:02:18.898840Z",
     "iopub.status.busy": "2021-03-07T14:02:18.898840Z",
     "iopub.status.idle": "2021-03-07T14:02:18.902807Z",
     "shell.execute_reply": "2021-03-07T14:02:18.902807Z",
     "shell.execute_reply.started": "2021-03-07T14:02:18.898840Z"
    }
   },
   "outputs": [
    {
     "name": "stdout",
     "output_type": "stream",
     "text": [
      "False\n"
     ]
    }
   ],
   "source": [
    "# Import database: contains information for all the simulations run\n",
    "try:\n",
    "    print(database is None)\n",
    "except:\n",
    "    #database = pickle.load( open( \"Datasets/BLA_dataset.p\", \"rb\" ))\n",
    "    database = pickle.load( open( r\"C:\\Users\\agarzondiaz\\surfdrive\\Year 1\\AnyTown Database\\AnyTown_DB\\Mod_Anytown_Geom_DB_5000\\Mod_Anytown_dataset.p\", \"rb\" ))"
   ]
  },
  {
   "cell_type": "code",
   "execution_count": 21,
   "metadata": {
    "execution": {
     "iopub.execute_input": "2021-03-07T14:02:20.675602Z",
     "iopub.status.busy": "2021-03-07T14:02:20.675602Z",
     "iopub.status.idle": "2021-03-07T14:02:20.679628Z",
     "shell.execute_reply": "2021-03-07T14:02:20.679628Z",
     "shell.execute_reply.started": "2021-03-07T14:02:20.675602Z"
    }
   },
   "outputs": [],
   "source": [
    "database = database['data']"
   ]
  },
  {
   "cell_type": "code",
   "execution_count": 22,
   "metadata": {
    "execution": {
     "iopub.execute_input": "2021-03-07T14:02:22.654363Z",
     "iopub.status.busy": "2021-03-07T14:02:22.654363Z",
     "iopub.status.idle": "2021-03-07T14:02:22.659350Z",
     "shell.execute_reply": "2021-03-07T14:02:22.659350Z",
     "shell.execute_reply.started": "2021-03-07T14:02:22.654363Z"
    }
   },
   "outputs": [
    {
     "data": {
      "text/plain": [
       "Data(ID=[21], base_demand=[21], base_head=[21], demand=[21], diameter=[80], edge_index=[2, 80], elevation=[21], length=[80], pos=[21, 2], pressure=[21], res_PP=0.11929542571306229, res_Todini=0.29142066836357117, roughness=[80], type=[80], type_1H=[21])"
      ]
     },
     "execution_count": 22,
     "metadata": {},
     "output_type": "execute_result"
    }
   ],
   "source": [
    "database[0]"
   ]
  },
  {
   "cell_type": "markdown",
   "metadata": {},
   "source": [
    "### Geometric Dataset"
   ]
  },
  {
   "cell_type": "markdown",
   "metadata": {},
   "source": [
    "Organize and normalize the dataset "
   ]
  },
  {
   "cell_type": "code",
   "execution_count": 23,
   "metadata": {
    "execution": {
     "iopub.execute_input": "2021-03-07T14:02:45.046725Z",
     "iopub.status.busy": "2021-03-07T14:02:45.046725Z",
     "iopub.status.idle": "2021-03-07T14:02:45.051725Z",
     "shell.execute_reply": "2021-03-07T14:02:45.050718Z",
     "shell.execute_reply.started": "2021-03-07T14:02:45.046725Z"
    }
   },
   "outputs": [],
   "source": [
    "torch.set_default_dtype(torch.float64)"
   ]
  },
  {
   "cell_type": "markdown",
   "metadata": {},
   "source": [
    "#### Scalers"
   ]
  },
  {
   "cell_type": "code",
   "execution_count": 24,
   "metadata": {
    "execution": {
     "iopub.execute_input": "2021-03-07T14:02:46.182577Z",
     "iopub.status.busy": "2021-03-07T14:02:46.182577Z",
     "iopub.status.idle": "2021-03-07T14:02:46.197537Z",
     "shell.execute_reply": "2021-03-07T14:02:46.197537Z",
     "shell.execute_reply.started": "2021-03-07T14:02:46.182577Z"
    }
   },
   "outputs": [],
   "source": [
    "elev_and_head = torch.cat((database[0].elevation, database[0].base_head))"
   ]
  },
  {
   "cell_type": "code",
   "execution_count": 25,
   "metadata": {
    "execution": {
     "iopub.execute_input": "2021-03-07T14:02:47.160758Z",
     "iopub.status.busy": "2021-03-07T14:02:47.160758Z",
     "iopub.status.idle": "2021-03-07T14:02:47.168736Z",
     "shell.execute_reply": "2021-03-07T14:02:47.168736Z",
     "shell.execute_reply.started": "2021-03-07T14:02:47.160758Z"
    }
   },
   "outputs": [],
   "source": [
    "sc_base_dem  = Scaler(type_norm='Gaussian')\n",
    "sc_head_elev = Scaler(type_norm='Linear', par1 = min(elev_and_head), par2 =max(elev_and_head) )\n",
    "\n",
    "sc_diameter  = Scaler(type_norm='Linear', par1 = 0, par2 = 1)\n",
    "sc_length    = Scaler(type_norm='Gaussian')\n",
    "sc_roughness = Scaler(type_norm='Linear', par1=80, par2=150)\n"
   ]
  },
  {
   "cell_type": "markdown",
   "metadata": {},
   "source": [
    "#### Creating the final graphs\n",
    "These graphs contain the information in the nodes (x), edges (edge_attr), and the target (res_PP)"
   ]
  },
  {
   "cell_type": "code",
   "execution_count": 221,
   "metadata": {
    "execution": {
     "iopub.execute_input": "2021-03-07T15:43:39.945468Z",
     "iopub.status.busy": "2021-03-07T15:43:39.945468Z",
     "iopub.status.idle": "2021-03-07T15:43:41.719573Z",
     "shell.execute_reply": "2021-03-07T15:43:41.719573Z",
     "shell.execute_reply.started": "2021-03-07T15:43:39.945468Z"
    }
   },
   "outputs": [],
   "source": [
    "graphs = []\n",
    "for i in database:\n",
    "    if i.res_PP>0:\n",
    "        current = Data()\n",
    "        current.edge_index = i.edge_index\n",
    "        current.ID =  i.ID\n",
    "        current.pos = i.pos\n",
    "\n",
    "        current.x = torch.cat(( i.type_1H.view(-1,1),      #Already normalized\n",
    "                                sc_base_dem.scale(i.base_demand).view(-1,1),  #\n",
    "                                sc_head_elev.scale(i.base_head).view(-1,1),\n",
    "                                sc_head_elev.scale(i.elevation).view(-1,1)), 1).double()\n",
    "\n",
    "        current.edge_attr = torch.cat(( \n",
    "                            sc_diameter.scale(i.diameter).view(-1,1),\n",
    "                            sc_length.scale(i.length).view(-1,1), \n",
    "                            sc_roughness.scale(i.roughness).view(-1,1))\n",
    "                            , 1).double()\n",
    "\n",
    "        current.y = sc_head_elev.scale(i.pressure)#i.res_Todini##\n",
    "        \n",
    "        current.demand_WNTR = i.demand\n",
    "        current.todini = i.res_Todini\n",
    "\n",
    "        graphs.append(current)\n",
    "    "
   ]
  },
  {
   "cell_type": "code",
   "execution_count": 222,
   "metadata": {
    "execution": {
     "iopub.execute_input": "2021-03-07T15:43:41.721561Z",
     "iopub.status.busy": "2021-03-07T15:43:41.720564Z",
     "iopub.status.idle": "2021-03-07T15:43:41.725550Z",
     "shell.execute_reply": "2021-03-07T15:43:41.724552Z",
     "shell.execute_reply.started": "2021-03-07T15:43:41.721561Z"
    },
    "scrolled": true
   },
   "outputs": [],
   "source": [
    "#Example of the normalized weights in the adjacency matrix (as edge index and edge weight)\n",
    "#graphs[3].weight.t(), graphs[3].edge_index\n",
    "#graphs[3].diams_n.t(), graphs[3].edge_index"
   ]
  },
  {
   "cell_type": "code",
   "execution_count": 223,
   "metadata": {
    "execution": {
     "iopub.execute_input": "2021-03-07T15:43:41.725550Z",
     "iopub.status.busy": "2021-03-07T15:43:41.725550Z",
     "iopub.status.idle": "2021-03-07T15:43:41.730419Z",
     "shell.execute_reply": "2021-03-07T15:43:41.730419Z",
     "shell.execute_reply.started": "2021-03-07T15:43:41.725550Z"
    }
   },
   "outputs": [],
   "source": [
    "#graphs[3].base_head"
   ]
  },
  {
   "cell_type": "code",
   "execution_count": 224,
   "metadata": {
    "execution": {
     "iopub.execute_input": "2021-03-07T15:43:41.731397Z",
     "iopub.status.busy": "2021-03-07T15:43:41.731397Z",
     "iopub.status.idle": "2021-03-07T15:43:41.736384Z",
     "shell.execute_reply": "2021-03-07T15:43:41.736384Z",
     "shell.execute_reply.started": "2021-03-07T15:43:41.731397Z"
    }
   },
   "outputs": [
    {
     "data": {
      "text/plain": [
       "4788"
      ]
     },
     "execution_count": 224,
     "metadata": {},
     "output_type": "execute_result"
    }
   ],
   "source": [
    "len(graphs)"
   ]
  },
  {
   "cell_type": "code",
   "execution_count": 215,
   "metadata": {
    "execution": {
     "iopub.execute_input": "2021-03-07T15:42:47.466176Z",
     "iopub.status.busy": "2021-03-07T15:42:47.466176Z",
     "iopub.status.idle": "2021-03-07T15:42:47.472160Z",
     "shell.execute_reply": "2021-03-07T15:42:47.472160Z",
     "shell.execute_reply.started": "2021-03-07T15:42:47.466176Z"
    }
   },
   "outputs": [
    {
     "data": {
      "text/plain": [
       "tensor([ 0.0315,  0.0126,  0.0126,  0.0126,  0.0000,  0.0315,  0.0315,  0.0000,\n",
       "         0.0315,  0.0631,  0.0315,  0.0315,  0.0000,  0.0126,  0.0126,  0.0126,\n",
       "         0.0126,  0.0505,  0.0126, -0.1564, -0.2473], dtype=torch.float32)"
      ]
     },
     "execution_count": 215,
     "metadata": {},
     "output_type": "execute_result"
    }
   ],
   "source": [
    "graphs[3].demand_WNTR"
   ]
  },
  {
   "cell_type": "markdown",
   "metadata": {},
   "source": [
    "### Data split"
   ]
  },
  {
   "cell_type": "code",
   "execution_count": 216,
   "metadata": {
    "execution": {
     "iopub.execute_input": "2021-03-07T15:43:13.773124Z",
     "iopub.status.busy": "2021-03-07T15:43:13.773124Z",
     "iopub.status.idle": "2021-03-07T15:43:13.778113Z",
     "shell.execute_reply": "2021-03-07T15:43:13.777114Z",
     "shell.execute_reply.started": "2021-03-07T15:43:13.773124Z"
    }
   },
   "outputs": [],
   "source": [
    "# create dataset\n",
    "#split_ix = 3000\n",
    "seed = 1135\n",
    "batch_size = 32\n",
    "split_ix = int(0.8 * len(graphs))\n",
    "#val_size = int(0.2 * len(graphs))\n",
    "train_loader = torch_geometric.data.DataLoader(graphs[:split_ix], batch_size=batch_size, shuffle=True)\n",
    "valid_loader = torch_geometric.data.DataLoader(graphs[split_ix:], batch_size=batch_size, shuffle=True)"
   ]
  },
  {
   "cell_type": "code",
   "execution_count": 217,
   "metadata": {
    "execution": {
     "iopub.execute_input": "2021-03-07T15:43:13.779111Z",
     "iopub.status.busy": "2021-03-07T15:43:13.779111Z",
     "iopub.status.idle": "2021-03-07T15:43:13.783131Z",
     "shell.execute_reply": "2021-03-07T15:43:13.783131Z",
     "shell.execute_reply.started": "2021-03-07T15:43:13.779111Z"
    },
    "scrolled": true
   },
   "outputs": [],
   "source": [
    "# for step, data in enumerate(train_loader):\n",
    "#     print(f'Step {step + 1}:')\n",
    "#     print('=======')\n",
    "#     print(f'Number of graphs in the current batch: {data.num_graphs}')\n",
    "#     print(data)\n",
    "#     print()"
   ]
  },
  {
   "cell_type": "code",
   "execution_count": 218,
   "metadata": {
    "execution": {
     "iopub.execute_input": "2021-03-07T15:43:13.784096Z",
     "iopub.status.busy": "2021-03-07T15:43:13.784096Z",
     "iopub.status.idle": "2021-03-07T15:43:13.789082Z",
     "shell.execute_reply": "2021-03-07T15:43:13.789082Z",
     "shell.execute_reply.started": "2021-03-07T15:43:13.784096Z"
    }
   },
   "outputs": [],
   "source": [
    "#seed = 1135\n",
    "#train_size = int(0.8 * len(graphs))\n",
    "#val_size = int(0.1 * len(graphs))\n",
    "#test_size = len(graphs) -val_size - train_size\n",
    "#train_dataset, val_dataset, test_dataset = torch.utils.data.random_split(graphs, [train_size, val_size, test_size],generator=torch.Generator().manual_seed(seed))"
   ]
  },
  {
   "cell_type": "markdown",
   "metadata": {},
   "source": [
    "## **Message Passing**"
   ]
  },
  {
   "cell_type": "markdown",
   "metadata": {},
   "source": [
    "**MessagePassing(aggr=\"add\", flow=\"source_to_target\", node_dim=-2):** \\\n",
    "Defines the aggregation scheme to use (\"add\", \"mean\" or \"max\") and the flow direction of message passing (either \"source_to_target\" or \"target_to_source\"). Furthermore, the node_dim attribute indicates along which axis to propagate."
   ]
  },
  {
   "cell_type": "markdown",
   "metadata": {},
   "source": [
    "$${\\huge \\mathbf{x}_i^{\\prime} = \\gamma_{\\mathbf{\\Theta}} \\left( \\mathbf{x}_i,\n",
    "\\square_{j \\in \\mathcal{N}(i)} \\, \\phi_{\\mathbf{\\Theta}}\n",
    "\\left(\\mathbf{x}_i, \\mathbf{x}_j,\\mathbf{e}_{j,i}\\right) \\right) }$$ \n",
    "\n",
    "where $\\square$ denotes a differentiable, permutation invariant function, e.g., sum, mean or max, and $\\gamma_{\\mathbf{\\Theta}}$ and $ \\phi_{\\mathbf{\\Theta}}$ denote differentiable functions such as MLPs.\n",
    "Source: [PyTorch Geometric](https://pytorch-geometric.readthedocs.io/en/latest/notes/create_gnn.html)"
   ]
  },
  {
   "cell_type": "markdown",
   "metadata": {},
   "source": [
    "### Layer definition"
   ]
  },
  {
   "cell_type": "markdown",
   "metadata": {},
   "source": [
    "#### Graph filter"
   ]
  },
  {
   "cell_type": "markdown",
   "metadata": {},
   "source": [
    "### Model definition"
   ]
  },
  {
   "cell_type": "code",
   "execution_count": 219,
   "metadata": {
    "execution": {
     "iopub.execute_input": "2021-03-07T15:43:13.790080Z",
     "iopub.status.busy": "2021-03-07T15:43:13.790080Z",
     "iopub.status.idle": "2021-03-07T15:43:13.805070Z",
     "shell.execute_reply": "2021-03-07T15:43:13.805070Z",
     "shell.execute_reply.started": "2021-03-07T15:43:13.790080Z"
    }
   },
   "outputs": [
    {
     "data": {
      "text/plain": [
       "Batch(ID=[32], batch=[672], demand_WNTR=[672], edge_attr=[2560, 3], edge_index=[2, 2560], pos=[672, 2], todini=[32], x=[672, 4], y=[32])"
      ]
     },
     "execution_count": 219,
     "metadata": {},
     "output_type": "execute_result"
    }
   ],
   "source": [
    "next(iter(train_loader))"
   ]
  },
  {
   "cell_type": "code",
   "execution_count": 220,
   "metadata": {
    "execution": {
     "iopub.execute_input": "2021-03-07T15:43:39.934496Z",
     "iopub.status.busy": "2021-03-07T15:43:39.934496Z",
     "iopub.status.idle": "2021-03-07T15:43:39.944495Z",
     "shell.execute_reply": "2021-03-07T15:43:39.944495Z",
     "shell.execute_reply.started": "2021-03-07T15:43:39.934496Z"
    }
   },
   "outputs": [],
   "source": [
    "a = G_filter_K(units = [1, 32], aggr ='add', K = 2)"
   ]
  },
  {
   "cell_type": "code",
   "execution_count": 39,
   "metadata": {
    "execution": {
     "iopub.execute_input": "2021-03-07T14:04:03.240258Z",
     "iopub.status.busy": "2021-03-07T14:04:03.240258Z",
     "iopub.status.idle": "2021-03-07T14:04:03.245242Z",
     "shell.execute_reply": "2021-03-07T14:04:03.245242Z",
     "shell.execute_reply.started": "2021-03-07T14:04:03.240258Z"
    }
   },
   "outputs": [
    {
     "name": "stdout",
     "output_type": "stream",
     "text": [
      "torch.Size([1, 32])\n",
      "torch.Size([1, 32])\n",
      "torch.Size([1, 32])\n"
     ]
    }
   ],
   "source": [
    "for i in a.parameters():\n",
    "    print(i.shape)"
   ]
  },
  {
   "cell_type": "code",
   "execution_count": 41,
   "metadata": {
    "execution": {
     "iopub.execute_input": "2021-03-07T14:04:13.095328Z",
     "iopub.status.busy": "2021-03-07T14:04:13.094328Z",
     "iopub.status.idle": "2021-03-07T14:04:13.098318Z",
     "shell.execute_reply": "2021-03-07T14:04:13.098318Z",
     "shell.execute_reply.started": "2021-03-07T14:04:13.095328Z"
    }
   },
   "outputs": [],
   "source": [
    "#graphs[0].x[:,1:4].view(-1, 3)"
   ]
  },
  {
   "cell_type": "code",
   "execution_count": 225,
   "metadata": {
    "execution": {
     "iopub.execute_input": "2021-03-07T15:44:18.578069Z",
     "iopub.status.busy": "2021-03-07T15:44:18.577072Z",
     "iopub.status.idle": "2021-03-07T15:44:18.587046Z",
     "shell.execute_reply": "2021-03-07T15:44:18.587046Z",
     "shell.execute_reply.started": "2021-03-07T15:44:18.578069Z"
    }
   },
   "outputs": [],
   "source": [
    "class Net(nn.Module):\n",
    "    def __init__(self, hid_units, K):\n",
    "        super(Net, self).__init__()\n",
    "        self.K = K\n",
    "        self.hid_units = hid_units\n",
    "        self.conv1 = G_filter_K(units = [3, self.hid_units], aggr ='add', K = self.K)\n",
    "        self.conv2 = G_filter_K(units = [self.hid_units, self.hid_units], aggr ='add', K = self.K)\n",
    "        self.conv3 = G_filter_K(units = [self.hid_units, 1], aggr ='add', K = self.K)\n",
    "#         self.conv4 = G_filter_K(units = [self.hid_units, 1], aggr ='add', K = self.K)\n",
    "#         self.fc1 = nn.Linear(self.hid_units,1)\n",
    "#         self.fc2 = nn.Linear(int(self.hid_units/2),1)\n",
    "\n",
    "    def forward(self, data, prt=False):\n",
    "        edge_attr  = data.edge_attr[:,0].view(-1,)\n",
    "        edge_index = data.edge_index\n",
    "        #print(data)\n",
    "        \n",
    "        try:\n",
    "            batch = data.batch\n",
    "        except:\n",
    "            batch = torch.zeros(len(data.x), dtype = torch.int64)\n",
    "        \n",
    "        x = data.x[:,1:4].view(-1, 3)#torch.ones((len(batch),1))\n",
    "        \n",
    "        \n",
    "        \n",
    "        x = self.conv1(x, edge_attr, edge_index)\n",
    "        x = torch.sigmoid(x)\n",
    "\n",
    "        x = self.conv2(x, edge_attr, edge_index)\n",
    "        x = torch.sigmoid(x)\n",
    "        \n",
    "        x = self.conv3(x, edge_attr, edge_index)\n",
    "        x = torch.sigmoid(x)\n",
    "        \n",
    "#         x = self.conv4(x, edge_attr, edge_index)\n",
    "#         x = torch.sigmoid(x)\n",
    "        \n",
    "#         x = self.fc1(x)\n",
    "#         x = torch.sigmoid(x)\n",
    "        \n",
    "#         if prt == True:\n",
    "#             print(x)\n",
    "        \n",
    "#         x = self.fc1(x)\n",
    "#         x = torch.sigmoid(x)\n",
    "        \n",
    "#         x = global_mean_pool(x, batch)\n",
    "        \n",
    "        \n",
    "        return x  #, x\n",
    "    \n",
    "    # Calculates the number of parameters for each layer (weights and biases are summed together)\n",
    "    def N_parameters(self):\n",
    "        self.num_params = []\n",
    "#         i = 0\n",
    "        \n",
    "        for parameter in self.parameters():\n",
    "            self.num_params.append(torch.numel(parameter))\n",
    "\n",
    "        return self.num_params"
   ]
  },
  {
   "cell_type": "code",
   "execution_count": 226,
   "metadata": {
    "execution": {
     "iopub.execute_input": "2021-03-07T15:44:18.589039Z",
     "iopub.status.busy": "2021-03-07T15:44:18.589039Z",
     "iopub.status.idle": "2021-03-07T15:44:18.594027Z",
     "shell.execute_reply": "2021-03-07T15:44:18.594027Z",
     "shell.execute_reply.started": "2021-03-07T15:44:18.589039Z"
    }
   },
   "outputs": [],
   "source": [
    "#model = Net(hid_units = 32, K=2)#.to(device)"
   ]
  },
  {
   "cell_type": "code",
   "execution_count": 227,
   "metadata": {
    "execution": {
     "iopub.execute_input": "2021-03-07T15:44:18.595025Z",
     "iopub.status.busy": "2021-03-07T15:44:18.595025Z",
     "iopub.status.idle": "2021-03-07T15:44:18.599024Z",
     "shell.execute_reply": "2021-03-07T15:44:18.599024Z",
     "shell.execute_reply.started": "2021-03-07T15:44:18.595025Z"
    }
   },
   "outputs": [],
   "source": [
    "#sum(model.N_parameters())"
   ]
  },
  {
   "cell_type": "markdown",
   "metadata": {},
   "source": [
    "## Training"
   ]
  },
  {
   "cell_type": "markdown",
   "metadata": {},
   "source": [
    "### Hyperparameters"
   ]
  },
  {
   "cell_type": "code",
   "execution_count": 228,
   "metadata": {
    "execution": {
     "iopub.execute_input": "2021-03-07T15:44:18.601009Z",
     "iopub.status.busy": "2021-03-07T15:44:18.600010Z",
     "iopub.status.idle": "2021-03-07T15:44:18.605994Z",
     "shell.execute_reply": "2021-03-07T15:44:18.604998Z",
     "shell.execute_reply.started": "2021-03-07T15:44:18.601009Z"
    }
   },
   "outputs": [],
   "source": [
    "#N_epochs = 1000\n",
    "params = OrderedDict(\n",
    "    lr = [2e-4]\n",
    "    ,weight_decay=[0]\n",
    "    ,N_epochs = [100]\n",
    "    ,hid_units = [32]\n",
    "    ,K = [2]\n",
    "    #,batch_size = [50] #T.B.I\n",
    ")\n",
    "\n",
    "report_freq=5"
   ]
  },
  {
   "cell_type": "code",
   "execution_count": 124,
   "metadata": {
    "execution": {
     "iopub.execute_input": "2021-03-07T14:22:08.873280Z",
     "iopub.status.busy": "2021-03-07T14:22:08.873280Z",
     "iopub.status.idle": "2021-03-07T14:22:08.877179Z",
     "shell.execute_reply": "2021-03-07T14:22:08.877179Z",
     "shell.execute_reply.started": "2021-03-07T14:22:08.873280Z"
    }
   },
   "outputs": [],
   "source": [
    "runs = RunBuilder.get_runs(params)"
   ]
  },
  {
   "cell_type": "code",
   "execution_count": 125,
   "metadata": {
    "execution": {
     "iopub.execute_input": "2021-03-07T14:22:08.879173Z",
     "iopub.status.busy": "2021-03-07T14:22:08.878175Z",
     "iopub.status.idle": "2021-03-07T14:22:08.884159Z",
     "shell.execute_reply": "2021-03-07T14:22:08.884159Z",
     "shell.execute_reply.started": "2021-03-07T14:22:08.879173Z"
    }
   },
   "outputs": [
    {
     "data": {
      "text/plain": [
       "[Run(lr=0.0002, weight_decay=0, N_epochs=100, hid_units=32, K=2)]"
      ]
     },
     "execution_count": 125,
     "metadata": {},
     "output_type": "execute_result"
    }
   ],
   "source": [
    "runs"
   ]
  },
  {
   "cell_type": "markdown",
   "metadata": {},
   "source": [
    "### Forward and Backpropagation"
   ]
  },
  {
   "cell_type": "markdown",
   "metadata": {},
   "source": [
    "#### Batch training"
   ]
  },
  {
   "cell_type": "code",
   "execution_count": 126,
   "metadata": {
    "execution": {
     "iopub.execute_input": "2021-03-07T14:22:11.966014Z",
     "iopub.status.busy": "2021-03-07T14:22:11.966014Z",
     "iopub.status.idle": "2021-03-07T14:22:11.969684Z",
     "shell.execute_reply": "2021-03-07T14:22:11.969684Z",
     "shell.execute_reply.started": "2021-03-07T14:22:11.966014Z"
    }
   },
   "outputs": [],
   "source": [
    "#len(model(next(iter(train_loader))))"
   ]
  },
  {
   "cell_type": "code",
   "execution_count": 127,
   "metadata": {
    "execution": {
     "iopub.execute_input": "2021-03-07T14:22:11.971678Z",
     "iopub.status.busy": "2021-03-07T14:22:11.970681Z",
     "iopub.status.idle": "2021-03-07T14:22:11.980655Z",
     "shell.execute_reply": "2021-03-07T14:22:11.980655Z",
     "shell.execute_reply.started": "2021-03-07T14:22:11.971678Z"
    }
   },
   "outputs": [
    {
     "data": {
      "text/plain": [
       "Batch(ID=[32], batch=[672], demand_WNTR=[672], edge_attr=[2560, 3], edge_index=[2, 2560], pos=[672, 2], todini=[32], x=[672, 4], y=[672])"
      ]
     },
     "execution_count": 127,
     "metadata": {},
     "output_type": "execute_result"
    }
   ],
   "source": [
    "next(iter(train_loader))"
   ]
  },
  {
   "cell_type": "code",
   "execution_count": 128,
   "metadata": {
    "execution": {
     "iopub.execute_input": "2021-03-07T14:22:11.982649Z",
     "iopub.status.busy": "2021-03-07T14:22:11.981653Z",
     "iopub.status.idle": "2021-03-07T14:24:27.955261Z",
     "shell.execute_reply": "2021-03-07T14:24:27.954263Z",
     "shell.execute_reply.started": "2021-03-07T14:22:11.982649Z"
    },
    "scrolled": true
   },
   "outputs": [
    {
     "data": {
      "application/vnd.jupyter.widget-view+json": {
       "model_id": "dde2da36f57c42b4853d7ea6b2a72444",
       "version_major": 2,
       "version_minor": 0
      },
      "text/plain": [
       "IntProgress(value=100, description='Loading...')"
      ]
     },
     "metadata": {},
     "output_type": "display_data"
    },
    {
     "name": "stdout",
     "output_type": "stream",
     "text": [
      "-------------------New configuration-------------------\n"
     ]
    },
    {
     "name": "stderr",
     "output_type": "stream",
     "text": [
      "C:\\Programs\\Anaconda3\\envs\\PyTorch_Env\\lib\\site-packages\\torch\\nn\\modules\\container.py:435: UserWarning: Setting attributes on ParameterList is not supported.\n",
      "  warnings.warn(\"Setting attributes on ParameterList is not supported.\")\n"
     ]
    },
    {
     "name": "stdout",
     "output_type": "stream",
     "text": [
      "\t epoch  0 \t  total loss:   10.2254 \t R2:  0.0308\n",
      "\t epoch  5 \t  total loss:   0.919 \t R2:  0.8824\n",
      "\t epoch  10 \t  total loss:   0.5832 \t R2:  0.918\n",
      "\t epoch  15 \t  total loss:   0.4553 \t R2:  0.937\n",
      "\t epoch  20 \t  total loss:   0.3801 \t R2:  0.9607\n",
      "\t epoch  25 \t  total loss:   0.3284 \t R2:  0.9567\n",
      "\t epoch  30 \t  total loss:   0.2967 \t R2:  0.972\n",
      "\t epoch  35 \t  total loss:   0.2739 \t R2:  0.9491\n",
      "\t epoch  40 \t  total loss:   0.2584 \t R2:  0.9573\n",
      "\t epoch  45 \t  total loss:   0.2447 \t R2:  0.9489\n",
      "\t epoch  50 \t  total loss:   0.2351 \t R2:  0.9788\n",
      "\t epoch  55 \t  total loss:   0.228 \t R2:  0.96\n",
      "\t epoch  60 \t  total loss:   0.2202 \t R2:  0.9722\n",
      "\t epoch  65 \t  total loss:   0.2161 \t R2:  0.9556\n",
      "\t epoch  70 \t  total loss:   0.2107 \t R2:  0.9617\n",
      "\t epoch  75 \t  total loss:   0.2051 \t R2:  0.9841\n",
      "\t epoch  80 \t  total loss:   0.2025 \t R2:  0.9749\n",
      "\t epoch  85 \t  total loss:   0.1991 \t R2:  0.9735\n",
      "\t epoch  90 \t  total loss:   0.1975 \t R2:  0.9865\n",
      "\t epoch  95 \t  total loss:   0.1941 \t R2:  0.9646\n",
      "\t epoch  99 \t  total loss:   0.1908 \t R2:  0.9742\n",
      "-Run(lr=0.0002, weight_decay=0, N_epochs=100, hid_units=32, K=2) 135.85 seconds\n",
      "Total parameters: \t 3456 \n",
      "\n"
     ]
    }
   ],
   "source": [
    "f.description = 'Loading...'\n",
    "display(f)\n",
    "device = torch.device('cuda' if torch.cuda.is_available() else 'cpu')\n",
    "\n",
    "for run in RunBuilder.get_runs(params):\n",
    "    print(\"-------------------New configuration-------------------\")\n",
    "    model = Net(hid_units = run.hid_units, K=run.K).to(device)\n",
    "    start_time = time.time()\n",
    "    optimizer = torch.optim.Adam(model.parameters(), lr=run.lr, weight_decay=run.weight_decay)\n",
    "    f.value = 0\n",
    "    f.max = run.N_epochs\n",
    "    model.train()\n",
    "    for epoch in range(run.N_epochs):\n",
    "        total_loss= 0\n",
    "        \n",
    "        for training_graph in train_loader:\n",
    "            pred = model(training_graph)#[0]\n",
    "            target = training_graph.y\n",
    "            loss = F.mse_loss(pred.to(torch.float32).view(-1,1), target.to(torch.float32).view(-1,1))\n",
    "            \n",
    "            #print(pred, target)\n",
    "            loss.to(torch.float64)\n",
    "            total_loss += loss\n",
    "        \n",
    "            #total_loss /= len(train_dataset)\n",
    "            #total_loss = total_loss.to(torch.float32)\n",
    "            optimizer.zero_grad()\n",
    "            #print(loss.dtype)\n",
    "            loss.backward()\n",
    "            optimizer.step()\n",
    "        \n",
    "        f.value += 1\n",
    "        f.description = 'Epoch {}/{}'.format(epoch+1,f.max)\n",
    "        if epoch%report_freq == 0 or epoch == run.N_epochs-1:\n",
    "            #print(model.conv1.H[0])\n",
    "            r2 = np.round(graph_r2(model, training_graph), 4)\n",
    "            print('\\t', \"epoch \", epoch, '\\t',\" total loss:  \", np.round(total_loss.item(),4), '\\t', 'R2: ', r2)\n",
    "            \n",
    "    comment = f'-{run}'\n",
    "    execution_time=np.round((time.time() - start_time), 2)\n",
    "    print(comment, execution_time, 'seconds')\n",
    "    print('Total parameters:','\\t', np.array(model.N_parameters()).sum(), \"\\n\")\n",
    "    \n",
    "winsound.Beep(1000, 100) #Ending sound\n"
   ]
  },
  {
   "cell_type": "code",
   "execution_count": 130,
   "metadata": {
    "execution": {
     "iopub.execute_input": "2021-03-07T14:24:35.242340Z",
     "iopub.status.busy": "2021-03-07T14:24:35.241342Z",
     "iopub.status.idle": "2021-03-07T14:24:35.258297Z",
     "shell.execute_reply": "2021-03-07T14:24:35.258297Z",
     "shell.execute_reply.started": "2021-03-07T14:24:35.242340Z"
    }
   },
   "outputs": [],
   "source": [
    "r2 = np.round(graph_r2(model, next(iter(valid_loader))), 4)"
   ]
  },
  {
   "cell_type": "code",
   "execution_count": 131,
   "metadata": {
    "execution": {
     "iopub.execute_input": "2021-03-07T14:24:35.261656Z",
     "iopub.status.busy": "2021-03-07T14:24:35.260653Z",
     "iopub.status.idle": "2021-03-07T14:24:35.267636Z",
     "shell.execute_reply": "2021-03-07T14:24:35.267636Z",
     "shell.execute_reply.started": "2021-03-07T14:24:35.261656Z"
    }
   },
   "outputs": [
    {
     "data": {
      "text/plain": [
       "0.9748"
      ]
     },
     "execution_count": 131,
     "metadata": {},
     "output_type": "execute_result"
    }
   ],
   "source": [
    "r2"
   ]
  },
  {
   "cell_type": "code",
   "execution_count": 132,
   "metadata": {
    "execution": {
     "iopub.execute_input": "2021-03-07T14:24:39.564731Z",
     "iopub.status.busy": "2021-03-07T14:24:39.564731Z",
     "iopub.status.idle": "2021-03-07T14:24:39.572708Z",
     "shell.execute_reply": "2021-03-07T14:24:39.571711Z",
     "shell.execute_reply.started": "2021-03-07T14:24:39.564731Z"
    }
   },
   "outputs": [
    {
     "name": "stdout",
     "output_type": "stream",
     "text": [
      "0.001967191696166992\n"
     ]
    }
   ],
   "source": [
    "start = time.time()\n",
    "model(graphs[0], prt = True) #, graphs[0].y\n",
    "end = time.time()\n",
    "print(end - start)\n"
   ]
  },
  {
   "cell_type": "code",
   "execution_count": 133,
   "metadata": {
    "execution": {
     "iopub.execute_input": "2021-03-07T14:24:42.743574Z",
     "iopub.status.busy": "2021-03-07T14:24:42.743574Z",
     "iopub.status.idle": "2021-03-07T14:24:42.750551Z",
     "shell.execute_reply": "2021-03-07T14:24:42.750551Z",
     "shell.execute_reply.started": "2021-03-07T14:24:42.743574Z"
    }
   },
   "outputs": [
    {
     "data": {
      "text/plain": [
       "tensor([50.8208, 43.3675, 43.3036, 43.3191, 34.1748, 46.4716, 42.4384, 34.1741,\n",
       "        43.4126, 43.7368, 42.9996, 42.9155, 34.1739, 21.8630, 21.8604, 34.1733,\n",
       "        21.9831, 21.9237, 21.4791,  0.0000,  0.0000], dtype=torch.float32)"
      ]
     },
     "execution_count": 133,
     "metadata": {},
     "output_type": "execute_result"
    }
   ],
   "source": [
    "sc_head_elev.rescale(graphs[1].y)"
   ]
  },
  {
   "cell_type": "code",
   "execution_count": 134,
   "metadata": {
    "execution": {
     "iopub.execute_input": "2021-03-07T14:24:44.481387Z",
     "iopub.status.busy": "2021-03-07T14:24:44.480404Z",
     "iopub.status.idle": "2021-03-07T14:24:44.487384Z",
     "shell.execute_reply": "2021-03-07T14:24:44.487384Z",
     "shell.execute_reply.started": "2021-03-07T14:24:44.481387Z"
    }
   },
   "outputs": [
    {
     "name": "stdout",
     "output_type": "stream",
     "text": [
      "tensor([53.4819, 46.9599, 47.5880, 45.3183, 38.7276, 46.6710, 45.5058, 37.0097,\n",
      "        44.6706, 45.9184, 45.1836, 44.0704, 35.3591, 21.9074, 22.1980, 33.4664,\n",
      "        20.8527, 22.7775, 25.6725,  0.5474,  0.3957], grad_fn=<AddBackward0>)\n"
     ]
    }
   ],
   "source": [
    "print(sc_head_elev.rescale(model(graphs[1]).view(-1)))"
   ]
  },
  {
   "cell_type": "code",
   "execution_count": 135,
   "metadata": {
    "execution": {
     "iopub.execute_input": "2021-03-07T14:26:05.405124Z",
     "iopub.status.busy": "2021-03-07T14:26:05.404127Z",
     "iopub.status.idle": "2021-03-07T14:26:05.409113Z",
     "shell.execute_reply": "2021-03-07T14:26:05.408118Z",
     "shell.execute_reply.started": "2021-03-07T14:26:05.405124Z"
    }
   },
   "outputs": [],
   "source": [
    "#a, b = model(graphs[-1]), model(graphs[-1]).detach().numpy()"
   ]
  },
  {
   "cell_type": "code",
   "execution_count": 136,
   "metadata": {
    "execution": {
     "iopub.execute_input": "2021-03-07T14:26:07.752823Z",
     "iopub.status.busy": "2021-03-07T14:26:07.751826Z",
     "iopub.status.idle": "2021-03-07T14:26:07.760801Z",
     "shell.execute_reply": "2021-03-07T14:26:07.759805Z",
     "shell.execute_reply.started": "2021-03-07T14:26:07.752823Z"
    }
   },
   "outputs": [
    {
     "data": {
      "text/plain": [
       "tensor([0., 0., 0., 0., 0., 0., 0., 0., 0., 0., 0., 0., 0., 0., 0., 0., 0., 0.,\n",
       "        0., 1., 1.])"
      ]
     },
     "execution_count": 136,
     "metadata": {},
     "output_type": "execute_result"
    }
   ],
   "source": [
    "graphs[0].x[:,2]"
   ]
  },
  {
   "cell_type": "code",
   "execution_count": null,
   "metadata": {},
   "outputs": [],
   "source": []
  },
  {
   "cell_type": "code",
   "execution_count": 137,
   "metadata": {
    "execution": {
     "iopub.execute_input": "2021-03-07T14:26:10.502807Z",
     "iopub.status.busy": "2021-03-07T14:26:10.502807Z",
     "iopub.status.idle": "2021-03-07T14:26:10.511783Z",
     "shell.execute_reply": "2021-03-07T14:26:10.510786Z",
     "shell.execute_reply.started": "2021-03-07T14:26:10.502807Z"
    }
   },
   "outputs": [],
   "source": [
    "node_names = wn_WDS.node_name_list\n",
    "a = pd.DataFrame(sc_head_elev.rescale(model(graphs[0])).detach().view(1, -1).numpy(), columns = node_names)"
   ]
  },
  {
   "cell_type": "code",
   "execution_count": 94,
   "metadata": {
    "execution": {
     "iopub.execute_input": "2021-03-07T14:14:17.025471Z",
     "iopub.status.busy": "2021-03-07T14:14:17.025471Z",
     "iopub.status.idle": "2021-03-07T14:14:17.040429Z",
     "shell.execute_reply": "2021-03-07T14:14:17.040429Z",
     "shell.execute_reply.started": "2021-03-07T14:14:17.025471Z"
    }
   },
   "outputs": [],
   "source": [
    "sim_WDS = wntr.sim.EpanetSimulator(wn_WDS)\n",
    "results_WDS = sim_WDS.run_sim()\n",
    "#results_WDS.node['pressure'].iloc[0]"
   ]
  },
  {
   "cell_type": "code",
   "execution_count": 79,
   "metadata": {
    "execution": {
     "iopub.execute_input": "2021-03-07T14:10:47.531918Z",
     "iopub.status.busy": "2021-03-07T14:10:47.531918Z",
     "iopub.status.idle": "2021-03-07T14:10:47.533947Z",
     "shell.execute_reply": "2021-03-07T14:10:47.533947Z",
     "shell.execute_reply.started": "2021-03-07T14:10:47.531918Z"
    }
   },
   "outputs": [],
   "source": [
    "#demand"
   ]
  },
  {
   "cell_type": "code",
   "execution_count": 80,
   "metadata": {
    "execution": {
     "iopub.execute_input": "2021-03-07T14:10:55.093597Z",
     "iopub.status.busy": "2021-03-07T14:10:55.092572Z",
     "iopub.status.idle": "2021-03-07T14:10:55.096588Z",
     "shell.execute_reply": "2021-03-07T14:10:55.096588Z",
     "shell.execute_reply.started": "2021-03-07T14:10:55.093597Z"
    }
   },
   "outputs": [],
   "source": [
    "# a = iter(wn_WDS.junctions())\n",
    "# for i in range(6):\n",
    "#     print(next(a))"
   ]
  },
  {
   "cell_type": "code",
   "execution_count": 81,
   "metadata": {
    "execution": {
     "iopub.execute_input": "2021-03-07T14:11:04.061007Z",
     "iopub.status.busy": "2021-03-07T14:11:04.061007Z",
     "iopub.status.idle": "2021-03-07T14:11:04.064030Z",
     "shell.execute_reply": "2021-03-07T14:11:04.064030Z",
     "shell.execute_reply.started": "2021-03-07T14:11:04.061007Z"
    }
   },
   "outputs": [],
   "source": [
    "# np.array(results_WDS.node['demand'].loc[64800].values)#.reshape(1,-1)"
   ]
  },
  {
   "cell_type": "code",
   "execution_count": 139,
   "metadata": {
    "execution": {
     "iopub.execute_input": "2021-03-07T14:26:29.140960Z",
     "iopub.status.busy": "2021-03-07T14:26:29.140960Z",
     "iopub.status.idle": "2021-03-07T14:26:29.144949Z",
     "shell.execute_reply": "2021-03-07T14:26:29.143952Z",
     "shell.execute_reply.started": "2021-03-07T14:26:29.140960Z"
    }
   },
   "outputs": [],
   "source": [
    "# pd.DataFrame(np.array(results_WDS.node['demand'].loc[64800].values).reshape(1,-1), columns = node_names)"
   ]
  },
  {
   "cell_type": "code",
   "execution_count": 140,
   "metadata": {
    "execution": {
     "iopub.execute_input": "2021-03-07T14:26:31.450312Z",
     "iopub.status.busy": "2021-03-07T14:26:31.449316Z",
     "iopub.status.idle": "2021-03-07T14:26:31.454302Z",
     "shell.execute_reply": "2021-03-07T14:26:31.453305Z",
     "shell.execute_reply.started": "2021-03-07T14:26:31.450312Z"
    }
   },
   "outputs": [],
   "source": [
    "#head #= pd.DataFrame(sc_head_elev.rescale(graphs[69].x[:,3]).view(1, -1).numpy(), columns = node_names) #Pandas dataframe\n",
    "#elevation_res #= pd.DataFrame(sc_head_elev.rescale(graphs[69].x[:,2]).view(1, -1).numpy(), columns = node_names) #Pandas dataframe"
   ]
  },
  {
   "cell_type": "code",
   "execution_count": 141,
   "metadata": {
    "execution": {
     "iopub.execute_input": "2021-03-07T14:26:33.360726Z",
     "iopub.status.busy": "2021-03-07T14:26:33.359740Z",
     "iopub.status.idle": "2021-03-07T14:26:33.382668Z",
     "shell.execute_reply": "2021-03-07T14:26:33.381671Z",
     "shell.execute_reply.started": "2021-03-07T14:26:33.359740Z"
    }
   },
   "outputs": [
    {
     "data": {
      "text/html": [
       "<div>\n",
       "<style scoped>\n",
       "    .dataframe tbody tr th:only-of-type {\n",
       "        vertical-align: middle;\n",
       "    }\n",
       "\n",
       "    .dataframe tbody tr th {\n",
       "        vertical-align: top;\n",
       "    }\n",
       "\n",
       "    .dataframe thead th {\n",
       "        text-align: right;\n",
       "    }\n",
       "</style>\n",
       "<table border=\"1\" class=\"dataframe\">\n",
       "  <thead>\n",
       "    <tr style=\"text-align: right;\">\n",
       "      <th></th>\n",
       "      <th>20</th>\n",
       "      <th>30</th>\n",
       "      <th>40</th>\n",
       "      <th>50</th>\n",
       "      <th>55</th>\n",
       "      <th>60</th>\n",
       "      <th>70</th>\n",
       "      <th>75</th>\n",
       "      <th>80</th>\n",
       "      <th>90</th>\n",
       "      <th>...</th>\n",
       "      <th>110</th>\n",
       "      <th>115</th>\n",
       "      <th>120</th>\n",
       "      <th>130</th>\n",
       "      <th>140</th>\n",
       "      <th>150</th>\n",
       "      <th>160</th>\n",
       "      <th>170</th>\n",
       "      <th>65</th>\n",
       "      <th>165</th>\n",
       "    </tr>\n",
       "  </thead>\n",
       "  <tbody>\n",
       "    <tr>\n",
       "      <th>0</th>\n",
       "      <td>0.031545</td>\n",
       "      <td>0.012618</td>\n",
       "      <td>0.012618</td>\n",
       "      <td>0.012618</td>\n",
       "      <td>0.0</td>\n",
       "      <td>0.031545</td>\n",
       "      <td>0.031545</td>\n",
       "      <td>0.0</td>\n",
       "      <td>0.031545</td>\n",
       "      <td>0.06309</td>\n",
       "      <td>...</td>\n",
       "      <td>0.031545</td>\n",
       "      <td>0.0</td>\n",
       "      <td>0.012618</td>\n",
       "      <td>0.012618</td>\n",
       "      <td>0.012618</td>\n",
       "      <td>0.012618</td>\n",
       "      <td>0.050472</td>\n",
       "      <td>0.012618</td>\n",
       "      <td>-0.183177</td>\n",
       "      <td>-0.2206</td>\n",
       "    </tr>\n",
       "  </tbody>\n",
       "</table>\n",
       "<p>1 rows × 21 columns</p>\n",
       "</div>"
      ],
      "text/plain": [
       "         20        30        40        50   55        60        70   75  \\\n",
       "0  0.031545  0.012618  0.012618  0.012618  0.0  0.031545  0.031545  0.0   \n",
       "\n",
       "         80       90  ...       110  115       120       130       140  \\\n",
       "0  0.031545  0.06309  ...  0.031545  0.0  0.012618  0.012618  0.012618   \n",
       "\n",
       "        150       160       170        65     165  \n",
       "0  0.012618  0.050472  0.012618 -0.183177 -0.2206  \n",
       "\n",
       "[1 rows x 21 columns]"
      ]
     },
     "execution_count": 141,
     "metadata": {},
     "output_type": "execute_result"
    }
   ],
   "source": [
    "pd.DataFrame(np.array(graphs[node].demand_WNTR).reshape(1,-1), columns = node_names)"
   ]
  },
  {
   "cell_type": "code",
   "execution_count": 142,
   "metadata": {
    "execution": {
     "iopub.execute_input": "2021-03-07T14:26:35.410649Z",
     "iopub.status.busy": "2021-03-07T14:26:35.409651Z",
     "iopub.status.idle": "2021-03-07T14:26:35.428602Z",
     "shell.execute_reply": "2021-03-07T14:26:35.428602Z",
     "shell.execute_reply.started": "2021-03-07T14:26:35.409651Z"
    }
   },
   "outputs": [],
   "source": [
    "#wn_WDS = wntr.network.WaterNetworkModel(inp_file_path)\n",
    "node_names = wn_WDS.node_name_list\n",
    "node = 10\n",
    "\n",
    "pressure = pd.DataFrame(sc_head_elev.rescale(model(graphs[node])).detach().view(1, -1).numpy(), columns = node_names) #Pandas dataframe\n",
    "\n",
    "head = pd.DataFrame(sc_head_elev.rescale(graphs[node].x[:,3]).view(1, -1).numpy(), columns = node_names) #Pandas dataframe\n",
    "elevation_res = pd.DataFrame(sc_head_elev.rescale(graphs[node].x[:,2]).view(1, -1).numpy(), columns = node_names) #Pandas dataframe\n",
    "\n",
    "total_head = pressure + head + elevation_res\n",
    "#demand = pd.DataFrame(sc_base_dem.rescale(graphs[69].x[:,1]).view(1, -1).numpy(), columns = node_names) #Pandas dataframe\n",
    "\n",
    "#Cheating with the model results for the demand part\n",
    "demand = pd.DataFrame(np.array(graphs[node].demand_WNTR).reshape(1,-1), columns = node_names)#pd.DataFrame(results_WDS.node['demand'].loc[64800])\n",
    "flowrate = 0\n",
    "\n",
    "RI_Todini = wntr.metrics.hydraulic.todini_index(total_head, pressure, demand, flowrate, wn_WDS, 28.1236)"
   ]
  },
  {
   "cell_type": "code",
   "execution_count": 143,
   "metadata": {
    "execution": {
     "iopub.execute_input": "2021-03-07T14:26:37.238853Z",
     "iopub.status.busy": "2021-03-07T14:26:37.238853Z",
     "iopub.status.idle": "2021-03-07T14:26:37.245837Z",
     "shell.execute_reply": "2021-03-07T14:26:37.244840Z",
     "shell.execute_reply.started": "2021-03-07T14:26:37.238853Z"
    }
   },
   "outputs": [
    {
     "data": {
      "text/plain": [
       "0    0.728613\n",
       "dtype: float64"
      ]
     },
     "execution_count": 143,
     "metadata": {},
     "output_type": "execute_result"
    }
   ],
   "source": [
    "RI_Todini #Estimated"
   ]
  },
  {
   "cell_type": "code",
   "execution_count": 109,
   "metadata": {
    "execution": {
     "iopub.execute_input": "2021-03-07T14:18:18.811537Z",
     "iopub.status.busy": "2021-03-07T14:18:18.811537Z",
     "iopub.status.idle": "2021-03-07T14:18:18.820534Z",
     "shell.execute_reply": "2021-03-07T14:18:18.819542Z",
     "shell.execute_reply.started": "2021-03-07T14:18:18.811537Z"
    }
   },
   "outputs": [
    {
     "data": {
      "text/plain": [
       "tensor([[53.6976, 47.9431, 42.3707, 45.7074, 37.7406, 46.7302, 50.1849, 37.4116,\n",
       "         45.8064, 46.1182, 45.2679, 46.7085, 36.1310, 22.3940, 25.4305, 39.6094,\n",
       "         25.9307, 25.2306, 26.2025,  2.8540,  1.8818]], grad_fn=<TBackward>)"
      ]
     },
     "execution_count": 109,
     "metadata": {},
     "output_type": "execute_result"
    }
   ],
   "source": [
    "sc_head_elev.rescale(model(graphs[node])).t()"
   ]
  },
  {
   "cell_type": "code",
   "execution_count": 110,
   "metadata": {
    "execution": {
     "iopub.execute_input": "2021-03-07T14:18:21.389038Z",
     "iopub.status.busy": "2021-03-07T14:18:21.389038Z",
     "iopub.status.idle": "2021-03-07T14:18:21.399010Z",
     "shell.execute_reply": "2021-03-07T14:18:21.398014Z",
     "shell.execute_reply.started": "2021-03-07T14:18:21.389038Z"
    }
   },
   "outputs": [
    {
     "data": {
      "text/plain": [
       "tensor([56.4552, 48.3511, 48.1060, 47.9000, 38.7562, 48.7242, 47.6290, 38.7565,\n",
       "        47.8919, 47.6277, 47.8298, 47.9866, 38.7565, 26.7060, 26.7047, 38.7565,\n",
       "        26.5645, 26.7438, 26.1092,  0.0000,  0.0000], dtype=torch.float32)"
      ]
     },
     "execution_count": 110,
     "metadata": {},
     "output_type": "execute_result"
    }
   ],
   "source": [
    "sc_head_elev.rescale(graphs[node].y)"
   ]
  },
  {
   "cell_type": "code",
   "execution_count": 144,
   "metadata": {
    "execution": {
     "iopub.execute_input": "2021-03-07T14:26:41.570558Z",
     "iopub.status.busy": "2021-03-07T14:26:41.569524Z",
     "iopub.status.idle": "2021-03-07T14:26:41.577536Z",
     "shell.execute_reply": "2021-03-07T14:26:41.577536Z",
     "shell.execute_reply.started": "2021-03-07T14:26:41.570558Z"
    }
   },
   "outputs": [
    {
     "data": {
      "text/plain": [
       "tensor(0.8610)"
      ]
     },
     "execution_count": 144,
     "metadata": {},
     "output_type": "execute_result"
    }
   ],
   "source": [
    "graphs[node].todini"
   ]
  },
  {
   "cell_type": "code",
   "execution_count": 147,
   "metadata": {
    "execution": {
     "iopub.execute_input": "2021-03-07T14:27:51.072461Z",
     "iopub.status.busy": "2021-03-07T14:27:51.072461Z",
     "iopub.status.idle": "2021-03-07T14:27:51.078420Z",
     "shell.execute_reply": "2021-03-07T14:27:51.078420Z",
     "shell.execute_reply.started": "2021-03-07T14:27:51.072461Z"
    }
   },
   "outputs": [],
   "source": [
    "RI_Todini = wntr.metrics.hydraulic.todini_index(results_WDS.node['head'], results_WDS.node['pressure'], results_WDS.node['demand'], flowrate, wn_WDS, 28.1236)"
   ]
  },
  {
   "cell_type": "code",
   "execution_count": 148,
   "metadata": {
    "execution": {
     "iopub.execute_input": "2021-03-07T14:27:52.523107Z",
     "iopub.status.busy": "2021-03-07T14:27:52.523107Z",
     "iopub.status.idle": "2021-03-07T14:27:52.529094Z",
     "shell.execute_reply": "2021-03-07T14:27:52.528101Z",
     "shell.execute_reply.started": "2021-03-07T14:27:52.523107Z"
    }
   },
   "outputs": [
    {
     "data": {
      "text/plain": [
       "0.923596203327179"
      ]
     },
     "execution_count": 148,
     "metadata": {},
     "output_type": "execute_result"
    }
   ],
   "source": [
    "RI_Todini[64800]"
   ]
  },
  {
   "cell_type": "code",
   "execution_count": 450,
   "metadata": {
    "execution": {
     "iopub.execute_input": "2021-03-07T13:03:30.229711Z",
     "iopub.status.busy": "2021-03-07T13:03:30.229711Z",
     "iopub.status.idle": "2021-03-07T13:03:30.232703Z",
     "shell.execute_reply": "2021-03-07T13:03:30.232703Z",
     "shell.execute_reply.started": "2021-03-07T13:03:30.229711Z"
    }
   },
   "outputs": [],
   "source": [
    "#results_WDS.node['demand'].loc[64800]"
   ]
  },
  {
   "cell_type": "code",
   "execution_count": 149,
   "metadata": {
    "execution": {
     "iopub.execute_input": "2021-03-07T14:28:13.054807Z",
     "iopub.status.busy": "2021-03-07T14:28:13.054807Z",
     "iopub.status.idle": "2021-03-07T14:28:13.057798Z",
     "shell.execute_reply": "2021-03-07T14:28:13.057798Z",
     "shell.execute_reply.started": "2021-03-07T14:28:13.054807Z"
    }
   },
   "outputs": [],
   "source": [
    "#demand"
   ]
  },
  {
   "cell_type": "code",
   "execution_count": 150,
   "metadata": {
    "execution": {
     "iopub.execute_input": "2021-03-07T14:28:20.667781Z",
     "iopub.status.busy": "2021-03-07T14:28:20.667781Z",
     "iopub.status.idle": "2021-03-07T14:28:20.670807Z",
     "shell.execute_reply": "2021-03-07T14:28:20.670807Z",
     "shell.execute_reply.started": "2021-03-07T14:28:20.667781Z"
    }
   },
   "outputs": [],
   "source": [
    "#print(RI_Todini, graphs[69].todini)"
   ]
  },
  {
   "cell_type": "code",
   "execution_count": 152,
   "metadata": {
    "execution": {
     "iopub.execute_input": "2021-03-07T14:28:27.079380Z",
     "iopub.status.busy": "2021-03-07T14:28:27.079380Z",
     "iopub.status.idle": "2021-03-07T14:28:27.082408Z",
     "shell.execute_reply": "2021-03-07T14:28:27.082408Z",
     "shell.execute_reply.started": "2021-03-07T14:28:27.079380Z"
    }
   },
   "outputs": [],
   "source": [
    "#database[0].pressure"
   ]
  },
  {
   "cell_type": "markdown",
   "metadata": {
    "collapsed": "true"
   },
   "source": [
    "#### Joblib implementation - Update: Failed, it's slower"
   ]
  },
  {
   "cell_type": "code",
   "execution_count": 207,
   "metadata": {},
   "outputs": [],
   "source": [
    "# def fun(training_graph):\n",
    "#     pred = model(training_graph).mean()\n",
    "#     target = training_graph.y\n",
    "#     loss = F.mse_loss(pred.reshape(-1,1), target.reshape(-1,1))            \n",
    "#     #loss.to(torch.float32)\n",
    "    \n",
    "#     return loss"
   ]
  },
  {
   "cell_type": "code",
   "execution_count": 220,
   "metadata": {},
   "outputs": [
    {
     "data": {
      "application/vnd.jupyter.widget-view+json": {
       "model_id": "",
       "version_major": 2,
       "version_minor": 0
      },
      "text/plain": [
       "IntProgress(value=51, description='Loading:', max=51)"
      ]
     },
     "metadata": {},
     "output_type": "display_data"
    },
    {
     "name": "stdout",
     "output_type": "stream",
     "text": [
      "epoch  0  total loss   tensor(0.1603, grad_fn=<MeanBackward0>)\n",
      "epoch  10  total loss   tensor(0.1563, grad_fn=<MeanBackward0>)\n",
      "epoch  20  total loss   tensor(0.1522, grad_fn=<MeanBackward0>)\n",
      "epoch  30  total loss   tensor(0.1482, grad_fn=<MeanBackward0>)\n",
      "epoch  40  total loss   tensor(0.1443, grad_fn=<MeanBackward0>)\n",
      "epoch  50  total loss   tensor(0.1404, grad_fn=<MeanBackward0>)\n",
      "-Run(lr=0.001, weight_decay=0.0005, N_epochs=51) 206.75 seconds\n"
     ]
    }
   ],
   "source": [
    "# for run in RunBuilder.get_runs(params):\n",
    "#     display(f)\n",
    "#     start_time = time.time()\n",
    "#     optimizer = torch.optim.Adam(model.parameters(), lr=run.lr, weight_decay=run.weight_decay)\n",
    "#     f.value = 0\n",
    "#     f.max = run.N_epochs\n",
    "#     model.train()\n",
    "#     for epoch in range(run.N_epochs):\n",
    "#         total_loss= 0\n",
    "#         losses = Parallel(n_jobs=-1)(delayed(fun)(training_graph) for training_graph in train_dataset)\n",
    "#         total_loss = torch.tensor(losses, requires_grad=True).mean()\n",
    "#         #total_loss.requires_grad = True\n",
    "#         #print(total_loss)\n",
    "#         #total_loss /= len(train_dataset)\n",
    "#         #total_loss = total_loss.to(torch.float32)\n",
    "#         optimizer.zero_grad()\n",
    "#         total_loss.backward()\n",
    "#         optimizer.step()\n",
    "        \n",
    "#         f.value += 1\n",
    "#         if epoch%10 == 0:\n",
    "#             print(\"epoch \", epoch, \" total loss  \", total_loss )\n",
    "# #             clear_output(wait=True)\n",
    "# #             display(f)\n",
    "            \n",
    "#     comment = f'-{run}'\n",
    "#     execution_time=np.round((time.time() - start_time),2)\n",
    "#     print(comment, execution_time, 'seconds')"
   ]
  },
  {
   "cell_type": "markdown",
   "metadata": {},
   "source": [
    "## Testing\n",
    "*To be further implemented"
   ]
  },
  {
   "cell_type": "code",
   "execution_count": 157,
   "metadata": {
    "execution": {
     "iopub.execute_input": "2021-03-07T14:36:24.582879Z",
     "iopub.status.busy": "2021-03-07T14:36:24.582879Z",
     "iopub.status.idle": "2021-03-07T14:36:25.489003Z",
     "shell.execute_reply": "2021-03-07T14:36:25.489003Z",
     "shell.execute_reply.started": "2021-03-07T14:36:24.582879Z"
    }
   },
   "outputs": [
    {
     "name": "stdout",
     "output_type": "stream",
     "text": [
      "Training R2: \t 0.9694\n",
      "Validation R2: \t 0.97\n"
     ]
    }
   ],
   "source": [
    "training = torch_geometric.data.DataLoader(train_loader.dataset, batch_size= len(train_loader.dataset))\n",
    "validation = torch_geometric.data.DataLoader(valid_loader.dataset, batch_size= len(valid_loader.dataset))\n",
    "print('Training R2: \\t', np.round(graph_r2(model, next(iter(training))), 4))\n",
    "print('Validation R2: \\t', np.round(graph_r2(model, next(iter(validation))), 4))"
   ]
  },
  {
   "cell_type": "code",
   "execution_count": 166,
   "metadata": {
    "execution": {
     "iopub.execute_input": "2021-03-07T14:41:40.806686Z",
     "iopub.status.busy": "2021-03-07T14:41:40.806686Z",
     "iopub.status.idle": "2021-03-07T14:41:40.990704Z",
     "shell.execute_reply": "2021-03-07T14:41:40.990704Z",
     "shell.execute_reply.started": "2021-03-07T14:41:40.806686Z"
    }
   },
   "outputs": [],
   "source": [
    "#list(iter(validation))\n",
    "a=model(next(iter(validation)))"
   ]
  },
  {
   "cell_type": "code",
   "execution_count": 167,
   "metadata": {
    "execution": {
     "iopub.execute_input": "2021-03-07T14:41:43.843704Z",
     "iopub.status.busy": "2021-03-07T14:41:43.842693Z",
     "iopub.status.idle": "2021-03-07T14:41:43.847711Z",
     "shell.execute_reply": "2021-03-07T14:41:43.847711Z",
     "shell.execute_reply.started": "2021-03-07T14:41:43.843704Z"
    }
   },
   "outputs": [
    {
     "data": {
      "text/plain": [
       "20118"
      ]
     },
     "execution_count": 167,
     "metadata": {},
     "output_type": "execute_result"
    }
   ],
   "source": [
    "len(a)"
   ]
  },
  {
   "cell_type": "code",
   "execution_count": 190,
   "metadata": {
    "execution": {
     "iopub.execute_input": "2021-03-07T14:51:48.885494Z",
     "iopub.status.busy": "2021-03-07T14:51:48.885494Z",
     "iopub.status.idle": "2021-03-07T14:51:48.891478Z",
     "shell.execute_reply": "2021-03-07T14:51:48.891478Z",
     "shell.execute_reply.started": "2021-03-07T14:51:48.885494Z"
    },
    "scrolled": true
   },
   "outputs": [],
   "source": [
    "#Simple test\n",
    "# print('Actual \\t',  'Pred')\n",
    "# for i in range(10):\n",
    "#     print(np.round(rescale(graphs[i].y.item(),-1,1),4), '\\t', np.round(rescale(model(graphs[i]).item(), -1,1),4) )\n",
    "\n",
    "def results_todini(dataset):\n",
    "    preds = []\n",
    "    actual = []\n",
    "    for grp in dataset:\n",
    "\n",
    "    #     node_names = wn_WDS.node_name_list\n",
    "    #     node = 10\n",
    "\n",
    "        pressure = pd.DataFrame(sc_head_elev.rescale(model(grp)).detach().view(1, -1).numpy(), columns = node_names) #Pandas dataframe\n",
    "\n",
    "        head = pd.DataFrame(sc_head_elev.rescale(grp.x[:,3]).view(1, -1).numpy(), columns = node_names) #Pandas dataframe\n",
    "        elevation_res = pd.DataFrame(sc_head_elev.rescale(grp.x[:,2]).view(1, -1).numpy(), columns = node_names) #Pandas dataframe\n",
    "\n",
    "        total_head = pressure + head + elevation_res\n",
    "        #demand = pd.DataFrame(sc_base_dem.rescale(grp.x[:,1]).view(1, -1).numpy(), columns = node_names) #Pandas dataframe\n",
    "\n",
    "        #Cheating with the model results for the demand part\n",
    "        demand = pd.DataFrame(np.array(grp.demand_WNTR).reshape(1,-1), columns = node_names)#pd.DataFrame(results_WDS.node['demand'].loc[64800])\n",
    "        flowrate = 0\n",
    "\n",
    "        RI_Todini = wntr.metrics.hydraulic.todini_index(total_head, pressure, demand, flowrate, wn_WDS, 28.1236)\n",
    "        preds.append(RI_Todini)\n",
    "        actual.append(grp.todini)\n",
    "    return preds, actual\n",
    "\n"
   ]
  },
  {
   "cell_type": "code",
   "execution_count": 192,
   "metadata": {
    "execution": {
     "iopub.execute_input": "2021-03-07T14:52:27.431990Z",
     "iopub.status.busy": "2021-03-07T14:52:27.431990Z",
     "iopub.status.idle": "2021-03-07T14:53:03.530373Z",
     "shell.execute_reply": "2021-03-07T14:53:03.529587Z",
     "shell.execute_reply.started": "2021-03-07T14:52:27.431990Z"
    }
   },
   "outputs": [],
   "source": [
    "preds,actual = results_todini(train_loader.dataset)"
   ]
  },
  {
   "cell_type": "code",
   "execution_count": 193,
   "metadata": {
    "execution": {
     "iopub.execute_input": "2021-03-07T14:53:11.200400Z",
     "iopub.status.busy": "2021-03-07T14:53:11.200400Z",
     "iopub.status.idle": "2021-03-07T14:53:11.210373Z",
     "shell.execute_reply": "2021-03-07T14:53:11.210373Z",
     "shell.execute_reply.started": "2021-03-07T14:53:11.200400Z"
    }
   },
   "outputs": [],
   "source": [
    "actual_np = [i.numpy().item() for i in actual]\n",
    "preds_np = [i.values.item() for i in preds]"
   ]
  },
  {
   "cell_type": "code",
   "execution_count": 194,
   "metadata": {
    "execution": {
     "iopub.execute_input": "2021-03-07T14:55:53.594707Z",
     "iopub.status.busy": "2021-03-07T14:55:53.593710Z",
     "iopub.status.idle": "2021-03-07T14:55:58.644217Z",
     "shell.execute_reply": "2021-03-07T14:55:58.643906Z",
     "shell.execute_reply.started": "2021-03-07T14:55:53.594707Z"
    }
   },
   "outputs": [],
   "source": [
    "preds_v,actual_v = results_todini(valid_loader.dataset)\n",
    "actual_v_np = [i.numpy().item() for i in actual_v]\n",
    "preds_v_np = [i.values.item() for i in preds_v]"
   ]
  },
  {
   "cell_type": "code",
   "execution_count": 188,
   "metadata": {
    "execution": {
     "iopub.execute_input": "2021-03-07T14:50:24.244511Z",
     "iopub.status.busy": "2021-03-07T14:50:24.244511Z",
     "iopub.status.idle": "2021-03-07T14:50:24.250505Z",
     "shell.execute_reply": "2021-03-07T14:50:24.250505Z",
     "shell.execute_reply.started": "2021-03-07T14:50:24.244511Z"
    }
   },
   "outputs": [
    {
     "data": {
      "text/plain": [
       "0.6714115127746104"
      ]
     },
     "execution_count": 188,
     "metadata": {},
     "output_type": "execute_result"
    }
   ],
   "source": [
    "preds[0].values.item()"
   ]
  },
  {
   "cell_type": "code",
   "execution_count": 36,
   "metadata": {},
   "outputs": [],
   "source": [
    "# preds_train, y_train = res_and_tar(model,train_dataset)\n",
    "# preds_val, y_val = res_and_tar(model,val_dataset)"
   ]
  },
  {
   "cell_type": "code",
   "execution_count": 197,
   "metadata": {
    "execution": {
     "iopub.execute_input": "2021-03-07T15:34:15.626444Z",
     "iopub.status.busy": "2021-03-07T15:34:15.626444Z",
     "iopub.status.idle": "2021-03-07T15:34:15.630436Z",
     "shell.execute_reply": "2021-03-07T15:34:15.630436Z",
     "shell.execute_reply.started": "2021-03-07T15:34:15.626444Z"
    }
   },
   "outputs": [],
   "source": [
    "x_real_values_train = actual_np#rescale(y_train, minT = -1, maxT=1)\n",
    "y_pred_values_train = preds_np#rescale(preds_train, minT = -1, maxT=1)\n",
    "\n",
    "x_real_values_test = actual_v_np#rescale(y_val, minT=-1, maxT=1)\n",
    "y_pred_values_test = preds_v_np#rescale(preds_val, minT=-1, maxT=1)"
   ]
  },
  {
   "cell_type": "code",
   "execution_count": 198,
   "metadata": {
    "execution": {
     "iopub.execute_input": "2021-03-07T15:34:22.281920Z",
     "iopub.status.busy": "2021-03-07T15:34:22.281920Z",
     "iopub.status.idle": "2021-03-07T15:34:22.452473Z",
     "shell.execute_reply": "2021-03-07T15:34:22.452473Z",
     "shell.execute_reply.started": "2021-03-07T15:34:22.281920Z"
    }
   },
   "outputs": [
    {
     "data": {
      "application/vnd.jupyter.widget-view+json": {
       "model_id": "4d1a343980f543ab896f6df1c429fa65",
       "version_major": 2,
       "version_minor": 0
      },
      "text/plain": [
       "FigureWidget({\n",
       "    'data': [{'line': {'dash': 'dash'},\n",
       "              'marker': {'size': 3},\n",
       "              'mod…"
      ]
     },
     "metadata": {},
     "output_type": "display_data"
    }
   ],
   "source": [
    "fig = pred_vs_y_plotly(x_real_values_train, y_pred_values_train, x_real_values_test, y_pred_values_test)\n",
    "fig"
   ]
  },
  {
   "cell_type": "code",
   "execution_count": 203,
   "metadata": {
    "execution": {
     "iopub.execute_input": "2021-03-07T15:35:11.191838Z",
     "iopub.status.busy": "2021-03-07T15:35:11.191838Z",
     "iopub.status.idle": "2021-03-07T15:35:11.201790Z",
     "shell.execute_reply": "2021-03-07T15:35:11.201790Z",
     "shell.execute_reply.started": "2021-03-07T15:35:11.191838Z"
    }
   },
   "outputs": [
    {
     "data": {
      "text/plain": [
       "488"
      ]
     },
     "execution_count": 203,
     "metadata": {},
     "output_type": "execute_result"
    }
   ],
   "source": [
    "np.array(actual_np).argmin()"
   ]
  },
  {
   "cell_type": "code",
   "execution_count": 204,
   "metadata": {
    "execution": {
     "iopub.execute_input": "2021-03-07T15:35:24.355953Z",
     "iopub.status.busy": "2021-03-07T15:35:24.355953Z",
     "iopub.status.idle": "2021-03-07T15:35:24.359939Z",
     "shell.execute_reply": "2021-03-07T15:35:24.359939Z",
     "shell.execute_reply.started": "2021-03-07T15:35:24.355953Z"
    }
   },
   "outputs": [
    {
     "data": {
      "text/plain": [
       "0.08506106585264206"
      ]
     },
     "execution_count": 204,
     "metadata": {},
     "output_type": "execute_result"
    }
   ],
   "source": [
    "actual_np[488]"
   ]
  },
  {
   "cell_type": "code",
   "execution_count": 210,
   "metadata": {
    "execution": {
     "iopub.execute_input": "2021-03-07T15:37:20.268611Z",
     "iopub.status.busy": "2021-03-07T15:37:20.268611Z",
     "iopub.status.idle": "2021-03-07T15:37:20.277585Z",
     "shell.execute_reply": "2021-03-07T15:37:20.277585Z",
     "shell.execute_reply.started": "2021-03-07T15:37:20.268611Z"
    }
   },
   "outputs": [
    {
     "data": {
      "text/plain": [
       "tensor([[52.1223, 45.3221, 45.0735, 44.1767, 38.7587, 45.6470, 46.6239, 35.0302,\n",
       "         44.0555, 46.0257, 42.4191, 42.4781, 34.5916, 22.0843, 23.6823, 31.8934,\n",
       "         21.3014, 25.1895, 23.7462,  0.4516,  0.3856]], grad_fn=<AddBackward0>)"
      ]
     },
     "execution_count": 210,
     "metadata": {},
     "output_type": "execute_result"
    }
   ],
   "source": [
    "sc_head_elev.rescale(model(graphs[488]).t())"
   ]
  },
  {
   "cell_type": "code",
   "execution_count": 209,
   "metadata": {
    "execution": {
     "iopub.execute_input": "2021-03-07T15:37:13.601368Z",
     "iopub.status.busy": "2021-03-07T15:37:13.601368Z",
     "iopub.status.idle": "2021-03-07T15:37:13.608347Z",
     "shell.execute_reply": "2021-03-07T15:37:13.608347Z",
     "shell.execute_reply.started": "2021-03-07T15:37:13.601368Z"
    }
   },
   "outputs": [
    {
     "data": {
      "text/plain": [
       "tensor([41.9020, 33.9932, 33.8968, 33.9933, 24.9425, 42.9037, 33.7316, 24.9486,\n",
       "        34.2234, 33.7567, 33.7505, 33.5849, 24.9496, 12.4671, 12.4696, 24.9537,\n",
       "        12.5772, 12.7776, 12.4594,  0.0000,  0.0000], dtype=torch.float32)"
      ]
     },
     "execution_count": 209,
     "metadata": {},
     "output_type": "execute_result"
    }
   ],
   "source": [
    "sc_head_elev.rescale(graphs[488].y)"
   ]
  }
 ],
 "metadata": {
  "kernelspec": {
   "display_name": "Python 3",
   "language": "python",
   "name": "python3"
  },
  "language_info": {
   "codemirror_mode": {
    "name": "ipython",
    "version": 3
   },
   "file_extension": ".py",
   "mimetype": "text/x-python",
   "name": "python",
   "nbconvert_exporter": "python",
   "pygments_lexer": "ipython3",
   "version": "3.8.5"
  },
  "toc-autonumbering": true,
  "toc-showcode": false,
  "toc-showmarkdowntxt": false,
  "toc-showtags": false
 },
 "nbformat": 4,
 "nbformat_minor": 4
}
