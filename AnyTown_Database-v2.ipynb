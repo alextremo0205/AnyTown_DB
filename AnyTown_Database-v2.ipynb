{
 "cells": [
  {
   "cell_type": "markdown",
   "metadata": {},
   "source": [
    "# Anytown Database - Main\n",
    "### First approx."
   ]
  },
  {
   "cell_type": "markdown",
   "metadata": {},
   "source": [
    "Change Working Directory"
   ]
  },
  {
   "cell_type": "code",
   "execution_count": 62,
   "metadata": {},
   "outputs": [
    {
     "name": "stdout",
     "output_type": "stream",
     "text": [
      "Current working directory: C:\\Users\\agarzondiaz\\surfdrive\\Year 1\\AnyTown Database\\AnyTown_DB\n",
      "Current working directory: C:\\Users\\agarzondiaz\\surfdrive\\Year 1\\AnyTown Database\\AnyTown_DB\n"
     ]
    }
   ],
   "source": [
    "import os\n",
    "\n",
    "# Print the current working directory\n",
    "print(\"Current working directory: {0}\".format(os.getcwd()))\n",
    "\n",
    "# Change the current working directory\n",
    "os.chdir(r'C:\\Users\\agarzondiaz\\surfdrive\\Year 1\\AnyTown Database\\AnyTown_DB')\n",
    "\n",
    "# Print the current working directory\n",
    "print(\"Current working directory: {0}\".format(os.getcwd()))"
   ]
  },
  {
   "cell_type": "markdown",
   "metadata": {},
   "source": [
    "#### Import"
   ]
  },
  {
   "cell_type": "code",
   "execution_count": 63,
   "metadata": {},
   "outputs": [],
   "source": [
    "import wntr\n",
    "import pandas as pd\n",
    "import numpy as np\n",
    "import networkx as nx"
   ]
  },
  {
   "cell_type": "markdown",
   "metadata": {},
   "source": [
    "#### Custom import of the Prasad & Park Index function"
   ]
  },
  {
   "cell_type": "code",
   "execution_count": 64,
   "metadata": {},
   "outputs": [],
   "source": [
    "from PrasadParkIndex import *"
   ]
  },
  {
   "cell_type": "markdown",
   "metadata": {},
   "source": [
    "#### Constants"
   ]
  },
  {
   "cell_type": "code",
   "execution_count": 65,
   "metadata": {},
   "outputs": [],
   "source": [
    "M_TO_IN = 0.0254 #Meters into Inches\n",
    "PMIN_ANYT = 28.1236 #m #Equivalent to 40 psi #REFERENCE"
   ]
  },
  {
   "cell_type": "markdown",
   "metadata": {},
   "source": [
    "#### Upload the original inp file"
   ]
  },
  {
   "cell_type": "code",
   "execution_count": 66,
   "metadata": {},
   "outputs": [
    {
     "data": {
      "image/png": "[encoded data removed]",
      "text/plain": [
       "<Figure size 432x288 with 1 Axes>"
      ]
     },
     "metadata": {},
     "output_type": "display_data"
    }
   ],
   "source": [
    "# Create a water network model\n",
    "inp_file = 'networks/Mod_Anytown.inp'\n",
    "wn_AnyT = wntr.network.WaterNetworkModel(inp_file)\n",
    "\n",
    "# Graph the network\n",
    "wntr.graphics.plot_network(wn_AnyT, title=wn_AnyT.name)\n",
    "\n",
    "# Simulate hydraulics\n",
    "sim_AnyT = wntr.sim.EpanetSimulator(wn_AnyT)\n",
    "results_AnyT = sim_AnyT.run_sim()"
   ]
  },
  {
   "cell_type": "markdown",
   "metadata": {},
   "source": [
    "#### Preparation values for the database generation"
   ]
  },
  {
   "cell_type": "code",
   "execution_count": 67,
   "metadata": {},
   "outputs": [],
   "source": [
    "num_pipes = wn_AnyT.num_pipes\n",
    "\n",
    "#av_diams = [6, 8, 10, 12, 14, 16, 18, 20, 24, 30] #inches\n",
    "avail_diams = [6, 8, 10, 12, 14] #inches\n",
    "pipe_names = wn_AnyT.link_name_list\n",
    "\n",
    "seed = 4345\n",
    "np.random.seed(seed)\n",
    "\n",
    "N_iter = 10\n",
    "\n",
    "first_DB = []\n",
    "fail_DB = []\n"
   ]
  },
  {
   "cell_type": "markdown",
   "metadata": {},
   "source": [
    "### Loop for the DB generation\n",
    "It overwrites the files if they have the same name"
   ]
  },
  {
   "cell_type": "code",
   "execution_count": 68,
   "metadata": {},
   "outputs": [],
   "source": [
    "heading = 'Mod_AnyT'\n",
    "\n",
    "for sim in range(N_iter):\n",
    "    \n",
    "    new_diams = np.random.choice(avail_diams, num_pipes)\n",
    "    new_diams = new_diams * M_TO_IN\n",
    "    \n",
    "    for i in range(num_pipes):\n",
    "        c_pipe = wn_AnyT.get_link(pipe_names[i])\n",
    "        c_pipe.diameter = new_diams[i]\n",
    "        #c_pipe.diameter =0 ## Test for the try\n",
    "    try:\n",
    "        # Simulate hydraulics\n",
    "        sim_AnyT = wntr.sim.EpanetSimulator(wn_AnyT)\n",
    "        results_AnyT = sim_AnyT.run_sim()\n",
    "        DB_row = [sim]\n",
    "        DB_row.append(np.round(new_diams/M_TO_IN, 0))\n",
    "        DB_row.append(wn_AnyT)\n",
    "        DB_row.append(sim_AnyT)\n",
    "        DB_row.append(results_AnyT)\n",
    "        try:\n",
    "            flowrate = pd.DataFrame(results_AnyT.link['flowrate']['82']) #FLowrate at the link with the pump\n",
    "        except Exception as e1:\n",
    "            flowrate = 0\n",
    "        \n",
    "        RI_PP = PP_index(results_AnyT.node['head'], results_AnyT.node['pressure'], results_AnyT.node['demand'], flowrate, wn_AnyT, PMIN_ANYT)\n",
    "        RI_Todini = wntr.metrics.hydraulic.todini_index(results_AnyT.node['head'], results_AnyT.node['pressure'], results_AnyT.node['demand'], flowrate, wn_AnyT, PMIN_ANYT)\n",
    "\n",
    "        DB_row.append(RI_PP)\n",
    "        DB_row.append(RI_Todini)\n",
    "        \n",
    "        DB_row.append(max(RI_PP))\n",
    "        DB_row.append(max(RI_Todini))\n",
    "        \n",
    "        DB_row.append(min(RI_PP))\n",
    "        DB_row.append(min(RI_Todini))\n",
    "        \n",
    "        DB_row.append(sum(RI_PP)/len(RI_PP))\n",
    "        DB_row.append(sum(RI_Todini)/len(RI_PP))\n",
    "        \n",
    "        first_DB.append(DB_row)\n",
    "        wn_AnyT.write_inpfile('Working files/' + heading+'_'+str(sim)+'.inp', version=2.2)\n",
    "        \n",
    "    except Exception as e:\n",
    "        fail_row = [sim]\n",
    "        fail_row.append(np.round(new_diams/M_TO_IN, 0))\n",
    "        fail_row.append(wn_AnyT)\n",
    "        fail_row.append(e)\n",
    "        print(e)\n",
    "        fail_DB.append(fail_row)\n",
    "        wn_AnyT.write_inpfile('Failed files/' + 'fail_' + heading+'_'+str(sim)+ '.inp', version=2.2)\n",
    "\n",
    "    #print('AnyT_'+str(sim)+'.inp')\n",
    "    # Create INP\n",
    "    "
   ]
  },
  {
   "cell_type": "code",
   "execution_count": 69,
   "metadata": {},
   "outputs": [],
   "source": [
    "first_DB_pd = pd.DataFrame(first_DB, columns=['Sim_ID', 'Diams', 'wntrModel', 'EpanetSim', 'wntrResults', 'PrasadPark', 'Todini', 'maxPrPa', 'maxTod', 'minPrPa', 'minTod', 'avgPrPa', 'avgTod'])"
   ]
  },
  {
   "cell_type": "code",
   "execution_count": 70,
   "metadata": {},
   "outputs": [
    {
     "data": {
      "text/plain": [
       "(10, 13)"
      ]
     },
     "execution_count": 70,
     "metadata": {},
     "output_type": "execute_result"
    }
   ],
   "source": [
    "first_DB_pd.shape"
   ]
  },
  {
   "cell_type": "code",
   "execution_count": 73,
   "metadata": {},
   "outputs": [
    {
     "data": {
      "text/plain": [
       "0.49121692445543075"
      ]
     },
     "execution_count": 73,
     "metadata": {},
     "output_type": "execute_result"
    }
   ],
   "source": [
    "first_DB_pd.loc[0]['avgPrPa']"
   ]
  },
  {
   "cell_type": "markdown",
   "metadata": {},
   "source": [
    "##### Code that was replaced"
   ]
  },
  {
   "cell_type": "code",
   "execution_count": null,
   "metadata": {},
   "outputs": [],
   "source": [
    "# Code snippets \n",
    "# new_diams=2*np.random.randint(3, 9, size=num_pipes)\n"
   ]
  }
 ],
 "metadata": {
  "kernelspec": {
   "display_name": "Python 3",
   "language": "python",
   "name": "python3"
  },
  "language_info": {
   "codemirror_mode": {
    "name": "ipython",
    "version": 3
   },
   "file_extension": ".py",
   "mimetype": "text/x-python",
   "name": "python",
   "nbconvert_exporter": "python",
   "pygments_lexer": "ipython3",
   "version": "3.8.5"
  }
 },
 "nbformat": 4,
 "nbformat_minor": 4
}
